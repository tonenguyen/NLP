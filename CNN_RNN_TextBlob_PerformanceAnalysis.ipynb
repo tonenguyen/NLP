{
 "cells": [
  {
   "cell_type": "code",
   "execution_count": 16,
   "metadata": {},
   "outputs": [],
   "source": [
    "import pandas as pd\n",
    "import glob\n",
    "import os "
   ]
  },
  {
   "cell_type": "code",
   "execution_count": 18,
   "metadata": {},
   "outputs": [
    {
     "data": {
      "text/plain": [
       "'/home/tone/Study/NLP'"
      ]
     },
     "execution_count": 18,
     "metadata": {},
     "output_type": "execute_result"
    }
   ],
   "source": [
    "currentPath = os.getcwd()\n",
    "currentPath"
   ]
  },
  {
   "cell_type": "code",
   "execution_count": 215,
   "metadata": {},
   "outputs": [],
   "source": [
    "path = r\"/133KSample/*\"\n",
    "#path = r\"/testresults/*\"\n",
    "#path = r\"/noPadding/*\"\n",
    "path = currentPath + path"
   ]
  },
  {
   "cell_type": "code",
   "execution_count": 216,
   "metadata": {},
   "outputs": [
    {
     "name": "stdout",
     "output_type": "stream",
     "text": [
      "['/home/tone/Study/NLP/133KSample/2nd_NoPaddingNegativeReviews_RNN64_CNN64_TextBlob.csv', '/home/tone/Study/NLP/133KSample/2nd_PaddingNegativeReviews_RNN_CNN_TextBlob.csv', '/home/tone/Study/NLP/133KSample/1st_PaddingNegativeReviews_RNN64_CNN64_TextBlob.csv', '/home/tone/Study/NLP/133KSample/2nd_PaddingNegativeReviews_RNN64_CNN64_TextBlob.csv', '/home/tone/Study/NLP/133KSample/133K_Rand_NoPaddingNegativeReviews_RNN_CNN_TextBlob.csv']\n"
     ]
    },
    {
     "data": {
      "text/plain": [
       "5"
      ]
     },
     "execution_count": 216,
     "metadata": {},
     "output_type": "execute_result"
    }
   ],
   "source": [
    "dataFiles = glob.glob(path)\n",
    "print(dataFiles)\n",
    "dfs = [pd.read_csv(eachFile, index_col=0) for eachFile in dataFiles]\n",
    "len(dfs)"
   ]
  },
  {
   "cell_type": "code",
   "execution_count": 217,
   "metadata": {},
   "outputs": [],
   "source": [
    "for df in dfs:\n",
    "    tnValue = df.loc['ActualRating', 'tn']\n",
    "    tpValue = df.loc['ActualRating', 'tp']\n",
    "    df['tnPercent'] = df['tn']/tnValue * 100\n",
    "    df['fpPercent'] = df['fp']/tnValue * 100\n",
    "    df['fnPercent'] = df['fn']/tpValue * 100\n",
    "    df['tpPercent']  = df['tp']/tpValue  * 100"
   ]
  },
  {
   "cell_type": "code",
   "execution_count": 218,
   "metadata": {},
   "outputs": [],
   "source": [
    "pd.set_option(\"display.precision\", 2)"
   ]
  },
  {
   "cell_type": "code",
   "execution_count": 219,
   "metadata": {},
   "outputs": [
    {
     "data": {
      "text/html": [
       "<div>\n",
       "<style scoped>\n",
       "    .dataframe tbody tr th:only-of-type {\n",
       "        vertical-align: middle;\n",
       "    }\n",
       "\n",
       "    .dataframe tbody tr th {\n",
       "        vertical-align: top;\n",
       "    }\n",
       "\n",
       "    .dataframe thead th {\n",
       "        text-align: right;\n",
       "    }\n",
       "</style>\n",
       "<table border=\"1\" class=\"dataframe\">\n",
       "  <thead>\n",
       "    <tr style=\"text-align: right;\">\n",
       "      <th></th>\n",
       "      <th>tn</th>\n",
       "      <th>fp</th>\n",
       "      <th>fn</th>\n",
       "      <th>tp</th>\n",
       "      <th>tnPercent</th>\n",
       "      <th>fpPercent</th>\n",
       "      <th>fnPercent</th>\n",
       "      <th>tpPercent</th>\n",
       "    </tr>\n",
       "  </thead>\n",
       "  <tbody>\n",
       "    <tr>\n",
       "      <th>CNN</th>\n",
       "      <td>1175</td>\n",
       "      <td>1408</td>\n",
       "      <td>315</td>\n",
       "      <td>28029</td>\n",
       "      <td>45.49</td>\n",
       "      <td>54.51</td>\n",
       "      <td>1.11</td>\n",
       "      <td>98.89</td>\n",
       "    </tr>\n",
       "    <tr>\n",
       "      <th>RNN</th>\n",
       "      <td>1527</td>\n",
       "      <td>1056</td>\n",
       "      <td>749</td>\n",
       "      <td>27595</td>\n",
       "      <td>59.12</td>\n",
       "      <td>40.88</td>\n",
       "      <td>2.64</td>\n",
       "      <td>97.36</td>\n",
       "    </tr>\n",
       "    <tr>\n",
       "      <th>TextBlob</th>\n",
       "      <td>773</td>\n",
       "      <td>1810</td>\n",
       "      <td>2004</td>\n",
       "      <td>26340</td>\n",
       "      <td>29.93</td>\n",
       "      <td>70.07</td>\n",
       "      <td>7.07</td>\n",
       "      <td>92.93</td>\n",
       "    </tr>\n",
       "    <tr>\n",
       "      <th>ActualRating</th>\n",
       "      <td>2583</td>\n",
       "      <td>0</td>\n",
       "      <td>0</td>\n",
       "      <td>28344</td>\n",
       "      <td>100.00</td>\n",
       "      <td>0.00</td>\n",
       "      <td>0.00</td>\n",
       "      <td>100.00</td>\n",
       "    </tr>\n",
       "  </tbody>\n",
       "</table>\n",
       "</div>"
      ],
      "text/plain": [
       "                tn    fp    fn     tp  tnPercent  fpPercent  fnPercent  \\\n",
       "CNN           1175  1408   315  28029      45.49      54.51       1.11   \n",
       "RNN           1527  1056   749  27595      59.12      40.88       2.64   \n",
       "TextBlob       773  1810  2004  26340      29.93      70.07       7.07   \n",
       "ActualRating  2583     0     0  28344     100.00       0.00       0.00   \n",
       "\n",
       "              tpPercent  \n",
       "CNN               98.89  \n",
       "RNN               97.36  \n",
       "TextBlob          92.93  \n",
       "ActualRating     100.00  "
      ]
     },
     "execution_count": 219,
     "metadata": {},
     "output_type": "execute_result"
    }
   ],
   "source": [
    "dfs[0]"
   ]
  },
  {
   "cell_type": "code",
   "execution_count": 220,
   "metadata": {
    "scrolled": true
   },
   "outputs": [
    {
     "data": {
      "text/html": [
       "<div>\n",
       "<style scoped>\n",
       "    .dataframe tbody tr th:only-of-type {\n",
       "        vertical-align: middle;\n",
       "    }\n",
       "\n",
       "    .dataframe tbody tr th {\n",
       "        vertical-align: top;\n",
       "    }\n",
       "\n",
       "    .dataframe thead th {\n",
       "        text-align: right;\n",
       "    }\n",
       "</style>\n",
       "<table border=\"1\" class=\"dataframe\">\n",
       "  <thead>\n",
       "    <tr style=\"text-align: right;\">\n",
       "      <th></th>\n",
       "      <th>tn</th>\n",
       "      <th>fp</th>\n",
       "      <th>fn</th>\n",
       "      <th>tp</th>\n",
       "      <th>tnPercent</th>\n",
       "      <th>fpPercent</th>\n",
       "      <th>fnPercent</th>\n",
       "      <th>tpPercent</th>\n",
       "    </tr>\n",
       "  </thead>\n",
       "  <tbody>\n",
       "    <tr>\n",
       "      <th>CNN</th>\n",
       "      <td>4131</td>\n",
       "      <td>336</td>\n",
       "      <td>1333</td>\n",
       "      <td>27036</td>\n",
       "      <td>92.48</td>\n",
       "      <td>7.52</td>\n",
       "      <td>4.70</td>\n",
       "      <td>95.30</td>\n",
       "    </tr>\n",
       "    <tr>\n",
       "      <th>RNN</th>\n",
       "      <td>3507</td>\n",
       "      <td>960</td>\n",
       "      <td>518</td>\n",
       "      <td>27851</td>\n",
       "      <td>78.51</td>\n",
       "      <td>21.49</td>\n",
       "      <td>1.83</td>\n",
       "      <td>98.17</td>\n",
       "    </tr>\n",
       "    <tr>\n",
       "      <th>TextBlob</th>\n",
       "      <td>1336</td>\n",
       "      <td>3131</td>\n",
       "      <td>2026</td>\n",
       "      <td>26343</td>\n",
       "      <td>29.91</td>\n",
       "      <td>70.09</td>\n",
       "      <td>7.14</td>\n",
       "      <td>92.86</td>\n",
       "    </tr>\n",
       "    <tr>\n",
       "      <th>ActualRating</th>\n",
       "      <td>4467</td>\n",
       "      <td>0</td>\n",
       "      <td>0</td>\n",
       "      <td>28369</td>\n",
       "      <td>100.00</td>\n",
       "      <td>0.00</td>\n",
       "      <td>0.00</td>\n",
       "      <td>100.00</td>\n",
       "    </tr>\n",
       "  </tbody>\n",
       "</table>\n",
       "</div>"
      ],
      "text/plain": [
       "                tn    fp    fn     tp  tnPercent  fpPercent  fnPercent  \\\n",
       "CNN           4131   336  1333  27036      92.48       7.52       4.70   \n",
       "RNN           3507   960   518  27851      78.51      21.49       1.83   \n",
       "TextBlob      1336  3131  2026  26343      29.91      70.09       7.14   \n",
       "ActualRating  4467     0     0  28369     100.00       0.00       0.00   \n",
       "\n",
       "              tpPercent  \n",
       "CNN               95.30  \n",
       "RNN               98.17  \n",
       "TextBlob          92.86  \n",
       "ActualRating     100.00  "
      ]
     },
     "execution_count": 220,
     "metadata": {},
     "output_type": "execute_result"
    }
   ],
   "source": [
    "dfs[1]"
   ]
  },
  {
   "cell_type": "code",
   "execution_count": 221,
   "metadata": {},
   "outputs": [
    {
     "data": {
      "text/html": [
       "<div>\n",
       "<style scoped>\n",
       "    .dataframe tbody tr th:only-of-type {\n",
       "        vertical-align: middle;\n",
       "    }\n",
       "\n",
       "    .dataframe tbody tr th {\n",
       "        vertical-align: top;\n",
       "    }\n",
       "\n",
       "    .dataframe thead th {\n",
       "        text-align: right;\n",
       "    }\n",
       "</style>\n",
       "<table border=\"1\" class=\"dataframe\">\n",
       "  <thead>\n",
       "    <tr style=\"text-align: right;\">\n",
       "      <th></th>\n",
       "      <th>tn</th>\n",
       "      <th>fp</th>\n",
       "      <th>fn</th>\n",
       "      <th>tp</th>\n",
       "      <th>tnPercent</th>\n",
       "      <th>fpPercent</th>\n",
       "      <th>fnPercent</th>\n",
       "      <th>tpPercent</th>\n",
       "    </tr>\n",
       "  </thead>\n",
       "  <tbody>\n",
       "    <tr>\n",
       "      <th>CNN</th>\n",
       "      <td>3894</td>\n",
       "      <td>573</td>\n",
       "      <td>703</td>\n",
       "      <td>27666</td>\n",
       "      <td>87.17</td>\n",
       "      <td>12.83</td>\n",
       "      <td>2.48</td>\n",
       "      <td>97.52</td>\n",
       "    </tr>\n",
       "    <tr>\n",
       "      <th>RNN</th>\n",
       "      <td>3567</td>\n",
       "      <td>900</td>\n",
       "      <td>738</td>\n",
       "      <td>27631</td>\n",
       "      <td>79.85</td>\n",
       "      <td>20.15</td>\n",
       "      <td>2.60</td>\n",
       "      <td>97.40</td>\n",
       "    </tr>\n",
       "    <tr>\n",
       "      <th>TextBlob</th>\n",
       "      <td>1336</td>\n",
       "      <td>3131</td>\n",
       "      <td>2026</td>\n",
       "      <td>26343</td>\n",
       "      <td>29.91</td>\n",
       "      <td>70.09</td>\n",
       "      <td>7.14</td>\n",
       "      <td>92.86</td>\n",
       "    </tr>\n",
       "    <tr>\n",
       "      <th>ActualRating</th>\n",
       "      <td>4467</td>\n",
       "      <td>0</td>\n",
       "      <td>0</td>\n",
       "      <td>28369</td>\n",
       "      <td>100.00</td>\n",
       "      <td>0.00</td>\n",
       "      <td>0.00</td>\n",
       "      <td>100.00</td>\n",
       "    </tr>\n",
       "  </tbody>\n",
       "</table>\n",
       "</div>"
      ],
      "text/plain": [
       "                tn    fp    fn     tp  tnPercent  fpPercent  fnPercent  \\\n",
       "CNN           3894   573   703  27666      87.17      12.83       2.48   \n",
       "RNN           3567   900   738  27631      79.85      20.15       2.60   \n",
       "TextBlob      1336  3131  2026  26343      29.91      70.09       7.14   \n",
       "ActualRating  4467     0     0  28369     100.00       0.00       0.00   \n",
       "\n",
       "              tpPercent  \n",
       "CNN               97.52  \n",
       "RNN               97.40  \n",
       "TextBlob          92.86  \n",
       "ActualRating     100.00  "
      ]
     },
     "execution_count": 221,
     "metadata": {},
     "output_type": "execute_result"
    }
   ],
   "source": [
    "dfs[2]"
   ]
  },
  {
   "cell_type": "code",
   "execution_count": 222,
   "metadata": {},
   "outputs": [
    {
     "data": {
      "text/html": [
       "<div>\n",
       "<style scoped>\n",
       "    .dataframe tbody tr th:only-of-type {\n",
       "        vertical-align: middle;\n",
       "    }\n",
       "\n",
       "    .dataframe tbody tr th {\n",
       "        vertical-align: top;\n",
       "    }\n",
       "\n",
       "    .dataframe thead th {\n",
       "        text-align: right;\n",
       "    }\n",
       "</style>\n",
       "<table border=\"1\" class=\"dataframe\">\n",
       "  <thead>\n",
       "    <tr style=\"text-align: right;\">\n",
       "      <th></th>\n",
       "      <th>tn</th>\n",
       "      <th>fp</th>\n",
       "      <th>fn</th>\n",
       "      <th>tp</th>\n",
       "      <th>tnPercent</th>\n",
       "      <th>fpPercent</th>\n",
       "      <th>fnPercent</th>\n",
       "      <th>tpPercent</th>\n",
       "    </tr>\n",
       "  </thead>\n",
       "  <tbody>\n",
       "    <tr>\n",
       "      <th>CNN</th>\n",
       "      <td>3773</td>\n",
       "      <td>694</td>\n",
       "      <td>561</td>\n",
       "      <td>27808</td>\n",
       "      <td>84.46</td>\n",
       "      <td>15.54</td>\n",
       "      <td>1.98</td>\n",
       "      <td>98.02</td>\n",
       "    </tr>\n",
       "    <tr>\n",
       "      <th>RNN</th>\n",
       "      <td>3908</td>\n",
       "      <td>559</td>\n",
       "      <td>1114</td>\n",
       "      <td>27255</td>\n",
       "      <td>87.49</td>\n",
       "      <td>12.51</td>\n",
       "      <td>3.93</td>\n",
       "      <td>96.07</td>\n",
       "    </tr>\n",
       "    <tr>\n",
       "      <th>TextBlob</th>\n",
       "      <td>1336</td>\n",
       "      <td>3131</td>\n",
       "      <td>2026</td>\n",
       "      <td>26343</td>\n",
       "      <td>29.91</td>\n",
       "      <td>70.09</td>\n",
       "      <td>7.14</td>\n",
       "      <td>92.86</td>\n",
       "    </tr>\n",
       "    <tr>\n",
       "      <th>ActualRating</th>\n",
       "      <td>4467</td>\n",
       "      <td>0</td>\n",
       "      <td>0</td>\n",
       "      <td>28369</td>\n",
       "      <td>100.00</td>\n",
       "      <td>0.00</td>\n",
       "      <td>0.00</td>\n",
       "      <td>100.00</td>\n",
       "    </tr>\n",
       "  </tbody>\n",
       "</table>\n",
       "</div>"
      ],
      "text/plain": [
       "                tn    fp    fn     tp  tnPercent  fpPercent  fnPercent  \\\n",
       "CNN           3773   694   561  27808      84.46      15.54       1.98   \n",
       "RNN           3908   559  1114  27255      87.49      12.51       3.93   \n",
       "TextBlob      1336  3131  2026  26343      29.91      70.09       7.14   \n",
       "ActualRating  4467     0     0  28369     100.00       0.00       0.00   \n",
       "\n",
       "              tpPercent  \n",
       "CNN               98.02  \n",
       "RNN               96.07  \n",
       "TextBlob          92.86  \n",
       "ActualRating     100.00  "
      ]
     },
     "execution_count": 222,
     "metadata": {},
     "output_type": "execute_result"
    }
   ],
   "source": [
    "dfs[3]"
   ]
  },
  {
   "cell_type": "code",
   "execution_count": 214,
   "metadata": {},
   "outputs": [
    {
     "ename": "IndexError",
     "evalue": "list index out of range",
     "output_type": "error",
     "traceback": [
      "\u001b[0;31m---------------------------------------------------------------------------\u001b[0m",
      "\u001b[0;31mIndexError\u001b[0m                                Traceback (most recent call last)",
      "\u001b[0;32m<ipython-input-214-24a34f5f6e5b>\u001b[0m in \u001b[0;36m<module>\u001b[0;34m\u001b[0m\n\u001b[0;32m----> 1\u001b[0;31m \u001b[0mdfs\u001b[0m\u001b[0;34m[\u001b[0m\u001b[0;36m4\u001b[0m\u001b[0;34m]\u001b[0m\u001b[0;34m\u001b[0m\u001b[0;34m\u001b[0m\u001b[0m\n\u001b[0m",
      "\u001b[0;31mIndexError\u001b[0m: list index out of range"
     ]
    }
   ],
   "source": [
    "dfs[4]"
   ]
  },
  {
   "cell_type": "code",
   "execution_count": null,
   "metadata": {},
   "outputs": [],
   "source": []
  }
 ],
 "metadata": {
  "kernelspec": {
   "display_name": "Python 3",
   "language": "python",
   "name": "python3"
  },
  "language_info": {
   "codemirror_mode": {
    "name": "ipython",
    "version": 3
   },
   "file_extension": ".py",
   "mimetype": "text/x-python",
   "name": "python",
   "nbconvert_exporter": "python",
   "pygments_lexer": "ipython3",
   "version": "3.7.4"
  }
 },
 "nbformat": 4,
 "nbformat_minor": 2
}
