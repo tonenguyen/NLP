{
 "cells": [
  {
   "cell_type": "code",
   "execution_count": 16,
   "metadata": {},
   "outputs": [],
   "source": [
    "import pandas as pd\n",
    "import glob\n",
    "import os "
   ]
  },
  {
   "cell_type": "code",
   "execution_count": 18,
   "metadata": {},
   "outputs": [
    {
     "data": {
      "text/plain": [
       "'/home/tone/Study/NLP'"
      ]
     },
     "execution_count": 18,
     "metadata": {},
     "output_type": "execute_result"
    }
   ],
   "source": [
    "currentPath = os.getcwd()\n",
    "currentPath"
   ]
  },
  {
   "cell_type": "code",
   "execution_count": 206,
   "metadata": {},
   "outputs": [],
   "source": [
    "#path = r\"/133KSample/*\"\n",
    "path = r\"/testresults/*\"\n",
    "path = r\"/noPadding/*\"\n",
    "path = currentPath + path"
   ]
  },
  {
   "cell_type": "code",
   "execution_count": 207,
   "metadata": {},
   "outputs": [
    {
     "name": "stdout",
     "output_type": "stream",
     "text": [
      "['/home/tone/Study/NLP/noPadding/3rd_10K_NoPaddingNegativeReviews_CNN64_RNN32_TextBlob.csv', '/home/tone/Study/NLP/noPadding/2nd_10K_NoPaddingNegativeReviews_CNN64_RNN32_TextBlob.csv', '/home/tone/Study/NLP/noPadding/1st_10K_NoPaddingNegativeReviews_CNN64_RNN32_TextBlob.csv', '/home/tone/Study/NLP/noPadding/4th_10K_NoPaddingNegativeReviews_CNN64_RNN32_TextBlob.csv']\n"
     ]
    },
    {
     "data": {
      "text/plain": [
       "4"
      ]
     },
     "execution_count": 207,
     "metadata": {},
     "output_type": "execute_result"
    }
   ],
   "source": [
    "dataFiles = glob.glob(path)\n",
    "print(dataFiles)\n",
    "dfs = [pd.read_csv(eachFile, index_col=0) for eachFile in dataFiles]\n",
    "len(dfs)"
   ]
  },
  {
   "cell_type": "code",
   "execution_count": 208,
   "metadata": {},
   "outputs": [],
   "source": [
    "for df in dfs:\n",
    "    tnValue = df.loc['ActualRating', 'tn']\n",
    "    tpValue = df.loc['ActualRating', 'tp']\n",
    "    df['tnPercent'] = df['tn']/tnValue * 100\n",
    "    df['fpPercent'] = df['fp']/tnValue * 100\n",
    "    df['fnPercent'] = df['fn']/tpValue * 100\n",
    "    df['tpPercent']  = df['tp']/tpValue  * 100"
   ]
  },
  {
   "cell_type": "code",
   "execution_count": 209,
   "metadata": {},
   "outputs": [],
   "source": [
    "pd.set_option(\"display.precision\", 2)"
   ]
  },
  {
   "cell_type": "code",
   "execution_count": 210,
   "metadata": {},
   "outputs": [
    {
     "data": {
      "text/html": [
       "<div>\n",
       "<style scoped>\n",
       "    .dataframe tbody tr th:only-of-type {\n",
       "        vertical-align: middle;\n",
       "    }\n",
       "\n",
       "    .dataframe tbody tr th {\n",
       "        vertical-align: top;\n",
       "    }\n",
       "\n",
       "    .dataframe thead th {\n",
       "        text-align: right;\n",
       "    }\n",
       "</style>\n",
       "<table border=\"1\" class=\"dataframe\">\n",
       "  <thead>\n",
       "    <tr style=\"text-align: right;\">\n",
       "      <th></th>\n",
       "      <th>tn</th>\n",
       "      <th>fp</th>\n",
       "      <th>fn</th>\n",
       "      <th>tp</th>\n",
       "      <th>tnPercent</th>\n",
       "      <th>fpPercent</th>\n",
       "      <th>fnPercent</th>\n",
       "      <th>tpPercent</th>\n",
       "    </tr>\n",
       "  </thead>\n",
       "  <tbody>\n",
       "    <tr>\n",
       "      <th>CNN</th>\n",
       "      <td>18</td>\n",
       "      <td>112</td>\n",
       "      <td>16</td>\n",
       "      <td>2227</td>\n",
       "      <td>13.85</td>\n",
       "      <td>86.15</td>\n",
       "      <td>0.71</td>\n",
       "      <td>99.29</td>\n",
       "    </tr>\n",
       "    <tr>\n",
       "      <th>RNN</th>\n",
       "      <td>2</td>\n",
       "      <td>128</td>\n",
       "      <td>1</td>\n",
       "      <td>2242</td>\n",
       "      <td>1.54</td>\n",
       "      <td>98.46</td>\n",
       "      <td>0.04</td>\n",
       "      <td>99.96</td>\n",
       "    </tr>\n",
       "    <tr>\n",
       "      <th>TextBlob</th>\n",
       "      <td>27</td>\n",
       "      <td>103</td>\n",
       "      <td>101</td>\n",
       "      <td>2142</td>\n",
       "      <td>20.77</td>\n",
       "      <td>79.23</td>\n",
       "      <td>4.50</td>\n",
       "      <td>95.50</td>\n",
       "    </tr>\n",
       "    <tr>\n",
       "      <th>ActualRating</th>\n",
       "      <td>130</td>\n",
       "      <td>0</td>\n",
       "      <td>0</td>\n",
       "      <td>2243</td>\n",
       "      <td>100.00</td>\n",
       "      <td>0.00</td>\n",
       "      <td>0.00</td>\n",
       "      <td>100.00</td>\n",
       "    </tr>\n",
       "  </tbody>\n",
       "</table>\n",
       "</div>"
      ],
      "text/plain": [
       "               tn   fp   fn    tp  tnPercent  fpPercent  fnPercent  tpPercent\n",
       "CNN            18  112   16  2227      13.85      86.15       0.71      99.29\n",
       "RNN             2  128    1  2242       1.54      98.46       0.04      99.96\n",
       "TextBlob       27  103  101  2142      20.77      79.23       4.50      95.50\n",
       "ActualRating  130    0    0  2243     100.00       0.00       0.00     100.00"
      ]
     },
     "execution_count": 210,
     "metadata": {},
     "output_type": "execute_result"
    }
   ],
   "source": [
    "dfs[0]"
   ]
  },
  {
   "cell_type": "code",
   "execution_count": 211,
   "metadata": {
    "scrolled": true
   },
   "outputs": [
    {
     "data": {
      "text/html": [
       "<div>\n",
       "<style scoped>\n",
       "    .dataframe tbody tr th:only-of-type {\n",
       "        vertical-align: middle;\n",
       "    }\n",
       "\n",
       "    .dataframe tbody tr th {\n",
       "        vertical-align: top;\n",
       "    }\n",
       "\n",
       "    .dataframe thead th {\n",
       "        text-align: right;\n",
       "    }\n",
       "</style>\n",
       "<table border=\"1\" class=\"dataframe\">\n",
       "  <thead>\n",
       "    <tr style=\"text-align: right;\">\n",
       "      <th></th>\n",
       "      <th>tn</th>\n",
       "      <th>fp</th>\n",
       "      <th>fn</th>\n",
       "      <th>tp</th>\n",
       "      <th>tnPercent</th>\n",
       "      <th>fpPercent</th>\n",
       "      <th>fnPercent</th>\n",
       "      <th>tpPercent</th>\n",
       "    </tr>\n",
       "  </thead>\n",
       "  <tbody>\n",
       "    <tr>\n",
       "      <th>CNN</th>\n",
       "      <td>17</td>\n",
       "      <td>103</td>\n",
       "      <td>11</td>\n",
       "      <td>2242</td>\n",
       "      <td>14.17</td>\n",
       "      <td>85.83</td>\n",
       "      <td>0.49</td>\n",
       "      <td>99.51</td>\n",
       "    </tr>\n",
       "    <tr>\n",
       "      <th>RNN</th>\n",
       "      <td>14</td>\n",
       "      <td>106</td>\n",
       "      <td>24</td>\n",
       "      <td>2229</td>\n",
       "      <td>11.67</td>\n",
       "      <td>88.33</td>\n",
       "      <td>1.07</td>\n",
       "      <td>98.93</td>\n",
       "    </tr>\n",
       "    <tr>\n",
       "      <th>TextBlob</th>\n",
       "      <td>39</td>\n",
       "      <td>81</td>\n",
       "      <td>112</td>\n",
       "      <td>2141</td>\n",
       "      <td>32.50</td>\n",
       "      <td>67.50</td>\n",
       "      <td>4.97</td>\n",
       "      <td>95.03</td>\n",
       "    </tr>\n",
       "    <tr>\n",
       "      <th>ActualRating</th>\n",
       "      <td>120</td>\n",
       "      <td>0</td>\n",
       "      <td>0</td>\n",
       "      <td>2253</td>\n",
       "      <td>100.00</td>\n",
       "      <td>0.00</td>\n",
       "      <td>0.00</td>\n",
       "      <td>100.00</td>\n",
       "    </tr>\n",
       "  </tbody>\n",
       "</table>\n",
       "</div>"
      ],
      "text/plain": [
       "               tn   fp   fn    tp  tnPercent  fpPercent  fnPercent  tpPercent\n",
       "CNN            17  103   11  2242      14.17      85.83       0.49      99.51\n",
       "RNN            14  106   24  2229      11.67      88.33       1.07      98.93\n",
       "TextBlob       39   81  112  2141      32.50      67.50       4.97      95.03\n",
       "ActualRating  120    0    0  2253     100.00       0.00       0.00     100.00"
      ]
     },
     "execution_count": 211,
     "metadata": {},
     "output_type": "execute_result"
    }
   ],
   "source": [
    "dfs[1]"
   ]
  },
  {
   "cell_type": "code",
   "execution_count": 212,
   "metadata": {},
   "outputs": [
    {
     "data": {
      "text/html": [
       "<div>\n",
       "<style scoped>\n",
       "    .dataframe tbody tr th:only-of-type {\n",
       "        vertical-align: middle;\n",
       "    }\n",
       "\n",
       "    .dataframe tbody tr th {\n",
       "        vertical-align: top;\n",
       "    }\n",
       "\n",
       "    .dataframe thead th {\n",
       "        text-align: right;\n",
       "    }\n",
       "</style>\n",
       "<table border=\"1\" class=\"dataframe\">\n",
       "  <thead>\n",
       "    <tr style=\"text-align: right;\">\n",
       "      <th></th>\n",
       "      <th>tn</th>\n",
       "      <th>fp</th>\n",
       "      <th>fn</th>\n",
       "      <th>tp</th>\n",
       "      <th>tnPercent</th>\n",
       "      <th>fpPercent</th>\n",
       "      <th>fnPercent</th>\n",
       "      <th>tpPercent</th>\n",
       "    </tr>\n",
       "  </thead>\n",
       "  <tbody>\n",
       "    <tr>\n",
       "      <th>CNN</th>\n",
       "      <td>16</td>\n",
       "      <td>96</td>\n",
       "      <td>13</td>\n",
       "      <td>2248</td>\n",
       "      <td>14.29</td>\n",
       "      <td>85.71</td>\n",
       "      <td>0.57</td>\n",
       "      <td>99.43</td>\n",
       "    </tr>\n",
       "    <tr>\n",
       "      <th>RNN</th>\n",
       "      <td>10</td>\n",
       "      <td>102</td>\n",
       "      <td>23</td>\n",
       "      <td>2238</td>\n",
       "      <td>8.93</td>\n",
       "      <td>91.07</td>\n",
       "      <td>1.02</td>\n",
       "      <td>98.98</td>\n",
       "    </tr>\n",
       "    <tr>\n",
       "      <th>TextBlob</th>\n",
       "      <td>34</td>\n",
       "      <td>78</td>\n",
       "      <td>113</td>\n",
       "      <td>2148</td>\n",
       "      <td>30.36</td>\n",
       "      <td>69.64</td>\n",
       "      <td>5.00</td>\n",
       "      <td>95.00</td>\n",
       "    </tr>\n",
       "    <tr>\n",
       "      <th>ActualRating</th>\n",
       "      <td>112</td>\n",
       "      <td>0</td>\n",
       "      <td>0</td>\n",
       "      <td>2261</td>\n",
       "      <td>100.00</td>\n",
       "      <td>0.00</td>\n",
       "      <td>0.00</td>\n",
       "      <td>100.00</td>\n",
       "    </tr>\n",
       "  </tbody>\n",
       "</table>\n",
       "</div>"
      ],
      "text/plain": [
       "               tn   fp   fn    tp  tnPercent  fpPercent  fnPercent  tpPercent\n",
       "CNN            16   96   13  2248      14.29      85.71       0.57      99.43\n",
       "RNN            10  102   23  2238       8.93      91.07       1.02      98.98\n",
       "TextBlob       34   78  113  2148      30.36      69.64       5.00      95.00\n",
       "ActualRating  112    0    0  2261     100.00       0.00       0.00     100.00"
      ]
     },
     "execution_count": 212,
     "metadata": {},
     "output_type": "execute_result"
    }
   ],
   "source": [
    "dfs[2]"
   ]
  },
  {
   "cell_type": "code",
   "execution_count": 213,
   "metadata": {},
   "outputs": [
    {
     "data": {
      "text/html": [
       "<div>\n",
       "<style scoped>\n",
       "    .dataframe tbody tr th:only-of-type {\n",
       "        vertical-align: middle;\n",
       "    }\n",
       "\n",
       "    .dataframe tbody tr th {\n",
       "        vertical-align: top;\n",
       "    }\n",
       "\n",
       "    .dataframe thead th {\n",
       "        text-align: right;\n",
       "    }\n",
       "</style>\n",
       "<table border=\"1\" class=\"dataframe\">\n",
       "  <thead>\n",
       "    <tr style=\"text-align: right;\">\n",
       "      <th></th>\n",
       "      <th>tn</th>\n",
       "      <th>fp</th>\n",
       "      <th>fn</th>\n",
       "      <th>tp</th>\n",
       "      <th>tnPercent</th>\n",
       "      <th>fpPercent</th>\n",
       "      <th>fnPercent</th>\n",
       "      <th>tpPercent</th>\n",
       "    </tr>\n",
       "  </thead>\n",
       "  <tbody>\n",
       "    <tr>\n",
       "      <th>CNN</th>\n",
       "      <td>16</td>\n",
       "      <td>93</td>\n",
       "      <td>17</td>\n",
       "      <td>2247</td>\n",
       "      <td>14.68</td>\n",
       "      <td>85.32</td>\n",
       "      <td>0.75</td>\n",
       "      <td>99.25</td>\n",
       "    </tr>\n",
       "    <tr>\n",
       "      <th>RNN</th>\n",
       "      <td>14</td>\n",
       "      <td>95</td>\n",
       "      <td>23</td>\n",
       "      <td>2241</td>\n",
       "      <td>12.84</td>\n",
       "      <td>87.16</td>\n",
       "      <td>1.02</td>\n",
       "      <td>98.98</td>\n",
       "    </tr>\n",
       "    <tr>\n",
       "      <th>TextBlob</th>\n",
       "      <td>33</td>\n",
       "      <td>76</td>\n",
       "      <td>110</td>\n",
       "      <td>2154</td>\n",
       "      <td>30.28</td>\n",
       "      <td>69.72</td>\n",
       "      <td>4.86</td>\n",
       "      <td>95.14</td>\n",
       "    </tr>\n",
       "    <tr>\n",
       "      <th>ActualRating</th>\n",
       "      <td>109</td>\n",
       "      <td>0</td>\n",
       "      <td>0</td>\n",
       "      <td>2264</td>\n",
       "      <td>100.00</td>\n",
       "      <td>0.00</td>\n",
       "      <td>0.00</td>\n",
       "      <td>100.00</td>\n",
       "    </tr>\n",
       "  </tbody>\n",
       "</table>\n",
       "</div>"
      ],
      "text/plain": [
       "               tn  fp   fn    tp  tnPercent  fpPercent  fnPercent  tpPercent\n",
       "CNN            16  93   17  2247      14.68      85.32       0.75      99.25\n",
       "RNN            14  95   23  2241      12.84      87.16       1.02      98.98\n",
       "TextBlob       33  76  110  2154      30.28      69.72       4.86      95.14\n",
       "ActualRating  109   0    0  2264     100.00       0.00       0.00     100.00"
      ]
     },
     "execution_count": 213,
     "metadata": {},
     "output_type": "execute_result"
    }
   ],
   "source": [
    "dfs[3]"
   ]
  },
  {
   "cell_type": "code",
   "execution_count": 214,
   "metadata": {},
   "outputs": [
    {
     "ename": "IndexError",
     "evalue": "list index out of range",
     "output_type": "error",
     "traceback": [
      "\u001b[0;31m---------------------------------------------------------------------------\u001b[0m",
      "\u001b[0;31mIndexError\u001b[0m                                Traceback (most recent call last)",
      "\u001b[0;32m<ipython-input-214-24a34f5f6e5b>\u001b[0m in \u001b[0;36m<module>\u001b[0;34m\u001b[0m\n\u001b[0;32m----> 1\u001b[0;31m \u001b[0mdfs\u001b[0m\u001b[0;34m[\u001b[0m\u001b[0;36m4\u001b[0m\u001b[0;34m]\u001b[0m\u001b[0;34m\u001b[0m\u001b[0;34m\u001b[0m\u001b[0m\n\u001b[0m",
      "\u001b[0;31mIndexError\u001b[0m: list index out of range"
     ]
    }
   ],
   "source": [
    "dfs[4]"
   ]
  },
  {
   "cell_type": "code",
   "execution_count": null,
   "metadata": {},
   "outputs": [],
   "source": []
  }
 ],
 "metadata": {
  "kernelspec": {
   "display_name": "Python 3",
   "language": "python",
   "name": "python3"
  },
  "language_info": {
   "codemirror_mode": {
    "name": "ipython",
    "version": 3
   },
   "file_extension": ".py",
   "mimetype": "text/x-python",
   "name": "python",
   "nbconvert_exporter": "python",
   "pygments_lexer": "ipython3",
   "version": "3.7.4"
  }
 },
 "nbformat": 4,
 "nbformat_minor": 2
}
