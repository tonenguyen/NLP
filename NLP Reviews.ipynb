{
 "cells": [
  {
   "cell_type": "code",
   "execution_count": 206,
   "metadata": {},
   "outputs": [],
   "source": [
    "#Import libraries\n",
    "\n",
    "import gzip #for parsing gz files\n",
    "import pandas as pd\n",
    "import re \n",
    "import inflect #numeric/cardinal"
   ]
  },
  {
   "cell_type": "code",
   "execution_count": 257,
   "metadata": {},
   "outputs": [],
   "source": [
    "dirPath = r\"C:\\Study\\Projects\\NLP\\data\"\n",
    "reviewPath = r\"reviews_Tools_and_Home_Improvement_5.json.gz\"\n",
    "reviewPath = r\"reviews_Musical_Instruments_5.json.gz\"\n",
    "qaPath = r\"C:\\Study\\Projects\\NLP\\data\" \n",
    "path = dirPath + \"\\\\\" + reviewPath"
   ]
  },
  {
   "cell_type": "code",
   "execution_count": 258,
   "metadata": {},
   "outputs": [],
   "source": [
    "dataFile = gzip.open(path, 'r')"
   ]
  },
  {
   "cell_type": "code",
   "execution_count": 259,
   "metadata": {},
   "outputs": [],
   "source": [
    "# Need this function because large amount of data we are going to load up\n",
    "\n",
    "# http://jmcauley.ucsd.edu/data/amazon/index.html\n",
    "# eval function allows text to be parsed as python code\n",
    "# parse function is a generator with yield\n",
    "# yield when we want to iterate over a sequence, but don't want to store the entire sequence in memory\n",
    "def parse(dataFile):\n",
    "    for each in dataFile:\n",
    "        yield eval(each)"
   ]
  },
  {
   "cell_type": "code",
   "execution_count": 260,
   "metadata": {},
   "outputs": [],
   "source": [
    "# for each review for a product in dataFile maps dict[nth] = review (nth)\n",
    "# enumerate can't be used on a generator\n",
    "count = 0\n",
    "productReviews = {}\n",
    "for eachReview in parse(dataFile):\n",
    "    productReviews[count] = eachReview\n",
    "    count = count + 1\n"
   ]
  },
  {
   "cell_type": "code",
   "execution_count": 418,
   "metadata": {},
   "outputs": [
    {
     "data": {
      "text/plain": [
       "10261"
      ]
     },
     "execution_count": 418,
     "metadata": {},
     "output_type": "execute_result"
    }
   ],
   "source": [
    "len(productReviews)"
   ]
  },
  {
   "cell_type": "code",
   "execution_count": 286,
   "metadata": {},
   "outputs": [],
   "source": [
    "productsReviewData = pd.DataFrame.from_dict(productReviews, orient='index')"
   ]
  },
  {
   "cell_type": "code",
   "execution_count": 287,
   "metadata": {},
   "outputs": [
    {
     "data": {
      "text/plain": [
       "10261"
      ]
     },
     "execution_count": 287,
     "metadata": {},
     "output_type": "execute_result"
    }
   ],
   "source": [
    "productsReviewData.dtypes\n",
    "len(productsReviewData)"
   ]
  },
  {
   "cell_type": "code",
   "execution_count": 290,
   "metadata": {},
   "outputs": [],
   "source": [
    "# reduce the data set to test text cleaning /processing before tokenizing\n",
    "productsReviewData = productsReviewData.iloc[:1500, :]"
   ]
  },
  {
   "cell_type": "code",
   "execution_count": 421,
   "metadata": {},
   "outputs": [
    {
     "name": "stdout",
     "output_type": "stream",
     "text": [
      "{'reviewerID': 'AJNFQI3YR6XJ5', 'asin': 'B00004Y2UT', 'reviewerName': 'Fender Guy \"Rick\"', 'helpful': [0, 0], 'reviewText': \"I now use this cable to run from the output of my pedal chain to the input of my Fender Amp. After I bought Monster Cable to hook up my pedal board I thought I would try another one and update my guitar. I had been using a high end Planet Waves cable that I bought in the 1980's... Once I found out the input jacks on the new Monster cable didn't fit into the Fender Strat jack I was a little disappointed... I didn't return it and as stated I use it for the output on the pedal board. Save your money... I went back to my Planet Waves Cable...I payed $30.00 back in the eighties for the Planet Waves which now comes in at around $50.00. What I'm getting at is you get what you pay for. I thought Waves was a lot of money back in the day...but I haven't bought a guitar cable since this one...20 plus years and still working...Planet Waves wins.\", 'overall': 3.0, 'summary': \"Didn't fit my 1996 Fender Strat...\", 'unixReviewTime': 1353024000, 'reviewTime': '11 16, 2012'}\n",
      "['1980', '$30.00', '$50.00', '20']\n"
     ]
    }
   ],
   "source": [
    "#Domain specific handling for future use\n",
    "\n",
    "A = productReviews[10]\n",
    "A = productReviews[7]\n",
    "print(A)\n",
    "# search fraction 1/4 = \\d+/\\d+\n",
    "# search out dollars amount = \\$\\d+.\\d+\n",
    "# search any digits\n",
    "print(re.findall(r'\\d+/\\d+|\\d+|\\$\\d+.\\d+', A['reviewText']))\n",
    "#print(re.findall(r'\\$\\d+.\\d+|\\d+|\\d+/\\d+', A['reviewText']))\n",
    "\n",
    "#A['reviewText'].replace('$', 'dollars')"
   ]
  },
  {
   "cell_type": "code",
   "execution_count": 442,
   "metadata": {},
   "outputs": [
    {
     "name": "stdout",
     "output_type": "stream",
     "text": [
      "['i', 'now', 'use', 'this', 'cable', 'to', 'run', 'from', 'the', 'output', 'of', 'my', 'pedal', 'chain', 'to', 'the', 'input', 'of', 'my', 'fender', 'amp', '.']\n",
      "['after', 'i', 'bought', 'monster', 'cable', 'to', 'hook', 'up', 'my', 'pedal', 'board', 'i', 'thought', 'i', 'would', 'try', 'another', 'one', 'and', 'update', 'my', 'guitar', '.']\n",
      "['i', 'had', 'been', 'using', 'a', 'high', 'end', 'planet', 'waves', 'cable', 'that', 'i', 'bought', 'in', 'the', '1980', \"'s\", '...', 'once', 'i', 'found', 'out', 'the', 'input', 'jacks', 'on', 'the', 'new', 'monster', 'cable', 'did', \"n't\", 'fit', 'into', 'the', 'fender', 'strat', 'jack', 'i', 'was', 'a', 'little', 'disappointed', '...', 'i', 'did', \"n't\", 'return', 'it', 'and', 'as', 'stated', 'i', 'use', 'it', 'for', 'the', 'output', 'on', 'the', 'pedal', 'board', '.']\n",
      "['save', 'your', 'money', '...', 'i', 'went', 'back', 'to', 'my', 'planet', 'waves', 'cable', '...', 'i', 'payed', '$', '30.00', 'back', 'in', 'the', 'eighties', 'for', 'the', 'planet', 'waves', 'which', 'now', 'comes', 'in', 'at', 'around', '$', '50.00', '.']\n",
      "['what', 'i', \"'m\", 'getting', 'at', 'is', 'you', 'get', 'what', 'you', 'pay', 'for', '.']\n",
      "['i', 'thought', 'waves', 'was', 'a', 'lot', 'of', 'money', 'back', 'in', 'the', 'day', '...', 'but', 'i', 'have', \"n't\", 'bought', 'a', 'guitar', 'cable', 'since', 'this', 'one', '...', '20', 'plus', 'years', 'and', 'still', 'working', '...', 'planet', 'waves', 'wins', '.']\n"
     ]
    }
   ],
   "source": [
    "from nltk.tokenize import word_tokenize, sent_tokenize\n",
    "from nltk.corpus import stopwords\n",
    "\n",
    "sample = A['reviewText']\n",
    "sample = sample.lower()\n",
    "\n",
    "stopWords = set(stopwords.words('english'))\n",
    "review = word_tokenize(sample)\n",
    "review = sent_tokenize(sample)\n",
    "#len([eachWord for eachWord in review if not eachWord in stopWords])\n",
    "data = {}\n",
    "\n",
    "for eachSent in review:\n",
    "    print(word_tokenize(eachSent))\n",
    "    \n",
    "    #print([eachWord for eachWord in eachSent if not eachWord in stopWords])"
   ]
  },
  {
   "cell_type": "code",
   "execution_count": 433,
   "metadata": {},
   "outputs": [
    {
     "data": {
      "text/plain": [
       "'!\"#$%&\\'()*+,-./:;<=>?@[\\\\]^_`{|}~'"
      ]
     },
     "execution_count": 433,
     "metadata": {},
     "output_type": "execute_result"
    }
   ],
   "source": [
    "import string\n",
    "string.punctuation"
   ]
  },
  {
   "cell_type": "code",
   "execution_count": 413,
   "metadata": {},
   "outputs": [],
   "source": [
    "#handling money\n",
    "#>>> a = re.findall(r\"\\$\\d+.\\d+\", text2)"
   ]
  },
  {
   "cell_type": "code",
   "execution_count": 236,
   "metadata": {},
   "outputs": [],
   "source": [
    "#numeric and fraction handling\n",
    "#domain specific if applies to tool/measurement?\n",
    "pattern = re.compile(r'^\\d+/\\d+$')\n",
    "\n",
    "def evaluateFraction(data, pattern=pattern):\n",
    "    try:\n",
    "        re.match(pattern, data)\n",
    "        return eval(data)  \n",
    "    except:\n",
    "        print(f\"Not fraction related input {data}\")\n",
    "        return False      "
   ]
  },
  {
   "cell_type": "code",
   "execution_count": 417,
   "metadata": {},
   "outputs": [
    {
     "name": "stdout",
     "output_type": "stream",
     "text": [
      "0.5\n",
      "zero point five\n"
     ]
    }
   ],
   "source": [
    "p = inflect.engine() \n",
    "\n",
    "isNum = evaluateFraction('1/2')\n",
    "print(isNum)\n",
    "if not (isNum == False):\n",
    "    print(p.number_to_words(isNum))"
   ]
  },
  {
   "cell_type": "code",
   "execution_count": 293,
   "metadata": {},
   "outputs": [],
   "source": [
    "productsReviewData['cleanedText'] = productsReviewData['reviewText'].astype(str)\n",
    "productsReviewData['cleanedText'] = productsReviewData['cleanedText'].str.lower()\n",
    "\n",
    "df = productsReviewData"
   ]
  },
  {
   "cell_type": "code",
   "execution_count": 415,
   "metadata": {},
   "outputs": [
    {
     "data": {
      "text/plain": [
       "0                                                                                                                                                                                                                                                                                        not much to write about here, but it does exactly what it's supposed to. filters out the pop sounds. now my recordings are much more crisp. it is one of the lowest prices pop filters on amazon so might as well buy it, they honestly work the same despite their pricing,\n",
       "1    the product does exactly as it should and is quite affordable.i did not realized it was double screened until it arrived, so it was even better than i had expected.as an added bonus, one of the screens carries a small hint of the smell of an old grape candy i used to buy, so for reminiscent's sake, i cannot stop putting the pop filter next to my nose and smelling it after recording. :dif you needed a pop filter, this will work just as well as the expensive ones, and it may even come with a pleasing aroma like mine did!buy this product! :]\n",
       "Name: cleanedText, dtype: object"
      ]
     },
     "execution_count": 415,
     "metadata": {},
     "output_type": "execute_result"
    }
   ],
   "source": [
    "pd.options.display.max_colwidth = 5000\n",
    "\n",
    "productsReviewData.cleanedText.head(2)"
   ]
  },
  {
   "cell_type": "code",
   "execution_count": 121,
   "metadata": {},
   "outputs": [],
   "source": [
    "sampleData = productsReviewData"
   ]
  },
  {
   "cell_type": "code",
   "execution_count": 416,
   "metadata": {},
   "outputs": [
    {
     "data": {
      "text/plain": [
       "107"
      ]
     },
     "execution_count": 416,
     "metadata": {},
     "output_type": "execute_result"
    }
   ],
   "source": [
    "productsReviewData.asin.nunique()"
   ]
  },
  {
   "cell_type": "code",
   "execution_count": 122,
   "metadata": {},
   "outputs": [
    {
     "name": "stdout",
     "output_type": "stream",
     "text": [
      "104800001X\n",
      "B00LA96GLC\n"
     ]
    }
   ],
   "source": [
    "print(sampleData.asin.min())\n",
    "print(sampleData.asin.max())"
   ]
  },
  {
   "cell_type": "code",
   "execution_count": 199,
   "metadata": {},
   "outputs": [],
   "source": [
    "#pd.DataFrame(sampleData.groupby('asin')[['reviewerID'], ['helpful']])"
   ]
  },
  {
   "cell_type": "code",
   "execution_count": 79,
   "metadata": {},
   "outputs": [
    {
     "data": {
      "text/plain": [
       "7"
      ]
     },
     "execution_count": 79,
     "metadata": {},
     "output_type": "execute_result"
    }
   ],
   "source": []
  },
  {
   "cell_type": "code",
   "execution_count": null,
   "metadata": {},
   "outputs": [],
   "source": [
    "from tensorflow.python.keras.preprocessing.text import Tokenizer\n",
    "from sklearn.feature_extraction.text import CountVectorizer"
   ]
  }
 ],
 "metadata": {
  "kernelspec": {
   "display_name": "Python 3",
   "language": "python",
   "name": "python3"
  },
  "language_info": {
   "codemirror_mode": {
    "name": "ipython",
    "version": 3
   },
   "file_extension": ".py",
   "mimetype": "text/x-python",
   "name": "python",
   "nbconvert_exporter": "python",
   "pygments_lexer": "ipython3",
   "version": "3.7.3"
  }
 },
 "nbformat": 4,
 "nbformat_minor": 2
}
