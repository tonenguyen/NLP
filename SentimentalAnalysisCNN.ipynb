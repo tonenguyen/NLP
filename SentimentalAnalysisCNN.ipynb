{
 "cells": [
  {
   "cell_type": "code",
   "execution_count": 1,
   "metadata": {},
   "outputs": [],
   "source": [
    "#Import libraries\n",
    "\n",
    "import gzip #for parsing gz files\n",
    "import pandas as pd\n",
    "import re \n",
    "import inflect #numeric/cardinal"
   ]
  },
  {
   "cell_type": "code",
   "execution_count": 101,
   "metadata": {},
   "outputs": [],
   "source": [
    "dirPath = r\"C:\\Study\\Projects\\NLP\\data\"\n",
    "reviewPath = r\"reviews_Tools_and_Home_Improvement_5.json.gz\"\n",
    "#reviewPath = r\"reviews_Musical_Instruments_5.json.gz\"\n",
    "qaPath = r\"C:\\Study\\Projects\\NLP\\data\" \n",
    "path = dirPath + \"\\\\\" + reviewPath"
   ]
  },
  {
   "cell_type": "code",
   "execution_count": 102,
   "metadata": {},
   "outputs": [],
   "source": [
    "dataFile = gzip.open(path, 'r')"
   ]
  },
  {
   "cell_type": "code",
   "execution_count": 103,
   "metadata": {},
   "outputs": [],
   "source": [
    "# Need this function because large amount of data we are going to load up\n",
    "\n",
    "# http://jmcauley.ucsd.edu/data/amazon/index.html\n",
    "# eval function allows text to be parsed as python code\n",
    "# parse function is a generator with yield\n",
    "# yield when we want to iterate over a sequence, but don't want to store the entire sequence in memory\n",
    "def parse(dataFile):\n",
    "    for each in dataFile:\n",
    "        yield eval(each)"
   ]
  },
  {
   "cell_type": "code",
   "execution_count": 104,
   "metadata": {},
   "outputs": [],
   "source": [
    "# for each review for a product in dataFile maps dict[nth] = review (nth)\n",
    "# enumerate can't be used on a generator\n",
    "count = 0\n",
    "productReviews = {}\n",
    "for eachReview in parse(dataFile):\n",
    "    productReviews[count] = eachReview\n",
    "    count = count + 1\n"
   ]
  },
  {
   "cell_type": "code",
   "execution_count": 105,
   "metadata": {},
   "outputs": [
    {
     "data": {
      "text/plain": [
       "134476"
      ]
     },
     "execution_count": 105,
     "metadata": {},
     "output_type": "execute_result"
    }
   ],
   "source": [
    "len(productReviews)"
   ]
  },
  {
   "cell_type": "code",
   "execution_count": 106,
   "metadata": {},
   "outputs": [],
   "source": [
    "productsReviewData = pd.DataFrame.from_dict(productReviews, orient='index')"
   ]
  },
  {
   "cell_type": "code",
   "execution_count": 107,
   "metadata": {},
   "outputs": [
    {
     "data": {
      "text/plain": [
       "Index(['reviewerID', 'asin', 'reviewerName', 'helpful', 'reviewText',\n",
       "       'overall', 'summary', 'unixReviewTime', 'reviewTime'],\n",
       "      dtype='object')"
      ]
     },
     "execution_count": 107,
     "metadata": {},
     "output_type": "execute_result"
    }
   ],
   "source": [
    "productsReviewData.shape\n",
    "productsReviewData.columns"
   ]
  },
  {
   "cell_type": "code",
   "execution_count": 108,
   "metadata": {},
   "outputs": [],
   "source": [
    "reduceData = productsReviewData.loc[:, ['asin', 'reviewerName', 'reviewText', 'helpful', 'overall']]\n",
    "\n",
    "\n"
   ]
  },
  {
   "cell_type": "code",
   "execution_count": 109,
   "metadata": {},
   "outputs": [],
   "source": [
    "rating = lambda x: 1 if x > 2.0 else 0"
   ]
  },
  {
   "cell_type": "code",
   "execution_count": 110,
   "metadata": {},
   "outputs": [],
   "source": [
    "reduceData['rating'] = reduceData['overall'].apply(rating)\n",
    "unfavorableReviews = list(reduceData.loc[ reduceData['rating'] == 0, \n",
    "                                         ['reviewText', 'helpful', 'overall', 'rating']].sort_values(by='overall').index)\n",
    "#unfavorableReviews"
   ]
  },
  {
   "cell_type": "code",
   "execution_count": 111,
   "metadata": {},
   "outputs": [],
   "source": [
    "reviewTextProcessing = pd.DataFrame(reduceData.reviewText.copy())"
   ]
  },
  {
   "cell_type": "code",
   "execution_count": 112,
   "metadata": {},
   "outputs": [],
   "source": [
    "reviewTextProcessing['rating'] = reduceData['rating']\n",
    "reviewTextProcessing['overall'] = reduceData['overall']"
   ]
  },
  {
   "cell_type": "code",
   "execution_count": 113,
   "metadata": {},
   "outputs": [
    {
     "data": {
      "text/plain": [
       "(134476, 3)"
      ]
     },
     "execution_count": 113,
     "metadata": {},
     "output_type": "execute_result"
    }
   ],
   "source": [
    "productsReviewData.dtypes\n",
    "len(productsReviewData)\n",
    "# reviewText, rating, overall\n",
    "reviewTextProcessing.shape"
   ]
  },
  {
   "cell_type": "code",
   "execution_count": 15,
   "metadata": {},
   "outputs": [],
   "source": [
    "#reviewTextProcessing.loc[reviewTextProcessing['rating']==0, ['rating', 'overall', 'Processed', 'SentimentModel']]"
   ]
  },
  {
   "cell_type": "code",
   "execution_count": 114,
   "metadata": {
    "scrolled": true
   },
   "outputs": [
    {
     "name": "stdout",
     "output_type": "stream",
     "text": [
      "dict_keys([\"ain't\", \"aren't\", \"can't\", \"can't've\", \"'cause\", \"could've\", \"couldn't\", \"couldn't've\", \"didn't\", \"doesn't\", \"don't\", \"hadn't\", \"hadn't've\", \"hasn't\", \"haven't\", \"he'd\", \"he'd've\", \"he'll\", \"he'll've\", \"he's\", \"how'd\", \"how'd'y\", \"how'll\", \"how's\", \"I'd\", \"I'd've\", \"I'll\", \"I'll've\", \"I'm\", \"I've\", \"isn't\", \"it'd\", \"it'd've\", \"it'll\", \"it'll've\", \"it's\", \"let's\", \"ma'am\", \"mayn't\", \"might've\", \"mightn't\", \"mightn't've\", \"must've\", \"mustn't\", \"mustn't've\", \"needn't\", \"needn't've\", \"o'clock\", \"oughtn't\", \"oughtn't've\", \"shan't\", \"sha'n't\", \"shan't've\", \"she'd\", \"she'd've\", \"she'll\", \"she'll've\", \"she's\", 's###', \"should've\", \"shouldn't\", \"shouldn't've\", \"so've\", \"so's\", \"that'd\", \"that'd've\", \"that's\", \"there'd\", \"there'd've\", \"there's\", \"they'd\", \"they'd've\", \"they'll\", \"they'll've\", \"they're\", \"they've\", \"to've\", \"wasn't\", \"we'd\", \"we'd've\", \"we'll\", \"we'll've\", \"we're\", \"we've\", \"weren't\", \"what'll\", \"what'll've\", \"what're\", \"what's\", \"what've\", \"when's\", \"when've\", \"where'd\", \"where's\", \"where've\", \"who'll\", \"who'll've\", \"who's\", \"who've\", \"why's\", \"why've\", \"will've\", \"won't\", \"won't've\", \"would've\", \"wouldn't\", \"wouldn't've\", \"y'all\", \"y'all'd\", \"y'all'd've\", \"y'all're\", \"y'all've\", \"you'd\", \"you'd've\", \"you'll\", \"you'll've\", \"you're\", \"you've\"])\n"
     ]
    }
   ],
   "source": [
    "#https://stackoverflow.com/questions/19790188/expanding-english-language-contractions-in-python\n",
    "import Contractions_Words as contractions\n",
    "import importlib\n",
    "importlib.reload(contractions)\n",
    "\n",
    "contractions_dict = contractions.contractions_dict\n",
    "\n",
    "print(contractions_dict.keys())\n",
    "#print(contractions_dict[\"s***\"])\n",
    "\n",
    "pattern = '%s' % '|'.join(contractions_dict.keys())\n",
    "#pattern = r\"%s\" % pattern\n",
    "#print(pattern)\n",
    "contractions_re = re.compile(pattern)\n",
    "def expand_contractions(s, contractions_dict=contractions_dict):\n",
    "    #edit for special case like s*** etc\n",
    "    s = re.sub(\"\\*\", \"#\", s)\n",
    "    def replace(match):\n",
    "        #print(type(match), match)\n",
    "        return contractions_dict[match.group(0)]\n",
    "    return contractions_re.sub(replace, s)\n",
    "\n"
   ]
  },
  {
   "cell_type": "code",
   "execution_count": 23,
   "metadata": {},
   "outputs": [
    {
     "name": "stdout",
     "output_type": "stream",
     "text": [
      "s###\n"
     ]
    },
    {
     "data": {
      "text/plain": [
       "'shit'"
      ]
     },
     "execution_count": 23,
     "metadata": {},
     "output_type": "execute_result"
    }
   ],
   "source": [
    "sample1 = \"s***\"\n",
    "print(re.sub(\"\\*\", \"#\", sample1))\n",
    "\n",
    "sample = \"I don\\'t know what to say nay. I haven\\'t. s###\"\n",
    "expand_contractions(sample)\n",
    "expand_contractions(sample1)"
   ]
  },
  {
   "cell_type": "code",
   "execution_count": 115,
   "metadata": {
    "scrolled": true
   },
   "outputs": [],
   "source": [
    "from nltk.tokenize import word_tokenize, sent_tokenize\n",
    "import string\n",
    "\n",
    "# return both wholeText, paragraph Text\n",
    "def singleReviewCleanUp(sample):\n",
    "    #print(sample)\n",
    "    #sample = sample.decode(\"utf-8\")\n",
    "    sample = expand_contractions(sample)\n",
    "    sample = sample.lower()\n",
    "    \n",
    "    #for word in sample:\n",
    "    #    print(lemmatizer.lemmatize(word, wordnet.VERB))\n",
    "    \n",
    "    review = sent_tokenize(sample)\n",
    "    #print(review)\n",
    "    for count, eachSent in enumerate(review):\n",
    "        #remove numbers\n",
    "        eachSent = re.sub(\"r'\\d+/\\d+|\\d+|\\$\\d+.\\d+\", \" \", eachSent)\n",
    "        #remove string\n",
    "        eachSent = re.sub('[%s]' % re.escape(string.punctuation), ' ', eachSent)\n",
    "        #word tokens\n",
    "        #print([lemmatizer.lemmatize(text, wordnet.VERB) for text in eachSent.split()])\n",
    "        eachSent = word_tokenize(eachSent)\n",
    "        review[count] = eachSent\n",
    "        # lemmatize and remove stopWords\n",
    "        #eachSent = [word for word in eachSent if not word in stopWords]\n",
    "        #eachSent = [lemmatizer.lemmatize(word, wordnet.VERB) for word in eachSent]\n",
    "        #eachSent = [lemmatizer.lemmatize(word, wordnet.VERB) for word in eachSent if not word in stopWords]\n",
    "        review[count] = \" \".join(eachSent)\n",
    "    wholeText = [\" \".join(review) ]\n",
    "    paragraphText = review\n",
    "    #return wholeText\n",
    "    #return paragraphText\n",
    "    return paragraphText, wholeText\n",
    "\n",
    "#paragraphText, wholeText = singleReviewCleanUp(sample)\n",
    "#wholeText, paragraphText\n",
    "#paragraphText"
   ]
  },
  {
   "cell_type": "code",
   "execution_count": 116,
   "metadata": {},
   "outputs": [],
   "source": [
    "#Give me back text in a paragraph sentence forms. They do have more values than a clobbed of text based on Polarity Check.\n",
    "cleanUpTextParagraph = lambda text: singleReviewCleanUp(text)[0]\n"
   ]
  },
  {
   "cell_type": "code",
   "execution_count": 117,
   "metadata": {},
   "outputs": [
    {
     "name": "stdout",
     "output_type": "stream",
     "text": [
      "Wall time: 3min 16s\n"
     ]
    }
   ],
   "source": [
    "%%time\n",
    "reviewTextProcessing['Processed'] = reviewTextProcessing.reviewText.apply(cleanUpTextParagraph)\n"
   ]
  },
  {
   "cell_type": "code",
   "execution_count": 20,
   "metadata": {},
   "outputs": [],
   "source": [
    "#sample = \" I don't know what to do. I need to test through tough. Do you have any suggestions\"\n",
    "#result = cleanUpTextParagraph(sample)\n",
    "#result"
   ]
  },
  {
   "cell_type": "code",
   "execution_count": 27,
   "metadata": {},
   "outputs": [],
   "source": [
    "from textblob import TextBlob\n",
    "\n",
    "# need to do a data check first\n",
    "def getPolaritySubjectivity(data):\n",
    "    #print(data)\n",
    "    paragraphText = data\n",
    "    sumPolarity = []\n",
    "    sumSubjectivity = []\n",
    "    for each in paragraphText:\n",
    "        sumPolarity.append(TextBlob(each).sentiment.polarity)\n",
    "        sumSubjectivity.append(TextBlob(each).sentiment.subjectivity)\n",
    "    #print(\"sumPol\", sumPolarity)\n",
    "    return sumPolarity, sumSubjectivity\n",
    "    #return sum(sumPolarity), sum(sumSubjectivity)\n",
    "\n",
    "    #print(each, TextBlob(each).sentiment.polarity, TextBlob(each).sentiment.subjectivity)\n",
    "#(sample2, TextBlob(sample2).sentiment.polarity, TextBlob(sample2).sentiment.subjectivity)\n"
   ]
  },
  {
   "cell_type": "code",
   "execution_count": 28,
   "metadata": {},
   "outputs": [],
   "source": [
    "#Return the sume of polarity in a paragraph sentence when give a text in a list form of sentence\n",
    "\n",
    "getPolarityFromText = lambda text: getPolaritySubjectivity(text)[0]"
   ]
  },
  {
   "cell_type": "code",
   "execution_count": 29,
   "metadata": {},
   "outputs": [],
   "source": [
    "#for each in sampleText:\n",
    "#    sample = cleanUpTextParagraph(each)\n",
    "#    print(sample, getPolarityFromText(sample))"
   ]
  },
  {
   "cell_type": "code",
   "execution_count": 30,
   "metadata": {},
   "outputs": [],
   "source": [
    "#print(stopWords)"
   ]
  },
  {
   "cell_type": "code",
   "execution_count": 31,
   "metadata": {},
   "outputs": [],
   "source": [
    "#sentiment = lambda text: TextBlob(text).sentiment.polarity"
   ]
  },
  {
   "cell_type": "code",
   "execution_count": 118,
   "metadata": {},
   "outputs": [],
   "source": [
    "adjustSentimentModel = lambda x: [sum(x), 0.0] if sum(x) < 0 else [sum(x), 1.0]"
   ]
  },
  {
   "cell_type": "code",
   "execution_count": 119,
   "metadata": {},
   "outputs": [
    {
     "name": "stdout",
     "output_type": "stream",
     "text": [
      "Wall time: 6min 36s\n"
     ]
    }
   ],
   "source": [
    "%%time\n",
    "reviewTextProcessing['Sentiment']= reviewTextProcessing.Processed.apply(getPolarityFromText)"
   ]
  },
  {
   "cell_type": "code",
   "execution_count": 120,
   "metadata": {},
   "outputs": [
    {
     "name": "stdout",
     "output_type": "stream",
     "text": [
      "Wall time: 201 ms\n"
     ]
    }
   ],
   "source": [
    "%%time\n",
    "reviewTextProcessing['SentimentModel']= reviewTextProcessing.Sentiment.apply(adjustSentimentModel)"
   ]
  },
  {
   "cell_type": "code",
   "execution_count": 826,
   "metadata": {},
   "outputs": [
    {
     "data": {
      "text/html": [
       "<div>\n",
       "<style scoped>\n",
       "    .dataframe tbody tr th:only-of-type {\n",
       "        vertical-align: middle;\n",
       "    }\n",
       "\n",
       "    .dataframe tbody tr th {\n",
       "        vertical-align: top;\n",
       "    }\n",
       "\n",
       "    .dataframe thead th {\n",
       "        text-align: right;\n",
       "    }\n",
       "</style>\n",
       "<table border=\"1\" class=\"dataframe\">\n",
       "  <thead>\n",
       "    <tr style=\"text-align: right;\">\n",
       "      <th></th>\n",
       "      <th>Processed</th>\n",
       "      <th>Sentiment</th>\n",
       "      <th>SentimentModel</th>\n",
       "    </tr>\n",
       "  </thead>\n",
       "  <tbody>\n",
       "    <tr>\n",
       "      <th>5494</th>\n",
       "      <td>[it sounds very artificial i remember first getting this pedal and really loving the sound and kick it had now that i use it with a better amp it sounds very processed and artificial in sound that it has it is not even worth the price i payed for it before, i also had bought another one to replace the first one because the input section jack got messed up in the amp that it did not want to lock with my guitar cable and when i took it apart there was no way for me to fix it other than sending it to be replaced, shitty pedal]</td>\n",
       "      <td>[0.1411111111111111, 0.0625, 0.0]</td>\n",
       "      <td>[0.2036111111111111, 1.0]</td>\n",
       "    </tr>\n",
       "    <tr>\n",
       "      <th>3792</th>\n",
       "      <td>[i bought this because hey a wireless mic for, why not, i might be able to use this in a public address system the connections all work and it makes sounds but the static is unbearable no matter how much i fiddle with different the adjustment screw in the receiver nothing works, the audio is always clipped, don t even think of using this for music]</td>\n",
       "      <td>[0.0, 0.0, 0.24, 0.0, 0.0]</td>\n",
       "      <td>[0.24, 1.0]</td>\n",
       "    </tr>\n",
       "    <tr>\n",
       "      <th>6090</th>\n",
       "      <td>[in an attempt to see what has what is new in the pick industry i decided to dive in and give these a go, they are way too flimsy if like me you use a heavier pick, i have always used dunlop tortex greens and these davas just can not compete, not only were they too flimsy but when i played with any aggression heavy rock based material the picks would fly out of my hands, this was a huge disappointment]</td>\n",
       "      <td>[0.13636363636363635, 0.0, 0.0, 0.20000000000000004, -0.09999999999999995]</td>\n",
       "      <td>[0.23636363636363647, 1.0]</td>\n",
       "    </tr>\n",
       "    <tr>\n",
       "      <th>3748</th>\n",
       "      <td>[hard to believe this was so bad, i have a planet waves locking guitar strap which is a dream and thought this would allow me to lock a regular strap, however it is so thick that it can not really fit on a regular guitar strap pin with a strap and when i tried to lock it the two pieces came apart, go with the planet waves lock straps]</td>\n",
       "      <td>[-0.49583333333333324, 0.0, -0.16666666666666666, 0.0]</td>\n",
       "      <td>[-0.6624999999999999, 0.0]</td>\n",
       "    </tr>\n",
       "    <tr>\n",
       "      <th>6077</th>\n",
       "      <td>[sound nice but very unreliable bx a deluxe i own a pair of yamaha ns s and event s and they are all currently working without problems with over years use years ago i purchased a set of regular bx a s and they lasted about years and then the faulty capacitors leaked i just replaced them with the bx a deluxe model and after only one week, one of the internal amps will no longer power up i need a pair of affordable av shielded monitors that i can depend on and these cheap m audio monitors are not it i am back to using my s with slight av noise until i find a decent av shielded monitor m audio was a much better company before avid took them over]</td>\n",
       "      <td>[0.3333333333333333, 0.16428571428571428]</td>\n",
       "      <td>[0.4976190476190476, 1.0]</td>\n",
       "    </tr>\n",
       "    <tr>\n",
       "      <th>3746</th>\n",
       "      <td>[i even called dunlop to see if these lok strap systems would work for an electric acoustic, the guy at dunlop told me oh yes they have been specifically designed to work with electric acoustic, that is not the case, i purchased multiple units and it will cost me more to return to amazon than it has it is worth, but basically i know have hunks of plastic that i could use to make a sculpture because of the bottom pin being the plug in for electric pick up the thickness causes a problem and this plastic do hickey will not fit if anyone out there has a solution for securing the strap please reply to this feedback what really frosts me is that i called dunlop and apparently their customer service folks do not know their products well enough to be recommending product, it s called train your people, ]</td>\n",
       "      <td>[0.0, 0.0, 0.0, 0.26666666666666666, 0.0125, 0.0, 0.0]</td>\n",
       "      <td>[0.2791666666666667, 1.0]</td>\n",
       "    </tr>\n",
       "    <tr>\n",
       "      <th>1870</th>\n",
       "      <td>[i have used three pop filters in my experiences with home recording and podcasting, this one is the worst, the plastic screw yes plastic that is meant to grip the pole that you attach the pop filter to is completely incapable of supporting it has it is own weight at nearly any angle, bad just bad secondly there is a metal piece that secures the flex arm to the clamp, it seemed loose after i got it out of the packaging and the flex arm would wobble and rotate in that spot causing a major problem when it came to proper placement, after twisting on it twice i stripped it out, now the thing is worthless, i am returning it asap i would rather go to a lady s bag flea market sale with a crazy woman for a day than continue to put up with this thing, do yourself a huge favor and buy the nady pop filter, if you do not you shall you will wish you did]</td>\n",
       "      <td>[0.0, -1.0, 0.2625, -0.46666666666666656, -0.004807692307692309, 0.0, -0.8, -0.6, 0.4000000000000001, 0.0]</td>\n",
       "      <td>[-2.208974358974359, 0.0]</td>\n",
       "    </tr>\n",
       "    <tr>\n",
       "      <th>6072</th>\n",
       "      <td>[these speakers worked great for months, last week one of them would not power up all the way, the problem is getting worse every time i try to use them and it has it is just a matter of time before it stops working, it seems there is a problem with the capacitors that i did read about in a few reviews, i took a chance on the monitors anyway and it was a huge mistake, i only use them between and hours per week, i contacted m audio s online support system and was given addresses to two electronics repair shops, one on the east coast and one on be west coast, i have since found many complaints about this same issue all over the internet and on the m audio support site, m audio does not stand behind their products and i shall i will never purchase anything from them again]</td>\n",
       "      <td>[0.8, 0.0, -0.4, -0.2, 0.4000000000000001, 0.0, 0.0, 0.0, 0.25, -0.4]</td>\n",
       "      <td>[0.45000000000000007, 1.0]</td>\n",
       "    </tr>\n",
       "    <tr>\n",
       "      <th>7083</th>\n",
       "      <td>[these types of pedals are toys, they are a cheap way for a beginner to have effects to play with, by all means if you are buying it for your kid who just started playing, if not i recommend slowly building your pedal collection and use the money to get decent pedal whether it is a delay or distortion]</td>\n",
       "      <td>[0.0, 0.4, 0.0, -0.0666666666666667]</td>\n",
       "      <td>[0.3333333333333333, 1.0]</td>\n",
       "    </tr>\n",
       "    <tr>\n",
       "      <th>3743</th>\n",
       "      <td>[they only fit if you have enough room in your strap button if not they will just pop right out, i threw mine away]</td>\n",
       "      <td>[0.17142857142857143, 0.0]</td>\n",
       "      <td>[0.17142857142857143, 1.0]</td>\n",
       "    </tr>\n",
       "    <tr>\n",
       "      <th>1880</th>\n",
       "      <td>[its poorly made with attention to detail, i ordered them to fit on my dual mic clamp purchased here at amazon, but they will not screw down all the way and are losse, it is useless, other mic holders from different manufacturers work fine]</td>\n",
       "      <td>[-0.4, 0.4, -0.15555555555555559, -0.5, 0.09722222222222222]</td>\n",
       "      <td>[-0.5583333333333333, 0.0]</td>\n",
       "    </tr>\n",
       "    <tr>\n",
       "      <th>7085</th>\n",
       "      <td>[i had a friend with one of these and he loves it, i got one on his recommendation and when i put the batteries in it it started smoking, it did work for awhile, i pulled the batteries out and tried to ac adapter and it smoked again this time it did not work, i am one of those people who gives an item one try and if it does not work holds a grudge, i would not advise anybody to get this]</td>\n",
       "      <td>[0.0, 0.0, 0.0, 0.0, 0.0, 0.0]</td>\n",
       "      <td>[0.0, 1.0]</td>\n",
       "    </tr>\n",
       "    <tr>\n",
       "      <th>1918</th>\n",
       "      <td>[just assembly for a try only few rolls with music it has it is had some hole on head that has that is mean bad quality, buyer beware for this kind of]</td>\n",
       "      <td>[-0.303125, 0.6]</td>\n",
       "      <td>[0.296875, 1.0]</td>\n",
       "    </tr>\n",
       "    <tr>\n",
       "      <th>6040</th>\n",
       "      <td>[doesn t reduce sound worth a darn, i thought plugging the sound hole would muffle things, muddies it up a bit maybe but not really a reduction in db]</td>\n",
       "      <td>[0.35, 0.4, -0.1]</td>\n",
       "      <td>[0.65, 1.0]</td>\n",
       "    </tr>\n",
       "    <tr>\n",
       "      <th>9286</th>\n",
       "      <td>[years playingmy pedal is unuseablethe lower strings are all mush at any gain or eq settingread all the good reviews and watched all the videosmine sounds nothing like themmaybe defectivei also own the joyo british and joyo crunch and they are flawless]</td>\n",
       "      <td>[0.575]</td>\n",
       "      <td>[0.575, 1.0]</td>\n",
       "    </tr>\n",
       "    <tr>\n",
       "      <th>9170</th>\n",
       "      <td>[the device itself is difficult to read in bright light my first one arrived not working at all the second one arrived with a low battery, what, after three days the battery goes out i would have returned it but lost it because it does not adhere to the headstock very well, you ve been warned]</td>\n",
       "      <td>[0.1416666666666667, 0.0, 0.2, 0.0]</td>\n",
       "      <td>[0.3416666666666667, 1.0]</td>\n",
       "    </tr>\n",
       "    <tr>\n",
       "      <th>3708</th>\n",
       "      <td>[this arrived with one end of the security strap and metal part broken, ok i bought it on sale and returning it would not be an option it would cost as much to mail back as it did to buy it obviously it was not the packaging which was more than adequate and there were no broken off pieces in the box of course i could not recommend this product to anyone most disappointing purchase]</td>\n",
       "      <td>[-0.4, 0.18148148148148147]</td>\n",
       "      <td>[-0.21851851851851856, 0.0]</td>\n",
       "    </tr>\n",
       "    <tr>\n",
       "      <th>2071</th>\n",
       "      <td>[crap these strings are bad do not buy them if you play any kind of harder music or do a lot of string bends unless you like having strings almost take out your eyes then by all means buy em errrrr i always buy ernie balls but i got cheap and tryed to save a few buck and buy packs of these hunks of crap for under bucks i should have spent the extra bucks and got the pack of ernies i did not even get a week out of them and they were rusted and poppin off left and right never again]</td>\n",
       "      <td>[-0.1285714285714286]</td>\n",
       "      <td>[-0.1285714285714286, 0.0]</td>\n",
       "    </tr>\n",
       "    <tr>\n",
       "      <th>3693</th>\n",
       "      <td>[i am another reviewer who has upon personal inspection discovered that the rear leg of the stand is too short to provide staedy support for any beloved guitar, i returned it i have first act brand stands similar in appearance but more intelligently constructed]</td>\n",
       "      <td>[0.2333333333333333, 0.3875]</td>\n",
       "      <td>[0.6208333333333333, 1.0]</td>\n",
       "    </tr>\n",
       "    <tr>\n",
       "      <th>6024</th>\n",
       "      <td>[as i have heard with the pyle pro amps i received mine today and it was defective, only one channel worked and it definitely looked like it took a beating before it arrived at my doorstep, the packaging was very good though so i am thinking this looks like a refurb used and they listed it as new, already printed the return shipping label and it will head back to the amazon warehouse on monday]</td>\n",
       "      <td>[0.0, 0.0, 0.5231818181818182, 0.0]</td>\n",
       "      <td>[0.5231818181818182, 1.0]</td>\n",
       "    </tr>\n",
       "    <tr>\n",
       "      <th>8493</th>\n",
       "      <td>[my review s for this have changed a few times but no more, when i first got it i liked the sound though it did sound a little cold and digital and this is from someone wanting to record shoegaze dreampop which by it has it is nature is full of cold tones reverb chorus delay shimmering a la cocteau twins chapterhouse lush so at first i thought it was great, then the fuse software was even cooler all this customizing the sound though it did sound noisy and needed the compressor to take some of the noise away after all of that i finally realized i was trying to ignore the fizz crackle hair it has it is called a few things, go to the fender forums and look it up or search it on yahoo google the thing happening with this amp i think is a few things, fender guitars sound best through it which is silly if you do not own a fender and i do not and refuse to get a squire as that body is so played out i wanted anything but a strat body unless i have a grand to pay for an older one i am not going to get a rinky dink one and i would only get one after i got like other dream guitars first so everyone has different problems with pickup quality and guitar quality, also playing into a modeling amp is like playing into a computer that may be fine for some younger folks but to a lot of people i have read the complaints i was trying not to realize as i did not feel like having to pay for shipping to return it but i did and i am so glad i did, i almost got a peavey vypyr and i am glad i did not, this amp to be fair is really close to being really cool but that sound problem which i read on fender s own forum website fender acknowledges it exists but does nothing to fix it in future models, sorry but that has that is some big company b s i have been reading of people saying it sounds cold and lifeless and all that and tube this and tube that and i was like what music snobs and what have you, but i realized that i am a music snob, i love the music i listen to more than anything and feel like the music i create should have a life to it as well, so i returned the mustang and almost got a marshall mg watt cause i wanted an amp with a clean sound that did not have that crackle sound but thankfully i caught myself before that return as after that it would have been final the decision i did make i think will be great for me as i had i would rather start with a good real tone then get the effects i need, i kept reading reviews of these teenagers that had not played for more than a year or two or so saying throw away your pedals you will not need them and i was going to get pedals but do not need to now that has that is kind of the danger of these amps they end up making everyone sound the same, no matter what tweaking i was doing on the mustang it sounded the same but in a different costume i think this amp and modeling amps are best for beginning guitarists and i have seen some old timers getting an amp for home use after years maybe that has that is for them but i needed something to record with and practice and get the best most real tone possible so that means tube amp i think if i played this at a gc i would not of gotten it and i just tried to make myself like it]</td>\n",
       "      <td>[-0.225, 0.146875, 0.15000000000000002, -0.2, 0.13916666666666666, 0.3055555555555556, 0.5, 0.375, -0.3666666666666667, 0.0, 0.5, 0.40952380952380957, 0.375, 0.35000000000000003]</td>\n",
       "      <td>[2.4594543650793654, 1.0]</td>\n",
       "    </tr>\n",
       "    <tr>\n",
       "      <th>5999</th>\n",
       "      <td>[the cable hisses crackles and pops right out of the package, save your money and buy a better cable, i will buy cables locally from now on so i can easily return them if they are defective, i would definitely not buy this product again or recommend it to anyone else]</td>\n",
       "      <td>[0.2857142857142857, 0.5, 0.21666666666666667, 0.0]</td>\n",
       "      <td>[1.0023809523809524, 1.0]</td>\n",
       "    </tr>\n",
       "    <tr>\n",
       "      <th>2234</th>\n",
       "      <td>[this piece of plastic is just terrible, you had you would be better off with a couple of books and a towel not recommended]</td>\n",
       "      <td>[-1.0, 0.5]</td>\n",
       "      <td>[-0.5, 0.0]</td>\n",
       "    </tr>\n",
       "    <tr>\n",
       "      <th>8518</th>\n",
       "      <td>[works as advertised but the keys are stiff, pads take too much presure to activate, nice that i dont need another interface to connect it to my laptop after the first few uses the usb socket broke and fell off into the unit rendering it useless, wrote to dealer that was listed as selling it to me thru amazon only to have them tell me the wrong seller was listed, i had registered it with akai already so i complained to them and they sent me a new one, i had to pay shipping back the old one to them even though it was a defective product not recommending this product]</td>\n",
       "      <td>[-0.21428571428571427, 0.2, 0.03749999999999998, -0.25, -0.08181818181818182, 0.05]</td>\n",
       "      <td>[-0.2586038961038961, 0.0]</td>\n",
       "    </tr>\n",
       "    <tr>\n",
       "      <th>5605</th>\n",
       "      <td>[it was not what i wanted, when a person has a low income we can not afford what we can not use, i was looking for what is called shimmer most reverbs do not have shimmer as the rv because digitech called shimmer string swell and volume swell is linked to the violin sound it cost me its called slow motion for a reason because it has to be played slow to hear the effect the only way to hear it is with over drive being played on the high strings, it might be good for playing with a bow i have no idea because i can not afford a bow]</td>\n",
       "      <td>[0.0, 0.0, 0.07666666666666666, 0.7]</td>\n",
       "      <td>[0.7766666666666666, 1.0]</td>\n",
       "    </tr>\n",
       "    <tr>\n",
       "      <th>8520</th>\n",
       "      <td>[this unit might be great if you have child hands the keys on the keyboard is soooo small don t get this if you have man hands, wtf u date the description akai wtf]</td>\n",
       "      <td>[0.275, -0.5]</td>\n",
       "      <td>[-0.22499999999999998, 0.0]</td>\n",
       "    </tr>\n",
       "    <tr>\n",
       "      <th>2251</th>\n",
       "      <td>[go build your own, build it to your specs and have a solid stand, if not you can find a lot better head stands, this one was a huge disappointment, does not do what it says and can get you frustrated quick, im back with my wood block and am happy]</td>\n",
       "      <td>[0.6, 0.0, 0.5, -0.09999999999999995, -0.18333333333333332, 0.4]</td>\n",
       "      <td>[1.2166666666666668, 1.0]</td>\n",
       "    </tr>\n",
       "    <tr>\n",
       "      <th>9082</th>\n",
       "      <td>[it was almost obvious this product would come from china but even worse when it ships from china, any thing i have bought that was shipped directly from china has been much lower quality than anything retailers are even willing to sell, if you can wait a month for delivery or longer if you dont mind your guitar falling off the wall when the chinese quality lives up to its reputation then order up, if you have over a guitar be wise and buy an expensive one unfortunately they will most likely be made in china too, i have decided to build my own]</td>\n",
       "      <td>[-0.2, 0.18333333333333335, 0.0, 0.039999999999999994, 0.6]</td>\n",
       "      <td>[0.6233333333333333, 1.0]</td>\n",
       "    </tr>\n",
       "    <tr>\n",
       "      <th>2308</th>\n",
       "      <td>[i might have done something wrong i read in a review that these hold six picks it held three real well but on the fourth insert the thing just fell apart i shall i will just keep using my pockets]</td>\n",
       "      <td>[-0.09999999999999999]</td>\n",
       "      <td>[-0.09999999999999999, 0.0]</td>\n",
       "    </tr>\n",
       "    <tr>\n",
       "      <th>6031</th>\n",
       "      <td>[this cover does not fit a full size acoustic electric hohner guitar, i measured the whole at but this cover does not even come close to fitting, it measures in diameter so check your guitar closely]</td>\n",
       "      <td>[0.07499999999999998, 0.35, 0.0]</td>\n",
       "      <td>[0.42499999999999993, 1.0]</td>\n",
       "    </tr>\n",
       "    <tr>\n",
       "      <th>...</th>\n",
       "      <td>...</td>\n",
       "      <td>...</td>\n",
       "      <td>...</td>\n",
       "    </tr>\n",
       "    <tr>\n",
       "      <th>4698</th>\n",
       "      <td>[the harmonica barely fits the holder and there is no adjustment for distance from the mouth to the harmonica, i can not get the harmonica adjusted close enough to play it unless i modify it]</td>\n",
       "      <td>[0.05, 0.0]</td>\n",
       "      <td>[0.05, 1.0]</td>\n",
       "    </tr>\n",
       "    <tr>\n",
       "      <th>4684</th>\n",
       "      <td>[not your fender quality strap, this is a cheap extremely low quality strap, i have had it for a few months and my guitar has not fallen yet but i can see the wear on the end it has it is almost at breaking point, i would not recommend it, it s ok as an emergency strap or to get you out of a jam nothing else]</td>\n",
       "      <td>[0.0, 0.2, -0.2, 0.0, 0.5]</td>\n",
       "      <td>[0.5, 1.0]</td>\n",
       "    </tr>\n",
       "    <tr>\n",
       "      <th>4343</th>\n",
       "      <td>[i am sure this is not the best echo pedal or even in the top but it serves it has it is purpose fairly well, stacking with other cheap danelectro pedals will degrade your tone but it is not something that most of us can not live with, for us it has it is worth taking the risk imhoupdate the pedal gave up the ghost died in a relatively short amount of time, i replaced it with mini modtone type delay i actually like the dano sound better but the modtone will do for a slapback and it is built way better]</td>\n",
       "      <td>[0.675, 0.17670454545454545, 0.15, 0.35]</td>\n",
       "      <td>[1.3517045454545453, 1.0]</td>\n",
       "    </tr>\n",
       "    <tr>\n",
       "      <th>4348</th>\n",
       "      <td>[good price for effect if your looking for a bit of echo then this is for you, i have amps that have this feature that due a better job]</td>\n",
       "      <td>[0.7, 0.1875]</td>\n",
       "      <td>[0.8875, 1.0]</td>\n",
       "    </tr>\n",
       "    <tr>\n",
       "      <th>4373</th>\n",
       "      <td>[the effect it self is fine but it is too noisy even though u do not dime it for the price and for this product it is u get what u pay for]</td>\n",
       "      <td>[0.4166666666666667]</td>\n",
       "      <td>[0.4166666666666667, 1.0]</td>\n",
       "    </tr>\n",
       "    <tr>\n",
       "      <th>4384</th>\n",
       "      <td>[its sound pretty good i mean the range rate arent as broad as others i ve tried but i stomp on it regularly it cuts my signal a bit so i compensate an always leave a bit of extra volume in the bank to make it up all in all worth it]</td>\n",
       "      <td>[0.17500000000000002]</td>\n",
       "      <td>[0.17500000000000002, 1.0]</td>\n",
       "    </tr>\n",
       "    <tr>\n",
       "      <th>4388</th>\n",
       "      <td>[guardian, well it is padded but i have only gigged once since having the item with rehearsals held prior and i can say that the case is nicked up pretty good as they say in the south, yes it will last because it is a guitar case but there has there is no way there has there is enough security to protect an instrument on a plane, now that has that is for flight cases to handle but do not even come near abusing your instrument while it is housed inside this case because you may be disappointed to have to buy new parts once the guardian fails to guard against crushing your hardware, this item is not one of the better cases out there but it does suffice and it does look good, the first day i got it someone said nice case it looks great, say that now though after using it outside the house times and you had you would be a lying sob]</td>\n",
       "      <td>[0.0, 0.2375, 0.0, -0.12272727272727273, 0.6, 0.5499999999999999, 0.0]</td>\n",
       "      <td>[1.2647727272727272, 1.0]</td>\n",
       "    </tr>\n",
       "    <tr>\n",
       "      <th>4389</th>\n",
       "      <td>[this is a typical inexpensive hardshell guitar case made in china, i bought it to replace the original chipboard case for a gibson es archtop, lower bout is wide upper bout is wide body is long and it has it is about deep at the bridge, fits very snugly in this case which is what i was hoping for, the case is about longer than the top of the headstock but i did not expect an exact fit, the wood shell is thin so do not drop anything on it but it is also lighter than a lot of other cases, normal plush fake fur inside with about of soft foam all around, black tolex on the outside is thin but looks okay, this is not a case to take on the road or if you travel by air but it is adequate for casual use, only annoying thing the case arrived locked, the keys were of course inside the case, dumb, a friend at a music store used a key from another guardian case to unlock it, a good reminder that the case latch lock is to keep the latch from popping open and not to keep crooks out]</td>\n",
       "      <td>[-0.16666666666666666, 0.375, -0.05, 0.2, 0.3833333333333333, -0.2625, -0.08333333333333333, -0.016666666666666663, -0.0833333333333334, -0.4, 0.0, -0.375, 0.0, 0.35]</td>\n",
       "      <td>[-0.12916666666666676, 0.0]</td>\n",
       "    </tr>\n",
       "    <tr>\n",
       "      <th>4403</th>\n",
       "      <td>[i like this product but wish it had a wider foot or base to it for carpeted areas it does get a little unstable on carpet, does fine on hard floors]</td>\n",
       "      <td>[-0.49375, 0.0625]</td>\n",
       "      <td>[-0.43125, 0.0]</td>\n",
       "    </tr>\n",
       "    <tr>\n",
       "      <th>4411</th>\n",
       "      <td>[simple and useful rack stand, easy to assemble, easy to mount rack components but the rubber leg terminals are easy to lose too, a little more interest in the manufacture means more quality]</td>\n",
       "      <td>[0.15, 0.43333333333333335, 0.43333333333333335, 0.2708333333333333]</td>\n",
       "      <td>[1.2874999999999999, 1.0]</td>\n",
       "    </tr>\n",
       "    <tr>\n",
       "      <th>4443</th>\n",
       "      <td>[i like this preamp, i use one channel for microphone and the other for an electric guitar with good results is very sadly and spendthrift that its useful life will be the duration of its tube another concept of producci oacute n nothing considered with consumer and planet]</td>\n",
       "      <td>[0.0, 0.05624999999999998]</td>\n",
       "      <td>[0.05624999999999998, 1.0]</td>\n",
       "    </tr>\n",
       "    <tr>\n",
       "      <th>4444</th>\n",
       "      <td>[don t like that it has it is difficult to change the tube, sound quality was not what i expected maybe because i was not familiar with the settings, no power cord was included in mine or manual, manual should have been include not sure about the cord, dials are very small, my mic and mic are much better than this, i can not say it has it is bad, just that there are better choices in my opinion]</td>\n",
       "      <td>[-0.5, 0.03750000000000001, 0.0, -0.25, -0.325, 0.5, -0.6999999999999998, 0.5]</td>\n",
       "      <td>[-0.7374999999999998, 0.0]</td>\n",
       "    </tr>\n",
       "    <tr>\n",
       "      <th>4467</th>\n",
       "      <td>[the knobs seem very easy to over tighten i have not done it yet but i am planning on treating this stand with the utmost care so as not to have any surprises when i put my expensive pa speaker on it]</td>\n",
       "      <td>[0.031666666666666676]</td>\n",
       "      <td>[0.031666666666666676, 1.0]</td>\n",
       "    </tr>\n",
       "    <tr>\n",
       "      <th>4502</th>\n",
       "      <td>[these picks break way too easy, i only play a few times a week but they dont seem to last long when playing for more than a few hours at the time]</td>\n",
       "      <td>[0.43333333333333335, 0.008333333333333331]</td>\n",
       "      <td>[0.44166666666666665, 1.0]</td>\n",
       "    </tr>\n",
       "    <tr>\n",
       "      <th>4685</th>\n",
       "      <td>[i decided to get this tweed strap for my s telecaster classic but when it arrived i was a bit let down, the tweed finish is cool enough but the strap is very thin and the strap ends are pretty poor quality, if they truly are made of leather i feel sorry for the hide they came from, the leather is so hard you almost need fingers of steel to get the eyelets spread far enough apart to get them around the guitar strap locks this is decent for the time being but i am definitely going to keep my eye out for something more suitable to my guitar, feels like wearing a casio with a suit]</td>\n",
       "      <td>[0.005555555555555536, -0.06400000000000002, -0.5, 0.1464285714285714, 0.0]</td>\n",
       "      <td>[-0.4120158730158731, 0.0]</td>\n",
       "    </tr>\n",
       "    <tr>\n",
       "      <th>4509</th>\n",
       "      <td>[even though i ordered large still not fitting will do a little homework to try to get this reemed out a little more to fit i do not have giant hands so large should fit but not this very well made heavy if thats what your looking for arrived on time but good luck]</td>\n",
       "      <td>[0.15029761904761904]</td>\n",
       "      <td>[0.15029761904761904, 1.0]</td>\n",
       "    </tr>\n",
       "    <tr>\n",
       "      <th>4543</th>\n",
       "      <td>[i have never bought strings before so it is kind of hard for me to rate these, so far so good]</td>\n",
       "      <td>[0.15416666666666665, 0.39999999999999997]</td>\n",
       "      <td>[0.5541666666666666, 1.0]</td>\n",
       "    </tr>\n",
       "    <tr>\n",
       "      <th>4558</th>\n",
       "      <td>[i did purchase diferent slides this one is mark as a medium but is diferent size from the other one s what i ordered, perhaps is good for some one with small wrong size, this is why i give only stars because is to small for me]</td>\n",
       "      <td>[-0.125, -0.01666666666666668, -0.125]</td>\n",
       "      <td>[-0.2666666666666667, 0.0]</td>\n",
       "    </tr>\n",
       "    <tr>\n",
       "      <th>4569</th>\n",
       "      <td>[i like them but i love the schaller locks more, they do not feel as secure as the schaller locks, sorry]</td>\n",
       "      <td>[0.5, 0.4, -0.5]</td>\n",
       "      <td>[0.4, 1.0]</td>\n",
       "    </tr>\n",
       "    <tr>\n",
       "      <th>4575</th>\n",
       "      <td>[a bit invasive and awkward, i like another brand more because they feel a little more solid these feel a bit weak]</td>\n",
       "      <td>[-0.6, 0.0875]</td>\n",
       "      <td>[-0.5125, 0.0]</td>\n",
       "    </tr>\n",
       "    <tr>\n",
       "      <th>4577</th>\n",
       "      <td>[i just got these in and i have to say very disappointed, it s as if i went into a boy s shop and bought a large shirt and expected it to fit a man, what do they call medium or small, this large pick barely goes over my thumbnail area, i can hold it sort of so we will see how well it works with my hybrid plectrum project, btw i am an average grown man more to come here we go a few months later i just had a chat with a music store guy and found out that a large thumb pick refers to the thickness of the pick, bottom line if you want a thumb pick that fits go to a store and try before you buy, good luck to all]</td>\n",
       "      <td>[-0.9750000000000001, 0.1714285714285714, -0.25, 0.13214285714285715, 0.0, 0.07285714285714284, 0.0, 0.7]</td>\n",
       "      <td>[-0.1485714285714289, 0.0]</td>\n",
       "    </tr>\n",
       "    <tr>\n",
       "      <th>4580</th>\n",
       "      <td>[i wear a large sized glove so assuming that would translate i got these, while i can force it over my thumb it is very tight and uncomfortable i e pinches, my thumbs do not have a particularly excessive diameter either, i am gon na try to heat these so i can stretch them a bit, i know they need to be snug so the pick does not rotate when being used but this is ridiculous, three stars because if they fit you it is a nice pick it would be if they were described correctly for sizing]</td>\n",
       "      <td>[0.21428571428571427, -0.3660714285714286, -0.25, 0.0, -0.3333333333333333, 0.5]</td>\n",
       "      <td>[-0.23511904761904767, 0.0]</td>\n",
       "    </tr>\n",
       "    <tr>\n",
       "      <th>4581</th>\n",
       "      <td>[these items though well made and strong are sized rather differently to national picks with the national i need a large so i ordered large in this item it is however very tight smaller in fact than a national medium thumb pick essentially a waste of money]</td>\n",
       "      <td>[0.06139455782312925]</td>\n",
       "      <td>[0.06139455782312925, 1.0]</td>\n",
       "    </tr>\n",
       "    <tr>\n",
       "      <th>4601</th>\n",
       "      <td>[it ll do for setup work and the price is right, i would not recommend it for live use or for anyone who changes keys every song its too fiddly to adjust and get firmly set, i also would not recommend it for anyone just starting out, a spring clamp type capo would serve better, this one is probably best for somebody who rarely needs to use it and just wants one one hand or to keep in the case as a back up]</td>\n",
       "      <td>[0.2857142857142857, -0.03181818181818183, 0.0, 0.5, 0.375]</td>\n",
       "      <td>[1.1288961038961038, 1.0]</td>\n",
       "    </tr>\n",
       "    <tr>\n",
       "      <th>4603</th>\n",
       "      <td>[i bought the capo for the guys at a correctional facility that i work for, it gets abused so i do not look for it to last long, would not buy it for my own guitar]</td>\n",
       "      <td>[0.0, -0.025, 0.6]</td>\n",
       "      <td>[0.575, 1.0]</td>\n",
       "    </tr>\n",
       "    <tr>\n",
       "      <th>4607</th>\n",
       "      <td>[this string winder is adequate but not really solid, it gives me good use but seems like the materials are to soft, i had to glue the contacts on this thing since it gives way at times, this is just adequate for my use]</td>\n",
       "      <td>[0.16666666666666666, 0.39999999999999997, 0.0, 0.3333333333333333]</td>\n",
       "      <td>[0.8999999999999999, 1.0]</td>\n",
       "    </tr>\n",
       "    <tr>\n",
       "      <th>4611</th>\n",
       "      <td>[it is a nice smaller version of the si road pro it would be great if it had a steel shaft the plastic shaft feels like it will break but it is cheeep]</td>\n",
       "      <td>[0.4666666666666666]</td>\n",
       "      <td>[0.4666666666666666, 1.0]</td>\n",
       "    </tr>\n",
       "    <tr>\n",
       "      <th>4612</th>\n",
       "      <td>[this makes winding strings much faster but it does feel flimsy and the end piece does not fit over my tuing pegs correctly so it has it is a bit of a haslle getting started, other than that it has it is great for the price but not a must have]</td>\n",
       "      <td>[0.0, 0.3375]</td>\n",
       "      <td>[0.3375, 1.0]</td>\n",
       "    </tr>\n",
       "    <tr>\n",
       "      <th>4533</th>\n",
       "      <td>[i heard alot about these stands and finally decided to buy one after my cheapo one fell over with my bass still on it this is a nice looking well designed stand and feels like it can withstand the rigors of constant use, however the th time i took this to a show i expanded it and one of the screws and nuts attaching the back leg to the support bar fell off and i never did fine the missing screw wound up wrapping electrical tape around it to support my bass for the night, i ended up buying some screws and fixing it which was also a pain as the nut needs to be inserted about inches down the pipe and secured so you can thread the screw into it not an easy task, i really expected better quality for after such light use still love it but not to a star level]</td>\n",
       "      <td>[0.11249999999999999, 0.016666666666666663, 0.1388888888888889, 0.26]</td>\n",
       "      <td>[0.5280555555555555, 1.0]</td>\n",
       "    </tr>\n",
       "    <tr>\n",
       "      <th>10255</th>\n",
       "      <td>[i have lots of friends who play these strings, some love them more than any other string and some are like me, they re clearly good strings and i love the way they play and feel on my fingertips but i can not get past the sound, it could just be about how the strings sound on my particular guitars but in any case i am not happy with the sound and that has that is why i have a hard time giving them a solid five star rating i tried these on two separate guitars i play regularly and was not terribly impressed with the sound on either, one is a vintage dreadnought mahogany guitar that normally has excellent tone and is crisp clear and fairly loud, these strings softened the tone which i was not looking to do, they sound okay but nowhere near as good as the martin sps i use to really bring out the best in that guitar i also have a cutaway electric acoustic i use to sing with because it has it is fairly quiet and the softer tones do not drown out my voice, these strings made the guitar even more quiet and there was a considerable drop off in tone quality as well, they might have been cheap old strings because i could not tell that there was anything special about them, this particular guitar did not have spectacular sound to begin with and these strings did nothing to improve it, i like strings to either sound as good as other strings or improve the tone and pull more from the guitar, these strings did neither for me, however they sound just great when the instrument was plugged through an amp based upon my experimentation i would guess that if you have a great sounding guitar and you are not a fanatic about slight drops in tonal quality you shall you will love the way these strings feel and play, i rate them excellent in that category, but for me tone is of the equation, i had i would play wire wrapped rope if it sounded better than regular strings, in the tonal category these strings fell short, on a guitar with excellent tone i noticed a distinct drop in tone quality and on another softer more muted guitar tone quality vanished in the final analysis if you are a picker and your guitar can be plugged in you shall you will love these strings, if you are really into great acoustic tone and your guitar does not have stellar tone to begin with you might gain some playability but you will most likely experience a slight drop in tonal quality]</td>\n",
       "      <td>[0.0, 0.2916666666666667, 0.3375, 0.019444444444444445, 0.32, 0.0, 0.41428571428571426, 0.19999999999999998, 0.28571428571428575, 0.38888888888888884, 0.36875, 0.0, 0.4138888888888889, 1.0, 0.0, 0.25, 0.0, 0.45999999999999996, 0.2638888888888889]</td>\n",
       "      <td>[5.014027777777778, 1.0]</td>\n",
       "    </tr>\n",
       "  </tbody>\n",
       "</table>\n",
       "<p>1239 rows × 3 columns</p>\n",
       "</div>"
      ],
      "text/plain": [
       "                                                                                                                                                                                                                                                                                                                                                                                                                                                                                                                                                                                                                                                                                                                                                                                                                                                                                                                                                                                                                                                                                                                                                                                                                                                                                                                                                                                                                                                                                                                                                                                                                                                                                                                                                                                                                                                                                                                                                                                                                                                                                                                                                                                                                                                                                                                                                                                                                                                                                                                                                                                                                                                                                                                                                                                                                                                                                                                                                                                                                                                                                                                                                                                                                                                                                                                             Processed  \\\n",
       "5494                                                                                                                                                                                                                                                                                                                                                                                                                                                                                                                                                                                                                                                                                                                                                                                                                                                                                                                                                                                                                                                                                                                                                                                                                                                                                                                                                                                                                                                                                                                                                                                                                                                                                                                                                                                                                                                                                                                                                                                                                                                                                                                                                                                                                                                                                                                                                                                                                                                                                                                                                                                                                                                                                                                                                                                 [it sounds very artificial i remember first getting this pedal and really loving the sound and kick it had now that i use it with a better amp it sounds very processed and artificial in sound that it has it is not even worth the price i payed for it before, i also had bought another one to replace the first one because the input section jack got messed up in the amp that it did not want to lock with my guitar cable and when i took it apart there was no way for me to fix it other than sending it to be replaced, shitty pedal]   \n",
       "3792                                                                                                                                                                                                                                                                                                                                                                                                                                                                                                                                                                                                                                                                                                                                                                                                                                                                                                                                                                                                                                                                                                                                                                                                                                                                                                                                                                                                                                                                                                                                                                                                                                                                                                                                                                                                                                                                                                                                                                                                                                                                                                                                                                                                                                                                                                                                                                                                                                                                                                                                                                                                                                                                                                                                                                                                                                                                                                                                                                    [i bought this because hey a wireless mic for, why not, i might be able to use this in a public address system the connections all work and it makes sounds but the static is unbearable no matter how much i fiddle with different the adjustment screw in the receiver nothing works, the audio is always clipped, don t even think of using this for music]   \n",
       "6090                                                                                                                                                                                                                                                                                                                                                                                                                                                                                                                                                                                                                                                                                                                                                                                                                                                                                                                                                                                                                                                                                                                                                                                                                                                                                                                                                                                                                                                                                                                                                                                                                                                                                                                                                                                                                                                                                                                                                                                                                                                                                                                                                                                                                                                                                                                                                                                                                                                                                                                                                                                                                                                                                                                                                                                                                                                                                                             [in an attempt to see what has what is new in the pick industry i decided to dive in and give these a go, they are way too flimsy if like me you use a heavier pick, i have always used dunlop tortex greens and these davas just can not compete, not only were they too flimsy but when i played with any aggression heavy rock based material the picks would fly out of my hands, this was a huge disappointment]   \n",
       "3748                                                                                                                                                                                                                                                                                                                                                                                                                                                                                                                                                                                                                                                                                                                                                                                                                                                                                                                                                                                                                                                                                                                                                                                                                                                                                                                                                                                                                                                                                                                                                                                                                                                                                                                                                                                                                                                                                                                                                                                                                                                                                                                                                                                                                                                                                                                                                                                                                                                                                                                                                                                                                                                                                                                                                                                                                                                                                                                                                                                  [hard to believe this was so bad, i have a planet waves locking guitar strap which is a dream and thought this would allow me to lock a regular strap, however it is so thick that it can not really fit on a regular guitar strap pin with a strap and when i tried to lock it the two pieces came apart, go with the planet waves lock straps]   \n",
       "6077                                                                                                                                                                                                                                                                                                                                                                                                                                                                                                                                                                                                                                                                                                                                                                                                                                                                                                                                                                                                                                                                                                                                                                                                                                                                                                                                                                                                                                                                                                                                                                                                                                                                                                                                                                                                                                                                                                                                                                                                                                                                                                                                                                                                                                                                                                                                                                                                                                                                                                                                                                                                                                                      [sound nice but very unreliable bx a deluxe i own a pair of yamaha ns s and event s and they are all currently working without problems with over years use years ago i purchased a set of regular bx a s and they lasted about years and then the faulty capacitors leaked i just replaced them with the bx a deluxe model and after only one week, one of the internal amps will no longer power up i need a pair of affordable av shielded monitors that i can depend on and these cheap m audio monitors are not it i am back to using my s with slight av noise until i find a decent av shielded monitor m audio was a much better company before avid took them over]   \n",
       "3746                                                                                                                                                                                                                                                                                                                                                                                                                                                                                                                                                                                                                                                                                                                                                                                                                                                                                                                                                                                                                                                                                                                                                                                                                                                                                                                                                                                                                                                                                                                                                                                                                                                                                                                                                                                                                                                                                                                                                                                                                                                                                                                                                                                                                                                                                                                                                                                                                                                                                           [i even called dunlop to see if these lok strap systems would work for an electric acoustic, the guy at dunlop told me oh yes they have been specifically designed to work with electric acoustic, that is not the case, i purchased multiple units and it will cost me more to return to amazon than it has it is worth, but basically i know have hunks of plastic that i could use to make a sculpture because of the bottom pin being the plug in for electric pick up the thickness causes a problem and this plastic do hickey will not fit if anyone out there has a solution for securing the strap please reply to this feedback what really frosts me is that i called dunlop and apparently their customer service folks do not know their products well enough to be recommending product, it s called train your people, ]   \n",
       "1870                                                                                                                                                                                                                                                                                                                                                                                                                                                                                                                                                                                                                                                                                                                                                                                                                                                                                                                                                                                                                                                                                                                                                                                                                                                                                                                                                                                                                                                                                                                                                                                                                                                                                                                                                                                                                                                                                                                                                                                                                                                                                                                                                                                                                                                                                                                                                                                                                                             [i have used three pop filters in my experiences with home recording and podcasting, this one is the worst, the plastic screw yes plastic that is meant to grip the pole that you attach the pop filter to is completely incapable of supporting it has it is own weight at nearly any angle, bad just bad secondly there is a metal piece that secures the flex arm to the clamp, it seemed loose after i got it out of the packaging and the flex arm would wobble and rotate in that spot causing a major problem when it came to proper placement, after twisting on it twice i stripped it out, now the thing is worthless, i am returning it asap i would rather go to a lady s bag flea market sale with a crazy woman for a day than continue to put up with this thing, do yourself a huge favor and buy the nady pop filter, if you do not you shall you will wish you did]   \n",
       "6072                                                                                                                                                                                                                                                                                                                                                                                                                                                                                                                                                                                                                                                                                                                                                                                                                                                                                                                                                                                                                                                                                                                                                                                                                                                                                                                                                                                                                                                                                                                                                                                                                                                                                                                                                                                                                                                                                                                                                                                                                                                                                                                                                                                                                                                                                                                                                                                                                                                                                                                      [these speakers worked great for months, last week one of them would not power up all the way, the problem is getting worse every time i try to use them and it has it is just a matter of time before it stops working, it seems there is a problem with the capacitors that i did read about in a few reviews, i took a chance on the monitors anyway and it was a huge mistake, i only use them between and hours per week, i contacted m audio s online support system and was given addresses to two electronics repair shops, one on the east coast and one on be west coast, i have since found many complaints about this same issue all over the internet and on the m audio support site, m audio does not stand behind their products and i shall i will never purchase anything from them again]   \n",
       "7083                                                                                                                                                                                                                                                                                                                                                                                                                                                                                                                                                                                                                                                                                                                                                                                                                                                                                                                                                                                                                                                                                                                                                                                                                                                                                                                                                                                                                                                                                                                                                                                                                                                                                                                                                                                                                                                                                                                                                                                                                                                                                                                                                                                                                                                                                                                                                                                                                                                                                                                                                                                                                                                                                                                                                                                                                                                                                                                                                                                                                   [these types of pedals are toys, they are a cheap way for a beginner to have effects to play with, by all means if you are buying it for your kid who just started playing, if not i recommend slowly building your pedal collection and use the money to get decent pedal whether it is a delay or distortion]   \n",
       "3743                                                                                                                                                                                                                                                                                                                                                                                                                                                                                                                                                                                                                                                                                                                                                                                                                                                                                                                                                                                                                                                                                                                                                                                                                                                                                                                                                                                                                                                                                                                                                                                                                                                                                                                                                                                                                                                                                                                                                                                                                                                                                                                                                                                                                                                                                                                                                                                                                                                                                                                                                                                                                                                                                                                                                                                                                                                                                                                                                                                                                                                                                                                                                                                                               [they only fit if you have enough room in your strap button if not they will just pop right out, i threw mine away]   \n",
       "1880                                                                                                                                                                                                                                                                                                                                                                                                                                                                                                                                                                                                                                                                                                                                                                                                                                                                                                                                                                                                                                                                                                                                                                                                                                                                                                                                                                                                                                                                                                                                                                                                                                                                                                                                                                                                                                                                                                                                                                                                                                                                                                                                                                                                                                                                                                                                                                                                                                                                                                                                                                                                                                                                                                                                                                                                                                                                                                                                                                                                                                                                                  [its poorly made with attention to detail, i ordered them to fit on my dual mic clamp purchased here at amazon, but they will not screw down all the way and are losse, it is useless, other mic holders from different manufacturers work fine]   \n",
       "7085                                                                                                                                                                                                                                                                                                                                                                                                                                                                                                                                                                                                                                                                                                                                                                                                                                                                                                                                                                                                                                                                                                                                                                                                                                                                                                                                                                                                                                                                                                                                                                                                                                                                                                                                                                                                                                                                                                                                                                                                                                                                                                                                                                                                                                                                                                                                                                                                                                                                                                                                                                                                                                                                                                                                                                                                                                                                                                                            [i had a friend with one of these and he loves it, i got one on his recommendation and when i put the batteries in it it started smoking, it did work for awhile, i pulled the batteries out and tried to ac adapter and it smoked again this time it did not work, i am one of those people who gives an item one try and if it does not work holds a grudge, i would not advise anybody to get this]   \n",
       "1918                                                                                                                                                                                                                                                                                                                                                                                                                                                                                                                                                                                                                                                                                                                                                                                                                                                                                                                                                                                                                                                                                                                                                                                                                                                                                                                                                                                                                                                                                                                                                                                                                                                                                                                                                                                                                                                                                                                                                                                                                                                                                                                                                                                                                                                                                                                                                                                                                                                                                                                                                                                                                                                                                                                                                                                                                                                                                                                                                                                                                                                                                                                                                                           [just assembly for a try only few rolls with music it has it is had some hole on head that has that is mean bad quality, buyer beware for this kind of]   \n",
       "6040                                                                                                                                                                                                                                                                                                                                                                                                                                                                                                                                                                                                                                                                                                                                                                                                                                                                                                                                                                                                                                                                                                                                                                                                                                                                                                                                                                                                                                                                                                                                                                                                                                                                                                                                                                                                                                                                                                                                                                                                                                                                                                                                                                                                                                                                                                                                                                                                                                                                                                                                                                                                                                                                                                                                                                                                                                                                                                                                                                                                                                                                                                                                                                            [doesn t reduce sound worth a darn, i thought plugging the sound hole would muffle things, muddies it up a bit maybe but not really a reduction in db]   \n",
       "9286                                                                                                                                                                                                                                                                                                                                                                                                                                                                                                                                                                                                                                                                                                                                                                                                                                                                                                                                                                                                                                                                                                                                                                                                                                                                                                                                                                                                                                                                                                                                                                                                                                                                                                                                                                                                                                                                                                                                                                                                                                                                                                                                                                                                                                                                                                                                                                                                                                                                                                                                                                                                                                                                                                                                                                                                                                                                                                                                                                                                                                                                     [years playingmy pedal is unuseablethe lower strings are all mush at any gain or eq settingread all the good reviews and watched all the videosmine sounds nothing like themmaybe defectivei also own the joyo british and joyo crunch and they are flawless]   \n",
       "9170                                                                                                                                                                                                                                                                                                                                                                                                                                                                                                                                                                                                                                                                                                                                                                                                                                                                                                                                                                                                                                                                                                                                                                                                                                                                                                                                                                                                                                                                                                                                                                                                                                                                                                                                                                                                                                                                                                                                                                                                                                                                                                                                                                                                                                                                                                                                                                                                                                                                                                                                                                                                                                                                                                                                                                                                                                                                                                                                                                                                                            [the device itself is difficult to read in bright light my first one arrived not working at all the second one arrived with a low battery, what, after three days the battery goes out i would have returned it but lost it because it does not adhere to the headstock very well, you ve been warned]   \n",
       "3708                                                                                                                                                                                                                                                                                                                                                                                                                                                                                                                                                                                                                                                                                                                                                                                                                                                                                                                                                                                                                                                                                                                                                                                                                                                                                                                                                                                                                                                                                                                                                                                                                                                                                                                                                                                                                                                                                                                                                                                                                                                                                                                                                                                                                                                                                                                                                                                                                                                                                                                                                                                                                                                                                                                                                                                                                                                                                                                                  [this arrived with one end of the security strap and metal part broken, ok i bought it on sale and returning it would not be an option it would cost as much to mail back as it did to buy it obviously it was not the packaging which was more than adequate and there were no broken off pieces in the box of course i could not recommend this product to anyone most disappointing purchase]   \n",
       "2071                                                                                                                                                                                                                                                                                                                                                                                                                                                                                                                                                                                                                                                                                                                                                                                                                                                                                                                                                                                                                                                                                                                                                                                                                                                                                                                                                                                                                                                                                                                                                                                                                                                                                                                                                                                                                                                                                                                                                                                                                                                                                                                                                                                                                                                                                                                                                                                                                                                                                                                                                                                                                                                                                                                                                                                                                             [crap these strings are bad do not buy them if you play any kind of harder music or do a lot of string bends unless you like having strings almost take out your eyes then by all means buy em errrrr i always buy ernie balls but i got cheap and tryed to save a few buck and buy packs of these hunks of crap for under bucks i should have spent the extra bucks and got the pack of ernies i did not even get a week out of them and they were rusted and poppin off left and right never again]   \n",
       "3693                                                                                                                                                                                                                                                                                                                                                                                                                                                                                                                                                                                                                                                                                                                                                                                                                                                                                                                                                                                                                                                                                                                                                                                                                                                                                                                                                                                                                                                                                                                                                                                                                                                                                                                                                                                                                                                                                                                                                                                                                                                                                                                                                                                                                                                                                                                                                                                                                                                                                                                                                                                                                                                                                                                                                                                                                                                                                                                                                                                                                                                            [i am another reviewer who has upon personal inspection discovered that the rear leg of the stand is too short to provide staedy support for any beloved guitar, i returned it i have first act brand stands similar in appearance but more intelligently constructed]   \n",
       "6024                                                                                                                                                                                                                                                                                                                                                                                                                                                                                                                                                                                                                                                                                                                                                                                                                                                                                                                                                                                                                                                                                                                                                                                                                                                                                                                                                                                                                                                                                                                                                                                                                                                                                                                                                                                                                                                                                                                                                                                                                                                                                                                                                                                                                                                                                                                                                                                                                                                                                                                                                                                                                                                                                                                                                                                                                                                                                                                     [as i have heard with the pyle pro amps i received mine today and it was defective, only one channel worked and it definitely looked like it took a beating before it arrived at my doorstep, the packaging was very good though so i am thinking this looks like a refurb used and they listed it as new, already printed the return shipping label and it will head back to the amazon warehouse on monday]   \n",
       "8493   [my review s for this have changed a few times but no more, when i first got it i liked the sound though it did sound a little cold and digital and this is from someone wanting to record shoegaze dreampop which by it has it is nature is full of cold tones reverb chorus delay shimmering a la cocteau twins chapterhouse lush so at first i thought it was great, then the fuse software was even cooler all this customizing the sound though it did sound noisy and needed the compressor to take some of the noise away after all of that i finally realized i was trying to ignore the fizz crackle hair it has it is called a few things, go to the fender forums and look it up or search it on yahoo google the thing happening with this amp i think is a few things, fender guitars sound best through it which is silly if you do not own a fender and i do not and refuse to get a squire as that body is so played out i wanted anything but a strat body unless i have a grand to pay for an older one i am not going to get a rinky dink one and i would only get one after i got like other dream guitars first so everyone has different problems with pickup quality and guitar quality, also playing into a modeling amp is like playing into a computer that may be fine for some younger folks but to a lot of people i have read the complaints i was trying not to realize as i did not feel like having to pay for shipping to return it but i did and i am so glad i did, i almost got a peavey vypyr and i am glad i did not, this amp to be fair is really close to being really cool but that sound problem which i read on fender s own forum website fender acknowledges it exists but does nothing to fix it in future models, sorry but that has that is some big company b s i have been reading of people saying it sounds cold and lifeless and all that and tube this and tube that and i was like what music snobs and what have you, but i realized that i am a music snob, i love the music i listen to more than anything and feel like the music i create should have a life to it as well, so i returned the mustang and almost got a marshall mg watt cause i wanted an amp with a clean sound that did not have that crackle sound but thankfully i caught myself before that return as after that it would have been final the decision i did make i think will be great for me as i had i would rather start with a good real tone then get the effects i need, i kept reading reviews of these teenagers that had not played for more than a year or two or so saying throw away your pedals you will not need them and i was going to get pedals but do not need to now that has that is kind of the danger of these amps they end up making everyone sound the same, no matter what tweaking i was doing on the mustang it sounded the same but in a different costume i think this amp and modeling amps are best for beginning guitarists and i have seen some old timers getting an amp for home use after years maybe that has that is for them but i needed something to record with and practice and get the best most real tone possible so that means tube amp i think if i played this at a gc i would not of gotten it and i just tried to make myself like it]   \n",
       "5999                                                                                                                                                                                                                                                                                                                                                                                                                                                                                                                                                                                                                                                                                                                                                                                                                                                                                                                                                                                                                                                                                                                                                                                                                                                                                                                                                                                                                                                                                                                                                                                                                                                                                                                                                                                                                                                                                                                                                                                                                                                                                                                                                                                                                                                                                                                                                                                                                                                                                                                                                                                                                                                                                                                                                                                                                                                                                                                                                                                                                                                      [the cable hisses crackles and pops right out of the package, save your money and buy a better cable, i will buy cables locally from now on so i can easily return them if they are defective, i would definitely not buy this product again or recommend it to anyone else]   \n",
       "2234                                                                                                                                                                                                                                                                                                                                                                                                                                                                                                                                                                                                                                                                                                                                                                                                                                                                                                                                                                                                                                                                                                                                                                                                                                                                                                                                                                                                                                                                                                                                                                                                                                                                                                                                                                                                                                                                                                                                                                                                                                                                                                                                                                                                                                                                                                                                                                                                                                                                                                                                                                                                                                                                                                                                                                                                                                                                                                                                                                                                                                                                                                                                                                                                      [this piece of plastic is just terrible, you had you would be better off with a couple of books and a towel not recommended]   \n",
       "8518                                                                                                                                                                                                                                                                                                                                                                                                                                                                                                                                                                                                                                                                                                                                                                                                                                                                                                                                                                                                                                                                                                                                                                                                                                                                                                                                                                                                                                                                                                                                                                                                                                                                                                                                                                                                                                                                                                                                                                                                                                                                                                                                                                                                                                                                                                                                                                                                                                                                                                                                                                                                                                                                                                                                      [works as advertised but the keys are stiff, pads take too much presure to activate, nice that i dont need another interface to connect it to my laptop after the first few uses the usb socket broke and fell off into the unit rendering it useless, wrote to dealer that was listed as selling it to me thru amazon only to have them tell me the wrong seller was listed, i had registered it with akai already so i complained to them and they sent me a new one, i had to pay shipping back the old one to them even though it was a defective product not recommending this product]   \n",
       "5605                                                                                                                                                                                                                                                                                                                                                                                                                                                                                                                                                                                                                                                                                                                                                                                                                                                                                                                                                                                                                                                                                                                                                                                                                                                                                                                                                                                                                                                                                                                                                                                                                                                                                                                                                                                                                                                                                                                                                                                                                                                                                                                                                                                                                                                                                                                                                                                                                                                                                                                                                                                                                                                                                                                                                                           [it was not what i wanted, when a person has a low income we can not afford what we can not use, i was looking for what is called shimmer most reverbs do not have shimmer as the rv because digitech called shimmer string swell and volume swell is linked to the violin sound it cost me its called slow motion for a reason because it has to be played slow to hear the effect the only way to hear it is with over drive being played on the high strings, it might be good for playing with a bow i have no idea because i can not afford a bow]   \n",
       "8520                                                                                                                                                                                                                                                                                                                                                                                                                                                                                                                                                                                                                                                                                                                                                                                                                                                                                                                                                                                                                                                                                                                                                                                                                                                                                                                                                                                                                                                                                                                                                                                                                                                                                                                                                                                                                                                                                                                                                                                                                                                                                                                                                                                                                                                                                                                                                                                                                                                                                                                                                                                                                                                                                                                                                                                                                                                                                                                                                                                                                                                                                                                                                              [this unit might be great if you have child hands the keys on the keyboard is soooo small don t get this if you have man hands, wtf u date the description akai wtf]   \n",
       "2251                                                                                                                                                                                                                                                                                                                                                                                                                                                                                                                                                                                                                                                                                                                                                                                                                                                                                                                                                                                                                                                                                                                                                                                                                                                                                                                                                                                                                                                                                                                                                                                                                                                                                                                                                                                                                                                                                                                                                                                                                                                                                                                                                                                                                                                                                                                                                                                                                                                                                                                                                                                                                                                                                                                                                                                                                                                                                                                                                                                                                                                                          [go build your own, build it to your specs and have a solid stand, if not you can find a lot better head stands, this one was a huge disappointment, does not do what it says and can get you frustrated quick, im back with my wood block and am happy]   \n",
       "9082                                                                                                                                                                                                                                                                                                                                                                                                                                                                                                                                                                                                                                                                                                                                                                                                                                                                                                                                                                                                                                                                                                                                                                                                                                                                                                                                                                                                                                                                                                                                                                                                                                                                                                                                                                                                                                                                                                                                                                                                                                                                                                                                                                                                                                                                                                                                                                                                                                                                                                                                                                                                                                                                                                                                                            [it was almost obvious this product would come from china but even worse when it ships from china, any thing i have bought that was shipped directly from china has been much lower quality than anything retailers are even willing to sell, if you can wait a month for delivery or longer if you dont mind your guitar falling off the wall when the chinese quality lives up to its reputation then order up, if you have over a guitar be wise and buy an expensive one unfortunately they will most likely be made in china too, i have decided to build my own]   \n",
       "2308                                                                                                                                                                                                                                                                                                                                                                                                                                                                                                                                                                                                                                                                                                                                                                                                                                                                                                                                                                                                                                                                                                                                                                                                                                                                                                                                                                                                                                                                                                                                                                                                                                                                                                                                                                                                                                                                                                                                                                                                                                                                                                                                                                                                                                                                                                                                                                                                                                                                                                                                                                                                                                                                                                                                                                                                                                                                                                                                                                                                                                                                                                                             [i might have done something wrong i read in a review that these hold six picks it held three real well but on the fourth insert the thing just fell apart i shall i will just keep using my pockets]   \n",
       "6031                                                                                                                                                                                                                                                                                                                                                                                                                                                                                                                                                                                                                                                                                                                                                                                                                                                                                                                                                                                                                                                                                                                                                                                                                                                                                                                                                                                                                                                                                                                                                                                                                                                                                                                                                                                                                                                                                                                                                                                                                                                                                                                                                                                                                                                                                                                                                                                                                                                                                                                                                                                                                                                                                                                                                                                                                                                                                                                                                                                                                                                                                                                           [this cover does not fit a full size acoustic electric hohner guitar, i measured the whole at but this cover does not even come close to fitting, it measures in diameter so check your guitar closely]   \n",
       "...                                                                                                                                                                                                                                                                                                                                                                                                                                                                                                                                                                                                                                                                                                                                                                                                                                                                                                                                                                                                                                                                                                                                                                                                                                                                                                                                                                                                                                                                                                                                                                                                                                                                                                                                                                                                                                                                                                                                                                                                                                                                                                                                                                                                                                                                                                                                                                                                                                                                                                                                                                                                                                                                                                                                                                                                                                                                                                                                                                                                                                                                                                                                                                                                                                                                                                                                ...   \n",
       "4698                                                                                                                                                                                                                                                                                                                                                                                                                                                                                                                                                                                                                                                                                                                                                                                                                                                                                                                                                                                                                                                                                                                                                                                                                                                                                                                                                                                                                                                                                                                                                                                                                                                                                                                                                                                                                                                                                                                                                                                                                                                                                                                                                                                                                                                                                                                                                                                                                                                                                                                                                                                                                                                                                                                                                                                                                                                                                                                                                                                                                                                                                                                                   [the harmonica barely fits the holder and there is no adjustment for distance from the mouth to the harmonica, i can not get the harmonica adjusted close enough to play it unless i modify it]   \n",
       "4684                                                                                                                                                                                                                                                                                                                                                                                                                                                                                                                                                                                                                                                                                                                                                                                                                                                                                                                                                                                                                                                                                                                                                                                                                                                                                                                                                                                                                                                                                                                                                                                                                                                                                                                                                                                                                                                                                                                                                                                                                                                                                                                                                                                                                                                                                                                                                                                                                                                                                                                                                                                                                                                                                                                                                                                                                                                                                                                                                                                                            [not your fender quality strap, this is a cheap extremely low quality strap, i have had it for a few months and my guitar has not fallen yet but i can see the wear on the end it has it is almost at breaking point, i would not recommend it, it s ok as an emergency strap or to get you out of a jam nothing else]   \n",
       "4343                                                                                                                                                                                                                                                                                                                                                                                                                                                                                                                                                                                                                                                                                                                                                                                                                                                                                                                                                                                                                                                                                                                                                                                                                                                                                                                                                                                                                                                                                                                                                                                                                                                                                                                                                                                                                                                                                                                                                                                                                                                                                                                                                                                                                                                                                                                                                                                                                                                                                                                                                                                                                                                                                                                                                                                                       [i am sure this is not the best echo pedal or even in the top but it serves it has it is purpose fairly well, stacking with other cheap danelectro pedals will degrade your tone but it is not something that most of us can not live with, for us it has it is worth taking the risk imhoupdate the pedal gave up the ghost died in a relatively short amount of time, i replaced it with mini modtone type delay i actually like the dano sound better but the modtone will do for a slapback and it is built way better]   \n",
       "4348                                                                                                                                                                                                                                                                                                                                                                                                                                                                                                                                                                                                                                                                                                                                                                                                                                                                                                                                                                                                                                                                                                                                                                                                                                                                                                                                                                                                                                                                                                                                                                                                                                                                                                                                                                                                                                                                                                                                                                                                                                                                                                                                                                                                                                                                                                                                                                                                                                                                                                                                                                                                                                                                                                                                                                                                                                                                                                                                                                                                                                                                                                                                                                                          [good price for effect if your looking for a bit of echo then this is for you, i have amps that have this feature that due a better job]   \n",
       "4373                                                                                                                                                                                                                                                                                                                                                                                                                                                                                                                                                                                                                                                                                                                                                                                                                                                                                                                                                                                                                                                                                                                                                                                                                                                                                                                                                                                                                                                                                                                                                                                                                                                                                                                                                                                                                                                                                                                                                                                                                                                                                                                                                                                                                                                                                                                                                                                                                                                                                                                                                                                                                                                                                                                                                                                                                                                                                                                                                                                                                                                                                                                                                                                       [the effect it self is fine but it is too noisy even though u do not dime it for the price and for this product it is u get what u pay for]   \n",
       "4384                                                                                                                                                                                                                                                                                                                                                                                                                                                                                                                                                                                                                                                                                                                                                                                                                                                                                                                                                                                                                                                                                                                                                                                                                                                                                                                                                                                                                                                                                                                                                                                                                                                                                                                                                                                                                                                                                                                                                                                                                                                                                                                                                                                                                                                                                                                                                                                                                                                                                                                                                                                                                                                                                                                                                                                                                                                                                                                                                                                                                                                                                         [its sound pretty good i mean the range rate arent as broad as others i ve tried but i stomp on it regularly it cuts my signal a bit so i compensate an always leave a bit of extra volume in the bank to make it up all in all worth it]   \n",
       "4388                                                                                                                                                                                                                                                                                                                                                                                                                                                                                                                                                                                                                                                                                                                                                                                                                                                                                                                                                                                                                                                                                                                                                                                                                                                                                                                                                                                                                                                                                                                                                                                                                                                                                                                                                                                                                                                                                                                                                                                                                                                                                                                                                                                                                                                                                                                                                                                                                                                          [guardian, well it is padded but i have only gigged once since having the item with rehearsals held prior and i can say that the case is nicked up pretty good as they say in the south, yes it will last because it is a guitar case but there has there is no way there has there is enough security to protect an instrument on a plane, now that has that is for flight cases to handle but do not even come near abusing your instrument while it is housed inside this case because you may be disappointed to have to buy new parts once the guardian fails to guard against crushing your hardware, this item is not one of the better cases out there but it does suffice and it does look good, the first day i got it someone said nice case it looks great, say that now though after using it outside the house times and you had you would be a lying sob]   \n",
       "4389                                                                                                                                                                                                                                                                                                                                                                                                                                                                                                                                                                                                                                                                                                                                                                                                                                                                                                                                                                                                                                                                                                                                                                                                                                                                                                                                                                                                                                                                                                                                                                                                                                                                                                                                                                                                                                                                                                                                                                                                                                                                                                                                                                                                                                                                                                          [this is a typical inexpensive hardshell guitar case made in china, i bought it to replace the original chipboard case for a gibson es archtop, lower bout is wide upper bout is wide body is long and it has it is about deep at the bridge, fits very snugly in this case which is what i was hoping for, the case is about longer than the top of the headstock but i did not expect an exact fit, the wood shell is thin so do not drop anything on it but it is also lighter than a lot of other cases, normal plush fake fur inside with about of soft foam all around, black tolex on the outside is thin but looks okay, this is not a case to take on the road or if you travel by air but it is adequate for casual use, only annoying thing the case arrived locked, the keys were of course inside the case, dumb, a friend at a music store used a key from another guardian case to unlock it, a good reminder that the case latch lock is to keep the latch from popping open and not to keep crooks out]   \n",
       "4403                                                                                                                                                                                                                                                                                                                                                                                                                                                                                                                                                                                                                                                                                                                                                                                                                                                                                                                                                                                                                                                                                                                                                                                                                                                                                                                                                                                                                                                                                                                                                                                                                                                                                                                                                                                                                                                                                                                                                                                                                                                                                                                                                                                                                                                                                                                                                                                                                                                                                                                                                                                                                                                                                                                                                                                                                                                                                                                                                                                                                                                                                                                                                                             [i like this product but wish it had a wider foot or base to it for carpeted areas it does get a little unstable on carpet, does fine on hard floors]   \n",
       "4411                                                                                                                                                                                                                                                                                                                                                                                                                                                                                                                                                                                                                                                                                                                                                                                                                                                                                                                                                                                                                                                                                                                                                                                                                                                                                                                                                                                                                                                                                                                                                                                                                                                                                                                                                                                                                                                                                                                                                                                                                                                                                                                                                                                                                                                                                                                                                                                                                                                                                                                                                                                                                                                                                                                                                                                                                                                                                                                                                                                                                                                                                                                                   [simple and useful rack stand, easy to assemble, easy to mount rack components but the rubber leg terminals are easy to lose too, a little more interest in the manufacture means more quality]   \n",
       "4443                                                                                                                                                                                                                                                                                                                                                                                                                                                                                                                                                                                                                                                                                                                                                                                                                                                                                                                                                                                                                                                                                                                                                                                                                                                                                                                                                                                                                                                                                                                                                                                                                                                                                                                                                                                                                                                                                                                                                                                                                                                                                                                                                                                                                                                                                                                                                                                                                                                                                                                                                                                                                                                                                                                                                                                                                                                                                                                                                                                                                                                [i like this preamp, i use one channel for microphone and the other for an electric guitar with good results is very sadly and spendthrift that its useful life will be the duration of its tube another concept of producci oacute n nothing considered with consumer and planet]   \n",
       "4444                                                                                                                                                                                                                                                                                                                                                                                                                                                                                                                                                                                                                                                                                                                                                                                                                                                                                                                                                                                                                                                                                                                                                                                                                                                                                                                                                                                                                                                                                                                                                                                                                                                                                                                                                                                                                                                                                                                                                                                                                                                                                                                                                                                                                                                                                                                                                                                                                                                                                                                                                                                                                                                                                                                                                                                                                                                                                                                    [don t like that it has it is difficult to change the tube, sound quality was not what i expected maybe because i was not familiar with the settings, no power cord was included in mine or manual, manual should have been include not sure about the cord, dials are very small, my mic and mic are much better than this, i can not say it has it is bad, just that there are better choices in my opinion]   \n",
       "4467                                                                                                                                                                                                                                                                                                                                                                                                                                                                                                                                                                                                                                                                                                                                                                                                                                                                                                                                                                                                                                                                                                                                                                                                                                                                                                                                                                                                                                                                                                                                                                                                                                                                                                                                                                                                                                                                                                                                                                                                                                                                                                                                                                                                                                                                                                                                                                                                                                                                                                                                                                                                                                                                                                                                                                                                                                                                                                                                                                                                                                                                                                                          [the knobs seem very easy to over tighten i have not done it yet but i am planning on treating this stand with the utmost care so as not to have any surprises when i put my expensive pa speaker on it]   \n",
       "4502                                                                                                                                                                                                                                                                                                                                                                                                                                                                                                                                                                                                                                                                                                                                                                                                                                                                                                                                                                                                                                                                                                                                                                                                                                                                                                                                                                                                                                                                                                                                                                                                                                                                                                                                                                                                                                                                                                                                                                                                                                                                                                                                                                                                                                                                                                                                                                                                                                                                                                                                                                                                                                                                                                                                                                                                                                                                                                                                                                                                                                                                                                                                                                               [these picks break way too easy, i only play a few times a week but they dont seem to last long when playing for more than a few hours at the time]   \n",
       "4685                                                                                                                                                                                                                                                                                                                                                                                                                                                                                                                                                                                                                                                                                                                                                                                                                                                                                                                                                                                                                                                                                                                                                                                                                                                                                                                                                                                                                                                                                                                                                                                                                                                                                                                                                                                                                                                                                                                                                                                                                                                                                                                                                                                                                                                                                                                                                                                                                                                                                                                                                                                                                                                                                                                         [i decided to get this tweed strap for my s telecaster classic but when it arrived i was a bit let down, the tweed finish is cool enough but the strap is very thin and the strap ends are pretty poor quality, if they truly are made of leather i feel sorry for the hide they came from, the leather is so hard you almost need fingers of steel to get the eyelets spread far enough apart to get them around the guitar strap locks this is decent for the time being but i am definitely going to keep my eye out for something more suitable to my guitar, feels like wearing a casio with a suit]   \n",
       "4509                                                                                                                                                                                                                                                                                                                                                                                                                                                                                                                                                                                                                                                                                                                                                                                                                                                                                                                                                                                                                                                                                                                                                                                                                                                                                                                                                                                                                                                                                                                                                                                                                                                                                                                                                                                                                                                                                                                                                                                                                                                                                                                                                                                                                                                                                                                                                                                                                                                                                                                                                                                                                                                                                                                                                                                                                                                                                                                                                                                                                                                         [even though i ordered large still not fitting will do a little homework to try to get this reemed out a little more to fit i do not have giant hands so large should fit but not this very well made heavy if thats what your looking for arrived on time but good luck]   \n",
       "4543                                                                                                                                                                                                                                                                                                                                                                                                                                                                                                                                                                                                                                                                                                                                                                                                                                                                                                                                                                                                                                                                                                                                                                                                                                                                                                                                                                                                                                                                                                                                                                                                                                                                                                                                                                                                                                                                                                                                                                                                                                                                                                                                                                                                                                                                                                                                                                                                                                                                                                                                                                                                                                                                                                                                                                                                                                                                                                                                                                                                                                                                                                                                                                                                                                   [i have never bought strings before so it is kind of hard for me to rate these, so far so good]   \n",
       "4558                                                                                                                                                                                                                                                                                                                                                                                                                                                                                                                                                                                                                                                                                                                                                                                                                                                                                                                                                                                                                                                                                                                                                                                                                                                                                                                                                                                                                                                                                                                                                                                                                                                                                                                                                                                                                                                                                                                                                                                                                                                                                                                                                                                                                                                                                                                                                                                                                                                                                                                                                                                                                                                                                                                                                                                                                                                                                                                                                                                                                                                                                              [i did purchase diferent slides this one is mark as a medium but is diferent size from the other one s what i ordered, perhaps is good for some one with small wrong size, this is why i give only stars because is to small for me]   \n",
       "4569                                                                                                                                                                                                                                                                                                                                                                                                                                                                                                                                                                                                                                                                                                                                                                                                                                                                                                                                                                                                                                                                                                                                                                                                                                                                                                                                                                                                                                                                                                                                                                                                                                                                                                                                                                                                                                                                                                                                                                                                                                                                                                                                                                                                                                                                                                                                                                                                                                                                                                                                                                                                                                                                                                                                                                                                                                                                                                                                                                                                                                                                                                                                                                                                                         [i like them but i love the schaller locks more, they do not feel as secure as the schaller locks, sorry]   \n",
       "4575                                                                                                                                                                                                                                                                                                                                                                                                                                                                                                                                                                                                                                                                                                                                                                                                                                                                                                                                                                                                                                                                                                                                                                                                                                                                                                                                                                                                                                                                                                                                                                                                                                                                                                                                                                                                                                                                                                                                                                                                                                                                                                                                                                                                                                                                                                                                                                                                                                                                                                                                                                                                                                                                                                                                                                                                                                                                                                                                                                                                                                                                                                                                                                                                               [a bit invasive and awkward, i like another brand more because they feel a little more solid these feel a bit weak]   \n",
       "4577                                                                                                                                                                                                                                                                                                                                                                                                                                                                                                                                                                                                                                                                                                                                                                                                                                                                                                                                                                                                                                                                                                                                                                                                                                                                                                                                                                                                                                                                                                                                                                                                                                                                                                                                                                                                                                                                                                                                                                                                                                                                                                                                                                                                                                                                                                                                                                                                                                                                                                                                                                                                                                                                                           [i just got these in and i have to say very disappointed, it s as if i went into a boy s shop and bought a large shirt and expected it to fit a man, what do they call medium or small, this large pick barely goes over my thumbnail area, i can hold it sort of so we will see how well it works with my hybrid plectrum project, btw i am an average grown man more to come here we go a few months later i just had a chat with a music store guy and found out that a large thumb pick refers to the thickness of the pick, bottom line if you want a thumb pick that fits go to a store and try before you buy, good luck to all]   \n",
       "4580                                                                                                                                                                                                                                                                                                                                                                                                                                                                                                                                                                                                                                                                                                                                                                                                                                                                                                                                                                                                                                                                                                                                                                                                                                                                                                                                                                                                                                                                                                                                                                                                                                                                                                                                                                                                                                                                                                                                                                                                                                                                                                                                                                                                                                                                                                                                                                                                                                                                                                                                                                                                                                                                                                                                                                                                                            [i wear a large sized glove so assuming that would translate i got these, while i can force it over my thumb it is very tight and uncomfortable i e pinches, my thumbs do not have a particularly excessive diameter either, i am gon na try to heat these so i can stretch them a bit, i know they need to be snug so the pick does not rotate when being used but this is ridiculous, three stars because if they fit you it is a nice pick it would be if they were described correctly for sizing]   \n",
       "4581                                                                                                                                                                                                                                                                                                                                                                                                                                                                                                                                                                                                                                                                                                                                                                                                                                                                                                                                                                                                                                                                                                                                                                                                                                                                                                                                                                                                                                                                                                                                                                                                                                                                                                                                                                                                                                                                                                                                                                                                                                                                                                                                                                                                                                                                                                                                                                                                                                                                                                                                                                                                                                                                                                                                                                                                                                                                                                                                                                                                                                                                 [these items though well made and strong are sized rather differently to national picks with the national i need a large so i ordered large in this item it is however very tight smaller in fact than a national medium thumb pick essentially a waste of money]   \n",
       "4601                                                                                                                                                                                                                                                                                                                                                                                                                                                                                                                                                                                                                                                                                                                                                                                                                                                                                                                                                                                                                                                                                                                                                                                                                                                                                                                                                                                                                                                                                                                                                                                                                                                                                                                                                                                                                                                                                                                                                                                                                                                                                                                                                                                                                                                                                                                                                                                                                                                                                                                                                                                                                                                                                                                                                                                                                                                                                                         [it ll do for setup work and the price is right, i would not recommend it for live use or for anyone who changes keys every song its too fiddly to adjust and get firmly set, i also would not recommend it for anyone just starting out, a spring clamp type capo would serve better, this one is probably best for somebody who rarely needs to use it and just wants one one hand or to keep in the case as a back up]   \n",
       "4603                                                                                                                                                                                                                                                                                                                                                                                                                                                                                                                                                                                                                                                                                                                                                                                                                                                                                                                                                                                                                                                                                                                                                                                                                                                                                                                                                                                                                                                                                                                                                                                                                                                                                                                                                                                                                                                                                                                                                                                                                                                                                                                                                                                                                                                                                                                                                                                                                                                                                                                                                                                                                                                                                                                                                                                                                                                                                                                                                                                                                                                                                                                                                              [i bought the capo for the guys at a correctional facility that i work for, it gets abused so i do not look for it to last long, would not buy it for my own guitar]   \n",
       "4607                                                                                                                                                                                                                                                                                                                                                                                                                                                                                                                                                                                                                                                                                                                                                                                                                                                                                                                                                                                                                                                                                                                                                                                                                                                                                                                                                                                                                                                                                                                                                                                                                                                                                                                                                                                                                                                                                                                                                                                                                                                                                                                                                                                                                                                                                                                                                                                                                                                                                                                                                                                                                                                                                                                                                                                                                                                                                                                                                                                                                                                                                                      [this string winder is adequate but not really solid, it gives me good use but seems like the materials are to soft, i had to glue the contacts on this thing since it gives way at times, this is just adequate for my use]   \n",
       "4611                                                                                                                                                                                                                                                                                                                                                                                                                                                                                                                                                                                                                                                                                                                                                                                                                                                                                                                                                                                                                                                                                                                                                                                                                                                                                                                                                                                                                                                                                                                                                                                                                                                                                                                                                                                                                                                                                                                                                                                                                                                                                                                                                                                                                                                                                                                                                                                                                                                                                                                                                                                                                                                                                                                                                                                                                                                                                                                                                                                                                                                                                                                                                                           [it is a nice smaller version of the si road pro it would be great if it had a steel shaft the plastic shaft feels like it will break but it is cheeep]   \n",
       "4612                                                                                                                                                                                                                                                                                                                                                                                                                                                                                                                                                                                                                                                                                                                                                                                                                                                                                                                                                                                                                                                                                                                                                                                                                                                                                                                                                                                                                                                                                                                                                                                                                                                                                                                                                                                                                                                                                                                                                                                                                                                                                                                                                                                                                                                                                                                                                                                                                                                                                                                                                                                                                                                                                                                                                                                                                                                                                                                                                                                                                                                                              [this makes winding strings much faster but it does feel flimsy and the end piece does not fit over my tuing pegs correctly so it has it is a bit of a haslle getting started, other than that it has it is great for the price but not a must have]   \n",
       "4533                                                                                                                                                                                                                                                                                                                                                                                                                                                                                                                                                                                                                                                                                                                                                                                                                                                                                                                                                                                                                                                                                                                                                                                                                                                                                                                                                                                                                                                                                                                                                                                                                                                                                                                                                                                                                                                                                                                                                                                                                                                                                                                                                                                                                                                                                                                                                                                                                                                                                                                                      [i heard alot about these stands and finally decided to buy one after my cheapo one fell over with my bass still on it this is a nice looking well designed stand and feels like it can withstand the rigors of constant use, however the th time i took this to a show i expanded it and one of the screws and nuts attaching the back leg to the support bar fell off and i never did fine the missing screw wound up wrapping electrical tape around it to support my bass for the night, i ended up buying some screws and fixing it which was also a pain as the nut needs to be inserted about inches down the pipe and secured so you can thread the screw into it not an easy task, i really expected better quality for after such light use still love it but not to a star level]   \n",
       "10255                                                                                                                                                                                                                                                                                                                                                                                                                                                                                                                                                                                                                                                                                                                                                                                                                                                         [i have lots of friends who play these strings, some love them more than any other string and some are like me, they re clearly good strings and i love the way they play and feel on my fingertips but i can not get past the sound, it could just be about how the strings sound on my particular guitars but in any case i am not happy with the sound and that has that is why i have a hard time giving them a solid five star rating i tried these on two separate guitars i play regularly and was not terribly impressed with the sound on either, one is a vintage dreadnought mahogany guitar that normally has excellent tone and is crisp clear and fairly loud, these strings softened the tone which i was not looking to do, they sound okay but nowhere near as good as the martin sps i use to really bring out the best in that guitar i also have a cutaway electric acoustic i use to sing with because it has it is fairly quiet and the softer tones do not drown out my voice, these strings made the guitar even more quiet and there was a considerable drop off in tone quality as well, they might have been cheap old strings because i could not tell that there was anything special about them, this particular guitar did not have spectacular sound to begin with and these strings did nothing to improve it, i like strings to either sound as good as other strings or improve the tone and pull more from the guitar, these strings did neither for me, however they sound just great when the instrument was plugged through an amp based upon my experimentation i would guess that if you have a great sounding guitar and you are not a fanatic about slight drops in tonal quality you shall you will love the way these strings feel and play, i rate them excellent in that category, but for me tone is of the equation, i had i would play wire wrapped rope if it sounded better than regular strings, in the tonal category these strings fell short, on a guitar with excellent tone i noticed a distinct drop in tone quality and on another softer more muted guitar tone quality vanished in the final analysis if you are a picker and your guitar can be plugged in you shall you will love these strings, if you are really into great acoustic tone and your guitar does not have stellar tone to begin with you might gain some playability but you will most likely experience a slight drop in tonal quality]   \n",
       "\n",
       "                                                                                                                                                                                                                                                    Sentiment  \\\n",
       "5494                                                                                                                                                                                                                        [0.1411111111111111, 0.0625, 0.0]   \n",
       "3792                                                                                                                                                                                                                               [0.0, 0.0, 0.24, 0.0, 0.0]   \n",
       "6090                                                                                                                                                                               [0.13636363636363635, 0.0, 0.0, 0.20000000000000004, -0.09999999999999995]   \n",
       "3748                                                                                                                                                                                                   [-0.49583333333333324, 0.0, -0.16666666666666666, 0.0]   \n",
       "6077                                                                                                                                                                                                                [0.3333333333333333, 0.16428571428571428]   \n",
       "3746                                                                                                                                                                                                   [0.0, 0.0, 0.0, 0.26666666666666666, 0.0125, 0.0, 0.0]   \n",
       "1870                                                                                                                                               [0.0, -1.0, 0.2625, -0.46666666666666656, -0.004807692307692309, 0.0, -0.8, -0.6, 0.4000000000000001, 0.0]   \n",
       "6072                                                                                                                                                                                    [0.8, 0.0, -0.4, -0.2, 0.4000000000000001, 0.0, 0.0, 0.0, 0.25, -0.4]   \n",
       "7083                                                                                                                                                                                                                     [0.0, 0.4, 0.0, -0.0666666666666667]   \n",
       "3743                                                                                                                                                                                                                               [0.17142857142857143, 0.0]   \n",
       "1880                                                                                                                                                                                             [-0.4, 0.4, -0.15555555555555559, -0.5, 0.09722222222222222]   \n",
       "7085                                                                                                                                                                                                                           [0.0, 0.0, 0.0, 0.0, 0.0, 0.0]   \n",
       "1918                                                                                                                                                                                                                                         [-0.303125, 0.6]   \n",
       "6040                                                                                                                                                                                                                                        [0.35, 0.4, -0.1]   \n",
       "9286                                                                                                                                                                                                                                                  [0.575]   \n",
       "9170                                                                                                                                                                                                                      [0.1416666666666667, 0.0, 0.2, 0.0]   \n",
       "3708                                                                                                                                                                                                                              [-0.4, 0.18148148148148147]   \n",
       "2071                                                                                                                                                                                                                                    [-0.1285714285714286]   \n",
       "3693                                                                                                                                                                                                                             [0.2333333333333333, 0.3875]   \n",
       "6024                                                                                                                                                                                                                      [0.0, 0.0, 0.5231818181818182, 0.0]   \n",
       "8493                                                                       [-0.225, 0.146875, 0.15000000000000002, -0.2, 0.13916666666666666, 0.3055555555555556, 0.5, 0.375, -0.3666666666666667, 0.0, 0.5, 0.40952380952380957, 0.375, 0.35000000000000003]   \n",
       "5999                                                                                                                                                                                                      [0.2857142857142857, 0.5, 0.21666666666666667, 0.0]   \n",
       "2234                                                                                                                                                                                                                                              [-1.0, 0.5]   \n",
       "8518                                                                                                                                                                      [-0.21428571428571427, 0.2, 0.03749999999999998, -0.25, -0.08181818181818182, 0.05]   \n",
       "5605                                                                                                                                                                                                                     [0.0, 0.0, 0.07666666666666666, 0.7]   \n",
       "8520                                                                                                                                                                                                                                            [0.275, -0.5]   \n",
       "2251                                                                                                                                                                                         [0.6, 0.0, 0.5, -0.09999999999999995, -0.18333333333333332, 0.4]   \n",
       "9082                                                                                                                                                                                              [-0.2, 0.18333333333333335, 0.0, 0.039999999999999994, 0.6]   \n",
       "2308                                                                                                                                                                                                                                   [-0.09999999999999999]   \n",
       "6031                                                                                                                                                                                                                         [0.07499999999999998, 0.35, 0.0]   \n",
       "...                                                                                                                                                                                                                                                       ...   \n",
       "4698                                                                                                                                                                                                                                              [0.05, 0.0]   \n",
       "4684                                                                                                                                                                                                                               [0.0, 0.2, -0.2, 0.0, 0.5]   \n",
       "4343                                                                                                                                                                                                                 [0.675, 0.17670454545454545, 0.15, 0.35]   \n",
       "4348                                                                                                                                                                                                                                            [0.7, 0.1875]   \n",
       "4373                                                                                                                                                                                                                                     [0.4166666666666667]   \n",
       "4384                                                                                                                                                                                                                                    [0.17500000000000002]   \n",
       "4388                                                                                                                                                                                   [0.0, 0.2375, 0.0, -0.12272727272727273, 0.6, 0.5499999999999999, 0.0]   \n",
       "4389                                                                                   [-0.16666666666666666, 0.375, -0.05, 0.2, 0.3833333333333333, -0.2625, -0.08333333333333333, -0.016666666666666663, -0.0833333333333334, -0.4, 0.0, -0.375, 0.0, 0.35]   \n",
       "4403                                                                                                                                                                                                                                       [-0.49375, 0.0625]   \n",
       "4411                                                                                                                                                                                     [0.15, 0.43333333333333335, 0.43333333333333335, 0.2708333333333333]   \n",
       "4443                                                                                                                                                                                                                               [0.0, 0.05624999999999998]   \n",
       "4444                                                                                                                                                                           [-0.5, 0.03750000000000001, 0.0, -0.25, -0.325, 0.5, -0.6999999999999998, 0.5]   \n",
       "4467                                                                                                                                                                                                                                   [0.031666666666666676]   \n",
       "4502                                                                                                                                                                                                              [0.43333333333333335, 0.008333333333333331]   \n",
       "4685                                                                                                                                                                              [0.005555555555555536, -0.06400000000000002, -0.5, 0.1464285714285714, 0.0]   \n",
       "4509                                                                                                                                                                                                                                    [0.15029761904761904]   \n",
       "4543                                                                                                                                                                                                               [0.15416666666666665, 0.39999999999999997]   \n",
       "4558                                                                                                                                                                                                                   [-0.125, -0.01666666666666668, -0.125]   \n",
       "4569                                                                                                                                                                                                                                         [0.5, 0.4, -0.5]   \n",
       "4575                                                                                                                                                                                                                                           [-0.6, 0.0875]   \n",
       "4577                                                                                                                                                [-0.9750000000000001, 0.1714285714285714, -0.25, 0.13214285714285715, 0.0, 0.07285714285714284, 0.0, 0.7]   \n",
       "4580                                                                                                                                                                         [0.21428571428571427, -0.3660714285714286, -0.25, 0.0, -0.3333333333333333, 0.5]   \n",
       "4581                                                                                                                                                                                                                                    [0.06139455782312925]   \n",
       "4601                                                                                                                                                                                              [0.2857142857142857, -0.03181818181818183, 0.0, 0.5, 0.375]   \n",
       "4603                                                                                                                                                                                                                                       [0.0, -0.025, 0.6]   \n",
       "4607                                                                                                                                                                                      [0.16666666666666666, 0.39999999999999997, 0.0, 0.3333333333333333]   \n",
       "4611                                                                                                                                                                                                                                     [0.4666666666666666]   \n",
       "4612                                                                                                                                                                                                                                            [0.0, 0.3375]   \n",
       "4533                                                                                                                                                                                    [0.11249999999999999, 0.016666666666666663, 0.1388888888888889, 0.26]   \n",
       "10255  [0.0, 0.2916666666666667, 0.3375, 0.019444444444444445, 0.32, 0.0, 0.41428571428571426, 0.19999999999999998, 0.28571428571428575, 0.38888888888888884, 0.36875, 0.0, 0.4138888888888889, 1.0, 0.0, 0.25, 0.0, 0.45999999999999996, 0.2638888888888889]   \n",
       "\n",
       "                    SentimentModel  \n",
       "5494     [0.2036111111111111, 1.0]  \n",
       "3792                   [0.24, 1.0]  \n",
       "6090    [0.23636363636363647, 1.0]  \n",
       "3748    [-0.6624999999999999, 0.0]  \n",
       "6077     [0.4976190476190476, 1.0]  \n",
       "3746     [0.2791666666666667, 1.0]  \n",
       "1870     [-2.208974358974359, 0.0]  \n",
       "6072    [0.45000000000000007, 1.0]  \n",
       "7083     [0.3333333333333333, 1.0]  \n",
       "3743    [0.17142857142857143, 1.0]  \n",
       "1880    [-0.5583333333333333, 0.0]  \n",
       "7085                    [0.0, 1.0]  \n",
       "1918               [0.296875, 1.0]  \n",
       "6040                   [0.65, 1.0]  \n",
       "9286                  [0.575, 1.0]  \n",
       "9170     [0.3416666666666667, 1.0]  \n",
       "3708   [-0.21851851851851856, 0.0]  \n",
       "2071    [-0.1285714285714286, 0.0]  \n",
       "3693     [0.6208333333333333, 1.0]  \n",
       "6024     [0.5231818181818182, 1.0]  \n",
       "8493     [2.4594543650793654, 1.0]  \n",
       "5999     [1.0023809523809524, 1.0]  \n",
       "2234                   [-0.5, 0.0]  \n",
       "8518    [-0.2586038961038961, 0.0]  \n",
       "5605     [0.7766666666666666, 1.0]  \n",
       "8520   [-0.22499999999999998, 0.0]  \n",
       "2251     [1.2166666666666668, 1.0]  \n",
       "9082     [0.6233333333333333, 1.0]  \n",
       "2308   [-0.09999999999999999, 0.0]  \n",
       "6031    [0.42499999999999993, 1.0]  \n",
       "...                            ...  \n",
       "4698                   [0.05, 1.0]  \n",
       "4684                    [0.5, 1.0]  \n",
       "4343     [1.3517045454545453, 1.0]  \n",
       "4348                 [0.8875, 1.0]  \n",
       "4373     [0.4166666666666667, 1.0]  \n",
       "4384    [0.17500000000000002, 1.0]  \n",
       "4388     [1.2647727272727272, 1.0]  \n",
       "4389   [-0.12916666666666676, 0.0]  \n",
       "4403               [-0.43125, 0.0]  \n",
       "4411     [1.2874999999999999, 1.0]  \n",
       "4443    [0.05624999999999998, 1.0]  \n",
       "4444    [-0.7374999999999998, 0.0]  \n",
       "4467   [0.031666666666666676, 1.0]  \n",
       "4502    [0.44166666666666665, 1.0]  \n",
       "4685    [-0.4120158730158731, 0.0]  \n",
       "4509    [0.15029761904761904, 1.0]  \n",
       "4543     [0.5541666666666666, 1.0]  \n",
       "4558    [-0.2666666666666667, 0.0]  \n",
       "4569                    [0.4, 1.0]  \n",
       "4575                [-0.5125, 0.0]  \n",
       "4577    [-0.1485714285714289, 0.0]  \n",
       "4580   [-0.23511904761904767, 0.0]  \n",
       "4581    [0.06139455782312925, 1.0]  \n",
       "4601     [1.1288961038961038, 1.0]  \n",
       "4603                  [0.575, 1.0]  \n",
       "4607     [0.8999999999999999, 1.0]  \n",
       "4611     [0.4666666666666666, 1.0]  \n",
       "4612                 [0.3375, 1.0]  \n",
       "4533     [0.5280555555555555, 1.0]  \n",
       "10255     [5.014027777777778, 1.0]  \n",
       "\n",
       "[1239 rows x 3 columns]"
      ]
     },
     "execution_count": 826,
     "metadata": {},
     "output_type": "execute_result"
    }
   ],
   "source": [
    "#reviewTextProcessing.loc[unfavorableReviews, ['Processed', 'Sentiment', 'SentimentModel']]\n",
    "#reviewTextProcessing.dtypes"
   ]
  },
  {
   "cell_type": "code",
   "execution_count": 121,
   "metadata": {},
   "outputs": [],
   "source": [
    "reviewTextProcessing['CleanedJoin'] = reviewTextProcessing['Processed'].apply(', '.join)\n"
   ]
  },
  {
   "cell_type": "code",
   "execution_count": 122,
   "metadata": {},
   "outputs": [
    {
     "data": {
      "text/plain": [
       "Index(['reviewText', 'rating', 'overall', 'Processed', 'Sentiment',\n",
       "       'SentimentModel', 'CleanedJoin'],\n",
       "      dtype='object')"
      ]
     },
     "execution_count": 122,
     "metadata": {},
     "output_type": "execute_result"
    }
   ],
   "source": [
    "reviewTextProcessing.shape\n",
    "reviewTextProcessing.columns"
   ]
  },
  {
   "cell_type": "code",
   "execution_count": 123,
   "metadata": {},
   "outputs": [],
   "source": [
    "#from gensim import corpora\n",
    "#dictionary = corpora.Dictionary(T)\n",
    "#print(dictionary.token2id)"
   ]
  },
  {
   "cell_type": "code",
   "execution_count": 124,
   "metadata": {},
   "outputs": [
    {
     "data": {
      "text/plain": [
       "0                            i hate it when my shirt collars not otherwise secured in place by buttons end up in weird places throughout the day, i purchased some steel collar stays to use with these magnets but they were only vaguely magnetic, i ended up using of these magnets one in the collar with the stay and the other inside my shirt to lock my collar in place, they work flawlessly, they are the perfect size and there are plenty of magnets in case you forget to remove them at the end of the day\n",
       "1                                                                                                                                                                                                                                                                                                                                                              these little magnets are really powerful for there size, i am using them to make secret compartments in custom made boxes, each one hols about of a pound\n",
       "2                                                                                                                                                                                                                                                                                      i wanted something this small to mount on the back of filagree wood piece i cut, they could then be mounted on refrigerators, works well, should be able to remove the pieces from the refrig without breaking yet will hold well\n",
       "3                                                                                                                                                                                                                                                                                                                   i use these to magnetize my warhammer k miniatures together allowing me to swap out their various parts and weapons, they provide excellent holding power along with small size to fit in snug areas\n",
       "4    they are soo freaking annoying, why, you spend all this time da n near breaking off your fingernail trying to separate these li l buggers and when you do finally get them apart you accidentally hold your hand in a certain way or angle and they snap right back together again with reckless abandon, so yes annoying but that has that is only because they are soo good at what they do, you too will be happily annoyed with your purchase, i had i would stick my reputation on that statement with thes...\n",
       "Name: CleanedJoin, dtype: object"
      ]
     },
     "execution_count": 124,
     "metadata": {},
     "output_type": "execute_result"
    }
   ],
   "source": [
    "reviewTextProcessing['CleanedJoin'].head(5)"
   ]
  },
  {
   "cell_type": "code",
   "execution_count": 125,
   "metadata": {},
   "outputs": [
    {
     "data": {
      "text/plain": [
       "134476"
      ]
     },
     "execution_count": 125,
     "metadata": {},
     "output_type": "execute_result"
    }
   ],
   "source": [
    "\n",
    "import itertools\n",
    "\n",
    "largeText = reviewTextProcessing.CleanedJoin.to_list()\n",
    "#largeText = reviewTextProcessing.reviewText.to_list() # Not too good accuracy around 116 missed with %86.94\n",
    "\n",
    "len(largeText)"
   ]
  },
  {
   "cell_type": "code",
   "execution_count": 126,
   "metadata": {},
   "outputs": [],
   "source": [
    "sentiment = reviewTextProcessing['SentimentModel'].to_list()"
   ]
  },
  {
   "cell_type": "code",
   "execution_count": 127,
   "metadata": {},
   "outputs": [],
   "source": [
    "from tensorflow.python.keras.preprocessing.text import Tokenizer\n",
    "from tensorflow.python.keras.preprocessing.sequence import pad_sequences\n",
    "\n",
    "num_words = 10000\n"
   ]
  },
  {
   "cell_type": "code",
   "execution_count": 128,
   "metadata": {},
   "outputs": [],
   "source": [
    "tokenizer = Tokenizer(num_words=num_words)\n",
    "tokenizer.fit_on_texts(largeText)\n",
    "#tokenizer.word_index"
   ]
  },
  {
   "cell_type": "code",
   "execution_count": 129,
   "metadata": {},
   "outputs": [],
   "source": [
    "\n",
    "size = int(len(largeText)*.75)\n",
    "x_train_text = largeText[:size]\n",
    "x_test_text = largeText[size:]\n",
    "\n",
    "y_train =  reviewTextProcessing['rating'][:size]\n",
    "y_test = reviewTextProcessing['rating'][size:]\n",
    "x_train_tokens = tokenizer.texts_to_sequences(x_train_text)\n",
    "x_test_tokens = tokenizer.texts_to_sequences(x_test_text)\n"
   ]
  },
  {
   "cell_type": "code",
   "execution_count": 130,
   "metadata": {},
   "outputs": [
    {
     "data": {
      "text/plain": [
       "(100857, 100857, 100857, 33619)"
      ]
     },
     "execution_count": 130,
     "metadata": {},
     "output_type": "execute_result"
    }
   ],
   "source": [
    "len(y_train), len(x_train_tokens), len(x_train_text), len(x_test_text)"
   ]
  },
  {
   "cell_type": "code",
   "execution_count": 131,
   "metadata": {},
   "outputs": [],
   "source": [
    "#x_train_tokens[1], x_train_text[1]"
   ]
  },
  {
   "cell_type": "code",
   "execution_count": 132,
   "metadata": {},
   "outputs": [],
   "source": [
    "import numpy as np\n",
    "\n",
    "x_train_text[1]\n",
    "np.array(x_train_tokens[1])\n",
    "num_tokens = [len(tokens) for tokens in x_train_tokens + x_test_tokens]\n",
    "num_tokens = np.array(num_tokens)\n"
   ]
  },
  {
   "cell_type": "code",
   "execution_count": 133,
   "metadata": {},
   "outputs": [
    {
     "data": {
      "text/plain": [
       "(110.80553407299443, 4838)"
      ]
     },
     "execution_count": 133,
     "metadata": {},
     "output_type": "execute_result"
    }
   ],
   "source": [
    "np.mean(num_tokens), np.max(num_tokens)\n"
   ]
  },
  {
   "cell_type": "code",
   "execution_count": 134,
   "metadata": {},
   "outputs": [
    {
     "data": {
      "text/plain": [
       "132.92503796578936"
      ]
     },
     "execution_count": 134,
     "metadata": {},
     "output_type": "execute_result"
    }
   ],
   "source": [
    "np.std(num_tokens)"
   ]
  },
  {
   "cell_type": "code",
   "execution_count": 135,
   "metadata": {},
   "outputs": [
    {
     "data": {
      "text/plain": [
       "243"
      ]
     },
     "execution_count": 135,
     "metadata": {},
     "output_type": "execute_result"
    }
   ],
   "source": [
    "max_tokens = np.mean(num_tokens) + 1 * np.std(num_tokens)\n",
    "max_tokens = int(max_tokens) \n",
    "max_tokens\n"
   ]
  },
  {
   "cell_type": "code",
   "execution_count": 136,
   "metadata": {},
   "outputs": [
    {
     "data": {
      "text/plain": [
       "0.897914869567804"
      ]
     },
     "execution_count": 136,
     "metadata": {},
     "output_type": "execute_result"
    }
   ],
   "source": [
    "np.sum(num_tokens < max_tokens) / len(num_tokens)\n"
   ]
  },
  {
   "cell_type": "code",
   "execution_count": 137,
   "metadata": {},
   "outputs": [
    {
     "data": {
      "text/plain": [
       "(33619, 243)"
      ]
     },
     "execution_count": 137,
     "metadata": {},
     "output_type": "execute_result"
    }
   ],
   "source": [
    "pad = 'pre'\n",
    "x_train_pad = pad_sequences(x_train_tokens, maxlen=max_tokens, padding=pad, truncating=pad)\n",
    "x_test_pad = pad_sequences(x_test_tokens, maxlen=max_tokens, padding=pad, truncating=pad)\n",
    "x_train_pad.shape\n",
    "x_test_pad.shape\n"
   ]
  },
  {
   "cell_type": "code",
   "execution_count": 138,
   "metadata": {},
   "outputs": [
    {
     "name": "stdout",
     "output_type": "stream",
     "text": [
      "[   0    0    0    0    0    0    0    0    0    0    0    0    0    0\n",
      "    0    0    0    0    0    0    0    0    0    0    0    0    0    0\n",
      "    0    0    0    0    0    0    0    0    0    0    0    0    0    0\n",
      "    0    0    0    0    0    0    0    0    0    0    0    0    0    0\n",
      "    0    0    0    0    0    0    0    0    0    0    0    0    0    0\n",
      "    0    0    0    0    0    0    0    0    0    0    0    0    0    0\n",
      "    0    0    0    0    0    0    0    0    0    0    0    0    0    0\n",
      "    0    0    0    0    0    0    0    0    0    0    0    0    0    0\n",
      "    0    0    0    0    0    0    0    0    0    0    0    0    0    0\n",
      "    0    0    0    0    0    0    0    0    0    0    0    0    0    0\n",
      "    0    0    0    0    0    0    0    0    0    0    0    0    2 1558\n",
      "    4   39   18 3329 8531   11  722 2917   12  236   82 1219  220   41\n",
      "   12 2405  908 2048    1  225    2  212   68  424 2317  951    5   32\n",
      "   17   37 1753   19   27  120   64 1190    2  996   41   96    8   37\n",
      " 1753   25   12    1 2317   17    1  630    6    1   62  320   18 3329\n",
      "    5  247   18 2317   12  236   27   60 1524   27   20    1  211  171\n",
      "    6   61   20  615    8 1753   12  174   14 1232    5  388   55   38\n",
      "    1  220    8    1  225]\n"
     ]
    }
   ],
   "source": [
    "for i in range(0, 1):\n",
    "    print(x_train_pad[i])\n"
   ]
  },
  {
   "cell_type": "code",
   "execution_count": 139,
   "metadata": {},
   "outputs": [],
   "source": [
    "def tokens_to_string(tokens):\n",
    "    # Map from tokens back to words.\n",
    "    words = [inverse_map[token] for token in tokens if token != 0]\n",
    "    \n",
    "    # Concatenate all words.\n",
    "    text = \" \".join(words)\n",
    "\n",
    "    return text"
   ]
  },
  {
   "cell_type": "code",
   "execution_count": 140,
   "metadata": {},
   "outputs": [],
   "source": [
    "idx = tokenizer.word_index\n",
    "inverse_map = dict(zip(idx.values(), idx.keys()))"
   ]
  },
  {
   "cell_type": "code",
   "execution_count": 141,
   "metadata": {},
   "outputs": [
    {
     "data": {
      "text/plain": [
       "'these little magnets are really powerful for there size, i am using them to make secret compartments in custom made boxes, each one hols about of a pound'"
      ]
     },
     "execution_count": 141,
     "metadata": {},
     "output_type": "execute_result"
    }
   ],
   "source": [
    "x_train_text[1]\n"
   ]
  },
  {
   "cell_type": "code",
   "execution_count": 142,
   "metadata": {
    "scrolled": true
   },
   "outputs": [
    {
     "data": {
      "text/plain": [
       "'these little magnets are really powerful for there size i am using them to make secret compartments in custom made boxes each one about of a pound'"
      ]
     },
     "execution_count": 142,
     "metadata": {},
     "output_type": "execute_result"
    }
   ],
   "source": [
    "tokens_to_string(x_train_tokens[1])\n"
   ]
  },
  {
   "cell_type": "code",
   "execution_count": 143,
   "metadata": {},
   "outputs": [],
   "source": [
    "from tensorflow.python.keras import Sequential\n",
    "from keras.layers import Dense, Embedding, Dropout\n",
    "from keras.models import Sequential\n",
    "from keras.layers import Bidirectional\n",
    "from keras.layers.convolutional import Conv1D\n",
    "from keras.layers.convolutional import MaxPooling1D\n",
    "from keras.optimizers import Adam"
   ]
  },
  {
   "cell_type": "code",
   "execution_count": 144,
   "metadata": {},
   "outputs": [
    {
     "data": {
      "text/plain": [
       "'1.13.2'"
      ]
     },
     "execution_count": 144,
     "metadata": {},
     "output_type": "execute_result"
    }
   ],
   "source": [
    "import tensorflow as tf\n",
    "tf.__version__\n"
   ]
  },
  {
   "cell_type": "code",
   "execution_count": 145,
   "metadata": {},
   "outputs": [],
   "source": [
    "optimizer = Adam(lr=1e-3)\n"
   ]
  },
  {
   "cell_type": "code",
   "execution_count": 146,
   "metadata": {},
   "outputs": [
    {
     "name": "stdout",
     "output_type": "stream",
     "text": [
      "_________________________________________________________________\n",
      "Layer (type)                 Output Shape              Param #   \n",
      "=================================================================\n",
      "embedding_7 (Embedding)      (None, 243, 200)          2000000   \n",
      "_________________________________________________________________\n",
      "conv1d_10 (Conv1D)           (None, 242, 100)          40100     \n",
      "_________________________________________________________________\n",
      "global_max_pooling1d_6 (Glob (None, 100)               0         \n",
      "_________________________________________________________________\n",
      "dense_11 (Dense)             (None, 256)               25856     \n",
      "_________________________________________________________________\n",
      "dense_12 (Dense)             (None, 1)                 257       \n",
      "=================================================================\n",
      "Total params: 2,066,213\n",
      "Trainable params: 2,066,213\n",
      "Non-trainable params: 0\n",
      "_________________________________________________________________\n"
     ]
    }
   ],
   "source": [
    "model_cnn_02 = Sequential()\n",
    "e = Embedding(num_words, 200, input_length=max_tokens)\n",
    "model_cnn_02.add(e)\n",
    "model_cnn_02.add(Conv1D(filters=100, kernel_size=2, padding='valid', activation='relu', strides=1))\n",
    "model_cnn_02.add(GlobalMaxPooling1D())\n",
    "model_cnn_02.add(Dense(256, activation='relu'))\n",
    "model_cnn_02.add(Dense(1, activation='sigmoid'))\n",
    "model_cnn_02.compile(loss='binary_crossentropy', optimizer=optimizer, metrics=['accuracy'])\n",
    "model_cnn_02.summary()\n"
   ]
  },
  {
   "cell_type": "code",
   "execution_count": null,
   "metadata": {},
   "outputs": [],
   "source": []
  },
  {
   "cell_type": "code",
   "execution_count": 147,
   "metadata": {},
   "outputs": [
    {
     "name": "stdout",
     "output_type": "stream",
     "text": [
      "Train on 95814 samples, validate on 5043 samples\n",
      "Epoch 1/10\n",
      "95814/95814 [==============================] - 372s 4ms/step - loss: 0.1841 - acc: 0.9344 - val_loss: 0.1623 - val_acc: 0.9427\n",
      "Epoch 2/10\n",
      "95814/95814 [==============================] - 372s 4ms/step - loss: 0.1310 - acc: 0.9507 - val_loss: 0.1582 - val_acc: 0.9415\n",
      "Epoch 3/10\n",
      "95814/95814 [==============================] - 367s 4ms/step - loss: 0.0961 - acc: 0.9631 - val_loss: 0.1736 - val_acc: 0.9425\n",
      "Epoch 4/10\n",
      "95814/95814 [==============================] - 364s 4ms/step - loss: 0.0638 - acc: 0.9760 - val_loss: 0.2162 - val_acc: 0.9405\n",
      "Epoch 5/10\n",
      "95814/95814 [==============================] - 366s 4ms/step - loss: 0.0382 - acc: 0.9863 - val_loss: 0.2674 - val_acc: 0.9413\n",
      "Epoch 6/10\n",
      "95814/95814 [==============================] - 365s 4ms/step - loss: 0.0248 - acc: 0.9914 - val_loss: 0.2987 - val_acc: 0.9371\n",
      "Epoch 7/10\n",
      "95814/95814 [==============================] - 366s 4ms/step - loss: 0.0169 - acc: 0.9944 - val_loss: 0.3489 - val_acc: 0.9330\n",
      "Epoch 8/10\n",
      "95814/95814 [==============================] - 364s 4ms/step - loss: 0.0139 - acc: 0.9953 - val_loss: 0.4091 - val_acc: 0.9383\n",
      "Epoch 9/10\n",
      "95814/95814 [==============================] - 364s 4ms/step - loss: 0.0113 - acc: 0.9962 - val_loss: 0.3733 - val_acc: 0.9304\n",
      "Epoch 10/10\n",
      "95814/95814 [==============================] - 366s 4ms/step - loss: 0.0097 - acc: 0.9967 - val_loss: 0.3804 - val_acc: 0.9254\n",
      "Wall time: 1h 1min 7s\n"
     ]
    },
    {
     "data": {
      "text/plain": [
       "<keras.callbacks.History at 0x11967ba8>"
      ]
     },
     "execution_count": 147,
     "metadata": {},
     "output_type": "execute_result"
    }
   ],
   "source": [
    "%%time\n",
    "model_cnn_02.fit(x_train_pad, y_train, validation_split=0.05, epochs=10, batch_size=32)\n",
    "#model.fit(x_train_pad, y_train,validation_split=0.05, epochs=3, batch_size=74)"
   ]
  },
  {
   "cell_type": "code",
   "execution_count": 148,
   "metadata": {},
   "outputs": [
    {
     "name": "stdout",
     "output_type": "stream",
     "text": [
      "33619/33619 [==============================] - 29s 856us/step\n",
      "Wall time: 28.8 s\n"
     ]
    }
   ],
   "source": [
    "%%time\n",
    "result = model_cnn_02.evaluate(x_test_pad, y_test)"
   ]
  },
  {
   "cell_type": "code",
   "execution_count": null,
   "metadata": {},
   "outputs": [],
   "source": []
  },
  {
   "cell_type": "code",
   "execution_count": 149,
   "metadata": {},
   "outputs": [
    {
     "name": "stdout",
     "output_type": "stream",
     "text": [
      "Accuracy: 92.57%\n"
     ]
    }
   ],
   "source": [
    "print(\"Accuracy: {0:.2%}\".format(result[1]))\n"
   ]
  },
  {
   "cell_type": "code",
   "execution_count": 150,
   "metadata": {},
   "outputs": [
    {
     "name": "stdout",
     "output_type": "stream",
     "text": [
      "Wall time: 819 ms\n"
     ]
    }
   ],
   "source": [
    "%%time\n",
    "y_pred = model_cnn_02.predict(x=x_test_pad[0:1000])\n",
    "y_pred = y_pred.T[0]"
   ]
  },
  {
   "cell_type": "code",
   "execution_count": 151,
   "metadata": {},
   "outputs": [],
   "source": [
    "cls_pred = np.array([1.0 if p>0.2 else 0.0 for p in y_pred])\n"
   ]
  },
  {
   "cell_type": "code",
   "execution_count": 152,
   "metadata": {},
   "outputs": [],
   "source": [
    "cls_true = np.array(y_test[0:1000])\n"
   ]
  },
  {
   "cell_type": "code",
   "execution_count": 162,
   "metadata": {},
   "outputs": [
    {
     "data": {
      "text/plain": [
       "array([ 37,  39,  45,  85, 107, 148, 190, 197, 204, 281, 297, 365, 418,\n",
       "       445, 450, 454, 521, 522, 537, 542, 546, 570, 588, 600, 617, 631,\n",
       "       633, 658, 661, 663, 675, 676, 679, 712, 723, 735, 737, 757, 763,\n",
       "       795, 816, 864, 886, 905, 914, 922, 940, 942, 944, 949, 957, 965,\n",
       "       970, 992], dtype=int64)"
      ]
     },
     "execution_count": 162,
     "metadata": {},
     "output_type": "execute_result"
    }
   ],
   "source": [
    "incorrect = np.where(cls_pred != cls_true)\n",
    "incorrect = incorrect[0]\n",
    "incorrect"
   ]
  },
  {
   "cell_type": "code",
   "execution_count": 160,
   "metadata": {},
   "outputs": [
    {
     "data": {
      "text/plain": [
       "array([  0,   1,   2,   3,   4,   5,   6,   7,   8,   9,  10,  11,  12,\n",
       "        13,  14,  15,  16,  17,  18,  19,  20,  21,  22,  23,  24,  25,\n",
       "        26,  27,  28,  29,  30,  31,  32,  33,  34,  35,  36,  38,  40,\n",
       "        41,  42,  43,  44,  46,  47,  48,  49,  50,  51,  52,  53,  54,\n",
       "        55,  56,  57,  58,  59,  60,  61,  62,  63,  64,  65,  66,  67,\n",
       "        68,  69,  70,  71,  72,  73,  74,  75,  76,  77,  78,  79,  80,\n",
       "        81,  82,  83,  84,  86,  87,  88,  89,  90,  91,  92,  93,  94,\n",
       "        95,  96,  97,  98,  99, 100, 101, 102, 103, 104, 105, 106, 108,\n",
       "       109, 110, 111, 112, 113, 114, 115, 116, 117, 118, 119, 120, 121,\n",
       "       122, 123, 124, 125, 126, 127, 128, 129, 130, 131, 132, 133, 134,\n",
       "       135, 136, 137, 138, 139, 140, 141, 142, 143, 144, 145, 146, 147,\n",
       "       149, 150, 151, 152, 153, 154, 155, 156, 157, 158, 159, 160, 161,\n",
       "       162, 163, 164, 165, 166, 167, 168, 169, 170, 171, 172, 173, 174,\n",
       "       175, 176, 177, 178, 179, 180, 181, 182, 183, 184, 185, 186, 187,\n",
       "       188, 189, 191, 192, 193, 194, 195, 196, 198, 199, 200, 201, 202,\n",
       "       203, 205, 206, 207, 208, 209, 210, 211, 212, 213, 214, 215, 216,\n",
       "       217, 218, 219, 220, 221, 222, 223, 224, 225, 226, 227, 228, 229,\n",
       "       230, 231, 232, 233, 234, 235, 236, 237, 238, 239, 240, 241, 242,\n",
       "       243, 244, 245, 246, 247, 248, 249, 250, 251, 252, 253, 254, 255,\n",
       "       256, 257, 258, 259, 260, 261, 262, 263, 264, 265, 266, 267, 268,\n",
       "       269, 270, 271, 272, 273, 274, 275, 276, 277, 278, 279, 280, 282,\n",
       "       283, 284, 285, 286, 287, 288, 289, 290, 291, 292, 293, 294, 295,\n",
       "       296, 298, 299, 300, 301, 302, 303, 304, 305, 306, 307, 308, 309,\n",
       "       310, 311, 312, 313, 314, 315, 316, 317, 318, 319, 320, 321, 322,\n",
       "       323, 324, 325, 326, 327, 328, 329, 330, 331, 332, 333, 334, 335,\n",
       "       336, 337, 338, 339, 340, 341, 342, 343, 344, 345, 346, 347, 348,\n",
       "       349, 350, 351, 352, 353, 354, 355, 356, 357, 358, 359, 360, 361,\n",
       "       362, 363, 364, 366, 367, 368, 369, 370, 371, 372, 373, 374, 375,\n",
       "       376, 377, 378, 379, 380, 381, 382, 383, 384, 385, 386, 387, 388,\n",
       "       389, 390, 391, 392, 393, 394, 395, 396, 397, 398, 399, 400, 401,\n",
       "       402, 403, 404, 405, 406, 407, 408, 409, 410, 411, 412, 413, 414,\n",
       "       415, 416, 417, 419, 420, 421, 422, 423, 424, 425, 426, 427, 428,\n",
       "       429, 430, 431, 432, 433, 434, 435, 436, 437, 438, 439, 440, 441,\n",
       "       442, 443, 444, 446, 447, 448, 449, 451, 452, 453, 455, 456, 457,\n",
       "       458, 459, 460, 461, 462, 463, 464, 465, 466, 467, 468, 469, 470,\n",
       "       471, 472, 473, 474, 475, 476, 477, 478, 479, 480, 481, 482, 483,\n",
       "       484, 485, 486, 487, 488, 489, 490, 491, 492, 493, 494, 495, 496,\n",
       "       497, 498, 499, 500, 501, 502, 503, 504, 505, 506, 507, 508, 509,\n",
       "       510, 511, 512, 513, 514, 515, 516, 517, 518, 519, 520, 523, 524,\n",
       "       525, 526, 527, 528, 529, 530, 531, 532, 533, 534, 535, 536, 538,\n",
       "       539, 540, 541, 543, 544, 545, 547, 548, 549, 550, 551, 552, 553,\n",
       "       554, 555, 556, 557, 558, 559, 560, 561, 562, 563, 564, 565, 566,\n",
       "       567, 568, 569, 571, 572, 573, 574, 575, 576, 577, 578, 579, 580,\n",
       "       581, 582, 583, 584, 585, 586, 587, 589, 590, 591, 592, 593, 594,\n",
       "       595, 596, 597, 598, 599, 601, 602, 603, 604, 605, 606, 607, 608,\n",
       "       609, 610, 611, 612, 613, 614, 615, 616, 618, 619, 620, 621, 622,\n",
       "       623, 624, 625, 626, 627, 628, 629, 630, 632, 634, 635, 636, 637,\n",
       "       638, 639, 640, 641, 642, 643, 644, 645, 646, 647, 648, 649, 650,\n",
       "       651, 652, 653, 654, 655, 656, 657, 659, 660, 662, 664, 665, 666,\n",
       "       667, 668, 669, 670, 671, 672, 673, 674, 677, 678, 680, 681, 682,\n",
       "       683, 684, 685, 686, 687, 688, 689, 690, 691, 692, 693, 694, 695,\n",
       "       696, 697, 698, 699, 700, 701, 702, 703, 704, 705, 706, 707, 708,\n",
       "       709, 710, 711, 713, 714, 715, 716, 717, 718, 719, 720, 721, 722,\n",
       "       724, 725, 726, 727, 728, 729, 730, 731, 732, 733, 734, 736, 738,\n",
       "       739, 740, 741, 742, 743, 744, 745, 746, 747, 748, 749, 750, 751,\n",
       "       752, 753, 754, 755, 756, 758, 759, 760, 761, 762, 764, 765, 766,\n",
       "       767, 768, 769, 770, 771, 772, 773, 774, 775, 776, 777, 778, 779,\n",
       "       780, 781, 782, 783, 784, 785, 786, 787, 788, 789, 790, 791, 792,\n",
       "       793, 794, 796, 797, 798, 799, 800, 801, 802, 803, 804, 805, 806,\n",
       "       807, 808, 809, 810, 811, 812, 813, 814, 815, 817, 818, 819, 820,\n",
       "       821, 822, 823, 824, 825, 826, 827, 828, 829, 830, 831, 832, 833,\n",
       "       834, 835, 836, 837, 838, 839, 840, 841, 842, 843, 844, 845, 846,\n",
       "       847, 848, 849, 850, 851, 852, 853, 854, 855, 856, 857, 858, 859,\n",
       "       860, 861, 862, 863, 865, 866, 867, 868, 869, 870, 871, 872, 873,\n",
       "       874, 875, 876, 877, 878, 879, 880, 881, 882, 883, 884, 885, 887,\n",
       "       888, 889, 890, 891, 892, 893, 894, 895, 896, 897, 898, 899, 900,\n",
       "       901, 902, 903, 904, 906, 907, 908, 909, 910, 911, 912, 913, 915,\n",
       "       916, 917, 918, 919, 920, 921, 923, 924, 925, 926, 927, 928, 929,\n",
       "       930, 931, 932, 933, 934, 935, 936, 937, 938, 939, 941, 943, 945,\n",
       "       946, 947, 948, 950, 951, 952, 953, 954, 955, 956, 958, 959, 960,\n",
       "       961, 962, 963, 964, 966, 967, 968, 969, 971, 972, 973, 974, 975,\n",
       "       976, 977, 978, 979, 980, 981, 982, 983, 984, 985, 986, 987, 988,\n",
       "       989, 990, 991, 993, 994, 995, 996, 997, 998, 999], dtype=int64)"
      ]
     },
     "execution_count": 160,
     "metadata": {},
     "output_type": "execute_result"
    }
   ],
   "source": [
    "correct = np.where(cls_pred == cls_true)\n",
    "correct[0]"
   ]
  },
  {
   "cell_type": "code",
   "execution_count": 154,
   "metadata": {},
   "outputs": [
    {
     "data": {
      "text/plain": [
       "54"
      ]
     },
     "execution_count": 154,
     "metadata": {},
     "output_type": "execute_result"
    }
   ],
   "source": [
    "len(incorrect)\n"
   ]
  },
  {
   "cell_type": "code",
   "execution_count": 98,
   "metadata": {},
   "outputs": [
    {
     "data": {
      "text/plain": [
       "CleanedJoin       so heres the thing that no one else wants to say, the thing is built like a piece of shit, it jingles and rattles and parts are always moving around, i used this times and it shorted out, the lights started flashing and it got hot, i called line and they determined it was bad so they opened a ticket, fyi if you want to deal with the worst customer service in the industry just call line not only do they not know what they were talking about but in the backgrounc i could hear them lauging and ...\n",
       "overall                                                                                                                                                                                                                                                                                                                                                                                                                                                                                                                             1\n",
       "rating                                                                                                                                                                                                                                                                                                                                                                                                                                                                                                                              0\n",
       "SentimentModel                                                                                                                                                                                                                                                                                                                                                                                                                                                                                            [-0.44696969696969685, 0.0]\n",
       "Name: 7735, dtype: object"
      ]
     },
     "execution_count": 98,
     "metadata": {},
     "output_type": "execute_result"
    }
   ],
   "source": [
    "reduceData.loc[7695+40, ['reviewText', 'overall', 'rating']]\n",
    "reviewTextProcessing.loc[7695+40, ['CleanedJoin', 'overall', 'rating', 'SentimentModel']]"
   ]
  },
  {
   "cell_type": "code",
   "execution_count": 155,
   "metadata": {},
   "outputs": [
    {
     "name": "stdout",
     "output_type": "stream",
     "text": [
      "<class 'numpy.int64'>\n",
      "37 i purchased this alarm months ago after two waters flooded my home within year, after the current water heater was installed i installed this alarm with the sensor on the floor around the heater, the alarm went off once, i had a very tiny leak, i was very impressed that this alarm worked with just a tiny drop of water on the floor, great, it turned out that i needed an overflow tank so my plumber installed that and put the alarm back in place, that was the end of nov or early dec this morning at am the alarm sounded, using paper towels i checked the floor and wiped with paper towels no moisture wiped off the cable to the alarm and put in place, when i plugged the cord into the alarm the alarm sounded and it will not stop, i called honeywell tech support, after having me wipe the floor and cable again paper towel was completely dry i was asked to remove the battery and wait minutes, the tech person told me to plug in the alarm again, the alarm sounded, i was hoping they had they would send me a replacement, the only way they will replace it is if i can mail them my receipt, i bought this along with several other items, i did not put the receipt in the file for this alarm probably because there was a more expensive item on the same receipt, i am a disabled senior who has had foot surgeries in years, since i have not been able to go up stairs receipts get thrown into boxes that friends have carried to my garage, i can walk now but it has it is degrees here and extremely humid, i can not go into the garage to find the boxes in this weather, i do understand why honeywell wants a receipt to prove the alarm is not more than year old, people do lie and cheat and honeywell has no reason to believe me when i tell them i bought the alarm months ago, i get that, but i can not believe they had they would lose a long time customer over a item because it might be more than one year old, i had i would understand the refusal if i were asking for replacement of a or more item, i have used honeywell thermostats for years, i have bought door chimes expensive humidifiers and many other products, i was even considering a honeywell home security surveillance system, i am really disappointed, usually companies will replace items for good will, this is a good reason why we should sign up for my lowes you can always get a duplicate receipt, i would have rated the alarm stars if had not sounded a false alarm after only months, moral of the story if you buy any honeywell product be sure to file your receipt in a safe place 0.0 1  BlobText  0.10717592592592594\n",
      "39 okay every other review said this was too quiet, i thought hey it has it is in my basement but i shall i will hear it it s a small house i shall i will stick it on the a c ducts so that it echos through the house it went off the other day we only heard it because someone went downstairs to get something out of the room where it lives, this is really really too quiet for practical use 1.0 0  BlobText  0.025\n",
      "45 i like this pad for the most part, i would recommend the contractor version that is sq feet vs this roll, the larger roll is wider and covers a room s floor faster, so if you have a large room to do look for the sq foot roll i did use this roll plus the larger roll together in my living room project, i could not tell a difference in thickness between the two even though various places list a mm difference, practically speaking the difference was not noticeable the sq foot roll i got was in worse shape than the contractor roll too, the plastic flap for sealing strips together had suffered storage rot, i din t bother returning it for toile reasons, i just used good duct tape to seal the seams, knox tape and cheaper duct tape would not stick to the plastic flaps your mileage may vary 0.0 1  BlobText  0.14489795918367346\n",
      "85 i returned it because it only accepted inch shank router bits, it also did not fit my router table at the time 0.0 1  BlobText  -0.1\n",
      "107 i almost bought the bosch pony because it was on sale, this one was more money but is way more versatile, i shall i will be buying another dewalt router soon, the quality is definitely there 0.0 1  BlobText  0.3333333333333333\n",
      "148 i wish i had written this review about a year ago soon after i purchased this tool for a much higher price because it might have caused others to stop and think more carefully about buying this boat anchor, if you do not care about accuracy do not care about the ability to drill holes repeatedly and do not care about the ability to easily drill in hardwood this is the tool for you, i had already used the kreg jig quit a bit and was pretty happy with it, its shortcomings to me were difficulty in adjusting for different wood thicknesses no on board stop for repetitive operations spacing between holes not adjustable sometimes hard and a trial and error process to change hole depth, this porter cable seemed to address the first three of these issues, generally i work with stock or sometimes x s so i do not often need to adjust for thickness, the stop on the porter cable would be nice if it did really ensure repeatable holes, holes on the right side are pretty much repeatable, but holes on the left side are not where they should be because of the flaky mechanism which has way to much slop, similarly the porter cable adjustable hole spacing would be nice if the holes actually came out where indicated by the marks on top where you set the spacing, but they do not again due to the mechanism, for what i do exact hole spacing is usually not an issue, in a recent case however i needed to keep a hole away from a slot in the edge, the slot would receive a panel when the pocket holes were joined, i could have avoided this concern by making a stopped slot, but this is a lot of work, despite carefully aligning the left hole clearly away from the slot and carefully lining up the board against the stop some holes drifted into the slot a little bit, this is non repeatabiliy due to the slop in the device, as for the ability to work with hardwoods i find it difficult to apply enough force to power the bit through using the porter cable, i do not have nearly as much trouble using the kreg, long ago i gave up using a battery powered drill to make pocket holes, i use a corded drill bigger than your standard drill so it has it is not for lack of power that drilling in hardwood is so difficult, i think that either the guide bushings or the furnished bit or both are dull, i thought i try to use one of my kreg bits to sort this out but you can not because the porter cable bit is significantly longer, i have not really used this tool that much and much of my work has been in pine which drills okay, i usually make a pine model of something before i use hardwood because there are almosts always oops that show up during the model buildup, almost always when you have to use more pressure to drill with the porter cable the hole on the left is somewhat closer deeper to the edge of the board than the right hole, this affects hole depth and perhaps screw holding ability, however i have never had a screw break through the receiving board because the hole was too deep, this is again cause by the flaky mechanism and slop, when using the porter cable you control the depth of the hole by pressing the drill bushing against a metal plate that moves with the drill until you reach the correct depth, this requires that you apply even more force when drilling force to move the drill and force to push the plate down, i work around this by simply compressing the plate fully down with my left hand while drilling with my right, when you look at how this mechanism actually works to limit the hole depth you can see how flimsy it is and why hole depths can easily vary, a significant limitation of the porter cable tool is that you can not manually adjust the hole depth, why would one want to do that anyway, here s why, sometimes i need to use a different length of screw than recommended, in a recent case the standard screw length for wood is, when i tested this screw on my project i did not get enough bite because the screw ended up in the slot i discribed above, when i simply tried a screw i got better bite but the end of the screw was uncomfortably close to breaking out of the receiving board, the goal of a perfect pocket hole is that it exit the board at the center of the board, the porter cable tool does this well, what i needed was to adjust the depth of the hole so that the exit point was a little above center so that a longer screw does not come as close to breaking out, the porter cable can not be adjusted, the kreg jig can be but it is not a simple process, one has to adjust the drilling block up toward a thinner wood setting normally it would be set for if using stock, and then you have to also adjust where the bushing is on the drill bit, so a bit of trial and error and testing but doable, a final compaint against both the kreg and porter cable drill bits is that they use only one setscrew to hold the bushing, i have already had a bushing slip, larger setscrews should also be used so that it has it is harder to strip them out, i was wowed by the potential of this tool but for me it is useless i am using the kreg for everything that i really care about, the reason that the porter cable is now so much cheaper than when i paid over for it is either that they can not sell it for that price or they are coming out with a new and improved model 1.0 0  BlobText  0.08091239416540624\n",
      "190 for the most part this machine is a good compromise that does a fairly good job but not great one, it s great for hobby small wood working projects but nothing on a larger scale, one problem i have is with the miter gauge, it does not slide in the channels smoothly and does not hold a setting very well, it s actually very cheaply made and not adequate for a job that requires any degree of accuracy, in searching for a better after market miter gauge i found that rockwell has designed this saw with what are apparently one of a kind channels, i contacted rockwell customer service via e mail and asked about after market gauges and how to acquire a replacement oem gauge and was told that rockwell does not sell after market parts and they did not bother addressing the oem gauge question at all, basically sorry about your luck in addition while looking for a oem gauge i found that several repair parts for the bladerunner have been discontinued and are no longer available, ie the on off switch kind of an important part, this for a machine that is still being sold 1.0 0  BlobText  0.2659649122807018\n",
      "197 definitely not good for ripping even one inch stock in spite of what the description says, it was impossible to keep the blade from being distorted although i used the fence and was slow and careful, the blade is just going to be prone to doing that because it has it is basically a reciprocating saw blade rather long and flexible vs a more dimensionally stable circular blade such as a table saw has, this saw could be useful for straight cuts in thinner stock but my miter saw and band saw handle those so i returned this, rather disappointing 0.0 1  BlobText  -0.10666666666666666\n",
      "204 i love amazon, i was thinking how nice the rockwell would be to own, after reading the reviews, i will wait until they improve it since it appears to be junk was it made in china 1.0 0  BlobText  0.5666666666666668\n",
      "281 i bought this centering cone to use with my bosch router based on the advertised dimensions x x inches amazon s repeated recommendations which in turn were based on my purchase history and based on other bosch owners reviews which said they were using this centering cone with the same full sized router, although the product description does say it has it is for a fixed base compact router i thought i was safe based on all these other factors in particular the dimensions, as it turns out the cone is about in diameter and the pin is on one end and on the other end unfortunately the cone is too small for the base plates that come with bosch s router and the pin can not be used with a collet, the other reviewers who said they used this with their full sized bosch routers must be using aftermarket baseplates and forgot to mention it in their reviews, not a big deal i suppose because you can just use your router and chamfering bit to make your own bigger cone from wood or plastic, but it has it is still a hassle considering that it could not have cost dewalt much more to make the cone just a little bigger i was also disappointed with the amount of play with the included plastic cone, it wobbles enough that you need to wrap a few layers of scotch tape or a layer of electrical tape around the pin to actually get the base plate centered i ended up sending it back because of the size issue and imprecision, if you have a trim router or if your subbase hole is small this centering cone will probably work fine but you may have to wrap some tape around the pin 0.0 1  BlobText  -0.07336309523809524\n"
     ]
    }
   ],
   "source": [
    "idx = incorrect[1]\n",
    "print(type(idx))\n",
    "for each in incorrect[:10]:\n",
    "    idx = each\n",
    "    text = x_test_text[idx]\n",
    "    print(idx, text, cls_pred[idx], cls_true[idx], \" BlobText \",\n",
    "         TextBlob(text).sentiment.polarity)\n"
   ]
  },
  {
   "cell_type": "code",
   "execution_count": 173,
   "metadata": {},
   "outputs": [
    {
     "data": {
      "text/html": [
       "<div>\n",
       "<style scoped>\n",
       "    .dataframe tbody tr th:only-of-type {\n",
       "        vertical-align: middle;\n",
       "    }\n",
       "\n",
       "    .dataframe tbody tr th {\n",
       "        vertical-align: top;\n",
       "    }\n",
       "\n",
       "    .dataframe thead th {\n",
       "        text-align: right;\n",
       "    }\n",
       "</style>\n",
       "<table border=\"1\" class=\"dataframe\">\n",
       "  <thead>\n",
       "    <tr style=\"text-align: right;\">\n",
       "      <th></th>\n",
       "      <th>CleanedJoin</th>\n",
       "      <th>overall</th>\n",
       "      <th>rating</th>\n",
       "      <th>SentimentModel</th>\n",
       "    </tr>\n",
       "  </thead>\n",
       "  <tbody>\n",
       "    <tr>\n",
       "      <th>101061</th>\n",
       "      <td>i love amazon, i was thinking how nice the rockwell would be to own, after reading the reviews, i will wait until they improve it since it appears to be junk was it made in china</td>\n",
       "      <td>2.0</td>\n",
       "      <td>0</td>\n",
       "      <td>[1.1, 1.0]</td>\n",
       "    </tr>\n",
       "    <tr>\n",
       "      <th>101054</th>\n",
       "      <td>definitely not good for ripping even one inch stock in spite of what the description says, it was impossible to keep the blade from being distorted although i used the fence and was slow and careful, the blade is just going to be prone to doing that because it has it is basically a reciprocating saw blade rather long and flexible vs a more dimensionally stable circular blade such as a table saw has, this saw could be useful for straight cuts in thinner stock but my miter saw and band saw han...</td>\n",
       "      <td>3.0</td>\n",
       "      <td>1</td>\n",
       "      <td>[-0.9055555555555554, 0.0]</td>\n",
       "    </tr>\n",
       "    <tr>\n",
       "      <th>101047</th>\n",
       "      <td>for the most part this machine is a good compromise that does a fairly good job but not great one, it s great for hobby small wood working projects but nothing on a larger scale, one problem i have is with the miter gauge, it does not slide in the channels smoothly and does not hold a setting very well, it s actually very cheaply made and not adequate for a job that requires any degree of accuracy, in searching for a better after market miter gauge i found that rockwell has designed this saw...</td>\n",
       "      <td>1.0</td>\n",
       "      <td>0</td>\n",
       "      <td>[1.8850000000000002, 1.0]</td>\n",
       "    </tr>\n",
       "    <tr>\n",
       "      <th>101163</th>\n",
       "      <td>i did not buy this unit but i did buy and return the similar honeywell pls c these claim to be three way switches but require four wires, just a note if you plan to replace this yourself check your wiring first</td>\n",
       "      <td>1.0</td>\n",
       "      <td>0</td>\n",
       "      <td>[0.25, 1.0]</td>\n",
       "    </tr>\n",
       "  </tbody>\n",
       "</table>\n",
       "</div>"
      ],
      "text/plain": [
       "                                                                                                                                                                                                                                                                                                                                                                                                                                                                                                                CleanedJoin  \\\n",
       "101061                                                                                                                                                                                                                                                                                                                                   i love amazon, i was thinking how nice the rockwell would be to own, after reading the reviews, i will wait until they improve it since it appears to be junk was it made in china   \n",
       "101054  definitely not good for ripping even one inch stock in spite of what the description says, it was impossible to keep the blade from being distorted although i used the fence and was slow and careful, the blade is just going to be prone to doing that because it has it is basically a reciprocating saw blade rather long and flexible vs a more dimensionally stable circular blade such as a table saw has, this saw could be useful for straight cuts in thinner stock but my miter saw and band saw han...   \n",
       "101047  for the most part this machine is a good compromise that does a fairly good job but not great one, it s great for hobby small wood working projects but nothing on a larger scale, one problem i have is with the miter gauge, it does not slide in the channels smoothly and does not hold a setting very well, it s actually very cheaply made and not adequate for a job that requires any degree of accuracy, in searching for a better after market miter gauge i found that rockwell has designed this saw...   \n",
       "101163                                                                                                                                                                                                                                                                                                   i did not buy this unit but i did buy and return the similar honeywell pls c these claim to be three way switches but require four wires, just a note if you plan to replace this yourself check your wiring first   \n",
       "\n",
       "        overall  rating              SentimentModel  \n",
       "101061      2.0       0                  [1.1, 1.0]  \n",
       "101054      3.0       1  [-0.9055555555555554, 0.0]  \n",
       "101047      1.0       0   [1.8850000000000002, 1.0]  \n",
       "101163      1.0       0                 [0.25, 1.0]  "
      ]
     },
     "execution_count": 173,
     "metadata": {},
     "output_type": "execute_result"
    }
   ],
   "source": [
    "reviewTextProcessing.loc[list(incorrect + 95814 + 5043), ['CleanedJoin', 'overall', 'rating', 'SentimentModel']]\n",
    "reviewTextProcessing.loc[[101061, 101054, 101047, 101163\n",
    "                         ], ['CleanedJoin', 'overall', 'rating', 'SentimentModel']]"
   ]
  },
  {
   "cell_type": "code",
   "execution_count": 172,
   "metadata": {},
   "outputs": [
    {
     "data": {
      "text/plain": [
       "101163"
      ]
     },
     "execution_count": 172,
     "metadata": {},
     "output_type": "execute_result"
    }
   ],
   "source": [
    "134476 - (33619 + 95814)\n",
    "95814 + 5043 + 306"
   ]
  },
  {
   "cell_type": "code",
   "execution_count": 82,
   "metadata": {},
   "outputs": [],
   "source": [
    "pd.options.display.max_colwidth = 500\n",
    "\n",
    "#productsReviewData.cleanedText.head(2)"
   ]
  }
 ],
 "metadata": {
  "kernelspec": {
   "display_name": "Python 3",
   "language": "python",
   "name": "python3"
  },
  "language_info": {
   "codemirror_mode": {
    "name": "ipython",
    "version": 3
   },
   "file_extension": ".py",
   "mimetype": "text/x-python",
   "name": "python",
   "nbconvert_exporter": "python",
   "pygments_lexer": "ipython3",
   "version": "3.7.3"
  }
 },
 "nbformat": 4,
 "nbformat_minor": 2
}
