{
 "cells": [
  {
   "cell_type": "code",
   "execution_count": 1,
   "metadata": {},
   "outputs": [],
   "source": [
    "#Import libraries\n",
    "import pandas as pd"
   ]
  },
  {
   "cell_type": "code",
   "execution_count": 2,
   "metadata": {},
   "outputs": [],
   "source": [
    "#!pip install TextBlob"
   ]
  },
  {
   "cell_type": "code",
   "execution_count": 3,
   "metadata": {},
   "outputs": [],
   "source": [
    "dirPath = r\"\\data\"\n",
    "reviewPath = r\"reviews_Tools_and_Home_Improvement_5.json.gz\"\n",
    "#reviewPath = r\"reviews_Musical_Instruments_5.json.gz\"\n",
    "reviewPath = r\"cleanData_reviews_Musical_Instruments_5.json.gz\"\n",
    "path = dirPath + \"\\\\\" + reviewPath\n",
    "path = \"preprocessed_reviews_Musical_Instruments_5.pkl.gz\"\n",
    "path = \"preprocessed_reviews_Tools_and_Home_Improvement_5.pkl.gz\""
   ]
  },
  {
   "cell_type": "code",
   "execution_count": 4,
   "metadata": {},
   "outputs": [
    {
     "data": {
      "text/plain": [
       "(123707, 7)"
      ]
     },
     "execution_count": 4,
     "metadata": {},
     "output_type": "execute_result"
    }
   ],
   "source": [
    "data = pd.read_pickle(path)\n",
    "data.shape"
   ]
  },
  {
   "cell_type": "code",
   "execution_count": 5,
   "metadata": {},
   "outputs": [
    {
     "data": {
      "text/plain": [
       "10105"
      ]
     },
     "execution_count": 5,
     "metadata": {},
     "output_type": "execute_result"
    }
   ],
   "source": [
    "negativeReviews = data.loc[data['trueRating'] == 0, :]\n",
    "negativeReviews.shape[0]\n"
   ]
  },
  {
   "cell_type": "code",
   "execution_count": 6,
   "metadata": {},
   "outputs": [],
   "source": [
    "#data = data.iloc[0:size*5, :]"
   ]
  },
  {
   "cell_type": "code",
   "execution_count": 7,
   "metadata": {},
   "outputs": [
    {
     "data": {
      "text/html": [
       "<div>\n",
       "<style scoped>\n",
       "    .dataframe tbody tr th:only-of-type {\n",
       "        vertical-align: middle;\n",
       "    }\n",
       "\n",
       "    .dataframe tbody tr th {\n",
       "        vertical-align: top;\n",
       "    }\n",
       "\n",
       "    .dataframe thead th {\n",
       "        text-align: right;\n",
       "    }\n",
       "</style>\n",
       "<table border=\"1\" class=\"dataframe\">\n",
       "  <thead>\n",
       "    <tr style=\"text-align: right;\">\n",
       "      <th></th>\n",
       "      <th>masterIndex</th>\n",
       "      <th>asin</th>\n",
       "      <th>reviewText</th>\n",
       "      <th>helpful</th>\n",
       "      <th>overall</th>\n",
       "      <th>trueRating</th>\n",
       "      <th>CleanedJoin</th>\n",
       "    </tr>\n",
       "  </thead>\n",
       "  <tbody>\n",
       "    <tr>\n",
       "      <th>123477</th>\n",
       "      <td>134239</td>\n",
       "      <td>B00JPBDL9W</td>\n",
       "      <td>I have converted three-quarters of my home to ...</td>\n",
       "      <td>[0, 0]</td>\n",
       "      <td>2.0</td>\n",
       "      <td>0.0</td>\n",
       "      <td>i have convert three quarter of my home to lea...</td>\n",
       "    </tr>\n",
       "    <tr>\n",
       "      <th>123556</th>\n",
       "      <td>134322</td>\n",
       "      <td>B00JXSASK2</td>\n",
       "      <td>Amazing that they designed this thing without ...</td>\n",
       "      <td>[2, 2]</td>\n",
       "      <td>1.0</td>\n",
       "      <td>0.0</td>\n",
       "      <td>amaze that they design this thing without real...</td>\n",
       "    </tr>\n",
       "  </tbody>\n",
       "</table>\n",
       "</div>"
      ],
      "text/plain": [
       "        masterIndex        asin  \\\n",
       "123477       134239  B00JPBDL9W   \n",
       "123556       134322  B00JXSASK2   \n",
       "\n",
       "                                               reviewText helpful  overall  \\\n",
       "123477  I have converted three-quarters of my home to ...  [0, 0]      2.0   \n",
       "123556  Amazing that they designed this thing without ...  [2, 2]      1.0   \n",
       "\n",
       "        trueRating                                        CleanedJoin  \n",
       "123477         0.0  i have convert three quarter of my home to lea...  \n",
       "123556         0.0  amaze that they design this thing without real...  "
      ]
     },
     "execution_count": 7,
     "metadata": {},
     "output_type": "execute_result"
    }
   ],
   "source": [
    "negativeReviews.tail(2)"
   ]
  },
  {
   "cell_type": "code",
   "execution_count": 8,
   "metadata": {},
   "outputs": [
    {
     "data": {
      "text/html": [
       "<div>\n",
       "<style scoped>\n",
       "    .dataframe tbody tr th:only-of-type {\n",
       "        vertical-align: middle;\n",
       "    }\n",
       "\n",
       "    .dataframe tbody tr th {\n",
       "        vertical-align: top;\n",
       "    }\n",
       "\n",
       "    .dataframe thead th {\n",
       "        text-align: right;\n",
       "    }\n",
       "</style>\n",
       "<table border=\"1\" class=\"dataframe\">\n",
       "  <thead>\n",
       "    <tr style=\"text-align: right;\">\n",
       "      <th></th>\n",
       "      <th>masterIndex</th>\n",
       "      <th>asin</th>\n",
       "      <th>reviewText</th>\n",
       "      <th>helpful</th>\n",
       "      <th>overall</th>\n",
       "      <th>trueRating</th>\n",
       "      <th>CleanedJoin</th>\n",
       "    </tr>\n",
       "  </thead>\n",
       "  <tbody>\n",
       "    <tr>\n",
       "      <th>123556</th>\n",
       "      <td>134322</td>\n",
       "      <td>B00JXSASK2</td>\n",
       "      <td>Amazing that they designed this thing without ...</td>\n",
       "      <td>[2, 2]</td>\n",
       "      <td>1.0</td>\n",
       "      <td>0.0</td>\n",
       "      <td>amaze that they design this thing without real...</td>\n",
       "    </tr>\n",
       "  </tbody>\n",
       "</table>\n",
       "</div>"
      ],
      "text/plain": [
       "        masterIndex        asin  \\\n",
       "123556       134322  B00JXSASK2   \n",
       "\n",
       "                                               reviewText helpful  overall  \\\n",
       "123556  Amazing that they designed this thing without ...  [2, 2]      1.0   \n",
       "\n",
       "        trueRating                                        CleanedJoin  \n",
       "123556         0.0  amaze that they design this thing without real...  "
      ]
     },
     "execution_count": 8,
     "metadata": {},
     "output_type": "execute_result"
    }
   ],
   "source": [
    "#Pad more negative reviews for better training purposes\n",
    "testSample = pd.concat([data, negativeReviews])\n",
    "#testSample = data\n",
    "#testSample.reset_index(drop=True, inplace=True)\n",
    "testSample.tail(1)"
   ]
  },
  {
   "cell_type": "code",
   "execution_count": 9,
   "metadata": {},
   "outputs": [
    {
     "data": {
      "text/plain": [
       "133812"
      ]
     },
     "execution_count": 9,
     "metadata": {},
     "output_type": "execute_result"
    }
   ],
   "source": [
    "import itertools\n",
    "\n",
    "largeText = testSample.CleanedJoin.to_list()\n",
    "#largeText = reviewTextProcessing.reviewText.to_list() # Not too good accuracy around 116 missed with %86.94\n",
    "\n",
    "len(largeText)"
   ]
  },
  {
   "cell_type": "code",
   "execution_count": 10,
   "metadata": {},
   "outputs": [],
   "source": [
    "from tensorflow.python.keras.preprocessing.text import Tokenizer\n",
    "from tensorflow.python.keras.preprocessing.sequence import pad_sequences\n",
    "from sklearn.model_selection import train_test_split"
   ]
  },
  {
   "cell_type": "code",
   "execution_count": 11,
   "metadata": {},
   "outputs": [],
   "source": [
    "num_words = 15000"
   ]
  },
  {
   "cell_type": "code",
   "execution_count": 12,
   "metadata": {},
   "outputs": [],
   "source": [
    "tokenizer = Tokenizer(num_words=num_words)\n",
    "tokenizer.fit_on_texts(largeText)\n",
    "#tokenizer.word_index"
   ]
  },
  {
   "cell_type": "code",
   "execution_count": 13,
   "metadata": {},
   "outputs": [],
   "source": [
    "X = largeText\n",
    "y = testSample['trueRating']\n",
    "X_train, X_test, y_train, y_test = train_test_split(X, y, test_size=.25, random_state=310)\n",
    "\n",
    "x_train_text = X_train\n",
    "x_test_text = X_test\n",
    "\n",
    "x_train_tokens = tokenizer.texts_to_sequences(x_train_text)\n",
    "x_test_tokens = tokenizer.texts_to_sequences(x_test_text)"
   ]
  },
  {
   "cell_type": "raw",
   "metadata": {},
   "source": [
    "#  not very good way to arrange the samples \n",
    "size = int(len(largeText)*.75)\n",
    "x_train_text = largeText[:size]\n",
    "x_test_text = largeText[size:]\n",
    "\n",
    "y_train =  reviewTextProcessing['rating'][:size]\n",
    "y_test = reviewTextProcessing['rating'][size:]\n",
    "x_train_tokens = tokenizer.texts_to_sequences(x_train_text)\n",
    "x_test_tokens = tokenizer.texts_to_sequences(x_test_text)\n"
   ]
  },
  {
   "cell_type": "code",
   "execution_count": 14,
   "metadata": {},
   "outputs": [
    {
     "data": {
      "text/plain": [
       "(100359, 33453, 100359, 33453)"
      ]
     },
     "execution_count": 14,
     "metadata": {},
     "output_type": "execute_result"
    }
   ],
   "source": [
    "len(y_train), len(y_test), len(x_train_text), len(x_test_text)"
   ]
  },
  {
   "cell_type": "code",
   "execution_count": 15,
   "metadata": {},
   "outputs": [],
   "source": [
    "#x_train_tokens[1], x_train_text[1]"
   ]
  },
  {
   "cell_type": "code",
   "execution_count": 16,
   "metadata": {},
   "outputs": [],
   "source": [
    "import numpy as np\n",
    "\n",
    "x_train_text[1]\n",
    "np.array(x_train_tokens[1])\n",
    "num_tokens = [len(tokens) for tokens in x_train_tokens + x_test_tokens]\n",
    "num_tokens = np.array(num_tokens)\n"
   ]
  },
  {
   "cell_type": "code",
   "execution_count": 17,
   "metadata": {},
   "outputs": [
    {
     "data": {
      "text/plain": [
       "(111.61465339431442, 4959)"
      ]
     },
     "execution_count": 17,
     "metadata": {},
     "output_type": "execute_result"
    }
   ],
   "source": [
    "np.mean(num_tokens), np.max(num_tokens)\n"
   ]
  },
  {
   "cell_type": "code",
   "execution_count": 18,
   "metadata": {},
   "outputs": [
    {
     "data": {
      "text/plain": [
       "133.85901020345165"
      ]
     },
     "execution_count": 18,
     "metadata": {},
     "output_type": "execute_result"
    }
   ],
   "source": [
    "np.std(num_tokens)"
   ]
  },
  {
   "cell_type": "code",
   "execution_count": 19,
   "metadata": {},
   "outputs": [
    {
     "data": {
      "text/plain": [
       "379"
      ]
     },
     "execution_count": 19,
     "metadata": {},
     "output_type": "execute_result"
    }
   ],
   "source": [
    "max_tokens = np.mean(num_tokens) + 2 * np.std(num_tokens)\n",
    "max_tokens = int(max_tokens) \n",
    "max_tokens\n"
   ]
  },
  {
   "cell_type": "code",
   "execution_count": 20,
   "metadata": {},
   "outputs": [
    {
     "data": {
      "text/plain": [
       "0.9588078797118346"
      ]
     },
     "execution_count": 20,
     "metadata": {},
     "output_type": "execute_result"
    }
   ],
   "source": [
    "np.sum(num_tokens < max_tokens) / len(num_tokens)\n"
   ]
  },
  {
   "cell_type": "code",
   "execution_count": 21,
   "metadata": {},
   "outputs": [
    {
     "data": {
      "text/plain": [
       "((100359, 379), (33453, 379))"
      ]
     },
     "execution_count": 21,
     "metadata": {},
     "output_type": "execute_result"
    }
   ],
   "source": [
    "pad = 'pre'\n",
    "#pad = 'post'\n",
    "x_train_pad = pad_sequences(x_train_tokens, maxlen=max_tokens, padding=pad, truncating=pad)\n",
    "x_test_pad = pad_sequences(x_test_tokens, maxlen=max_tokens, padding=pad, truncating=pad)\n",
    "x_train_pad.shape, x_test_pad.shape\n"
   ]
  },
  {
   "cell_type": "code",
   "execution_count": 22,
   "metadata": {
    "scrolled": true
   },
   "outputs": [
    {
     "name": "stdout",
     "output_type": "stream",
     "text": [
      "[   0    0    0    0    0    0    0    0    0    0    0    0    0    0\n",
      "    0    0    0    0    0    0    0    0    0    0    0    0    0    0\n",
      "    0    0    0    0    0    0    0    0    0    0    0    0    0    0\n",
      "    0    0    0    0    0    0    0    0    0    0    0    0    0    0\n",
      "    0    0    0    0    0    0    0    0    0    0    0    0    0    0\n",
      "    0    0    0    0    0    0    0    0    0    0    0    0    0    0\n",
      "    0    0    0    0    0    0    0    0    0    0    0    0    0    0\n",
      "    0    0    0    0    0    0    0    0    0    0    0    0    0    0\n",
      "    0    0    0    0    0    0    0    0    0    0    0    0    0    0\n",
      "    0    0    0    0    0    0    0    0    0    0    0    0    0    0\n",
      "    0    0    0    0    0    0    0    0    0    0    0    0    0    0\n",
      "    0    0    0    0    0    0    0    0    0    0    0    0    0    0\n",
      "    0    0    0    0    0    0    0    0    0    0    0    0    0    0\n",
      "    0    0    0    0    0    0    0    0    0    0    0    0    0    0\n",
      "    0    0    0    0    0    0    0    0    0    0    0    0    0    0\n",
      "    0    0    0    0    0    0    0    0    0    0    0    0    0    0\n",
      "    0    0    0    0    0    0    0    0    0    0    0    0    0    0\n",
      "    0    0    0    0    0    0    0    0    0    0    0    0    0    0\n",
      "    0    0    0    0    0    0    0    0    0    0    0    0    0    0\n",
      "    0    0    0    0    0    0    0    0    0    0    0    0    0    0\n",
      "    0    0    0    0    0    0    0    0    0    0    0    0    0    0\n",
      "    0    0    0    0    0    0    0    0    0    0    0    0    0    0\n",
      "    0    0    0    0    0    0    0    0    0    0    0    0    0   28\n",
      "  248  706   10   11    1   79    8 1209    1 1466   12   49  846  861\n",
      "   53   40    6   52  177    1   47 1209    4    2   59    6   45  166\n",
      "   23    3   44    8   12    8   89  531   16    1   53  373  324    5\n",
      "    2   32  302    6   19    1 1391   22   18   75   26    2  602    6\n",
      "   18]\n"
     ]
    }
   ],
   "source": [
    "for i in range(3, 4):\n",
    "    print(x_train_pad[i])\n"
   ]
  },
  {
   "cell_type": "code",
   "execution_count": 23,
   "metadata": {},
   "outputs": [],
   "source": [
    "def tokens_to_string(tokens):\n",
    "    # Map from tokens back to words.\n",
    "    words = [inverse_map[token] for token in tokens if token != 0]\n",
    "    \n",
    "    # Concatenate all words.\n",
    "    text = \" \".join(words)\n",
    "\n",
    "    return text"
   ]
  },
  {
   "cell_type": "code",
   "execution_count": 24,
   "metadata": {},
   "outputs": [],
   "source": [
    "idx = tokenizer.word_index\n",
    "inverse_map = dict(zip(idx.values(), idx.keys()))"
   ]
  },
  {
   "cell_type": "code",
   "execution_count": 25,
   "metadata": {},
   "outputs": [
    {
     "data": {
      "text/plain": [
       "'very handy and easy to use, these arrive on time and in good condition, nice to have in shop when you need it you need it'"
      ]
     },
     "execution_count": 25,
     "metadata": {},
     "output_type": "execute_result"
    }
   ],
   "source": [
    "x_train_text[1]"
   ]
  },
  {
   "cell_type": "code",
   "execution_count": 26,
   "metadata": {
    "scrolled": true
   },
   "outputs": [
    {
     "data": {
      "text/plain": [
       "'very handy and easy to use these arrive on time and in good condition nice to have in shop when you need it you need it'"
      ]
     },
     "execution_count": 26,
     "metadata": {},
     "output_type": "execute_result"
    }
   ],
   "source": [
    "tokens_to_string(x_train_tokens[1])"
   ]
  },
  {
   "cell_type": "code",
   "execution_count": 27,
   "metadata": {},
   "outputs": [
    {
     "data": {
      "text/plain": [
       "'1.13.2'"
      ]
     },
     "execution_count": 27,
     "metadata": {},
     "output_type": "execute_result"
    }
   ],
   "source": [
    "import tensorflow as tf\n",
    "tf.__version__"
   ]
  },
  {
   "cell_type": "code",
   "execution_count": 28,
   "metadata": {},
   "outputs": [
    {
     "name": "stderr",
     "output_type": "stream",
     "text": [
      "Using TensorFlow backend.\n"
     ]
    },
    {
     "data": {
      "text/plain": [
       "<module 'modelCNNImplementation' from 'C:\\\\Study\\\\Projects\\\\NLP\\\\modelCNNImplementation.py'>"
      ]
     },
     "execution_count": 28,
     "metadata": {},
     "output_type": "execute_result"
    }
   ],
   "source": [
    "#abstract CNN\n",
    "import modelCNNImplementation as modelCNN\n",
    "import importlib\n",
    "importlib.reload(modelCNN)"
   ]
  },
  {
   "cell_type": "code",
   "execution_count": 29,
   "metadata": {},
   "outputs": [
    {
     "name": "stdout",
     "output_type": "stream",
     "text": [
      "WARNING:tensorflow:From C:\\Study\\Anaconda3v2\\lib\\site-packages\\tensorflow\\python\\framework\\op_def_library.py:263: colocate_with (from tensorflow.python.framework.ops) is deprecated and will be removed in a future version.\n",
      "Instructions for updating:\n",
      "Colocations handled automatically by placer.\n",
      "_________________________________________________________________\n",
      "Layer (type)                 Output Shape              Param #   \n",
      "=================================================================\n",
      "embedding_1 (Embedding)      (None, 379, 200)          3000000   \n",
      "_________________________________________________________________\n",
      "conv1d_1 (Conv1D)            (None, 378, 100)          40100     \n",
      "_________________________________________________________________\n",
      "global_max_pooling1d_1 (Glob (None, 100)               0         \n",
      "_________________________________________________________________\n",
      "dense_1 (Dense)              (None, 256)               25856     \n",
      "_________________________________________________________________\n",
      "dense_2 (Dense)              (None, 1)                 257       \n",
      "=================================================================\n",
      "Total params: 3,066,213\n",
      "Trainable params: 3,066,213\n",
      "Non-trainable params: 0\n",
      "_________________________________________________________________\n"
     ]
    }
   ],
   "source": [
    "model_cnn = modelCNN.compileCNNModel(max_tokens=max_tokens)\n",
    "model_cnn.summary()"
   ]
  },
  {
   "cell_type": "code",
   "execution_count": 30,
   "metadata": {},
   "outputs": [
    {
     "data": {
      "text/plain": [
       "<module 'modelRNNImplementation' from 'C:\\\\Study\\\\Projects\\\\NLP\\\\modelRNNImplementation.py'>"
      ]
     },
     "execution_count": 30,
     "metadata": {},
     "output_type": "execute_result"
    }
   ],
   "source": [
    "import modelRNNImplementation as modelRNN\n",
    "import importlib\n",
    "importlib.reload(modelRNN)"
   ]
  },
  {
   "cell_type": "code",
   "execution_count": 31,
   "metadata": {},
   "outputs": [
    {
     "name": "stdout",
     "output_type": "stream",
     "text": [
      "_________________________________________________________________\n",
      "Layer (type)                 Output Shape              Param #   \n",
      "=================================================================\n",
      "layer_embedding (Embedding)  (None, 379, 200)          3000000   \n",
      "_________________________________________________________________\n",
      "gru_1 (GRU)                  (None, 379, 16)           10416     \n",
      "_________________________________________________________________\n",
      "gru_2 (GRU)                  (None, 379, 8)            600       \n",
      "_________________________________________________________________\n",
      "gru_3 (GRU)                  (None, 4)                 156       \n",
      "_________________________________________________________________\n",
      "dense_3 (Dense)              (None, 1)                 5         \n",
      "=================================================================\n",
      "Total params: 3,011,177\n",
      "Trainable params: 3,011,177\n",
      "Non-trainable params: 0\n",
      "_________________________________________________________________\n"
     ]
    }
   ],
   "source": [
    "model_rnn = modelRNN.compileRNNModel(max_tokens=max_tokens, embedding_size=200)\n",
    "model_rnn.summary()"
   ]
  },
  {
   "cell_type": "code",
   "execution_count": 32,
   "metadata": {},
   "outputs": [
    {
     "data": {
      "text/plain": [
       "(100359, 33453, 133812)"
      ]
     },
     "execution_count": 32,
     "metadata": {},
     "output_type": "execute_result"
    }
   ],
   "source": [
    "index = len(x_train_pad)\n",
    "index\n",
    "len(y_train), len(y_test), len(y_train) + len(y_test)"
   ]
  },
  {
   "cell_type": "code",
   "execution_count": 33,
   "metadata": {},
   "outputs": [
    {
     "name": "stdout",
     "output_type": "stream",
     "text": [
      "WARNING:tensorflow:From C:\\Study\\Anaconda3v2\\lib\\site-packages\\tensorflow\\python\\ops\\math_ops.py:3066: to_int32 (from tensorflow.python.ops.math_ops) is deprecated and will be removed in a future version.\n",
      "Instructions for updating:\n",
      "Use tf.cast instead.\n",
      "WARNING:tensorflow:From C:\\Study\\Anaconda3v2\\lib\\site-packages\\tensorflow\\python\\ops\\math_grad.py:102: div (from tensorflow.python.ops.math_ops) is deprecated and will be removed in a future version.\n",
      "Instructions for updating:\n",
      "Deprecated in favor of operator or tf.math.divide.\n",
      "Train on 95341 samples, validate on 5018 samples\n",
      "Epoch 1/3\n",
      "95341/95341 [==============================] - 522s 5ms/step - loss: 0.2291 - acc: 0.9092 - val_loss: 0.1657 - val_acc: 0.9388\n",
      "Epoch 2/3\n",
      "95341/95341 [==============================] - 531s 6ms/step - loss: 0.1250 - acc: 0.9529 - val_loss: 0.1364 - val_acc: 0.9426\n",
      "Epoch 3/3\n",
      "95341/95341 [==============================] - 396s 4ms/step - loss: 0.0752 - acc: 0.9727 - val_loss: 0.1273 - val_acc: 0.9532\n",
      "Wall time: 24min 9s\n"
     ]
    },
    {
     "data": {
      "text/plain": [
       "<keras.callbacks.History at 0x31d79e48>"
      ]
     },
     "execution_count": 33,
     "metadata": {},
     "output_type": "execute_result"
    }
   ],
   "source": [
    "%%time\n",
    "model_cnn.fit(x_train_pad, y_train, validation_split=0.05, epochs=3, batch_size=64)\n",
    "#model.fit(x_train_pad, y_train,validation_split=0.05, epochs=3, batch_size=74)"
   ]
  },
  {
   "cell_type": "code",
   "execution_count": 34,
   "metadata": {},
   "outputs": [
    {
     "name": "stdout",
     "output_type": "stream",
     "text": [
      "Train on 95341 samples, validate on 5018 samples\n",
      "Epoch 1/3\n",
      "95341/95341 [==============================] - 830s 9ms/step - loss: 0.2848 - acc: 0.8932 - val_loss: 0.1974 - val_acc: 0.9249\n",
      "Epoch 2/3\n",
      "95341/95341 [==============================] - 820s 9ms/step - loss: 0.1564 - acc: 0.9439 - val_loss: 0.1549 - val_acc: 0.9422\n",
      "Epoch 3/3\n",
      "95341/95341 [==============================] - 841s 9ms/step - loss: 0.1034 - acc: 0.9658 - val_loss: 0.1409 - val_acc: 0.9518\n",
      "Wall time: 41min 33s\n"
     ]
    },
    {
     "data": {
      "text/plain": [
       "<keras.callbacks.History at 0x3237f198>"
      ]
     },
     "execution_count": 34,
     "metadata": {},
     "output_type": "execute_result"
    }
   ],
   "source": [
    "%%time\n",
    "model_rnn.fit(x_train_pad, y_train, validation_split=0.05, epochs=3, batch_size=128)\n",
    "#model.fit(x_train_pad, y_train,validation_split=0.05, epochs=3, batch_size=74)"
   ]
  },
  {
   "cell_type": "code",
   "execution_count": 35,
   "metadata": {},
   "outputs": [
    {
     "name": "stdout",
     "output_type": "stream",
     "text": [
      "33453/33453 [==============================] - 45s 1ms/step\n"
     ]
    }
   ],
   "source": [
    "#%%time\n",
    "cnn_result = model_cnn.evaluate(x_test_pad, y_test)"
   ]
  },
  {
   "cell_type": "code",
   "execution_count": 36,
   "metadata": {},
   "outputs": [
    {
     "name": "stdout",
     "output_type": "stream",
     "text": [
      "33453/33453 [==============================] - 116s 3ms/step\n"
     ]
    }
   ],
   "source": [
    "#%%time\n",
    "rnn_result = model_rnn.evaluate(x_test_pad, y_test)"
   ]
  },
  {
   "cell_type": "code",
   "execution_count": 37,
   "metadata": {},
   "outputs": [
    {
     "name": "stdout",
     "output_type": "stream",
     "text": [
      "Accuracy: 94.87%\n"
     ]
    }
   ],
   "source": [
    "print(\"Accuracy: {0:.2%}\".format(rnn_result[1]))"
   ]
  },
  {
   "cell_type": "code",
   "execution_count": 39,
   "metadata": {},
   "outputs": [
    {
     "name": "stdout",
     "output_type": "stream",
     "text": [
      "Accuracy: 95.10%\n"
     ]
    }
   ],
   "source": [
    "print(\"Accuracy: {0:.2%}\".format(cnn_result[1]))\n"
   ]
  },
  {
   "cell_type": "code",
   "execution_count": 40,
   "metadata": {},
   "outputs": [
    {
     "name": "stdout",
     "output_type": "stream",
     "text": [
      "Wall time: 39.3 s\n"
     ]
    }
   ],
   "source": [
    "%%time\n",
    "cnn_y_pred = model_cnn.predict(x=x_test_pad)\n",
    "cnn_y_pred = cnn_y_pred.T[0]"
   ]
  },
  {
   "cell_type": "code",
   "execution_count": 41,
   "metadata": {},
   "outputs": [
    {
     "name": "stdout",
     "output_type": "stream",
     "text": [
      "Wall time: 1min 47s\n"
     ]
    }
   ],
   "source": [
    "%%time\n",
    "rnn_y_pred = model_rnn.predict(x=x_test_pad)\n",
    "rnn_y_pred = rnn_y_pred.T[0]"
   ]
  },
  {
   "cell_type": "code",
   "execution_count": 42,
   "metadata": {},
   "outputs": [
    {
     "data": {
      "text/plain": [
       "(                  0\n",
       " count  33453.000000\n",
       " mean       0.834357\n",
       " std        0.332229\n",
       " min        0.000071\n",
       " 25%        0.944408\n",
       " 50%        0.999085\n",
       " 75%        0.999959\n",
       " max        1.000000,                   0\n",
       " count  33453.000000\n",
       " mean       0.856336\n",
       " std        0.310601\n",
       " min        0.008763\n",
       " 25%        0.978606\n",
       " 50%        0.994482\n",
       " 75%        0.995702\n",
       " max        0.996268)"
      ]
     },
     "execution_count": 42,
     "metadata": {},
     "output_type": "execute_result"
    }
   ],
   "source": [
    "pd.DataFrame(cnn_y_pred).describe(), pd.DataFrame(rnn_y_pred).describe()"
   ]
  },
  {
   "cell_type": "code",
   "execution_count": 43,
   "metadata": {},
   "outputs": [
    {
     "data": {
      "text/plain": [
       "((33453,), (33453,))"
      ]
     },
     "execution_count": 43,
     "metadata": {},
     "output_type": "execute_result"
    }
   ],
   "source": [
    "cnn_y_pred.shape, rnn_y_pred.shape"
   ]
  },
  {
   "cell_type": "code",
   "execution_count": 44,
   "metadata": {},
   "outputs": [],
   "source": [
    "cnn_cls_pred = np.array([1.0 if p>0.5 else 0.0 for p in cnn_y_pred])\n",
    "rnn_cls_pred = np.array([1.0 if p>0.5 else 0.0 for p in rnn_y_pred])"
   ]
  },
  {
   "cell_type": "code",
   "execution_count": 45,
   "metadata": {},
   "outputs": [
    {
     "data": {
      "text/plain": [
       "(33453, 33453)"
      ]
     },
     "execution_count": 45,
     "metadata": {},
     "output_type": "execute_result"
    }
   ],
   "source": [
    "len(cnn_cls_pred), len(rnn_cls_pred)"
   ]
  },
  {
   "cell_type": "code",
   "execution_count": 46,
   "metadata": {},
   "outputs": [
    {
     "data": {
      "text/plain": [
       "(0.9509759961737363, 0.9486742594087226)"
      ]
     },
     "execution_count": 46,
     "metadata": {},
     "output_type": "execute_result"
    }
   ],
   "source": [
    "cnn_accuracy = (cnn_cls_pred==y_test).mean()\n",
    "rnn_accuracy = (rnn_cls_pred==y_test).mean()\n",
    "cnn_accuracy, rnn_accuracy"
   ]
  },
  {
   "cell_type": "code",
   "execution_count": 47,
   "metadata": {},
   "outputs": [],
   "source": [
    "from sklearn.metrics import confusion_matrix"
   ]
  },
  {
   "cell_type": "code",
   "execution_count": 48,
   "metadata": {},
   "outputs": [
    {
     "data": {
      "text/plain": [
       "(4431, 653, 987, 27382)"
      ]
     },
     "execution_count": 48,
     "metadata": {},
     "output_type": "execute_result"
    }
   ],
   "source": [
    "#Check for padding\n",
    "tn, fp, fn, tp = confusion_matrix(y_test, cnn_cls_pred).ravel()\n",
    "tn, fp, fn, tp"
   ]
  },
  {
   "cell_type": "code",
   "execution_count": 49,
   "metadata": {},
   "outputs": [
    {
     "data": {
      "text/plain": [
       "(4033, 1051, 666, 27703)"
      ]
     },
     "execution_count": 49,
     "metadata": {},
     "output_type": "execute_result"
    }
   ],
   "source": [
    "tn, fp, fn, tp = confusion_matrix(y_test, rnn_cls_pred).ravel()\n",
    "tn, fp, fn, tp"
   ]
  },
  {
   "cell_type": "code",
   "execution_count": 50,
   "metadata": {},
   "outputs": [
    {
     "data": {
      "text/plain": [
       "(5084, 28369)"
      ]
     },
     "execution_count": 50,
     "metadata": {},
     "output_type": "execute_result"
    }
   ],
   "source": [
    "len(np.where(y_test==0)[0]),len(np.where(y_test==1)[0])"
   ]
  },
  {
   "cell_type": "code",
   "execution_count": 51,
   "metadata": {},
   "outputs": [
    {
     "data": {
      "text/plain": [
       "(15126, 85233)"
      ]
     },
     "execution_count": 51,
     "metadata": {},
     "output_type": "execute_result"
    }
   ],
   "source": [
    "len(np.where(y_train==0)[0]),len(np.where(y_train==1)[0])"
   ]
  },
  {
   "cell_type": "code",
   "execution_count": 52,
   "metadata": {},
   "outputs": [],
   "source": [
    "cls_true = np.array(y_test)"
   ]
  },
  {
   "cell_type": "code",
   "execution_count": 53,
   "metadata": {},
   "outputs": [],
   "source": [
    "y_test.index\n",
    "y_test.values\n",
    "result = pd.DataFrame()\n",
    "result['Index'] = y_test.index\n",
    "result['TrueRating'] = y_test.values\n",
    "result['CNNRating'] = cnn_cls_pred\n",
    "result['RNNRating'] = rnn_cls_pred"
   ]
  },
  {
   "cell_type": "code",
   "execution_count": 54,
   "metadata": {},
   "outputs": [
    {
     "data": {
      "text/plain": [
       "(33453, 4)"
      ]
     },
     "execution_count": 54,
     "metadata": {},
     "output_type": "execute_result"
    }
   ],
   "source": [
    "result.shape"
   ]
  },
  {
   "cell_type": "code",
   "execution_count": 55,
   "metadata": {},
   "outputs": [
    {
     "data": {
      "text/plain": [
       "(32836, 4)"
      ]
     },
     "execution_count": 55,
     "metadata": {},
     "output_type": "execute_result"
    }
   ],
   "source": [
    "# need to drop the duplicates due to negative padding\n",
    "result.drop_duplicates(subset=\"Index\", inplace=True)\n",
    "result.shape"
   ]
  },
  {
   "cell_type": "code",
   "execution_count": 56,
   "metadata": {},
   "outputs": [
    {
     "data": {
      "text/html": [
       "<div>\n",
       "<style scoped>\n",
       "    .dataframe tbody tr th:only-of-type {\n",
       "        vertical-align: middle;\n",
       "    }\n",
       "\n",
       "    .dataframe tbody tr th {\n",
       "        vertical-align: top;\n",
       "    }\n",
       "\n",
       "    .dataframe thead th {\n",
       "        text-align: right;\n",
       "    }\n",
       "</style>\n",
       "<table border=\"1\" class=\"dataframe\">\n",
       "  <thead>\n",
       "    <tr style=\"text-align: right;\">\n",
       "      <th></th>\n",
       "      <th>Index</th>\n",
       "      <th>TrueRating</th>\n",
       "      <th>CNNRating</th>\n",
       "      <th>RNNRating</th>\n",
       "    </tr>\n",
       "  </thead>\n",
       "  <tbody>\n",
       "    <tr>\n",
       "      <th>0</th>\n",
       "      <td>96807</td>\n",
       "      <td>1.0</td>\n",
       "      <td>1.0</td>\n",
       "      <td>1.0</td>\n",
       "    </tr>\n",
       "  </tbody>\n",
       "</table>\n",
       "</div>"
      ],
      "text/plain": [
       "   Index  TrueRating  CNNRating  RNNRating\n",
       "0  96807         1.0        1.0        1.0"
      ]
     },
     "execution_count": 56,
     "metadata": {},
     "output_type": "execute_result"
    }
   ],
   "source": [
    "result.head(1)"
   ]
  },
  {
   "cell_type": "code",
   "execution_count": 57,
   "metadata": {},
   "outputs": [
    {
     "data": {
      "text/plain": [
       "((32836, 8),\n",
       " Index(['Index', 'masterIndex', 'asin', 'reviewText', 'helpful', 'overall',\n",
       "        'trueRating', 'CleanedJoin'],\n",
       "       dtype='object'))"
      ]
     },
     "execution_count": 57,
     "metadata": {},
     "output_type": "execute_result"
    }
   ],
   "source": [
    "df = testSample.loc[result.Index.to_list(), :]\n",
    "df = df.reset_index()\n",
    "#A.drop_duplicates()\n",
    "df= df.drop_duplicates(subset=\"index\")\n",
    "df.rename(columns={\"index\": \"Index\"}, inplace=True)\n",
    "df.shape, df.columns"
   ]
  },
  {
   "cell_type": "code",
   "execution_count": 58,
   "metadata": {},
   "outputs": [
    {
     "data": {
      "text/html": [
       "<div>\n",
       "<style scoped>\n",
       "    .dataframe tbody tr th:only-of-type {\n",
       "        vertical-align: middle;\n",
       "    }\n",
       "\n",
       "    .dataframe tbody tr th {\n",
       "        vertical-align: top;\n",
       "    }\n",
       "\n",
       "    .dataframe thead th {\n",
       "        text-align: right;\n",
       "    }\n",
       "</style>\n",
       "<table border=\"1\" class=\"dataframe\">\n",
       "  <thead>\n",
       "    <tr style=\"text-align: right;\">\n",
       "      <th></th>\n",
       "      <th>Index</th>\n",
       "      <th>masterIndex</th>\n",
       "      <th>asin</th>\n",
       "      <th>reviewText</th>\n",
       "      <th>helpful</th>\n",
       "      <th>overall</th>\n",
       "      <th>trueRating</th>\n",
       "      <th>CleanedJoin</th>\n",
       "    </tr>\n",
       "  </thead>\n",
       "  <tbody>\n",
       "    <tr>\n",
       "      <th>0</th>\n",
       "      <td>96807</td>\n",
       "      <td>105069</td>\n",
       "      <td>B004TEIMVC</td>\n",
       "      <td>If you're an advanced user, whether that be a ...</td>\n",
       "      <td>[3, 4]</td>\n",
       "      <td>5.0</td>\n",
       "      <td>1.0</td>\n",
       "      <td>if you be an advance user whether that be a ho...</td>\n",
       "    </tr>\n",
       "    <tr>\n",
       "      <th>1</th>\n",
       "      <td>120279</td>\n",
       "      <td>130698</td>\n",
       "      <td>B00DQ3F0YY</td>\n",
       "      <td>You really get your money worth with this flas...</td>\n",
       "      <td>[0, 0]</td>\n",
       "      <td>5.0</td>\n",
       "      <td>1.0</td>\n",
       "      <td>you really get your money worth with this flas...</td>\n",
       "    </tr>\n",
       "    <tr>\n",
       "      <th>2</th>\n",
       "      <td>117496</td>\n",
       "      <td>127682</td>\n",
       "      <td>B00BB2MMNE</td>\n",
       "      <td>Simple and clear instructions;  including wiri...</td>\n",
       "      <td>[0, 0]</td>\n",
       "      <td>5.0</td>\n",
       "      <td>1.0</td>\n",
       "      <td>simple and clear instruction include wire the ...</td>\n",
       "    </tr>\n",
       "    <tr>\n",
       "      <th>3</th>\n",
       "      <td>43612</td>\n",
       "      <td>47267</td>\n",
       "      <td>B000LG7G0A</td>\n",
       "      <td>The shade was easy to cut and easy to install....</td>\n",
       "      <td>[0, 0]</td>\n",
       "      <td>5.0</td>\n",
       "      <td>1.0</td>\n",
       "      <td>the shade be easy to cut and easy to install, ...</td>\n",
       "    </tr>\n",
       "  </tbody>\n",
       "</table>\n",
       "</div>"
      ],
      "text/plain": [
       "    Index  masterIndex        asin  \\\n",
       "0   96807       105069  B004TEIMVC   \n",
       "1  120279       130698  B00DQ3F0YY   \n",
       "2  117496       127682  B00BB2MMNE   \n",
       "3   43612        47267  B000LG7G0A   \n",
       "\n",
       "                                          reviewText helpful  overall  \\\n",
       "0  If you're an advanced user, whether that be a ...  [3, 4]      5.0   \n",
       "1  You really get your money worth with this flas...  [0, 0]      5.0   \n",
       "2  Simple and clear instructions;  including wiri...  [0, 0]      5.0   \n",
       "3  The shade was easy to cut and easy to install....  [0, 0]      5.0   \n",
       "\n",
       "   trueRating                                        CleanedJoin  \n",
       "0         1.0  if you be an advance user whether that be a ho...  \n",
       "1         1.0  you really get your money worth with this flas...  \n",
       "2         1.0  simple and clear instruction include wire the ...  \n",
       "3         1.0  the shade be easy to cut and easy to install, ...  "
      ]
     },
     "execution_count": 58,
     "metadata": {},
     "output_type": "execute_result"
    }
   ],
   "source": [
    "df.head(4)"
   ]
  },
  {
   "cell_type": "code",
   "execution_count": 59,
   "metadata": {},
   "outputs": [
    {
     "data": {
      "text/html": [
       "<div>\n",
       "<style scoped>\n",
       "    .dataframe tbody tr th:only-of-type {\n",
       "        vertical-align: middle;\n",
       "    }\n",
       "\n",
       "    .dataframe tbody tr th {\n",
       "        vertical-align: top;\n",
       "    }\n",
       "\n",
       "    .dataframe thead th {\n",
       "        text-align: right;\n",
       "    }\n",
       "</style>\n",
       "<table border=\"1\" class=\"dataframe\">\n",
       "  <thead>\n",
       "    <tr style=\"text-align: right;\">\n",
       "      <th></th>\n",
       "      <th>Index</th>\n",
       "      <th>masterIndex</th>\n",
       "      <th>asin</th>\n",
       "      <th>reviewText</th>\n",
       "      <th>helpful</th>\n",
       "      <th>overall</th>\n",
       "      <th>trueRating</th>\n",
       "      <th>CleanedJoin</th>\n",
       "      <th>TrueRating</th>\n",
       "      <th>CNNRating</th>\n",
       "      <th>RNNRating</th>\n",
       "    </tr>\n",
       "  </thead>\n",
       "  <tbody>\n",
       "    <tr>\n",
       "      <th>0</th>\n",
       "      <td>96807</td>\n",
       "      <td>105069</td>\n",
       "      <td>B004TEIMVC</td>\n",
       "      <td>If you're an advanced user, whether that be a ...</td>\n",
       "      <td>[3, 4]</td>\n",
       "      <td>5.0</td>\n",
       "      <td>1.0</td>\n",
       "      <td>if you be an advance user whether that be a ho...</td>\n",
       "      <td>1.0</td>\n",
       "      <td>1.0</td>\n",
       "      <td>1.0</td>\n",
       "    </tr>\n",
       "    <tr>\n",
       "      <th>1</th>\n",
       "      <td>120279</td>\n",
       "      <td>130698</td>\n",
       "      <td>B00DQ3F0YY</td>\n",
       "      <td>You really get your money worth with this flas...</td>\n",
       "      <td>[0, 0]</td>\n",
       "      <td>5.0</td>\n",
       "      <td>1.0</td>\n",
       "      <td>you really get your money worth with this flas...</td>\n",
       "      <td>1.0</td>\n",
       "      <td>1.0</td>\n",
       "      <td>1.0</td>\n",
       "    </tr>\n",
       "    <tr>\n",
       "      <th>2</th>\n",
       "      <td>117496</td>\n",
       "      <td>127682</td>\n",
       "      <td>B00BB2MMNE</td>\n",
       "      <td>Simple and clear instructions;  including wiri...</td>\n",
       "      <td>[0, 0]</td>\n",
       "      <td>5.0</td>\n",
       "      <td>1.0</td>\n",
       "      <td>simple and clear instruction include wire the ...</td>\n",
       "      <td>1.0</td>\n",
       "      <td>1.0</td>\n",
       "      <td>1.0</td>\n",
       "    </tr>\n",
       "  </tbody>\n",
       "</table>\n",
       "</div>"
      ],
      "text/plain": [
       "    Index  masterIndex        asin  \\\n",
       "0   96807       105069  B004TEIMVC   \n",
       "1  120279       130698  B00DQ3F0YY   \n",
       "2  117496       127682  B00BB2MMNE   \n",
       "\n",
       "                                          reviewText helpful  overall  \\\n",
       "0  If you're an advanced user, whether that be a ...  [3, 4]      5.0   \n",
       "1  You really get your money worth with this flas...  [0, 0]      5.0   \n",
       "2  Simple and clear instructions;  including wiri...  [0, 0]      5.0   \n",
       "\n",
       "   trueRating                                        CleanedJoin  TrueRating  \\\n",
       "0         1.0  if you be an advance user whether that be a ho...         1.0   \n",
       "1         1.0  you really get your money worth with this flas...         1.0   \n",
       "2         1.0  simple and clear instruction include wire the ...         1.0   \n",
       "\n",
       "   CNNRating  RNNRating  \n",
       "0        1.0        1.0  \n",
       "1        1.0        1.0  \n",
       "2        1.0        1.0  "
      ]
     },
     "execution_count": 59,
     "metadata": {},
     "output_type": "execute_result"
    }
   ],
   "source": [
    "modelResult = pd.merge(df, result, on=\"Index\", how=\"inner\")\n",
    "modelResult.head(3)"
   ]
  },
  {
   "cell_type": "code",
   "execution_count": 60,
   "metadata": {},
   "outputs": [
    {
     "data": {
      "text/plain": [
       "<module 'TextBlobImplementation' from 'C:\\\\Study\\\\Projects\\\\NLP\\\\TextBlobImplementation.py'>"
      ]
     },
     "execution_count": 60,
     "metadata": {},
     "output_type": "execute_result"
    }
   ],
   "source": [
    "import TextBlobImplementation as TextBlob\n",
    "import importlib\n",
    "importlib.reload(TextBlob)"
   ]
  },
  {
   "cell_type": "code",
   "execution_count": 61,
   "metadata": {},
   "outputs": [
    {
     "data": {
      "text/plain": [
       "1.0"
      ]
     },
     "execution_count": 61,
     "metadata": {},
     "output_type": "execute_result"
    }
   ],
   "source": [
    "polaritySample = modelResult.iloc[3, :]['CleanedJoin']\n",
    "\n",
    "TextBlob.getPolarityFromText(polaritySample.split(','))"
   ]
  },
  {
   "cell_type": "code",
   "execution_count": 62,
   "metadata": {},
   "outputs": [
    {
     "data": {
      "text/plain": [
       "<module 'TextPreProcessing' from 'C:\\\\Study\\\\Projects\\\\NLP\\\\TextPreProcessing.py'>"
      ]
     },
     "execution_count": 62,
     "metadata": {},
     "output_type": "execute_result"
    }
   ],
   "source": [
    "import TextPreProcessing as TextProcessing\n",
    "import importlib\n",
    "importlib.reload(TextProcessing)"
   ]
  },
  {
   "cell_type": "code",
   "execution_count": 63,
   "metadata": {},
   "outputs": [
    {
     "name": "stdout",
     "output_type": "stream",
     "text": [
      "Wall time: 19.4 s\n"
     ]
    }
   ],
   "source": [
    "%%time\n",
    "modelResult['simplifiedText'] = modelResult.reviewText.apply(TextProcessing.simplifiedTextParagraph)"
   ]
  },
  {
   "cell_type": "code",
   "execution_count": 64,
   "metadata": {},
   "outputs": [
    {
     "name": "stdout",
     "output_type": "stream",
     "text": [
      "Wall time: 2min 6s\n"
     ]
    }
   ],
   "source": [
    "%%time\n",
    "#not very accurate using stemming\n",
    "#modelResult['textBlobRating'] = modelResult.CleanedJoin.str.split(',')\n",
    "modelResult['textBlobRating'] = modelResult.simplifiedText.apply(TextBlob.getPolarityFromText)"
   ]
  },
  {
   "cell_type": "code",
   "execution_count": 65,
   "metadata": {},
   "outputs": [
    {
     "data": {
      "text/html": [
       "<div>\n",
       "<style scoped>\n",
       "    .dataframe tbody tr th:only-of-type {\n",
       "        vertical-align: middle;\n",
       "    }\n",
       "\n",
       "    .dataframe tbody tr th {\n",
       "        vertical-align: top;\n",
       "    }\n",
       "\n",
       "    .dataframe thead th {\n",
       "        text-align: right;\n",
       "    }\n",
       "</style>\n",
       "<table border=\"1\" class=\"dataframe\">\n",
       "  <thead>\n",
       "    <tr style=\"text-align: right;\">\n",
       "      <th></th>\n",
       "      <th>Index</th>\n",
       "      <th>masterIndex</th>\n",
       "      <th>asin</th>\n",
       "      <th>reviewText</th>\n",
       "      <th>helpful</th>\n",
       "      <th>overall</th>\n",
       "      <th>trueRating</th>\n",
       "      <th>CleanedJoin</th>\n",
       "      <th>TrueRating</th>\n",
       "      <th>CNNRating</th>\n",
       "      <th>RNNRating</th>\n",
       "      <th>simplifiedText</th>\n",
       "      <th>textBlobRating</th>\n",
       "    </tr>\n",
       "  </thead>\n",
       "  <tbody>\n",
       "    <tr>\n",
       "      <th>0</th>\n",
       "      <td>96807</td>\n",
       "      <td>105069</td>\n",
       "      <td>B004TEIMVC</td>\n",
       "      <td>If you're an advanced user, whether that be a ...</td>\n",
       "      <td>[3, 4]</td>\n",
       "      <td>5.0</td>\n",
       "      <td>1.0</td>\n",
       "      <td>if you be an advance user whether that be a ho...</td>\n",
       "      <td>1.0</td>\n",
       "      <td>1.0</td>\n",
       "      <td>1.0</td>\n",
       "      <td>[if you are an advanced user  whether that be ...</td>\n",
       "      <td>1.0</td>\n",
       "    </tr>\n",
       "    <tr>\n",
       "      <th>1</th>\n",
       "      <td>120279</td>\n",
       "      <td>130698</td>\n",
       "      <td>B00DQ3F0YY</td>\n",
       "      <td>You really get your money worth with this flas...</td>\n",
       "      <td>[0, 0]</td>\n",
       "      <td>5.0</td>\n",
       "      <td>1.0</td>\n",
       "      <td>you really get your money worth with this flas...</td>\n",
       "      <td>1.0</td>\n",
       "      <td>1.0</td>\n",
       "      <td>1.0</td>\n",
       "      <td>[you really get your money worth with this fla...</td>\n",
       "      <td>1.0</td>\n",
       "    </tr>\n",
       "    <tr>\n",
       "      <th>2</th>\n",
       "      <td>117496</td>\n",
       "      <td>127682</td>\n",
       "      <td>B00BB2MMNE</td>\n",
       "      <td>Simple and clear instructions;  including wiri...</td>\n",
       "      <td>[0, 0]</td>\n",
       "      <td>5.0</td>\n",
       "      <td>1.0</td>\n",
       "      <td>simple and clear instruction include wire the ...</td>\n",
       "      <td>1.0</td>\n",
       "      <td>1.0</td>\n",
       "      <td>1.0</td>\n",
       "      <td>[simple and clear instructions   including wir...</td>\n",
       "      <td>1.0</td>\n",
       "    </tr>\n",
       "  </tbody>\n",
       "</table>\n",
       "</div>"
      ],
      "text/plain": [
       "    Index  masterIndex        asin  \\\n",
       "0   96807       105069  B004TEIMVC   \n",
       "1  120279       130698  B00DQ3F0YY   \n",
       "2  117496       127682  B00BB2MMNE   \n",
       "\n",
       "                                          reviewText helpful  overall  \\\n",
       "0  If you're an advanced user, whether that be a ...  [3, 4]      5.0   \n",
       "1  You really get your money worth with this flas...  [0, 0]      5.0   \n",
       "2  Simple and clear instructions;  including wiri...  [0, 0]      5.0   \n",
       "\n",
       "   trueRating                                        CleanedJoin  TrueRating  \\\n",
       "0         1.0  if you be an advance user whether that be a ho...         1.0   \n",
       "1         1.0  you really get your money worth with this flas...         1.0   \n",
       "2         1.0  simple and clear instruction include wire the ...         1.0   \n",
       "\n",
       "   CNNRating  RNNRating                                     simplifiedText  \\\n",
       "0        1.0        1.0  [if you are an advanced user  whether that be ...   \n",
       "1        1.0        1.0  [you really get your money worth with this fla...   \n",
       "2        1.0        1.0  [simple and clear instructions   including wir...   \n",
       "\n",
       "   textBlobRating  \n",
       "0             1.0  \n",
       "1             1.0  \n",
       "2             1.0  "
      ]
     },
     "execution_count": 65,
     "metadata": {},
     "output_type": "execute_result"
    }
   ],
   "source": [
    "modelResult.head(3)"
   ]
  },
  {
   "cell_type": "code",
   "execution_count": 66,
   "metadata": {},
   "outputs": [],
   "source": [
    "from sklearn.metrics import confusion_matrix\n",
    "\n",
    "y_true = modelResult.TrueRating.to_list()\n",
    "cnn_pred = modelResult.CNNRating.to_list()\n",
    "textBlob_pred = modelResult.textBlobRating.to_list()"
   ]
  },
  {
   "cell_type": "code",
   "execution_count": 67,
   "metadata": {},
   "outputs": [],
   "source": [
    "from sklearn.metrics import confusion_matrix\n",
    "\n",
    "y_true = modelResult.TrueRating.to_list()\n",
    "rnn_pred = modelResult.RNNRating.to_list() \n",
    "textBlob_pred = modelResult.textBlobRating.to_list()"
   ]
  },
  {
   "cell_type": "code",
   "execution_count": 70,
   "metadata": {},
   "outputs": [],
   "source": [
    "#report = {'CNN': [], 'RNN': None, 'TextBlob':None}\n",
    "report = dict()"
   ]
  },
  {
   "cell_type": "code",
   "execution_count": 71,
   "metadata": {},
   "outputs": [
    {
     "data": {
      "text/plain": [
       "array([ 4024,   443,   987, 27382], dtype=int64)"
      ]
     },
     "execution_count": 71,
     "metadata": {},
     "output_type": "execute_result"
    }
   ],
   "source": [
    "#tn, fp, fn, tp = confusion_matrix(y_true, cnn_pred).ravel()\n",
    "report['CNN'] = confusion_matrix(y_true, cnn_pred).ravel()\n",
    "#tn, fp, fn, tp\n",
    "report['CNN']"
   ]
  },
  {
   "cell_type": "code",
   "execution_count": 72,
   "metadata": {},
   "outputs": [
    {
     "data": {
      "text/plain": [
       "array([ 3654,   813,   666, 27703], dtype=int64)"
      ]
     },
     "execution_count": 72,
     "metadata": {},
     "output_type": "execute_result"
    }
   ],
   "source": [
    "#tn, fp, fn, tp = confusion_matrix(y_true, rnn_pred).ravel()\n",
    "report['RNN'] = confusion_matrix(y_true, rnn_pred).ravel()\n",
    "#tn, fp, fn, tp\n",
    "report['RNN']"
   ]
  },
  {
   "cell_type": "code",
   "execution_count": 73,
   "metadata": {},
   "outputs": [],
   "source": [
    "#tn, fp, fn, tp = confusion_matrix(y_true, textBlob_pred).ravel()\n",
    "report['TextBlob'] = confusion_matrix(y_true, textBlob_pred).ravel()\n",
    "#tn, fp, fn, tp"
   ]
  },
  {
   "cell_type": "code",
   "execution_count": null,
   "metadata": {},
   "outputs": [],
   "source": [
    "pd.options.display.max_colwidth = 50\n",
    "\n",
    "#productsReviewData.cleanedText.head(2)"
   ]
  },
  {
   "cell_type": "code",
   "execution_count": 74,
   "metadata": {},
   "outputs": [],
   "source": [
    "y_true = np.array(y_true)"
   ]
  },
  {
   "cell_type": "code",
   "execution_count": 75,
   "metadata": {},
   "outputs": [],
   "source": [
    "reportCard = pd.DataFrame(report).T\n",
    "reportCard.columns = ['tn', 'fp', 'fn', 'tp']"
   ]
  },
  {
   "cell_type": "code",
   "execution_count": 77,
   "metadata": {},
   "outputs": [
    {
     "data": {
      "text/html": [
       "<div>\n",
       "<style scoped>\n",
       "    .dataframe tbody tr th:only-of-type {\n",
       "        vertical-align: middle;\n",
       "    }\n",
       "\n",
       "    .dataframe tbody tr th {\n",
       "        vertical-align: top;\n",
       "    }\n",
       "\n",
       "    .dataframe thead th {\n",
       "        text-align: right;\n",
       "    }\n",
       "</style>\n",
       "<table border=\"1\" class=\"dataframe\">\n",
       "  <thead>\n",
       "    <tr style=\"text-align: right;\">\n",
       "      <th></th>\n",
       "      <th>tn</th>\n",
       "      <th>fp</th>\n",
       "      <th>fn</th>\n",
       "      <th>tp</th>\n",
       "    </tr>\n",
       "  </thead>\n",
       "  <tbody>\n",
       "    <tr>\n",
       "      <th>CNN</th>\n",
       "      <td>4024</td>\n",
       "      <td>443</td>\n",
       "      <td>987</td>\n",
       "      <td>27382</td>\n",
       "    </tr>\n",
       "    <tr>\n",
       "      <th>RNN</th>\n",
       "      <td>3654</td>\n",
       "      <td>813</td>\n",
       "      <td>666</td>\n",
       "      <td>27703</td>\n",
       "    </tr>\n",
       "    <tr>\n",
       "      <th>TextBlob</th>\n",
       "      <td>1336</td>\n",
       "      <td>3131</td>\n",
       "      <td>2026</td>\n",
       "      <td>26343</td>\n",
       "    </tr>\n",
       "    <tr>\n",
       "      <th>ActualRating</th>\n",
       "      <td>4467</td>\n",
       "      <td>0</td>\n",
       "      <td>0</td>\n",
       "      <td>28369</td>\n",
       "    </tr>\n",
       "  </tbody>\n",
       "</table>\n",
       "</div>"
      ],
      "text/plain": [
       "                tn    fp    fn     tp\n",
       "CNN           4024   443   987  27382\n",
       "RNN           3654   813   666  27703\n",
       "TextBlob      1336  3131  2026  26343\n",
       "ActualRating  4467     0     0  28369"
      ]
     },
     "execution_count": 77,
     "metadata": {},
     "output_type": "execute_result"
    }
   ],
   "source": [
    "reportCard.loc['ActualRating'] = [len(np.where(y_true==0)[0]), 0, 0, len(np.where(y_true==1)[0])]\n",
    "reportCard"
   ]
  },
  {
   "cell_type": "code",
   "execution_count": 78,
   "metadata": {},
   "outputs": [],
   "source": [
    "reportCard.to_csv(\"2nd_PaddingNegativeReviews_RNN_CNN_TextBlob.csv\")"
   ]
  },
  {
   "cell_type": "markdown",
   "metadata": {},
   "source": [
    "## 133K review comparison\n",
    "\n",
    "## padding extra negative reviews\n",
    "\n",
    "##### we pick up two unique negative extras with the sampling when we padded\n",
    "\n",
    "tn, fp, fn, tp\n",
    "\n",
    "(3913, 554, 742, 27627)  CNN for negative reviews padding \n",
    "(3445, 1022, 923, 27446) RNN with negative reviews padding\n",
    "(1142, 3325, 1782, 26587) textBlob with negative reviews padding \n",
    "\n",
    "Note: RNN 3*8 word vector with  batch size = 64\n",
    "\n",
    "## no padding extra negative reviews\n",
    "\n",
    "tn, fp, fn, tp\n",
    "\n",
    "(1667, 916, 813, 27531)  CNN without negative reviews padding\n",
    "(1034, 1549, 270, 28074) RNN without negative reviews padding\n",
    "(671, 1912, 1767, 26577) textBlob without negative reviews padding\n",
    "\n",
    "\n",
    "## Multinomial Naive Bayes no padding extra negative reviews\n",
    "\n",
    "tn, fp, fn, tp\n",
    "\n",
    "(509, 2074, 4175, 24169) Multinomial Naive Bayes # n-gram (1,2), num_words = 20000\n",
    "(26, 83, 393, 1871) Multinomial Naive Bayes # n-gram (1,1), num_words = 3000\n",
    "\n"
   ]
  },
  {
   "cell_type": "markdown",
   "metadata": {},
   "source": [
    "\n",
    "## 10K review comparison\n",
    "\n",
    "## padding extra negative reviews\n",
    "\n",
    "##### we pick up two unique negative extras with the sampling when we padded\n",
    "\n",
    "tn, fp, fn, tp\n",
    "\n",
    "(174, 27, 44, 2214) CNN for negative reviews padding \n",
    "(113, 88, 34, 2224)  RNN with negative review padding\n",
    "(50, 151, 112, 2146) textBlob with negative padding \n",
    "\n",
    "## no padding extra negative reviews\n",
    "\n",
    "tn, fp, fn, tp\n",
    "\n",
    "(31, 78, 37, 2227)  CNN without negative reviews padding\n",
    "(3, 106, 2, 2262)   RNN without negative reviews padding\n",
    "(27, 82, 106, 2158) textBlob without negative reviews padding\n",
    "\n",
    "\n",
    "## Multinomial Naive Bayes no padding extra negative reviews\n",
    "\n",
    "tn, fp, fn, tp\n",
    "\n",
    "(12, 97, 232, 2032) Multinomial Naive Bayes # n-gram (1,2), num_words = 10000\n",
    "(26, 83, 393, 1871) Multinomial Naive Bayes # n-gram (1,1), num_words = 3000\n",
    "\n",
    "\n"
   ]
  }
 ],
 "metadata": {
  "kernelspec": {
   "display_name": "Python 3",
   "language": "python",
   "name": "python3"
  },
  "language_info": {
   "codemirror_mode": {
    "name": "ipython",
    "version": 3
   },
   "file_extension": ".py",
   "mimetype": "text/x-python",
   "name": "python",
   "nbconvert_exporter": "python",
   "pygments_lexer": "ipython3",
   "version": "3.7.3"
  }
 },
 "nbformat": 4,
 "nbformat_minor": 2
}
