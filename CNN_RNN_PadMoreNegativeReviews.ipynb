{
 "cells": [
  {
   "cell_type": "code",
   "execution_count": 3,
   "metadata": {},
   "outputs": [],
   "source": [
    "#Import libraries\n",
    "import pandas as pd"
   ]
  },
  {
   "cell_type": "code",
   "execution_count": 2,
   "metadata": {},
   "outputs": [
    {
     "name": "stdout",
     "output_type": "stream",
     "text": [
      "Collecting pandas\n",
      "\u001b[?25l  Downloading https://files.pythonhosted.org/packages/7e/ab/ea76361f9d3e732e114adcd801d2820d5319c23d0ac5482fa3b412db217e/pandas-0.25.1-cp37-cp37m-manylinux1_x86_64.whl (10.4MB)\n",
      "\u001b[K     |████████████████████████████████| 10.4MB 1.8MB/s eta 0:00:01\n",
      "\u001b[?25hCollecting pytz>=2017.2 (from pandas)\n",
      "\u001b[?25l  Downloading https://files.pythonhosted.org/packages/e7/f9/f0b53f88060247251bf481fa6ea62cd0d25bf1b11a87888e53ce5b7c8ad2/pytz-2019.3-py2.py3-none-any.whl (509kB)\n",
      "\u001b[K     |████████████████████████████████| 512kB 12.4MB/s eta 0:00:01\n",
      "\u001b[?25hRequirement already satisfied: numpy>=1.13.3 in /home/toan/.pyenv/versions/3.7.3/lib/python3.7/site-packages (from pandas) (1.17.2)\n",
      "Requirement already satisfied: python-dateutil>=2.6.1 in /home/toan/.pyenv/versions/3.7.3/lib/python3.7/site-packages (from pandas) (2.8.0)\n",
      "Requirement already satisfied: six>=1.5 in /home/toan/.pyenv/versions/3.7.3/lib/python3.7/site-packages (from python-dateutil>=2.6.1->pandas) (1.12.0)\n",
      "Installing collected packages: pytz, pandas\n",
      "Successfully installed pandas-0.25.1 pytz-2019.3\n"
     ]
    }
   ],
   "source": [
    "!pip install pandas"
   ]
  },
  {
   "cell_type": "code",
   "execution_count": 2,
   "metadata": {},
   "outputs": [],
   "source": [
    "#!pip install TextBlob"
   ]
  },
  {
   "cell_type": "code",
   "execution_count": 4,
   "metadata": {},
   "outputs": [],
   "source": [
    "dirPath = r\"\\data\"\n",
    "reviewPath = r\"reviews_Tools_and_Home_Improvement_5.json.gz\"\n",
    "#reviewPath = r\"reviews_Musical_Instruments_5.json.gz\"\n",
    "reviewPath = r\"cleanData_reviews_Musical_Instruments_5.json.gz\"\n",
    "path = dirPath + \"\\\\\" + reviewPath\n",
    "path = \"preprocessed_reviews_Musical_Instruments_5.pkl.gz\"\n",
    "path = \"preprocessed_reviews_Tools_and_Home_Improvement_5.pkl.gz\""
   ]
  },
  {
   "cell_type": "code",
   "execution_count": 5,
   "metadata": {},
   "outputs": [
    {
     "data": {
      "text/plain": [
       "(123707, 7)"
      ]
     },
     "execution_count": 5,
     "metadata": {},
     "output_type": "execute_result"
    }
   ],
   "source": [
    "data = pd.read_pickle(path)\n",
    "data.shape"
   ]
  },
  {
   "cell_type": "code",
   "execution_count": 6,
   "metadata": {},
   "outputs": [
    {
     "data": {
      "text/plain": [
       "10105"
      ]
     },
     "execution_count": 6,
     "metadata": {},
     "output_type": "execute_result"
    }
   ],
   "source": [
    "negativeReviews = data.loc[data['trueRating'] == 0, :]\n",
    "negativeReviews.shape[0]\n"
   ]
  },
  {
   "cell_type": "code",
   "execution_count": 7,
   "metadata": {},
   "outputs": [],
   "source": [
    "#data = data.iloc[0:size*5, :]"
   ]
  },
  {
   "cell_type": "code",
   "execution_count": 8,
   "metadata": {},
   "outputs": [
    {
     "data": {
      "text/html": [
       "<div>\n",
       "<style scoped>\n",
       "    .dataframe tbody tr th:only-of-type {\n",
       "        vertical-align: middle;\n",
       "    }\n",
       "\n",
       "    .dataframe tbody tr th {\n",
       "        vertical-align: top;\n",
       "    }\n",
       "\n",
       "    .dataframe thead th {\n",
       "        text-align: right;\n",
       "    }\n",
       "</style>\n",
       "<table border=\"1\" class=\"dataframe\">\n",
       "  <thead>\n",
       "    <tr style=\"text-align: right;\">\n",
       "      <th></th>\n",
       "      <th>masterIndex</th>\n",
       "      <th>asin</th>\n",
       "      <th>reviewText</th>\n",
       "      <th>helpful</th>\n",
       "      <th>overall</th>\n",
       "      <th>trueRating</th>\n",
       "      <th>CleanedJoin</th>\n",
       "    </tr>\n",
       "  </thead>\n",
       "  <tbody>\n",
       "    <tr>\n",
       "      <td>123477</td>\n",
       "      <td>134239</td>\n",
       "      <td>B00JPBDL9W</td>\n",
       "      <td>I have converted three-quarters of my home to ...</td>\n",
       "      <td>[0, 0]</td>\n",
       "      <td>2.0</td>\n",
       "      <td>0.0</td>\n",
       "      <td>i have convert three quarter of my home to lea...</td>\n",
       "    </tr>\n",
       "    <tr>\n",
       "      <td>123556</td>\n",
       "      <td>134322</td>\n",
       "      <td>B00JXSASK2</td>\n",
       "      <td>Amazing that they designed this thing without ...</td>\n",
       "      <td>[2, 2]</td>\n",
       "      <td>1.0</td>\n",
       "      <td>0.0</td>\n",
       "      <td>amaze that they design this thing without real...</td>\n",
       "    </tr>\n",
       "  </tbody>\n",
       "</table>\n",
       "</div>"
      ],
      "text/plain": [
       "        masterIndex        asin  \\\n",
       "123477       134239  B00JPBDL9W   \n",
       "123556       134322  B00JXSASK2   \n",
       "\n",
       "                                               reviewText helpful  overall  \\\n",
       "123477  I have converted three-quarters of my home to ...  [0, 0]      2.0   \n",
       "123556  Amazing that they designed this thing without ...  [2, 2]      1.0   \n",
       "\n",
       "        trueRating                                        CleanedJoin  \n",
       "123477         0.0  i have convert three quarter of my home to lea...  \n",
       "123556         0.0  amaze that they design this thing without real...  "
      ]
     },
     "execution_count": 8,
     "metadata": {},
     "output_type": "execute_result"
    }
   ],
   "source": [
    "negativeReviews.tail(2)"
   ]
  },
  {
   "cell_type": "code",
   "execution_count": 9,
   "metadata": {},
   "outputs": [
    {
     "data": {
      "text/html": [
       "<div>\n",
       "<style scoped>\n",
       "    .dataframe tbody tr th:only-of-type {\n",
       "        vertical-align: middle;\n",
       "    }\n",
       "\n",
       "    .dataframe tbody tr th {\n",
       "        vertical-align: top;\n",
       "    }\n",
       "\n",
       "    .dataframe thead th {\n",
       "        text-align: right;\n",
       "    }\n",
       "</style>\n",
       "<table border=\"1\" class=\"dataframe\">\n",
       "  <thead>\n",
       "    <tr style=\"text-align: right;\">\n",
       "      <th></th>\n",
       "      <th>masterIndex</th>\n",
       "      <th>asin</th>\n",
       "      <th>reviewText</th>\n",
       "      <th>helpful</th>\n",
       "      <th>overall</th>\n",
       "      <th>trueRating</th>\n",
       "      <th>CleanedJoin</th>\n",
       "    </tr>\n",
       "  </thead>\n",
       "  <tbody>\n",
       "    <tr>\n",
       "      <td>123556</td>\n",
       "      <td>134322</td>\n",
       "      <td>B00JXSASK2</td>\n",
       "      <td>Amazing that they designed this thing without ...</td>\n",
       "      <td>[2, 2]</td>\n",
       "      <td>1.0</td>\n",
       "      <td>0.0</td>\n",
       "      <td>amaze that they design this thing without real...</td>\n",
       "    </tr>\n",
       "  </tbody>\n",
       "</table>\n",
       "</div>"
      ],
      "text/plain": [
       "        masterIndex        asin  \\\n",
       "123556       134322  B00JXSASK2   \n",
       "\n",
       "                                               reviewText helpful  overall  \\\n",
       "123556  Amazing that they designed this thing without ...  [2, 2]      1.0   \n",
       "\n",
       "        trueRating                                        CleanedJoin  \n",
       "123556         0.0  amaze that they design this thing without real...  "
      ]
     },
     "execution_count": 9,
     "metadata": {},
     "output_type": "execute_result"
    }
   ],
   "source": [
    "#Pad more negative reviews for better training purposes\n",
    "testSample = pd.concat([data, negativeReviews])\n",
    "#testSample = data\n",
    "#testSample.reset_index(drop=True, inplace=True)\n",
    "testSample.tail(1)"
   ]
  },
  {
   "cell_type": "code",
   "execution_count": 10,
   "metadata": {},
   "outputs": [
    {
     "data": {
      "text/plain": [
       "133812"
      ]
     },
     "execution_count": 10,
     "metadata": {},
     "output_type": "execute_result"
    }
   ],
   "source": [
    "import itertools\n",
    "\n",
    "largeText = testSample.CleanedJoin.to_list()\n",
    "#largeText = reviewTextProcessing.reviewText.to_list() # Not too good accuracy around 116 missed with %86.94\n",
    "\n",
    "len(largeText)"
   ]
  },
  {
   "cell_type": "code",
   "execution_count": 13,
   "metadata": {},
   "outputs": [],
   "source": [
    "#!pip install sklearn\n"
   ]
  },
  {
   "cell_type": "code",
   "execution_count": 14,
   "metadata": {},
   "outputs": [],
   "source": [
    "from tensorflow.python.keras.preprocessing.text import Tokenizer\n",
    "from tensorflow.python.keras.preprocessing.sequence import pad_sequences\n",
    "from sklearn.model_selection import train_test_split"
   ]
  },
  {
   "cell_type": "code",
   "execution_count": 15,
   "metadata": {},
   "outputs": [],
   "source": [
    "num_words = 15000"
   ]
  },
  {
   "cell_type": "code",
   "execution_count": 16,
   "metadata": {},
   "outputs": [],
   "source": [
    "tokenizer = Tokenizer(num_words=num_words)\n",
    "tokenizer.fit_on_texts(largeText)\n",
    "#tokenizer.word_index"
   ]
  },
  {
   "cell_type": "code",
   "execution_count": 17,
   "metadata": {},
   "outputs": [],
   "source": [
    "X = largeText\n",
    "y = testSample['trueRating']\n",
    "X_train, X_test, y_train, y_test = train_test_split(X, y, test_size=.25, random_state=310)\n",
    "\n",
    "x_train_text = X_train\n",
    "x_test_text = X_test\n",
    "\n",
    "x_train_tokens = tokenizer.texts_to_sequences(x_train_text)\n",
    "x_test_tokens = tokenizer.texts_to_sequences(x_test_text)"
   ]
  },
  {
   "cell_type": "raw",
   "metadata": {},
   "source": [
    "#  not very good way to arrange the samples \n",
    "size = int(len(largeText)*.75)\n",
    "x_train_text = largeText[:size]\n",
    "x_test_text = largeText[size:]\n",
    "\n",
    "y_train =  reviewTextProcessing['rating'][:size]\n",
    "y_test = reviewTextProcessing['rating'][size:]\n",
    "x_train_tokens = tokenizer.texts_to_sequences(x_train_text)\n",
    "x_test_tokens = tokenizer.texts_to_sequences(x_test_text)\n"
   ]
  },
  {
   "cell_type": "code",
   "execution_count": 18,
   "metadata": {},
   "outputs": [
    {
     "data": {
      "text/plain": [
       "(100359, 33453, 100359, 33453)"
      ]
     },
     "execution_count": 18,
     "metadata": {},
     "output_type": "execute_result"
    }
   ],
   "source": [
    "len(y_train), len(y_test), len(x_train_text), len(x_test_text)"
   ]
  },
  {
   "cell_type": "code",
   "execution_count": 15,
   "metadata": {},
   "outputs": [],
   "source": [
    "#x_train_tokens[1], x_train_text[1]"
   ]
  },
  {
   "cell_type": "code",
   "execution_count": 19,
   "metadata": {},
   "outputs": [],
   "source": [
    "import numpy as np\n",
    "\n",
    "x_train_text[1]\n",
    "np.array(x_train_tokens[1])\n",
    "num_tokens = [len(tokens) for tokens in x_train_tokens + x_test_tokens]\n",
    "num_tokens = np.array(num_tokens)\n"
   ]
  },
  {
   "cell_type": "code",
   "execution_count": 20,
   "metadata": {},
   "outputs": [
    {
     "data": {
      "text/plain": [
       "(111.61465339431442, 4959)"
      ]
     },
     "execution_count": 20,
     "metadata": {},
     "output_type": "execute_result"
    }
   ],
   "source": [
    "np.mean(num_tokens), np.max(num_tokens)\n"
   ]
  },
  {
   "cell_type": "code",
   "execution_count": 21,
   "metadata": {},
   "outputs": [
    {
     "data": {
      "text/plain": [
       "133.85901020345165"
      ]
     },
     "execution_count": 21,
     "metadata": {},
     "output_type": "execute_result"
    }
   ],
   "source": [
    "np.std(num_tokens)"
   ]
  },
  {
   "cell_type": "code",
   "execution_count": 22,
   "metadata": {},
   "outputs": [
    {
     "data": {
      "text/plain": [
       "379"
      ]
     },
     "execution_count": 22,
     "metadata": {},
     "output_type": "execute_result"
    }
   ],
   "source": [
    "max_tokens = np.mean(num_tokens) + 2 * np.std(num_tokens)\n",
    "max_tokens = int(max_tokens) \n",
    "max_tokens\n"
   ]
  },
  {
   "cell_type": "code",
   "execution_count": 23,
   "metadata": {},
   "outputs": [
    {
     "data": {
      "text/plain": [
       "0.9588078797118346"
      ]
     },
     "execution_count": 23,
     "metadata": {},
     "output_type": "execute_result"
    }
   ],
   "source": [
    "np.sum(num_tokens < max_tokens) / len(num_tokens)\n"
   ]
  },
  {
   "cell_type": "code",
   "execution_count": 24,
   "metadata": {},
   "outputs": [
    {
     "data": {
      "text/plain": [
       "((100359, 379), (33453, 379))"
      ]
     },
     "execution_count": 24,
     "metadata": {},
     "output_type": "execute_result"
    }
   ],
   "source": [
    "pad = 'pre'\n",
    "#pad = 'post'\n",
    "x_train_pad = pad_sequences(x_train_tokens, maxlen=max_tokens, padding=pad, truncating=pad)\n",
    "x_test_pad = pad_sequences(x_test_tokens, maxlen=max_tokens, padding=pad, truncating=pad)\n",
    "x_train_pad.shape, x_test_pad.shape\n"
   ]
  },
  {
   "cell_type": "code",
   "execution_count": 25,
   "metadata": {
    "scrolled": true
   },
   "outputs": [
    {
     "name": "stdout",
     "output_type": "stream",
     "text": [
      "[   0    0    0    0    0    0    0    0    0    0    0    0    0    0\n",
      "    0    0    0    0    0    0    0    0    0    0    0    0    0    0\n",
      "    0    0    0    0    0    0    0    0    0    0    0    0    0    0\n",
      "    0    0    0    0    0    0    0    0    0    0    0    0    0    0\n",
      "    0    0    0    0    0    0    0    0    0    0    0    0    0    0\n",
      "    0    0    0    0    0    0    0    0    0    0    0    0    0    0\n",
      "    0    0    0    0    0    0    0    0    0    0    0    0    0    0\n",
      "    0    0    0    0    0    0    0    0    0    0    0    0    0    0\n",
      "    0    0    0    0    0    0    0    0    0    0    0    0    0    0\n",
      "    0    0    0    0    0    0    0    0    0    0    0    0    0    0\n",
      "    0    0    0    0    0    0    0    0    0    0    0    0    0    0\n",
      "    0    0    0    0    0    0    0    0    0    0    0    0    0    0\n",
      "    0    0    0    0    0    0    0    0    0    0    0    0    0    0\n",
      "    0    0    0    0    0    0    0    0    0    0    0    0    0    0\n",
      "    0    0    0    0    0    0    0    0    0    0    0    0    0    0\n",
      "    0    0    0    0    0    0    0    0    0    0    0    0    0    0\n",
      "    0    0    0    0    0    0    0    0    0    0    0    0    0    0\n",
      "    0    0    0    0    0    0    0    0    0    0    0    0    0    0\n",
      "    0    0    0    0    0    0    0    0    0    0    0    0    0    0\n",
      "    0    0    0    0    0    0    0    0    0    0    0    0    0    0\n",
      "    0    0    0    0    0    0    0    0    0    0    0    0    0    0\n",
      "    0    0    0    0    0    0    0    0    0    0    0    0    0    0\n",
      "    0    0    0    0    0    0    0    0    0    0    0    0    0   28\n",
      "  248  706   10   11    1   79    8 1209    1 1466   12   49  846  861\n",
      "   53   40    6   52  177    1   47 1209    4    2   59    6   45  166\n",
      "   23    3   44    8   12    8   89  531   16    1   53  373  324    5\n",
      "    2   32  302    6   19    1 1391   22   18   75   26    2  602    6\n",
      "   18]\n"
     ]
    }
   ],
   "source": [
    "for i in range(3, 4):\n",
    "    print(x_train_pad[i])\n"
   ]
  },
  {
   "cell_type": "code",
   "execution_count": 26,
   "metadata": {},
   "outputs": [],
   "source": [
    "def tokens_to_string(tokens):\n",
    "    # Map from tokens back to words.\n",
    "    words = [inverse_map[token] for token in tokens if token != 0]\n",
    "    \n",
    "    # Concatenate all words.\n",
    "    text = \" \".join(words)\n",
    "\n",
    "    return text"
   ]
  },
  {
   "cell_type": "code",
   "execution_count": 27,
   "metadata": {},
   "outputs": [],
   "source": [
    "idx = tokenizer.word_index\n",
    "inverse_map = dict(zip(idx.values(), idx.keys()))"
   ]
  },
  {
   "cell_type": "code",
   "execution_count": 28,
   "metadata": {},
   "outputs": [
    {
     "data": {
      "text/plain": [
       "'very handy and easy to use, these arrive on time and in good condition, nice to have in shop when you need it you need it'"
      ]
     },
     "execution_count": 28,
     "metadata": {},
     "output_type": "execute_result"
    }
   ],
   "source": [
    "x_train_text[1]"
   ]
  },
  {
   "cell_type": "code",
   "execution_count": 29,
   "metadata": {
    "scrolled": true
   },
   "outputs": [
    {
     "data": {
      "text/plain": [
       "'very handy and easy to use these arrive on time and in good condition nice to have in shop when you need it you need it'"
      ]
     },
     "execution_count": 29,
     "metadata": {},
     "output_type": "execute_result"
    }
   ],
   "source": [
    "tokens_to_string(x_train_tokens[1])"
   ]
  },
  {
   "cell_type": "code",
   "execution_count": 30,
   "metadata": {},
   "outputs": [
    {
     "data": {
      "text/plain": [
       "'2.0.0'"
      ]
     },
     "execution_count": 30,
     "metadata": {},
     "output_type": "execute_result"
    }
   ],
   "source": [
    "import tensorflow as tf\n",
    "tf.__version__"
   ]
  },
  {
   "cell_type": "code",
   "execution_count": 33,
   "metadata": {},
   "outputs": [],
   "source": [
    "#!pip install keras"
   ]
  },
  {
   "cell_type": "code",
   "execution_count": 38,
   "metadata": {},
   "outputs": [
    {
     "data": {
      "text/plain": [
       "(100359, 33453, 133812)"
      ]
     },
     "execution_count": 38,
     "metadata": {},
     "output_type": "execute_result"
    }
   ],
   "source": [
    "index = len(x_train_pad)\n",
    "index\n",
    "len(y_train), len(y_test), len(y_train) + len(y_test)"
   ]
  },
  {
   "cell_type": "code",
   "execution_count": 34,
   "metadata": {},
   "outputs": [
    {
     "name": "stderr",
     "output_type": "stream",
     "text": [
      "Using TensorFlow backend.\n"
     ]
    },
    {
     "data": {
      "text/plain": [
       "<module 'modelCNNImplementation' from '/home/toan/Study/NLP/modelCNNImplementation.py'>"
      ]
     },
     "execution_count": 34,
     "metadata": {},
     "output_type": "execute_result"
    }
   ],
   "source": [
    "#abstract CNN\n",
    "import modelCNNImplementation as modelCNN\n",
    "import importlib\n",
    "importlib.reload(modelCNN)"
   ]
  },
  {
   "cell_type": "code",
   "execution_count": 36,
   "metadata": {},
   "outputs": [
    {
     "data": {
      "text/plain": [
       "<module 'modelRNNImplementation' from '/home/toan/Study/NLP/modelRNNImplementation.py'>"
      ]
     },
     "execution_count": 36,
     "metadata": {},
     "output_type": "execute_result"
    }
   ],
   "source": [
    "import modelRNNImplementation as modelRNN\n",
    "import importlib\n",
    "importlib.reload(modelRNN)"
   ]
  },
  {
   "cell_type": "code",
   "execution_count": 100,
   "metadata": {
    "scrolled": true
   },
   "outputs": [
    {
     "name": "stdout",
     "output_type": "stream",
     "text": [
      "batch size 56\n"
     ]
    },
    {
     "name": "stderr",
     "output_type": "stream",
     "text": [
      "/home/toan/.pyenv/versions/3.7.3/lib/python3.7/site-packages/tensorflow_core/python/framework/indexed_slices.py:424: UserWarning: Converting sparse IndexedSlices to a dense Tensor of unknown shape. This may consume a large amount of memory.\n",
      "  \"Converting sparse IndexedSlices to a dense Tensor of unknown shape. \"\n"
     ]
    },
    {
     "name": "stdout",
     "output_type": "stream",
     "text": [
      "Train on 95341 samples, validate on 5018 samples\n",
      "Epoch 1/3\n",
      "95341/95341 [==============================] - 14s 143us/step - loss: 0.2292 - accuracy: 0.9095 - val_loss: 0.1677 - val_accuracy: 0.9362\n",
      "Epoch 2/3\n",
      "95341/95341 [==============================] - 13s 141us/step - loss: 0.1256 - accuracy: 0.9524 - val_loss: 0.1406 - val_accuracy: 0.9440\n",
      "Epoch 3/3\n",
      "95341/95341 [==============================] - 14s 143us/step - loss: 0.0713 - accuracy: 0.9740 - val_loss: 0.1329 - val_accuracy: 0.9512\n",
      "batch size 56\n"
     ]
    },
    {
     "name": "stderr",
     "output_type": "stream",
     "text": [
      "/home/toan/.pyenv/versions/3.7.3/lib/python3.7/site-packages/tensorflow_core/python/framework/indexed_slices.py:424: UserWarning: Converting sparse IndexedSlices to a dense Tensor of unknown shape. This may consume a large amount of memory.\n",
      "  \"Converting sparse IndexedSlices to a dense Tensor of unknown shape. \"\n"
     ]
    },
    {
     "name": "stdout",
     "output_type": "stream",
     "text": [
      "Train on 95341 samples, validate on 5018 samples\n",
      "Epoch 1/3\n",
      "95341/95341 [==============================] - 14s 146us/step - loss: 0.2210 - accuracy: 0.9121 - val_loss: 0.1616 - val_accuracy: 0.9400\n",
      "Epoch 2/3\n",
      "95341/95341 [==============================] - 14s 144us/step - loss: 0.1255 - accuracy: 0.9518 - val_loss: 0.1370 - val_accuracy: 0.9456\n",
      "Epoch 3/3\n",
      "95341/95341 [==============================] - 14s 145us/step - loss: 0.0754 - accuracy: 0.9727 - val_loss: 0.1350 - val_accuracy: 0.9520\n",
      "batch size 56\n"
     ]
    },
    {
     "name": "stderr",
     "output_type": "stream",
     "text": [
      "/home/toan/.pyenv/versions/3.7.3/lib/python3.7/site-packages/tensorflow_core/python/framework/indexed_slices.py:424: UserWarning: Converting sparse IndexedSlices to a dense Tensor of unknown shape. This may consume a large amount of memory.\n",
      "  \"Converting sparse IndexedSlices to a dense Tensor of unknown shape. \"\n"
     ]
    },
    {
     "name": "stdout",
     "output_type": "stream",
     "text": [
      "Train on 95341 samples, validate on 5018 samples\n",
      "Epoch 1/3\n",
      "95341/95341 [==============================] - 14s 146us/step - loss: 0.2234 - accuracy: 0.9110 - val_loss: 0.1788 - val_accuracy: 0.9277\n",
      "Epoch 2/3\n",
      "95341/95341 [==============================] - 14s 144us/step - loss: 0.1250 - accuracy: 0.9528 - val_loss: 0.1654 - val_accuracy: 0.9346\n",
      "Epoch 3/3\n",
      "95341/95341 [==============================] - 14s 144us/step - loss: 0.0746 - accuracy: 0.9734 - val_loss: 0.1544 - val_accuracy: 0.9422\n",
      "batch size 56\n"
     ]
    },
    {
     "name": "stderr",
     "output_type": "stream",
     "text": [
      "/home/toan/.pyenv/versions/3.7.3/lib/python3.7/site-packages/tensorflow_core/python/framework/indexed_slices.py:424: UserWarning: Converting sparse IndexedSlices to a dense Tensor of unknown shape. This may consume a large amount of memory.\n",
      "  \"Converting sparse IndexedSlices to a dense Tensor of unknown shape. \"\n"
     ]
    },
    {
     "name": "stdout",
     "output_type": "stream",
     "text": [
      "Train on 95341 samples, validate on 5018 samples\n",
      "Epoch 1/3\n",
      "95341/95341 [==============================] - 13s 139us/step - loss: 0.2238 - accuracy: 0.9111 - val_loss: 0.1581 - val_accuracy: 0.9384\n",
      "Epoch 2/3\n",
      "95341/95341 [==============================] - 13s 138us/step - loss: 0.1237 - accuracy: 0.9530 - val_loss: 0.1360 - val_accuracy: 0.9488\n",
      "Epoch 3/3\n",
      "95341/95341 [==============================] - 13s 138us/step - loss: 0.0721 - accuracy: 0.9739 - val_loss: 0.1429 - val_accuracy: 0.9546\n",
      "batch size 56\n"
     ]
    },
    {
     "name": "stderr",
     "output_type": "stream",
     "text": [
      "/home/toan/.pyenv/versions/3.7.3/lib/python3.7/site-packages/tensorflow_core/python/framework/indexed_slices.py:424: UserWarning: Converting sparse IndexedSlices to a dense Tensor of unknown shape. This may consume a large amount of memory.\n",
      "  \"Converting sparse IndexedSlices to a dense Tensor of unknown shape. \"\n"
     ]
    },
    {
     "name": "stdout",
     "output_type": "stream",
     "text": [
      "Train on 95341 samples, validate on 5018 samples\n",
      "Epoch 1/3\n",
      "95341/95341 [==============================] - 14s 147us/step - loss: 0.2220 - accuracy: 0.9126 - val_loss: 0.1713 - val_accuracy: 0.9340\n",
      "Epoch 2/3\n",
      "95341/95341 [==============================] - 14s 145us/step - loss: 0.1202 - accuracy: 0.9544 - val_loss: 0.1481 - val_accuracy: 0.9424\n",
      "Epoch 3/3\n",
      "95341/95341 [==============================] - 14s 144us/step - loss: 0.0684 - accuracy: 0.9752 - val_loss: 0.1361 - val_accuracy: 0.9544\n",
      "batch size 56\n"
     ]
    },
    {
     "name": "stderr",
     "output_type": "stream",
     "text": [
      "/home/toan/.pyenv/versions/3.7.3/lib/python3.7/site-packages/tensorflow_core/python/framework/indexed_slices.py:424: UserWarning: Converting sparse IndexedSlices to a dense Tensor of unknown shape. This may consume a large amount of memory.\n",
      "  \"Converting sparse IndexedSlices to a dense Tensor of unknown shape. \"\n"
     ]
    },
    {
     "name": "stdout",
     "output_type": "stream",
     "text": [
      "Train on 95341 samples, validate on 5018 samples\n",
      "Epoch 1/3\n",
      "95341/95341 [==============================] - 13s 139us/step - loss: 0.2248 - accuracy: 0.9105 - val_loss: 0.1677 - val_accuracy: 0.9320\n",
      "Epoch 2/3\n",
      "95341/95341 [==============================] - 13s 138us/step - loss: 0.1245 - accuracy: 0.9526 - val_loss: 0.1389 - val_accuracy: 0.9438\n",
      "Epoch 3/3\n",
      "95341/95341 [==============================] - 13s 139us/step - loss: 0.0706 - accuracy: 0.9746 - val_loss: 0.1349 - val_accuracy: 0.9530\n",
      "batch size 56\n"
     ]
    },
    {
     "name": "stderr",
     "output_type": "stream",
     "text": [
      "/home/toan/.pyenv/versions/3.7.3/lib/python3.7/site-packages/tensorflow_core/python/framework/indexed_slices.py:424: UserWarning: Converting sparse IndexedSlices to a dense Tensor of unknown shape. This may consume a large amount of memory.\n",
      "  \"Converting sparse IndexedSlices to a dense Tensor of unknown shape. \"\n"
     ]
    },
    {
     "name": "stdout",
     "output_type": "stream",
     "text": [
      "Train on 95341 samples, validate on 5018 samples\n",
      "Epoch 1/3\n",
      "95341/95341 [==============================] - 13s 138us/step - loss: 0.2229 - accuracy: 0.9117 - val_loss: 0.1685 - val_accuracy: 0.9332\n",
      "Epoch 2/3\n",
      "95341/95341 [==============================] - 13s 137us/step - loss: 0.1246 - accuracy: 0.9525 - val_loss: 0.1419 - val_accuracy: 0.9466\n",
      "Epoch 3/3\n",
      "95341/95341 [==============================] - 13s 138us/step - loss: 0.0710 - accuracy: 0.9744 - val_loss: 0.1553 - val_accuracy: 0.9554\n",
      "batch size 56\n"
     ]
    },
    {
     "name": "stderr",
     "output_type": "stream",
     "text": [
      "/home/toan/.pyenv/versions/3.7.3/lib/python3.7/site-packages/tensorflow_core/python/framework/indexed_slices.py:424: UserWarning: Converting sparse IndexedSlices to a dense Tensor of unknown shape. This may consume a large amount of memory.\n",
      "  \"Converting sparse IndexedSlices to a dense Tensor of unknown shape. \"\n"
     ]
    },
    {
     "name": "stdout",
     "output_type": "stream",
     "text": [
      "Train on 95341 samples, validate on 5018 samples\n",
      "Epoch 1/3\n",
      "95341/95341 [==============================] - 14s 142us/step - loss: 0.2257 - accuracy: 0.9099 - val_loss: 0.1639 - val_accuracy: 0.9346\n",
      "Epoch 2/3\n",
      "95341/95341 [==============================] - 14s 142us/step - loss: 0.1247 - accuracy: 0.9525 - val_loss: 0.1439 - val_accuracy: 0.9458\n",
      "Epoch 3/3\n",
      "95341/95341 [==============================] - 13s 141us/step - loss: 0.0723 - accuracy: 0.9737 - val_loss: 0.1420 - val_accuracy: 0.9522\n",
      "batch size 56\n"
     ]
    },
    {
     "name": "stderr",
     "output_type": "stream",
     "text": [
      "/home/toan/.pyenv/versions/3.7.3/lib/python3.7/site-packages/tensorflow_core/python/framework/indexed_slices.py:424: UserWarning: Converting sparse IndexedSlices to a dense Tensor of unknown shape. This may consume a large amount of memory.\n",
      "  \"Converting sparse IndexedSlices to a dense Tensor of unknown shape. \"\n"
     ]
    },
    {
     "name": "stdout",
     "output_type": "stream",
     "text": [
      "Train on 95341 samples, validate on 5018 samples\n",
      "Epoch 1/3\n",
      "95341/95341 [==============================] - 14s 142us/step - loss: 0.2258 - accuracy: 0.9104 - val_loss: 0.1806 - val_accuracy: 0.9227\n",
      "Epoch 2/3\n",
      "95341/95341 [==============================] - 13s 141us/step - loss: 0.1258 - accuracy: 0.9523 - val_loss: 0.1432 - val_accuracy: 0.9452\n",
      "Epoch 3/3\n",
      "95341/95341 [==============================] - 13s 142us/step - loss: 0.0751 - accuracy: 0.9730 - val_loss: 0.1320 - val_accuracy: 0.9582\n",
      "batch size 56\n"
     ]
    },
    {
     "name": "stderr",
     "output_type": "stream",
     "text": [
      "/home/toan/.pyenv/versions/3.7.3/lib/python3.7/site-packages/tensorflow_core/python/framework/indexed_slices.py:424: UserWarning: Converting sparse IndexedSlices to a dense Tensor of unknown shape. This may consume a large amount of memory.\n",
      "  \"Converting sparse IndexedSlices to a dense Tensor of unknown shape. \"\n"
     ]
    },
    {
     "name": "stdout",
     "output_type": "stream",
     "text": [
      "Train on 95341 samples, validate on 5018 samples\n",
      "Epoch 1/3\n",
      "95341/95341 [==============================] - 14s 142us/step - loss: 0.2257 - accuracy: 0.9098 - val_loss: 0.1769 - val_accuracy: 0.9279\n",
      "Epoch 2/3\n",
      "95341/95341 [==============================] - 14s 142us/step - loss: 0.1286 - accuracy: 0.9510 - val_loss: 0.1446 - val_accuracy: 0.9462\n",
      "Epoch 3/3\n",
      "95341/95341 [==============================] - 13s 141us/step - loss: 0.0784 - accuracy: 0.9718 - val_loss: 0.1546 - val_accuracy: 0.9438\n"
     ]
    }
   ],
   "source": [
    "# Refactor here to run multiple simulations\n",
    "\n",
    "cls_true = np.array(y_test)\n",
    "\n",
    "numOfSimulations = 10\n",
    "\n",
    "for eachRun in range (0, numOfSimulations):\n",
    "    model_cnn = modelCNN.compileCNNModel(max_tokens=max_tokens)\n",
    "    model_rnn = modelRNN.compileRNNModel(max_tokens=max_tokens, embedding_size=200)\n",
    "    #custom_batch_size=32+eachRun*6\n",
    "    #custom_batch_size=50+eachRun*6\n",
    "    custom_batch_size=56\n",
    "    print(f\"batch size {custom_batch_size}\")\n",
    "    #train models\n",
    "    model_cnn.fit(x_train_pad, y_train, validation_split=0.05, epochs=3, batch_size=custom_batch_size)\n",
    "    #model_rnn.fit(x_train_pad, y_train, validation_split=0.05, epochs=3, batch_size=128)\n",
    "    #predict results\n",
    "    cnn_y_pred = model_cnn.predict(x=x_test_pad)\n",
    "    cnn_y_pred = cnn_y_pred.T[0]\n",
    "    #rnn_y_pred = model_rnn.predict(x=x_test_pad)\n",
    "    #rnn_y_pred = rnn_y_pred.T[0]\n",
    "    cnn_cls_pred = np.array([1.0 if p>0.5 else 0.0 for p in cnn_y_pred])\n",
    "    #rnn_cls_pred = np.array([1.0 if p>0.5 else 0.0 for p in rnn_y_pred])\n",
    "    #result matrix including duplicated results\n",
    "    y_test.index\n",
    "    y_test.values\n",
    "    result = pd.DataFrame()\n",
    "    result['Index'] = y_test.index\n",
    "    result['TrueRating'] = y_test.values\n",
    "    result['CNNRating'] = cnn_cls_pred\n",
    "    #result['RNNRating'] = rnn_cls_pred\n",
    "    # need to drop the duplicates due to negative padding\n",
    "    result.drop_duplicates(subset=\"Index\", inplace=True)\n",
    "    #merge results  back\n",
    "    df = testSample.loc[result.Index.to_list(), :]\n",
    "    df = df.reset_index()\n",
    "    df= df.drop_duplicates(subset=\"index\")\n",
    "    df.rename(columns={\"index\": \"Index\"}, inplace=True)\n",
    "    modelResult = pd.merge(df, result, on=\"Index\", how=\"inner\")\n",
    "    y_true = modelResult.TrueRating.to_list()\n",
    "    cnn_pred = modelResult.CNNRating.to_list()\n",
    "    #rnn_pred = modelResult.RNNRating.to_list() \n",
    "    report = dict()\n",
    "    report['CNN'] = confusion_matrix(y_true, cnn_pred).ravel()\n",
    "    #report['RNN'] = confusion_matrix(y_true, rnn_pred).ravel()\n",
    "    y_true = np.array(y_true)\n",
    "    reportCard = pd.DataFrame(report).T\n",
    "    reportCard.columns = ['tn', 'fp', 'fn', 'tp']\n",
    "    reportCard.loc['ActualRating'] = [len(np.where(y_true==0)[0]), 0, 0, len(np.where(y_true==1)[0])]\n",
    "    reportCard.loc['custom_batch_size'] = custom_batch_size\n",
    "    reportCard.to_csv(f\"run{eachRun}_PaddingNegativeReviews_CNN.csv\")\n",
    "    del model_cnn\n",
    "    del model_rnn  \n",
    "    \n",
    "\n",
    "\n",
    "\n",
    "    \n",
    "    "
   ]
  },
  {
   "cell_type": "code",
   "execution_count": 35,
   "metadata": {},
   "outputs": [
    {
     "name": "stdout",
     "output_type": "stream",
     "text": [
      "Model: \"sequential_1\"\n",
      "_________________________________________________________________\n",
      "Layer (type)                 Output Shape              Param #   \n",
      "=================================================================\n",
      "embedding_1 (Embedding)      (None, 379, 200)          3000000   \n",
      "_________________________________________________________________\n",
      "conv1d_1 (Conv1D)            (None, 378, 100)          40100     \n",
      "_________________________________________________________________\n",
      "global_max_pooling1d_1 (Glob (None, 100)               0         \n",
      "_________________________________________________________________\n",
      "dense_1 (Dense)              (None, 256)               25856     \n",
      "_________________________________________________________________\n",
      "dense_2 (Dense)              (None, 1)                 257       \n",
      "=================================================================\n",
      "Total params: 3,066,213\n",
      "Trainable params: 3,066,213\n",
      "Non-trainable params: 0\n",
      "_________________________________________________________________\n"
     ]
    }
   ],
   "source": [
    "model_cnn = modelCNN.compileCNNModel(max_tokens=max_tokens)\n",
    "model_cnn.summary()"
   ]
  },
  {
   "cell_type": "code",
   "execution_count": 37,
   "metadata": {},
   "outputs": [
    {
     "name": "stdout",
     "output_type": "stream",
     "text": [
      "Model: \"sequential_2\"\n",
      "_________________________________________________________________\n",
      "Layer (type)                 Output Shape              Param #   \n",
      "=================================================================\n",
      "layer_embedding (Embedding)  (None, 379, 200)          3000000   \n",
      "_________________________________________________________________\n",
      "gru_1 (GRU)                  (None, 379, 16)           10416     \n",
      "_________________________________________________________________\n",
      "gru_2 (GRU)                  (None, 379, 8)            600       \n",
      "_________________________________________________________________\n",
      "gru_3 (GRU)                  (None, 4)                 156       \n",
      "_________________________________________________________________\n",
      "dense_3 (Dense)              (None, 1)                 5         \n",
      "=================================================================\n",
      "Total params: 3,011,177\n",
      "Trainable params: 3,011,177\n",
      "Non-trainable params: 0\n",
      "_________________________________________________________________\n"
     ]
    }
   ],
   "source": [
    "model_rnn = modelRNN.compileRNNModel(max_tokens=max_tokens, embedding_size=200)\n",
    "model_rnn.summary()"
   ]
  },
  {
   "cell_type": "code",
   "execution_count": 44,
   "metadata": {},
   "outputs": [
    {
     "name": "stdout",
     "output_type": "stream",
     "text": [
      "Train on 95341 samples, validate on 5018 samples\n",
      "Epoch 1/3\n",
      "95341/95341 [==============================] - 12s 130us/step - loss: 0.1246 - accuracy: 0.9531 - val_loss: 0.1597 - val_accuracy: 0.9370\n",
      "Epoch 2/3\n",
      "95341/95341 [==============================] - 12s 129us/step - loss: 0.0734 - accuracy: 0.9738 - val_loss: 0.1367 - val_accuracy: 0.9526\n",
      "Epoch 3/3\n",
      "95341/95341 [==============================] - 12s 130us/step - loss: 0.0422 - accuracy: 0.9848 - val_loss: 0.1658 - val_accuracy: 0.9504\n",
      "CPU times: user 31.4 s, sys: 6.88 s, total: 38.3 s\n",
      "Wall time: 37.1 s\n"
     ]
    },
    {
     "data": {
      "text/plain": [
       "<keras.callbacks.callbacks.History at 0x7f7aa4d71748>"
      ]
     },
     "execution_count": 44,
     "metadata": {},
     "output_type": "execute_result"
    }
   ],
   "source": [
    "%%time\n",
    "model_cnn.fit(x_train_pad, y_train, validation_split=0.05, epochs=3, batch_size=64)\n",
    "#model.fit(x_train_pad, y_train,validation_split=0.05, epochs=3, batch_size=74)"
   ]
  },
  {
   "cell_type": "code",
   "execution_count": 42,
   "metadata": {},
   "outputs": [
    {
     "data": {
      "text/plain": [
       "'/device:GPU:0'"
      ]
     },
     "execution_count": 42,
     "metadata": {},
     "output_type": "execute_result"
    }
   ],
   "source": [
    "#sess = tf.session(config=tf.ConfigProto(log_device_placement=True))\n",
    "tf.test.gpu_device_name()\n"
   ]
  },
  {
   "cell_type": "code",
   "execution_count": 45,
   "metadata": {},
   "outputs": [
    {
     "name": "stdout",
     "output_type": "stream",
     "text": [
      "Train on 95341 samples, validate on 5018 samples\n",
      "Epoch 1/3\n",
      "95341/95341 [==============================] - 524s 5ms/step - loss: 0.2276 - accuracy: 0.9135 - val_loss: 0.1991 - val_accuracy: 0.9283\n",
      "Epoch 2/3\n",
      "95341/95341 [==============================] - 524s 5ms/step - loss: 0.1498 - accuracy: 0.9475 - val_loss: 0.1562 - val_accuracy: 0.9438\n",
      "Epoch 3/3\n",
      "95341/95341 [==============================] - 529s 6ms/step - loss: 0.0970 - accuracy: 0.9697 - val_loss: 0.1546 - val_accuracy: 0.9518\n",
      "CPU times: user 46min 2s, sys: 1min 32s, total: 47min 35s\n",
      "Wall time: 26min 17s\n"
     ]
    },
    {
     "data": {
      "text/plain": [
       "<keras.callbacks.callbacks.History at 0x7f7aa4d71fd0>"
      ]
     },
     "execution_count": 45,
     "metadata": {},
     "output_type": "execute_result"
    }
   ],
   "source": [
    "%%time\n",
    "model_rnn.fit(x_train_pad, y_train, validation_split=0.05, epochs=3, batch_size=128)\n",
    "#model.fit(x_train_pad, y_train,validation_split=0.05, epochs=3, batch_size=74)"
   ]
  },
  {
   "cell_type": "code",
   "execution_count": 46,
   "metadata": {},
   "outputs": [
    {
     "name": "stdout",
     "output_type": "stream",
     "text": [
      "33453/33453 [==============================] - 1s 44us/step\n"
     ]
    }
   ],
   "source": [
    "#%%time\n",
    "cnn_result = model_cnn.evaluate(x_test_pad, y_test)"
   ]
  },
  {
   "cell_type": "code",
   "execution_count": 47,
   "metadata": {},
   "outputs": [
    {
     "name": "stdout",
     "output_type": "stream",
     "text": [
      "33453/33453 [==============================] - 229s 7ms/step\n"
     ]
    }
   ],
   "source": [
    "#%%time\n",
    "rnn_result = model_rnn.evaluate(x_test_pad, y_test)"
   ]
  },
  {
   "cell_type": "code",
   "execution_count": 48,
   "metadata": {},
   "outputs": [
    {
     "name": "stdout",
     "output_type": "stream",
     "text": [
      "Accuracy: 94.75%\n"
     ]
    }
   ],
   "source": [
    "print(\"Accuracy: {0:.2%}\".format(rnn_result[1]))"
   ]
  },
  {
   "cell_type": "code",
   "execution_count": 49,
   "metadata": {},
   "outputs": [
    {
     "name": "stdout",
     "output_type": "stream",
     "text": [
      "Accuracy: 95.03%\n"
     ]
    }
   ],
   "source": [
    "print(\"Accuracy: {0:.2%}\".format(cnn_result[1]))\n"
   ]
  },
  {
   "cell_type": "code",
   "execution_count": 50,
   "metadata": {},
   "outputs": [
    {
     "name": "stdout",
     "output_type": "stream",
     "text": [
      "CPU times: user 1.21 s, sys: 168 ms, total: 1.38 s\n",
      "Wall time: 1.07 s\n"
     ]
    }
   ],
   "source": [
    "%%time\n",
    "cnn_y_pred = model_cnn.predict(x=x_test_pad)\n",
    "cnn_y_pred = cnn_y_pred.T[0]"
   ]
  },
  {
   "cell_type": "code",
   "execution_count": 51,
   "metadata": {},
   "outputs": [
    {
     "name": "stdout",
     "output_type": "stream",
     "text": [
      "CPU times: user 7min 44s, sys: 20.3 s, total: 8min 4s\n",
      "Wall time: 3min 51s\n"
     ]
    }
   ],
   "source": [
    "%%time\n",
    "rnn_y_pred = model_rnn.predict(x=x_test_pad)\n",
    "rnn_y_pred = rnn_y_pred.T[0]"
   ]
  },
  {
   "cell_type": "code",
   "execution_count": 52,
   "metadata": {},
   "outputs": [
    {
     "data": {
      "text/plain": [
       "(                  0\n",
       " count  33453.000000\n",
       " mean       0.833978\n",
       " std        0.346778\n",
       " min        0.000003\n",
       " 25%        0.979336\n",
       " 50%        0.999923\n",
       " 75%        0.999999\n",
       " max        1.000000,                   0\n",
       " count  33453.000000\n",
       " mean       0.856403\n",
       " std        0.312232\n",
       " min        0.008256\n",
       " 25%        0.979231\n",
       " 50%        0.993960\n",
       " 75%        0.994908\n",
       " max        0.995259)"
      ]
     },
     "execution_count": 52,
     "metadata": {},
     "output_type": "execute_result"
    }
   ],
   "source": [
    "pd.DataFrame(cnn_y_pred).describe(), pd.DataFrame(rnn_y_pred).describe()"
   ]
  },
  {
   "cell_type": "code",
   "execution_count": 53,
   "metadata": {},
   "outputs": [
    {
     "data": {
      "text/plain": [
       "((33453,), (33453,))"
      ]
     },
     "execution_count": 53,
     "metadata": {},
     "output_type": "execute_result"
    }
   ],
   "source": [
    "cnn_y_pred.shape, rnn_y_pred.shape"
   ]
  },
  {
   "cell_type": "code",
   "execution_count": 54,
   "metadata": {},
   "outputs": [],
   "source": [
    "cnn_cls_pred = np.array([1.0 if p>0.5 else 0.0 for p in cnn_y_pred])\n",
    "rnn_cls_pred = np.array([1.0 if p>0.5 else 0.0 for p in rnn_y_pred])"
   ]
  },
  {
   "cell_type": "code",
   "execution_count": 55,
   "metadata": {},
   "outputs": [
    {
     "data": {
      "text/plain": [
       "(33453, 33453)"
      ]
     },
     "execution_count": 55,
     "metadata": {},
     "output_type": "execute_result"
    }
   ],
   "source": [
    "len(cnn_cls_pred), len(rnn_cls_pred)"
   ]
  },
  {
   "cell_type": "code",
   "execution_count": 56,
   "metadata": {},
   "outputs": [
    {
     "data": {
      "text/plain": [
       "(0.9502585717274983, 0.9475383373688459)"
      ]
     },
     "execution_count": 56,
     "metadata": {},
     "output_type": "execute_result"
    }
   ],
   "source": [
    "cnn_accuracy = (cnn_cls_pred==y_test).mean()\n",
    "rnn_accuracy = (rnn_cls_pred==y_test).mean()\n",
    "cnn_accuracy, rnn_accuracy"
   ]
  },
  {
   "cell_type": "code",
   "execution_count": 57,
   "metadata": {},
   "outputs": [],
   "source": [
    "from sklearn.metrics import confusion_matrix"
   ]
  },
  {
   "cell_type": "code",
   "execution_count": 58,
   "metadata": {},
   "outputs": [
    {
     "data": {
      "text/plain": [
       "(4436, 648, 1016, 27353)"
      ]
     },
     "execution_count": 58,
     "metadata": {},
     "output_type": "execute_result"
    }
   ],
   "source": [
    "#Check for padding\n",
    "tn, fp, fn, tp = confusion_matrix(y_test, cnn_cls_pred).ravel()\n",
    "tn, fp, fn, tp"
   ]
  },
  {
   "cell_type": "code",
   "execution_count": 59,
   "metadata": {},
   "outputs": [
    {
     "data": {
      "text/plain": [
       "(3979, 1105, 650, 27719)"
      ]
     },
     "execution_count": 59,
     "metadata": {},
     "output_type": "execute_result"
    }
   ],
   "source": [
    "tn, fp, fn, tp = confusion_matrix(y_test, rnn_cls_pred).ravel()\n",
    "tn, fp, fn, tp"
   ]
  },
  {
   "cell_type": "code",
   "execution_count": 60,
   "metadata": {},
   "outputs": [
    {
     "data": {
      "text/plain": [
       "(5084, 28369)"
      ]
     },
     "execution_count": 60,
     "metadata": {},
     "output_type": "execute_result"
    }
   ],
   "source": [
    "len(np.where(y_test==0)[0]),len(np.where(y_test==1)[0])"
   ]
  },
  {
   "cell_type": "code",
   "execution_count": 61,
   "metadata": {},
   "outputs": [
    {
     "data": {
      "text/plain": [
       "(15126, 85233)"
      ]
     },
     "execution_count": 61,
     "metadata": {},
     "output_type": "execute_result"
    }
   ],
   "source": [
    "len(np.where(y_train==0)[0]),len(np.where(y_train==1)[0])"
   ]
  },
  {
   "cell_type": "code",
   "execution_count": 62,
   "metadata": {},
   "outputs": [],
   "source": [
    "cls_true = np.array(y_test)"
   ]
  },
  {
   "cell_type": "code",
   "execution_count": 63,
   "metadata": {},
   "outputs": [],
   "source": [
    "y_test.index\n",
    "y_test.values\n",
    "result = pd.DataFrame()\n",
    "result['Index'] = y_test.index\n",
    "result['TrueRating'] = y_test.values\n",
    "result['CNNRating'] = cnn_cls_pred\n",
    "result['RNNRating'] = rnn_cls_pred"
   ]
  },
  {
   "cell_type": "code",
   "execution_count": 64,
   "metadata": {},
   "outputs": [
    {
     "data": {
      "text/plain": [
       "(33453, 4)"
      ]
     },
     "execution_count": 64,
     "metadata": {},
     "output_type": "execute_result"
    }
   ],
   "source": [
    "result.shape"
   ]
  },
  {
   "cell_type": "code",
   "execution_count": 65,
   "metadata": {},
   "outputs": [
    {
     "data": {
      "text/plain": [
       "(32836, 4)"
      ]
     },
     "execution_count": 65,
     "metadata": {},
     "output_type": "execute_result"
    }
   ],
   "source": [
    "# need to drop the duplicates due to negative padding\n",
    "result.drop_duplicates(subset=\"Index\", inplace=True)\n",
    "result.shape"
   ]
  },
  {
   "cell_type": "code",
   "execution_count": 66,
   "metadata": {},
   "outputs": [
    {
     "data": {
      "text/html": [
       "<div>\n",
       "<style scoped>\n",
       "    .dataframe tbody tr th:only-of-type {\n",
       "        vertical-align: middle;\n",
       "    }\n",
       "\n",
       "    .dataframe tbody tr th {\n",
       "        vertical-align: top;\n",
       "    }\n",
       "\n",
       "    .dataframe thead th {\n",
       "        text-align: right;\n",
       "    }\n",
       "</style>\n",
       "<table border=\"1\" class=\"dataframe\">\n",
       "  <thead>\n",
       "    <tr style=\"text-align: right;\">\n",
       "      <th></th>\n",
       "      <th>Index</th>\n",
       "      <th>TrueRating</th>\n",
       "      <th>CNNRating</th>\n",
       "      <th>RNNRating</th>\n",
       "    </tr>\n",
       "  </thead>\n",
       "  <tbody>\n",
       "    <tr>\n",
       "      <td>0</td>\n",
       "      <td>96807</td>\n",
       "      <td>1.0</td>\n",
       "      <td>1.0</td>\n",
       "      <td>1.0</td>\n",
       "    </tr>\n",
       "  </tbody>\n",
       "</table>\n",
       "</div>"
      ],
      "text/plain": [
       "   Index  TrueRating  CNNRating  RNNRating\n",
       "0  96807         1.0        1.0        1.0"
      ]
     },
     "execution_count": 66,
     "metadata": {},
     "output_type": "execute_result"
    }
   ],
   "source": [
    "result.head(1)"
   ]
  },
  {
   "cell_type": "code",
   "execution_count": 67,
   "metadata": {},
   "outputs": [
    {
     "data": {
      "text/plain": [
       "((32836, 8),\n",
       " Index(['Index', 'masterIndex', 'asin', 'reviewText', 'helpful', 'overall',\n",
       "        'trueRating', 'CleanedJoin'],\n",
       "       dtype='object'))"
      ]
     },
     "execution_count": 67,
     "metadata": {},
     "output_type": "execute_result"
    }
   ],
   "source": [
    "df = testSample.loc[result.Index.to_list(), :]\n",
    "df = df.reset_index()\n",
    "#A.drop_duplicates()\n",
    "df= df.drop_duplicates(subset=\"index\")\n",
    "df.rename(columns={\"index\": \"Index\"}, inplace=True)\n",
    "df.shape, df.columns"
   ]
  },
  {
   "cell_type": "code",
   "execution_count": 68,
   "metadata": {},
   "outputs": [
    {
     "data": {
      "text/html": [
       "<div>\n",
       "<style scoped>\n",
       "    .dataframe tbody tr th:only-of-type {\n",
       "        vertical-align: middle;\n",
       "    }\n",
       "\n",
       "    .dataframe tbody tr th {\n",
       "        vertical-align: top;\n",
       "    }\n",
       "\n",
       "    .dataframe thead th {\n",
       "        text-align: right;\n",
       "    }\n",
       "</style>\n",
       "<table border=\"1\" class=\"dataframe\">\n",
       "  <thead>\n",
       "    <tr style=\"text-align: right;\">\n",
       "      <th></th>\n",
       "      <th>Index</th>\n",
       "      <th>masterIndex</th>\n",
       "      <th>asin</th>\n",
       "      <th>reviewText</th>\n",
       "      <th>helpful</th>\n",
       "      <th>overall</th>\n",
       "      <th>trueRating</th>\n",
       "      <th>CleanedJoin</th>\n",
       "    </tr>\n",
       "  </thead>\n",
       "  <tbody>\n",
       "    <tr>\n",
       "      <td>0</td>\n",
       "      <td>96807</td>\n",
       "      <td>105069</td>\n",
       "      <td>B004TEIMVC</td>\n",
       "      <td>If you're an advanced user, whether that be a ...</td>\n",
       "      <td>[3, 4]</td>\n",
       "      <td>5.0</td>\n",
       "      <td>1.0</td>\n",
       "      <td>if you be an advance user whether that be a ho...</td>\n",
       "    </tr>\n",
       "    <tr>\n",
       "      <td>1</td>\n",
       "      <td>120279</td>\n",
       "      <td>130698</td>\n",
       "      <td>B00DQ3F0YY</td>\n",
       "      <td>You really get your money worth with this flas...</td>\n",
       "      <td>[0, 0]</td>\n",
       "      <td>5.0</td>\n",
       "      <td>1.0</td>\n",
       "      <td>you really get your money worth with this flas...</td>\n",
       "    </tr>\n",
       "    <tr>\n",
       "      <td>2</td>\n",
       "      <td>117496</td>\n",
       "      <td>127682</td>\n",
       "      <td>B00BB2MMNE</td>\n",
       "      <td>Simple and clear instructions;  including wiri...</td>\n",
       "      <td>[0, 0]</td>\n",
       "      <td>5.0</td>\n",
       "      <td>1.0</td>\n",
       "      <td>simple and clear instruction include wire the ...</td>\n",
       "    </tr>\n",
       "    <tr>\n",
       "      <td>3</td>\n",
       "      <td>43612</td>\n",
       "      <td>47267</td>\n",
       "      <td>B000LG7G0A</td>\n",
       "      <td>The shade was easy to cut and easy to install....</td>\n",
       "      <td>[0, 0]</td>\n",
       "      <td>5.0</td>\n",
       "      <td>1.0</td>\n",
       "      <td>the shade be easy to cut and easy to install, ...</td>\n",
       "    </tr>\n",
       "  </tbody>\n",
       "</table>\n",
       "</div>"
      ],
      "text/plain": [
       "    Index  masterIndex        asin  \\\n",
       "0   96807       105069  B004TEIMVC   \n",
       "1  120279       130698  B00DQ3F0YY   \n",
       "2  117496       127682  B00BB2MMNE   \n",
       "3   43612        47267  B000LG7G0A   \n",
       "\n",
       "                                          reviewText helpful  overall  \\\n",
       "0  If you're an advanced user, whether that be a ...  [3, 4]      5.0   \n",
       "1  You really get your money worth with this flas...  [0, 0]      5.0   \n",
       "2  Simple and clear instructions;  including wiri...  [0, 0]      5.0   \n",
       "3  The shade was easy to cut and easy to install....  [0, 0]      5.0   \n",
       "\n",
       "   trueRating                                        CleanedJoin  \n",
       "0         1.0  if you be an advance user whether that be a ho...  \n",
       "1         1.0  you really get your money worth with this flas...  \n",
       "2         1.0  simple and clear instruction include wire the ...  \n",
       "3         1.0  the shade be easy to cut and easy to install, ...  "
      ]
     },
     "execution_count": 68,
     "metadata": {},
     "output_type": "execute_result"
    }
   ],
   "source": [
    "df.head(4)"
   ]
  },
  {
   "cell_type": "code",
   "execution_count": 69,
   "metadata": {},
   "outputs": [
    {
     "data": {
      "text/html": [
       "<div>\n",
       "<style scoped>\n",
       "    .dataframe tbody tr th:only-of-type {\n",
       "        vertical-align: middle;\n",
       "    }\n",
       "\n",
       "    .dataframe tbody tr th {\n",
       "        vertical-align: top;\n",
       "    }\n",
       "\n",
       "    .dataframe thead th {\n",
       "        text-align: right;\n",
       "    }\n",
       "</style>\n",
       "<table border=\"1\" class=\"dataframe\">\n",
       "  <thead>\n",
       "    <tr style=\"text-align: right;\">\n",
       "      <th></th>\n",
       "      <th>Index</th>\n",
       "      <th>masterIndex</th>\n",
       "      <th>asin</th>\n",
       "      <th>reviewText</th>\n",
       "      <th>helpful</th>\n",
       "      <th>overall</th>\n",
       "      <th>trueRating</th>\n",
       "      <th>CleanedJoin</th>\n",
       "      <th>TrueRating</th>\n",
       "      <th>CNNRating</th>\n",
       "      <th>RNNRating</th>\n",
       "    </tr>\n",
       "  </thead>\n",
       "  <tbody>\n",
       "    <tr>\n",
       "      <td>0</td>\n",
       "      <td>96807</td>\n",
       "      <td>105069</td>\n",
       "      <td>B004TEIMVC</td>\n",
       "      <td>If you're an advanced user, whether that be a ...</td>\n",
       "      <td>[3, 4]</td>\n",
       "      <td>5.0</td>\n",
       "      <td>1.0</td>\n",
       "      <td>if you be an advance user whether that be a ho...</td>\n",
       "      <td>1.0</td>\n",
       "      <td>1.0</td>\n",
       "      <td>1.0</td>\n",
       "    </tr>\n",
       "    <tr>\n",
       "      <td>1</td>\n",
       "      <td>120279</td>\n",
       "      <td>130698</td>\n",
       "      <td>B00DQ3F0YY</td>\n",
       "      <td>You really get your money worth with this flas...</td>\n",
       "      <td>[0, 0]</td>\n",
       "      <td>5.0</td>\n",
       "      <td>1.0</td>\n",
       "      <td>you really get your money worth with this flas...</td>\n",
       "      <td>1.0</td>\n",
       "      <td>1.0</td>\n",
       "      <td>1.0</td>\n",
       "    </tr>\n",
       "    <tr>\n",
       "      <td>2</td>\n",
       "      <td>117496</td>\n",
       "      <td>127682</td>\n",
       "      <td>B00BB2MMNE</td>\n",
       "      <td>Simple and clear instructions;  including wiri...</td>\n",
       "      <td>[0, 0]</td>\n",
       "      <td>5.0</td>\n",
       "      <td>1.0</td>\n",
       "      <td>simple and clear instruction include wire the ...</td>\n",
       "      <td>1.0</td>\n",
       "      <td>1.0</td>\n",
       "      <td>1.0</td>\n",
       "    </tr>\n",
       "  </tbody>\n",
       "</table>\n",
       "</div>"
      ],
      "text/plain": [
       "    Index  masterIndex        asin  \\\n",
       "0   96807       105069  B004TEIMVC   \n",
       "1  120279       130698  B00DQ3F0YY   \n",
       "2  117496       127682  B00BB2MMNE   \n",
       "\n",
       "                                          reviewText helpful  overall  \\\n",
       "0  If you're an advanced user, whether that be a ...  [3, 4]      5.0   \n",
       "1  You really get your money worth with this flas...  [0, 0]      5.0   \n",
       "2  Simple and clear instructions;  including wiri...  [0, 0]      5.0   \n",
       "\n",
       "   trueRating                                        CleanedJoin  TrueRating  \\\n",
       "0         1.0  if you be an advance user whether that be a ho...         1.0   \n",
       "1         1.0  you really get your money worth with this flas...         1.0   \n",
       "2         1.0  simple and clear instruction include wire the ...         1.0   \n",
       "\n",
       "   CNNRating  RNNRating  \n",
       "0        1.0        1.0  \n",
       "1        1.0        1.0  \n",
       "2        1.0        1.0  "
      ]
     },
     "execution_count": 69,
     "metadata": {},
     "output_type": "execute_result"
    }
   ],
   "source": [
    "modelResult = pd.merge(df, result, on=\"Index\", how=\"inner\")\n",
    "modelResult.head(3)"
   ]
  },
  {
   "cell_type": "code",
   "execution_count": 72,
   "metadata": {},
   "outputs": [],
   "source": [
    "#!pip install TextBlob"
   ]
  },
  {
   "cell_type": "code",
   "execution_count": 73,
   "metadata": {},
   "outputs": [
    {
     "data": {
      "text/plain": [
       "<module 'TextBlobImplementation' from '/home/toan/Study/NLP/TextBlobImplementation.py'>"
      ]
     },
     "execution_count": 73,
     "metadata": {},
     "output_type": "execute_result"
    }
   ],
   "source": [
    "import TextBlobImplementation as TextBlob\n",
    "import importlib\n",
    "importlib.reload(TextBlob)"
   ]
  },
  {
   "cell_type": "code",
   "execution_count": 74,
   "metadata": {},
   "outputs": [
    {
     "data": {
      "text/plain": [
       "1.0"
      ]
     },
     "execution_count": 74,
     "metadata": {},
     "output_type": "execute_result"
    }
   ],
   "source": [
    "polaritySample = modelResult.iloc[3, :]['CleanedJoin']\n",
    "\n",
    "TextBlob.getPolarityFromText(polaritySample.split(','))"
   ]
  },
  {
   "cell_type": "code",
   "execution_count": 75,
   "metadata": {},
   "outputs": [
    {
     "data": {
      "text/plain": [
       "<module 'TextPreProcessing' from '/home/toan/Study/NLP/TextPreProcessing.py'>"
      ]
     },
     "execution_count": 75,
     "metadata": {},
     "output_type": "execute_result"
    }
   ],
   "source": [
    "import TextPreProcessing as TextProcessing\n",
    "import importlib\n",
    "importlib.reload(TextProcessing)"
   ]
  },
  {
   "cell_type": "code",
   "execution_count": 81,
   "metadata": {},
   "outputs": [
    {
     "name": "stdout",
     "output_type": "stream",
     "text": [
      "CPU times: user 8.65 s, sys: 28 ms, total: 8.68 s\n",
      "Wall time: 8.7 s\n"
     ]
    }
   ],
   "source": [
    "%%time\n",
    "modelResult['simplifiedText'] = modelResult.reviewText.apply(TextProcessing.simplifiedTextParagraph)"
   ]
  },
  {
   "cell_type": "code",
   "execution_count": 80,
   "metadata": {},
   "outputs": [
    {
     "name": "stderr",
     "output_type": "stream",
     "text": [
      "[nltk_data] Downloading package punkt to /home/toan/nltk_data...\n",
      "[nltk_data]   Unzipping tokenizers/punkt.zip.\n"
     ]
    },
    {
     "data": {
      "text/plain": [
       "True"
      ]
     },
     "execution_count": 80,
     "metadata": {},
     "output_type": "execute_result"
    }
   ],
   "source": [
    "#!pip install nltk\n",
    "#import nltk\n",
    "#nltk.download('punkt')"
   ]
  },
  {
   "cell_type": "code",
   "execution_count": 82,
   "metadata": {},
   "outputs": [
    {
     "name": "stdout",
     "output_type": "stream",
     "text": [
      "CPU times: user 1min 3s, sys: 0 ns, total: 1min 3s\n",
      "Wall time: 1min 3s\n"
     ]
    }
   ],
   "source": [
    "%%time\n",
    "#not very accurate using stemming\n",
    "#modelResult['textBlobRating'] = modelResult.CleanedJoin.str.split(',')\n",
    "modelResult['textBlobRating'] = modelResult.simplifiedText.apply(TextBlob.getPolarityFromText)"
   ]
  },
  {
   "cell_type": "code",
   "execution_count": 83,
   "metadata": {},
   "outputs": [
    {
     "data": {
      "text/html": [
       "<div>\n",
       "<style scoped>\n",
       "    .dataframe tbody tr th:only-of-type {\n",
       "        vertical-align: middle;\n",
       "    }\n",
       "\n",
       "    .dataframe tbody tr th {\n",
       "        vertical-align: top;\n",
       "    }\n",
       "\n",
       "    .dataframe thead th {\n",
       "        text-align: right;\n",
       "    }\n",
       "</style>\n",
       "<table border=\"1\" class=\"dataframe\">\n",
       "  <thead>\n",
       "    <tr style=\"text-align: right;\">\n",
       "      <th></th>\n",
       "      <th>Index</th>\n",
       "      <th>masterIndex</th>\n",
       "      <th>asin</th>\n",
       "      <th>reviewText</th>\n",
       "      <th>helpful</th>\n",
       "      <th>overall</th>\n",
       "      <th>trueRating</th>\n",
       "      <th>CleanedJoin</th>\n",
       "      <th>TrueRating</th>\n",
       "      <th>CNNRating</th>\n",
       "      <th>RNNRating</th>\n",
       "      <th>simplifiedText</th>\n",
       "      <th>textBlobRating</th>\n",
       "    </tr>\n",
       "  </thead>\n",
       "  <tbody>\n",
       "    <tr>\n",
       "      <td>0</td>\n",
       "      <td>96807</td>\n",
       "      <td>105069</td>\n",
       "      <td>B004TEIMVC</td>\n",
       "      <td>If you're an advanced user, whether that be a ...</td>\n",
       "      <td>[3, 4]</td>\n",
       "      <td>5.0</td>\n",
       "      <td>1.0</td>\n",
       "      <td>if you be an advance user whether that be a ho...</td>\n",
       "      <td>1.0</td>\n",
       "      <td>1.0</td>\n",
       "      <td>1.0</td>\n",
       "      <td>[if you are an advanced user  whether that be ...</td>\n",
       "      <td>1.0</td>\n",
       "    </tr>\n",
       "    <tr>\n",
       "      <td>1</td>\n",
       "      <td>120279</td>\n",
       "      <td>130698</td>\n",
       "      <td>B00DQ3F0YY</td>\n",
       "      <td>You really get your money worth with this flas...</td>\n",
       "      <td>[0, 0]</td>\n",
       "      <td>5.0</td>\n",
       "      <td>1.0</td>\n",
       "      <td>you really get your money worth with this flas...</td>\n",
       "      <td>1.0</td>\n",
       "      <td>1.0</td>\n",
       "      <td>1.0</td>\n",
       "      <td>[you really get your money worth with this fla...</td>\n",
       "      <td>1.0</td>\n",
       "    </tr>\n",
       "    <tr>\n",
       "      <td>2</td>\n",
       "      <td>117496</td>\n",
       "      <td>127682</td>\n",
       "      <td>B00BB2MMNE</td>\n",
       "      <td>Simple and clear instructions;  including wiri...</td>\n",
       "      <td>[0, 0]</td>\n",
       "      <td>5.0</td>\n",
       "      <td>1.0</td>\n",
       "      <td>simple and clear instruction include wire the ...</td>\n",
       "      <td>1.0</td>\n",
       "      <td>1.0</td>\n",
       "      <td>1.0</td>\n",
       "      <td>[simple and clear instructions   including wir...</td>\n",
       "      <td>1.0</td>\n",
       "    </tr>\n",
       "  </tbody>\n",
       "</table>\n",
       "</div>"
      ],
      "text/plain": [
       "    Index  masterIndex        asin  \\\n",
       "0   96807       105069  B004TEIMVC   \n",
       "1  120279       130698  B00DQ3F0YY   \n",
       "2  117496       127682  B00BB2MMNE   \n",
       "\n",
       "                                          reviewText helpful  overall  \\\n",
       "0  If you're an advanced user, whether that be a ...  [3, 4]      5.0   \n",
       "1  You really get your money worth with this flas...  [0, 0]      5.0   \n",
       "2  Simple and clear instructions;  including wiri...  [0, 0]      5.0   \n",
       "\n",
       "   trueRating                                        CleanedJoin  TrueRating  \\\n",
       "0         1.0  if you be an advance user whether that be a ho...         1.0   \n",
       "1         1.0  you really get your money worth with this flas...         1.0   \n",
       "2         1.0  simple and clear instruction include wire the ...         1.0   \n",
       "\n",
       "   CNNRating  RNNRating                                     simplifiedText  \\\n",
       "0        1.0        1.0  [if you are an advanced user  whether that be ...   \n",
       "1        1.0        1.0  [you really get your money worth with this fla...   \n",
       "2        1.0        1.0  [simple and clear instructions   including wir...   \n",
       "\n",
       "   textBlobRating  \n",
       "0             1.0  \n",
       "1             1.0  \n",
       "2             1.0  "
      ]
     },
     "execution_count": 83,
     "metadata": {},
     "output_type": "execute_result"
    }
   ],
   "source": [
    "modelResult.head(3)"
   ]
  },
  {
   "cell_type": "code",
   "execution_count": 84,
   "metadata": {},
   "outputs": [],
   "source": [
    "from sklearn.metrics import confusion_matrix\n",
    "\n",
    "y_true = modelResult.TrueRating.to_list()\n",
    "cnn_pred = modelResult.CNNRating.to_list()\n",
    "textBlob_pred = modelResult.textBlobRating.to_list()"
   ]
  },
  {
   "cell_type": "code",
   "execution_count": 85,
   "metadata": {},
   "outputs": [],
   "source": [
    "from sklearn.metrics import confusion_matrix\n",
    "\n",
    "y_true = modelResult.TrueRating.to_list()\n",
    "rnn_pred = modelResult.RNNRating.to_list() \n",
    "textBlob_pred = modelResult.textBlobRating.to_list()"
   ]
  },
  {
   "cell_type": "code",
   "execution_count": 86,
   "metadata": {},
   "outputs": [],
   "source": [
    "#report = {'CNN': [], 'RNN': None, 'TextBlob':None}\n",
    "report = dict()"
   ]
  },
  {
   "cell_type": "code",
   "execution_count": 87,
   "metadata": {},
   "outputs": [
    {
     "data": {
      "text/plain": [
       "array([ 4060,   407,  1016, 27353])"
      ]
     },
     "execution_count": 87,
     "metadata": {},
     "output_type": "execute_result"
    }
   ],
   "source": [
    "#tn, fp, fn, tp = confusion_matrix(y_true, cnn_pred).ravel()\n",
    "report['CNN'] = confusion_matrix(y_true, cnn_pred).ravel()\n",
    "#tn, fp, fn, tp\n",
    "report['CNN']"
   ]
  },
  {
   "cell_type": "code",
   "execution_count": 88,
   "metadata": {},
   "outputs": [
    {
     "data": {
      "text/plain": [
       "array([ 3626,   841,   650, 27719])"
      ]
     },
     "execution_count": 88,
     "metadata": {},
     "output_type": "execute_result"
    }
   ],
   "source": [
    "#tn, fp, fn, tp = confusion_matrix(y_true, rnn_pred).ravel()\n",
    "report['RNN'] = confusion_matrix(y_true, rnn_pred).ravel()\n",
    "#tn, fp, fn, tp\n",
    "report['RNN']"
   ]
  },
  {
   "cell_type": "code",
   "execution_count": 89,
   "metadata": {},
   "outputs": [],
   "source": [
    "#tn, fp, fn, tp = confusion_matrix(y_true, textBlob_pred).ravel()\n",
    "report['TextBlob'] = confusion_matrix(y_true, textBlob_pred).ravel()\n",
    "#tn, fp, fn, tp"
   ]
  },
  {
   "cell_type": "code",
   "execution_count": 90,
   "metadata": {},
   "outputs": [],
   "source": [
    "pd.options.display.max_colwidth = 50\n",
    "\n",
    "#productsReviewData.cleanedText.head(2)"
   ]
  },
  {
   "cell_type": "code",
   "execution_count": 91,
   "metadata": {},
   "outputs": [],
   "source": [
    "y_true = np.array(y_true)"
   ]
  },
  {
   "cell_type": "code",
   "execution_count": 92,
   "metadata": {},
   "outputs": [],
   "source": [
    "reportCard = pd.DataFrame(report).T\n",
    "reportCard.columns = ['tn', 'fp', 'fn', 'tp']"
   ]
  },
  {
   "cell_type": "code",
   "execution_count": 93,
   "metadata": {},
   "outputs": [
    {
     "data": {
      "text/html": [
       "<div>\n",
       "<style scoped>\n",
       "    .dataframe tbody tr th:only-of-type {\n",
       "        vertical-align: middle;\n",
       "    }\n",
       "\n",
       "    .dataframe tbody tr th {\n",
       "        vertical-align: top;\n",
       "    }\n",
       "\n",
       "    .dataframe thead th {\n",
       "        text-align: right;\n",
       "    }\n",
       "</style>\n",
       "<table border=\"1\" class=\"dataframe\">\n",
       "  <thead>\n",
       "    <tr style=\"text-align: right;\">\n",
       "      <th></th>\n",
       "      <th>tn</th>\n",
       "      <th>fp</th>\n",
       "      <th>fn</th>\n",
       "      <th>tp</th>\n",
       "    </tr>\n",
       "  </thead>\n",
       "  <tbody>\n",
       "    <tr>\n",
       "      <td>CNN</td>\n",
       "      <td>4060</td>\n",
       "      <td>407</td>\n",
       "      <td>1016</td>\n",
       "      <td>27353</td>\n",
       "    </tr>\n",
       "    <tr>\n",
       "      <td>RNN</td>\n",
       "      <td>3626</td>\n",
       "      <td>841</td>\n",
       "      <td>650</td>\n",
       "      <td>27719</td>\n",
       "    </tr>\n",
       "    <tr>\n",
       "      <td>TextBlob</td>\n",
       "      <td>1336</td>\n",
       "      <td>3131</td>\n",
       "      <td>2026</td>\n",
       "      <td>26343</td>\n",
       "    </tr>\n",
       "    <tr>\n",
       "      <td>ActualRating</td>\n",
       "      <td>4467</td>\n",
       "      <td>0</td>\n",
       "      <td>0</td>\n",
       "      <td>28369</td>\n",
       "    </tr>\n",
       "  </tbody>\n",
       "</table>\n",
       "</div>"
      ],
      "text/plain": [
       "                tn    fp    fn     tp\n",
       "CNN           4060   407  1016  27353\n",
       "RNN           3626   841   650  27719\n",
       "TextBlob      1336  3131  2026  26343\n",
       "ActualRating  4467     0     0  28369"
      ]
     },
     "execution_count": 93,
     "metadata": {},
     "output_type": "execute_result"
    }
   ],
   "source": [
    "reportCard.loc['ActualRating'] = [len(np.where(y_true==0)[0]), 0, 0, len(np.where(y_true==1)[0])]\n",
    "reportCard"
   ]
  },
  {
   "cell_type": "code",
   "execution_count": 94,
   "metadata": {},
   "outputs": [],
   "source": [
    "reportCard.to_csv(\"2nd_PaddingNegativeReviews_RNN_CNN_TextBlob.csv\")"
   ]
  },
  {
   "cell_type": "markdown",
   "metadata": {},
   "source": [
    "## 133K review comparison\n",
    "\n",
    "## padding extra negative reviews\n",
    "\n",
    "##### we pick up two unique negative extras with the sampling when we padded\n",
    "\n",
    "tn, fp, fn, tp\n",
    "\n",
    "(3913, 554, 742, 27627)  CNN for negative reviews padding \n",
    "(3445, 1022, 923, 27446) RNN with negative reviews padding\n",
    "(1142, 3325, 1782, 26587) textBlob with negative reviews padding \n",
    "\n",
    "Note: RNN 3*8 word vector with  batch size = 64\n",
    "\n",
    "## no padding extra negative reviews\n",
    "\n",
    "tn, fp, fn, tp\n",
    "\n",
    "(1667, 916, 813, 27531)  CNN without negative reviews padding\n",
    "(1034, 1549, 270, 28074) RNN without negative reviews padding\n",
    "(671, 1912, 1767, 26577) textBlob without negative reviews padding\n",
    "\n",
    "\n",
    "## Multinomial Naive Bayes no padding extra negative reviews\n",
    "\n",
    "tn, fp, fn, tp\n",
    "\n",
    "(509, 2074, 4175, 24169) Multinomial Naive Bayes # n-gram (1,2), num_words = 20000\n",
    "(26, 83, 393, 1871) Multinomial Naive Bayes # n-gram (1,1), num_words = 3000\n",
    "\n"
   ]
  },
  {
   "cell_type": "markdown",
   "metadata": {},
   "source": [
    "\n",
    "## 10K review comparison\n",
    "\n",
    "## padding extra negative reviews\n",
    "\n",
    "##### we pick up two unique negative extras with the sampling when we padded\n",
    "\n",
    "tn, fp, fn, tp\n",
    "\n",
    "(174, 27, 44, 2214) CNN for negative reviews padding \n",
    "(113, 88, 34, 2224)  RNN with negative review padding\n",
    "(50, 151, 112, 2146) textBlob with negative padding \n",
    "\n",
    "## no padding extra negative reviews\n",
    "\n",
    "tn, fp, fn, tp\n",
    "\n",
    "(31, 78, 37, 2227)  CNN without negative reviews padding\n",
    "(3, 106, 2, 2262)   RNN without negative reviews padding\n",
    "(27, 82, 106, 2158) textBlob without negative reviews padding\n",
    "\n",
    "\n",
    "## Multinomial Naive Bayes no padding extra negative reviews\n",
    "\n",
    "tn, fp, fn, tp\n",
    "\n",
    "(12, 97, 232, 2032) Multinomial Naive Bayes # n-gram (1,2), num_words = 10000\n",
    "(26, 83, 393, 1871) Multinomial Naive Bayes # n-gram (1,1), num_words = 3000\n",
    "\n",
    "\n"
   ]
  }
 ],
 "metadata": {
  "kernelspec": {
   "display_name": "Python 3",
   "language": "python",
   "name": "python3"
  },
  "language_info": {
   "codemirror_mode": {
    "name": "ipython",
    "version": 3
   },
   "file_extension": ".py",
   "mimetype": "text/x-python",
   "name": "python",
   "nbconvert_exporter": "python",
   "pygments_lexer": "ipython3",
   "version": "3.7.3"
  }
 },
 "nbformat": 4,
 "nbformat_minor": 2
}
