{
 "cells": [
  {
   "cell_type": "code",
   "execution_count": 1,
   "metadata": {},
   "outputs": [],
   "source": [
    "#Import libraries\n",
    "\n",
    "import gzip #for parsing gz files\n",
    "import pandas as pd\n",
    "import re \n",
    "#import inflect #numeric/cardinal"
   ]
  },
  {
   "cell_type": "code",
   "execution_count": 2,
   "metadata": {},
   "outputs": [],
   "source": [
    "dirPath = r\"C:\\Study\\Projects\\NLP\\data\"\n",
    "reviewPath = r\"reviews_Tools_and_Home_Improvement_5.json.gz\"\n",
    "reviewPath = r\"reviews_Musical_Instruments_5.json.gz\"\n",
    "qaPath = r\"C:\\Study\\Projects\\NLP\\data\" \n",
    "path = dirPath + \"\\\\\" + reviewPath"
   ]
  },
  {
   "cell_type": "code",
   "execution_count": 3,
   "metadata": {},
   "outputs": [],
   "source": [
    "dataFile = gzip.open(path, 'r')"
   ]
  },
  {
   "cell_type": "code",
   "execution_count": 4,
   "metadata": {},
   "outputs": [],
   "source": [
    "# Need this function because large amount of data we are going to load up\n",
    "\n",
    "# http://jmcauley.ucsd.edu/data/amazon/index.html\n",
    "# eval function allows text to be parsed as python code\n",
    "# parse function is a generator with yield\n",
    "# yield when we want to iterate over a sequence, but don't want to store the entire sequence in memory\n",
    "def parse(dataFile):\n",
    "    for each in dataFile:\n",
    "        yield eval(each)"
   ]
  },
  {
   "cell_type": "code",
   "execution_count": 5,
   "metadata": {},
   "outputs": [],
   "source": [
    "# for each review for a product in dataFile maps dict[nth] = review (nth)\n",
    "# enumerate can't be used on a generator\n",
    "count = 0\n",
    "productReviews = {}\n",
    "for eachReview in parse(dataFile):\n",
    "    productReviews[count] = eachReview\n",
    "    count = count + 1\n"
   ]
  },
  {
   "cell_type": "code",
   "execution_count": 6,
   "metadata": {},
   "outputs": [
    {
     "data": {
      "text/plain": [
       "10261"
      ]
     },
     "execution_count": 6,
     "metadata": {},
     "output_type": "execute_result"
    }
   ],
   "source": [
    "len(productReviews)"
   ]
  },
  {
   "cell_type": "code",
   "execution_count": 7,
   "metadata": {},
   "outputs": [],
   "source": [
    "productsReviewData = pd.DataFrame.from_dict(productReviews, orient='index')"
   ]
  },
  {
   "cell_type": "code",
   "execution_count": 8,
   "metadata": {},
   "outputs": [
    {
     "data": {
      "text/plain": [
       "Index(['reviewerID', 'asin', 'reviewerName', 'helpful', 'reviewText',\n",
       "       'overall', 'summary', 'unixReviewTime', 'reviewTime'],\n",
       "      dtype='object')"
      ]
     },
     "execution_count": 8,
     "metadata": {},
     "output_type": "execute_result"
    }
   ],
   "source": [
    "productsReviewData.shape\n",
    "productsReviewData.columns"
   ]
  },
  {
   "cell_type": "code",
   "execution_count": 9,
   "metadata": {},
   "outputs": [],
   "source": [
    "reduceData = productsReviewData.loc[:, ['asin', 'reviewerName', 'reviewText', 'helpful', 'overall']]\n",
    "\n",
    "\n"
   ]
  },
  {
   "cell_type": "code",
   "execution_count": 10,
   "metadata": {},
   "outputs": [],
   "source": [
    "rating = lambda x: 1 if x > 2.0 else 0"
   ]
  },
  {
   "cell_type": "code",
   "execution_count": 11,
   "metadata": {},
   "outputs": [],
   "source": [
    "reduceData['rating'] = reduceData['overall'].apply(rating)\n",
    "unfavorableReviews = list(reduceData.loc[ reduceData['rating'] == 0, \n",
    "                                         ['reviewText', 'helpful', 'overall', 'rating']].sort_values(by='overall').index)\n",
    "#unfavorableReviews"
   ]
  },
  {
   "cell_type": "code",
   "execution_count": 12,
   "metadata": {},
   "outputs": [],
   "source": [
    "reviewTextProcessing = pd.DataFrame(reduceData.reviewText.copy())"
   ]
  },
  {
   "cell_type": "code",
   "execution_count": 13,
   "metadata": {},
   "outputs": [],
   "source": [
    "reviewTextProcessing['rating'] = reduceData['rating']\n",
    "reviewTextProcessing['overall'] = reduceData['overall']"
   ]
  },
  {
   "cell_type": "code",
   "execution_count": 14,
   "metadata": {},
   "outputs": [
    {
     "data": {
      "text/plain": [
       "(10261, 3)"
      ]
     },
     "execution_count": 14,
     "metadata": {},
     "output_type": "execute_result"
    }
   ],
   "source": [
    "productsReviewData.dtypes\n",
    "len(productsReviewData)\n",
    "# reviewText, rating, overall\n",
    "reviewTextProcessing.shape"
   ]
  },
  {
   "cell_type": "code",
   "execution_count": 16,
   "metadata": {},
   "outputs": [],
   "source": [
    "#reviewTextProcessing.loc[reviewTextProcessing['rating']==0, ['rating', 'overall', 'Processed', 'SentimentModel']].head(2)"
   ]
  },
  {
   "cell_type": "code",
   "execution_count": 17,
   "metadata": {
    "scrolled": true
   },
   "outputs": [
    {
     "name": "stdout",
     "output_type": "stream",
     "text": [
      "dict_keys([\"ain't\", \"aren't\", \"can't\", \"can't've\", \"'cause\", \"could've\", \"couldn't\", \"couldn't've\", \"didn't\", \"doesn't\", \"don't\", \"hadn't\", \"hadn't've\", \"hasn't\", \"haven't\", \"he'd\", \"he'd've\", \"he'll\", \"he'll've\", \"he's\", \"how'd\", \"how'd'y\", \"how'll\", \"how's\", \"I'd\", \"I'd've\", \"I'll\", \"I'll've\", \"I'm\", \"I've\", \"isn't\", \"it'd\", \"it'd've\", \"it'll\", \"it'll've\", \"it's\", \"let's\", \"ma'am\", \"mayn't\", \"might've\", \"mightn't\", \"mightn't've\", \"must've\", \"mustn't\", \"mustn't've\", \"needn't\", \"needn't've\", \"o'clock\", \"oughtn't\", \"oughtn't've\", \"shan't\", \"sha'n't\", \"shan't've\", \"she'd\", \"she'd've\", \"she'll\", \"she'll've\", \"she's\", 's###', \"should've\", \"shouldn't\", \"shouldn't've\", \"so've\", \"so's\", \"that'd\", \"that'd've\", \"that's\", \"there'd\", \"there'd've\", \"there's\", \"they'd\", \"they'd've\", \"they'll\", \"they'll've\", \"they're\", \"they've\", \"to've\", \"wasn't\", \"we'd\", \"we'd've\", \"we'll\", \"we'll've\", \"we're\", \"we've\", \"weren't\", \"what'll\", \"what'll've\", \"what're\", \"what's\", \"what've\", \"when's\", \"when've\", \"where'd\", \"where's\", \"where've\", \"who'll\", \"who'll've\", \"who's\", \"who've\", \"why's\", \"why've\", \"will've\", \"won't\", \"won't've\", \"would've\", \"wouldn't\", \"wouldn't've\", \"y'all\", \"y'all'd\", \"y'all'd've\", \"y'all're\", \"y'all've\", \"you'd\", \"you'd've\", \"you'll\", \"you'll've\", \"you're\", \"you've\"])\n"
     ]
    }
   ],
   "source": [
    "#https://stackoverflow.com/questions/19790188/expanding-english-language-contractions-in-python\n",
    "import Contractions_Words as contractions\n",
    "import importlib\n",
    "importlib.reload(contractions)\n",
    "\n",
    "contractions_dict = contractions.contractions_dict\n",
    "\n",
    "#print(contractions_dict.keys())\n",
    "#print(contractions_dict[\"s***\"])\n",
    "\n",
    "pattern = '%s' % '|'.join(contractions_dict.keys())\n",
    "#pattern = r\"%s\" % pattern\n",
    "#print(pattern)\n",
    "contractions_re = re.compile(pattern)\n",
    "def expand_contractions(s, contractions_dict=contractions_dict):\n",
    "    #edit for special case like s*** etc\n",
    "    s = re.sub(\"\\*\", \"#\", s)\n",
    "    def replace(match):\n",
    "        #print(type(match), match)\n",
    "        return contractions_dict[match.group(0)]\n",
    "    return contractions_re.sub(replace, s)\n",
    "\n"
   ]
  },
  {
   "cell_type": "code",
   "execution_count": 18,
   "metadata": {},
   "outputs": [
    {
     "name": "stdout",
     "output_type": "stream",
     "text": [
      "s###\n"
     ]
    },
    {
     "data": {
      "text/plain": [
       "'shit'"
      ]
     },
     "execution_count": 18,
     "metadata": {},
     "output_type": "execute_result"
    }
   ],
   "source": [
    "sample1 = \"s***\"\n",
    "print(re.sub(\"\\*\", \"#\", sample1))\n",
    "\n",
    "sample = \"I don\\'t know what to say nay. I haven\\'t. s###\"\n",
    "expand_contractions(sample)\n",
    "expand_contractions(sample1)"
   ]
  },
  {
   "cell_type": "code",
   "execution_count": 19,
   "metadata": {
    "scrolled": true
   },
   "outputs": [],
   "source": [
    "from nltk.tokenize import word_tokenize, sent_tokenize\n",
    "import string\n",
    "\n",
    "# return both wholeText, paragraph Text\n",
    "def singleReviewCleanUp(sample):\n",
    "    #print(sample)\n",
    "    #sample = sample.decode(\"utf-8\")\n",
    "    sample = expand_contractions(sample)\n",
    "    sample = sample.lower()\n",
    "    \n",
    "    #for word in sample:\n",
    "    #    print(lemmatizer.lemmatize(word, wordnet.VERB))\n",
    "    \n",
    "    review = sent_tokenize(sample)\n",
    "    #print(review)\n",
    "    for count, eachSent in enumerate(review):\n",
    "        #remove numbers\n",
    "        eachSent = re.sub(\"r'\\d+/\\d+|\\d+|\\$\\d+.\\d+\", \" \", eachSent)\n",
    "        #remove string\n",
    "        eachSent = re.sub('[%s]' % re.escape(string.punctuation), ' ', eachSent)\n",
    "        #word tokens\n",
    "        #print([lemmatizer.lemmatize(text, wordnet.VERB) for text in eachSent.split()])\n",
    "        eachSent = word_tokenize(eachSent)\n",
    "        review[count] = eachSent\n",
    "        # lemmatize and remove stopWords\n",
    "        #eachSent = [word for word in eachSent if not word in stopWords]\n",
    "        #eachSent = [lemmatizer.lemmatize(word, wordnet.VERB) for word in eachSent]\n",
    "        #eachSent = [lemmatizer.lemmatize(word, wordnet.VERB) for word in eachSent if not word in stopWords]\n",
    "        review[count] = \" \".join(eachSent)\n",
    "    wholeText = [\" \".join(review) ]\n",
    "    paragraphText = review\n",
    "    #return wholeText\n",
    "    #return paragraphText\n",
    "    return paragraphText, wholeText\n",
    "\n",
    "#paragraphText, wholeText = singleReviewCleanUp(sample)\n",
    "#wholeText, paragraphText\n",
    "#paragraphText"
   ]
  },
  {
   "cell_type": "code",
   "execution_count": 20,
   "metadata": {},
   "outputs": [],
   "source": [
    "#Give me back text in a paragraph sentence forms. They do have more values than a clobbed of text based on Polarity Check.\n",
    "cleanUpTextParagraph = lambda text: singleReviewCleanUp(text)[0]\n"
   ]
  },
  {
   "cell_type": "code",
   "execution_count": 21,
   "metadata": {},
   "outputs": [
    {
     "name": "stdout",
     "output_type": "stream",
     "text": [
      "Wall time: 15.8 s\n"
     ]
    }
   ],
   "source": [
    "%%time\n",
    "reviewTextProcessing['Processed'] = reviewTextProcessing.reviewText.apply(cleanUpTextParagraph)\n"
   ]
  },
  {
   "cell_type": "code",
   "execution_count": 23,
   "metadata": {},
   "outputs": [],
   "source": [
    "#sample = \" I don't know what to do. I need to test through tough. Do you have any suggestions\"\n",
    "#result = cleanUpTextParagraph(sample)\n",
    "#result"
   ]
  },
  {
   "cell_type": "code",
   "execution_count": 22,
   "metadata": {},
   "outputs": [],
   "source": [
    "from textblob import TextBlob\n",
    "\n",
    "# need to do a data check first\n",
    "def getPolaritySubjectivity(data):\n",
    "    #print(data)\n",
    "    paragraphText = data\n",
    "    sumPolarity = []\n",
    "    sumSubjectivity = []\n",
    "    for each in paragraphText:\n",
    "        sumPolarity.append(TextBlob(each).sentiment.polarity)\n",
    "        sumSubjectivity.append(TextBlob(each).sentiment.subjectivity)\n",
    "    #print(\"sumPol\", sumPolarity)\n",
    "    return sumPolarity, sumSubjectivity\n",
    "    #return sum(sumPolarity), sum(sumSubjectivity)\n",
    "\n",
    "    #print(each, TextBlob(each).sentiment.polarity, TextBlob(each).sentiment.subjectivity)\n",
    "#(sample2, TextBlob(sample2).sentiment.polarity, TextBlob(sample2).sentiment.subjectivity)\n"
   ]
  },
  {
   "cell_type": "code",
   "execution_count": 24,
   "metadata": {},
   "outputs": [],
   "source": [
    "#Return the sume of polarity in a paragraph sentence when give a text in a list form of sentence\n",
    "\n",
    "getPolarityFromText = lambda text: getPolaritySubjectivity(text)[0]"
   ]
  },
  {
   "cell_type": "code",
   "execution_count": 994,
   "metadata": {},
   "outputs": [
    {
     "name": "stdout",
     "output_type": "stream",
     "text": [
      "['so good that i bought another one', 'love the heavy cord and gold connectors', 'bass sounds great', 'i just learned last night how to coil them up', 'i guess i should read instructions more carefully', 'but no harm done still works great'] [0.7, 0.15, 0.325, 0.0, 0.2, 0.8]\n",
      "['i have used monster cables for years and with good reason', 'the lifetime warranty is worth the price alone', 'simple fact cables break but getting to replace them at no cost is where it has it is at'] [0.7, 0.3, 0.0]\n",
      "['i now use this cable to run from the output of my pedal chain to the input of my fender amp', 'after i bought monster cable to hook up my pedal board i thought i would try another one and update my guitar', 'i had been using a high end planet waves cable that i bought in the s once i found out the input jacks on the new monster cable did not fit into the fender strat jack i was a little disappointed i did not return it and as stated i use it for the output on the pedal board', 'save your money i went back to my planet waves cable i payed back in the eighties for the planet waves which now comes in at around', 'what i am getting at is you get what you pay for', 'i thought waves was a lot of money back in the day but i have not bought a guitar cable since this one plus years and still working planet waves wins'] [0.0, 0.0, -0.16822727272727273, 0.0, 0.0, 0.15]\n",
      "['perfect for my epiphone sheraton ii', 'monster cables are well constructed', 'i have several and never had any problems with any of them over the years', 'got this one because i wanted the degree plug'] [1.0, 0.0, 0.0, 0.0]\n",
      "['monster makes the best cables and a lifetime warranty doesnt hurt either', 'this isnt their top of the line series but it works great with my bass guitar rig and has for some time', 'you cant go wrong with monster cables'] [1.0, 0.3833333333333333, -0.5]\n",
      "['monster makes a wide array of cables including some that are very high end', 'i initially purchased a pair ofmonster rock instrument cable feet angled to straight inch plugto use with my keyboards but when it came time to purchase cables for my bass and guitar i thought i had i would pinch a few pennies', 'i am so glad i did i compared this cable model to the more expensive models i previously purchased and aside from looks could not detect any difference in sound', 'i swapped back and forth between my guitars and keyboards ensuring that each model was used on each instrument still no difference what the more expensive model has going for it is looks', 'i am not sure it the higher priced model is even more sturdy because the molded stress relief ends on this model seem to make it more reliable than its pricier sibling bottom line carefully compare both cables using your own instrument and amp if possible before making a purchase decision', 'you may find as i did that higher price does not necessarily equal higher value even from the same manufacturer'] [0.054000000000000006, -0.037500000000000006, 0.14666666666666667, 0.0, 0.21428571428571427, 0.125]\n"
     ]
    }
   ],
   "source": [
    "for each in sampleText:\n",
    "    sample = cleanUpTextParagraph(each)\n",
    "    print(sample, getPolarityFromText(sample))"
   ]
  },
  {
   "cell_type": "code",
   "execution_count": 563,
   "metadata": {},
   "outputs": [],
   "source": [
    "#print(stopWords)"
   ]
  },
  {
   "cell_type": "code",
   "execution_count": 353,
   "metadata": {},
   "outputs": [],
   "source": [
    "#sentiment = lambda text: TextBlob(text).sentiment.polarity"
   ]
  },
  {
   "cell_type": "code",
   "execution_count": 25,
   "metadata": {},
   "outputs": [],
   "source": [
    "adjustSentimentModel = lambda x: [sum(x), 0.0] if sum(x) < 0 else [sum(x), 1.0]"
   ]
  },
  {
   "cell_type": "code",
   "execution_count": 26,
   "metadata": {},
   "outputs": [
    {
     "name": "stdout",
     "output_type": "stream",
     "text": [
      "Wall time: 26.1 s\n"
     ]
    }
   ],
   "source": [
    "%%time\n",
    "reviewTextProcessing['Sentiment']= reviewTextProcessing.Processed.apply(getPolarityFromText)"
   ]
  },
  {
   "cell_type": "code",
   "execution_count": 27,
   "metadata": {},
   "outputs": [
    {
     "name": "stdout",
     "output_type": "stream",
     "text": [
      "Wall time: 23 ms\n"
     ]
    }
   ],
   "source": [
    "%%time\n",
    "reviewTextProcessing['SentimentModel']= reviewTextProcessing.Sentiment.apply(adjustSentimentModel)"
   ]
  },
  {
   "cell_type": "code",
   "execution_count": 28,
   "metadata": {},
   "outputs": [
    {
     "data": {
      "text/html": [
       "<div>\n",
       "<style scoped>\n",
       "    .dataframe tbody tr th:only-of-type {\n",
       "        vertical-align: middle;\n",
       "    }\n",
       "\n",
       "    .dataframe tbody tr th {\n",
       "        vertical-align: top;\n",
       "    }\n",
       "\n",
       "    .dataframe thead th {\n",
       "        text-align: right;\n",
       "    }\n",
       "</style>\n",
       "<table border=\"1\" class=\"dataframe\">\n",
       "  <thead>\n",
       "    <tr style=\"text-align: right;\">\n",
       "      <th></th>\n",
       "      <th>Processed</th>\n",
       "      <th>Sentiment</th>\n",
       "      <th>SentimentModel</th>\n",
       "    </tr>\n",
       "  </thead>\n",
       "  <tbody>\n",
       "    <tr>\n",
       "      <th>5906</th>\n",
       "      <td>[i got this despite the warnings about it bein...</td>\n",
       "      <td>[0.0, 0.0, 0.26666666666666666, 0.0, 0.0125000...</td>\n",
       "      <td>[1.1013095238095238, 1.0]</td>\n",
       "    </tr>\n",
       "    <tr>\n",
       "      <th>4405</th>\n",
       "      <td>[this thing is useless, good idea but way too ...</td>\n",
       "      <td>[-0.5, 0.46666666666666673, 0.25, 0.0]</td>\n",
       "      <td>[0.21666666666666673, 1.0]</td>\n",
       "    </tr>\n",
       "  </tbody>\n",
       "</table>\n",
       "</div>"
      ],
      "text/plain": [
       "                                              Processed  \\\n",
       "5906  [i got this despite the warnings about it bein...   \n",
       "4405  [this thing is useless, good idea but way too ...   \n",
       "\n",
       "                                              Sentiment  \\\n",
       "5906  [0.0, 0.0, 0.26666666666666666, 0.0, 0.0125000...   \n",
       "4405             [-0.5, 0.46666666666666673, 0.25, 0.0]   \n",
       "\n",
       "                  SentimentModel  \n",
       "5906   [1.1013095238095238, 1.0]  \n",
       "4405  [0.21666666666666673, 1.0]  "
      ]
     },
     "execution_count": 28,
     "metadata": {},
     "output_type": "execute_result"
    }
   ],
   "source": [
    "reviewTextProcessing.loc[unfavorableReviews, ['Processed', 'Sentiment', 'SentimentModel']].head(2)\n",
    "#reviewTextProcessing.dtypes"
   ]
  },
  {
   "cell_type": "code",
   "execution_count": 29,
   "metadata": {},
   "outputs": [],
   "source": [
    "reviewTextProcessing['CleanedJoin'] = reviewTextProcessing['Processed'].apply(', '.join)\n"
   ]
  },
  {
   "cell_type": "code",
   "execution_count": 30,
   "metadata": {},
   "outputs": [
    {
     "data": {
      "text/plain": [
       "Index(['reviewText', 'rating', 'overall', 'Processed', 'Sentiment',\n",
       "       'SentimentModel', 'CleanedJoin'],\n",
       "      dtype='object')"
      ]
     },
     "execution_count": 30,
     "metadata": {},
     "output_type": "execute_result"
    }
   ],
   "source": [
    "reviewTextProcessing.shape\n",
    "reviewTextProcessing.columns"
   ]
  },
  {
   "cell_type": "code",
   "execution_count": 151,
   "metadata": {},
   "outputs": [],
   "source": [
    "#from gensim import corpora\n",
    "#dictionary = corpora.Dictionary(T)\n",
    "#print(dictionary.token2id)"
   ]
  },
  {
   "cell_type": "code",
   "execution_count": 31,
   "metadata": {},
   "outputs": [
    {
     "data": {
      "text/plain": [
       "0    not much to write about here but it does exact...\n",
       "1    the product does exactly as it should and is q...\n",
       "Name: CleanedJoin, dtype: object"
      ]
     },
     "execution_count": 31,
     "metadata": {},
     "output_type": "execute_result"
    }
   ],
   "source": [
    "reviewTextProcessing['CleanedJoin'].head(2)"
   ]
  },
  {
   "cell_type": "code",
   "execution_count": 32,
   "metadata": {},
   "outputs": [
    {
     "data": {
      "text/plain": [
       "10261"
      ]
     },
     "execution_count": 32,
     "metadata": {},
     "output_type": "execute_result"
    }
   ],
   "source": [
    "\n",
    "import itertools\n",
    "\n",
    "largeText = reviewTextProcessing.CleanedJoin.to_list()\n",
    "#largeText = reviewTextProcessing.reviewText.to_list() # Not too good accuracy around 116 missed with %86.94\n",
    "\n",
    "len(largeText)"
   ]
  },
  {
   "cell_type": "code",
   "execution_count": 357,
   "metadata": {},
   "outputs": [],
   "source": [
    "sentiment = reviewTextProcessing['SentimentModel'].to_list()"
   ]
  },
  {
   "cell_type": "code",
   "execution_count": 33,
   "metadata": {},
   "outputs": [],
   "source": [
    "from tensorflow.python.keras.preprocessing.text import Tokenizer\n",
    "from tensorflow.python.keras.preprocessing.sequence import pad_sequences\n",
    "\n",
    "num_words = 10000\n"
   ]
  },
  {
   "cell_type": "code",
   "execution_count": 35,
   "metadata": {},
   "outputs": [],
   "source": [
    "tokenizer = Tokenizer(num_words=num_words)\n",
    "tokenizer.fit_on_texts(largeText)\n",
    "#tokenizer.word_index"
   ]
  },
  {
   "cell_type": "code",
   "execution_count": 36,
   "metadata": {},
   "outputs": [],
   "source": [
    "\n",
    "size = int(len(largeText)*.75)\n",
    "x_train_text = largeText[:size]\n",
    "x_test_text = largeText[size:]\n",
    "\n",
    "y_train =  reviewTextProcessing['rating'][:size]\n",
    "y_test = reviewTextProcessing['rating'][size:]\n",
    "x_train_tokens = tokenizer.texts_to_sequences(x_train_text)\n",
    "x_test_tokens = tokenizer.texts_to_sequences(x_test_text)\n"
   ]
  },
  {
   "cell_type": "code",
   "execution_count": 37,
   "metadata": {},
   "outputs": [
    {
     "data": {
      "text/plain": [
       "(7695, 7695, 7695, 2566)"
      ]
     },
     "execution_count": 37,
     "metadata": {},
     "output_type": "execute_result"
    }
   ],
   "source": [
    "len(y_train), len(x_train_tokens), len(x_train_text), len(x_test_text)"
   ]
  },
  {
   "cell_type": "code",
   "execution_count": 1072,
   "metadata": {},
   "outputs": [],
   "source": [
    "#x_train_tokens[1], x_train_text[1]"
   ]
  },
  {
   "cell_type": "code",
   "execution_count": 38,
   "metadata": {},
   "outputs": [],
   "source": [
    "import numpy as np\n",
    "\n",
    "x_train_text[1]\n",
    "np.array(x_train_tokens[1])\n",
    "num_tokens = [len(tokens) for tokens in x_train_tokens + x_test_tokens]\n",
    "num_tokens = np.array(num_tokens)\n"
   ]
  },
  {
   "cell_type": "code",
   "execution_count": 39,
   "metadata": {},
   "outputs": [
    {
     "data": {
      "text/plain": [
       "(92.37939771952051, 2047)"
      ]
     },
     "execution_count": 39,
     "metadata": {},
     "output_type": "execute_result"
    }
   ],
   "source": [
    "np.mean(num_tokens), np.max(num_tokens)\n"
   ]
  },
  {
   "cell_type": "code",
   "execution_count": 40,
   "metadata": {},
   "outputs": [
    {
     "data": {
      "text/plain": [
       "114.14850119038401"
      ]
     },
     "execution_count": 40,
     "metadata": {},
     "output_type": "execute_result"
    }
   ],
   "source": [
    "np.std(num_tokens)"
   ]
  },
  {
   "cell_type": "code",
   "execution_count": 41,
   "metadata": {},
   "outputs": [
    {
     "data": {
      "text/plain": [
       "206"
      ]
     },
     "execution_count": 41,
     "metadata": {},
     "output_type": "execute_result"
    }
   ],
   "source": [
    "max_tokens = np.mean(num_tokens) + 1 * np.std(num_tokens)\n",
    "max_tokens = int(max_tokens) \n",
    "max_tokens\n"
   ]
  },
  {
   "cell_type": "code",
   "execution_count": 42,
   "metadata": {},
   "outputs": [
    {
     "data": {
      "text/plain": [
       "0.905564759770003"
      ]
     },
     "execution_count": 42,
     "metadata": {},
     "output_type": "execute_result"
    }
   ],
   "source": [
    "np.sum(num_tokens < max_tokens) / len(num_tokens)\n"
   ]
  },
  {
   "cell_type": "code",
   "execution_count": 43,
   "metadata": {},
   "outputs": [
    {
     "data": {
      "text/plain": [
       "(2566, 206)"
      ]
     },
     "execution_count": 43,
     "metadata": {},
     "output_type": "execute_result"
    }
   ],
   "source": [
    "pad = 'pre'\n",
    "x_train_pad = pad_sequences(x_train_tokens, maxlen=max_tokens, padding=pad, truncating=pad)\n",
    "x_test_pad = pad_sequences(x_test_tokens, maxlen=max_tokens, padding=pad, truncating=pad)\n",
    "x_train_pad.shape\n",
    "x_test_pad.shape\n"
   ]
  },
  {
   "cell_type": "code",
   "execution_count": 44,
   "metadata": {},
   "outputs": [
    {
     "name": "stdout",
     "output_type": "stream",
     "text": [
      "[   0    0    0    0    0    0    0    0    0    0    0    0    0    0\n",
      "    0    0    0    0    0    0    0    0    0    0    0    0    0    0\n",
      "    0    0    0    0    0    0    0    0    0    0    0    0    0    0\n",
      "    0    0    0    0    0    0    0    0    0    0    0    0    0    0\n",
      "    0    0    0    0    0    0    0    0    0    0    0    0    0    0\n",
      "    0    0    0    0    0    0    0    0    0    0    0    0    0    0\n",
      "    0    0    0    0    0    0    0    0    0    0    0    0    0    0\n",
      "    0    0    0    0    0    0    0    0    0    0    0    0    0    0\n",
      "    0    0    0    0    0    0    0    0    0    0    0    0    0    0\n",
      "    0    0    0    0    0    0    0    0    0    0    0    0    0    0\n",
      "    0    0    0    0    0    0    0    0    0    0    0    0   11   73\n",
      "    6 1749   71  259   19    5   61  376   67    5   23    5    7  686\n",
      "    6 2110   51    1  615  118  106   14  998   20   73   47 1265    5\n",
      "    7   26    8    1 2289 1436  615 2110   16  251   25  252   21   45\n",
      "  101    5   24 1049  100    1  156 1331  177 3188]\n"
     ]
    }
   ],
   "source": [
    "for i in range(0, 1):\n",
    "    print(x_train_pad[i])\n"
   ]
  },
  {
   "cell_type": "code",
   "execution_count": 45,
   "metadata": {},
   "outputs": [],
   "source": [
    "def tokens_to_string(tokens):\n",
    "    # Map from tokens back to words.\n",
    "    words = [inverse_map[token] for token in tokens if token != 0]\n",
    "    \n",
    "    # Concatenate all words.\n",
    "    text = \" \".join(words)\n",
    "\n",
    "    return text"
   ]
  },
  {
   "cell_type": "code",
   "execution_count": 46,
   "metadata": {},
   "outputs": [],
   "source": [
    "idx = tokenizer.word_index\n",
    "inverse_map = dict(zip(idx.values(), idx.keys()))"
   ]
  },
  {
   "cell_type": "code",
   "execution_count": 47,
   "metadata": {},
   "outputs": [
    {
     "data": {
      "text/plain": [
       "'the product does exactly as it should and is quite affordable i did not realized it was double screened until it arrived so it was even better than i had expected as an added bonus one of the screens carries a small hint of the smell of an old grape candy i used to buy so for reminiscent s sake i can not stop putting the pop filter next to my nose and smelling it after recording, dif you needed a pop filter this will work just as well as the expensive ones and it may even come with a pleasing aroma like mine did buy this product, '"
      ]
     },
     "execution_count": 47,
     "metadata": {},
     "output_type": "execute_result"
    }
   ],
   "source": [
    "x_train_text[1]\n"
   ]
  },
  {
   "cell_type": "code",
   "execution_count": 48,
   "metadata": {
    "scrolled": true
   },
   "outputs": [
    {
     "data": {
      "text/plain": [
       "'the product does exactly as it should and is quite affordable i did not realized it was double screened until it arrived so it was even better than i had expected as an added bonus one of the screens carries a small hint of the smell of an old grape candy i used to buy so for reminiscent s sake i can not stop putting the pop filter next to my nose and it after recording dif you needed a pop filter this will work just as well as the expensive ones and it may even come with a pleasing like mine did buy this product'"
      ]
     },
     "execution_count": 48,
     "metadata": {},
     "output_type": "execute_result"
    }
   ],
   "source": [
    "tokens_to_string(x_train_tokens[1])\n"
   ]
  },
  {
   "cell_type": "code",
   "execution_count": 49,
   "metadata": {},
   "outputs": [],
   "source": [
    "from tensorflow.python.keras.models import Sequential\n",
    "from tensorflow.python.keras.layers import Dense, GRU, Embedding\n",
    "from tensorflow.python.keras.optimizers import Adam\n",
    "from tensorflow.python.keras.preprocessing.text import Tokenizer\n",
    "from tensorflow.python.keras.preprocessing.sequence import pad_sequences"
   ]
  },
  {
   "cell_type": "code",
   "execution_count": 50,
   "metadata": {},
   "outputs": [],
   "source": [
    "model = Sequential()\n",
    "#embedding_size = 8 > 0.8694\n",
    "embedding_size = 10"
   ]
  },
  {
   "cell_type": "code",
   "execution_count": 51,
   "metadata": {},
   "outputs": [
    {
     "name": "stdout",
     "output_type": "stream",
     "text": [
      "WARNING:tensorflow:From C:\\Study\\Anaconda3v2\\lib\\site-packages\\tensorflow\\python\\ops\\resource_variable_ops.py:435: colocate_with (from tensorflow.python.framework.ops) is deprecated and will be removed in a future version.\n",
      "Instructions for updating:\n",
      "Colocations handled automatically by placer.\n"
     ]
    }
   ],
   "source": [
    "model.add(Embedding(input_dim=num_words,\n",
    "                    output_dim=embedding_size,\n",
    "                    input_length=max_tokens,\n",
    "                    name='layer_embedding'))"
   ]
  },
  {
   "cell_type": "code",
   "execution_count": 52,
   "metadata": {},
   "outputs": [],
   "source": [
    "model.add(GRU(units=16, return_sequences=True))"
   ]
  },
  {
   "cell_type": "code",
   "execution_count": 53,
   "metadata": {},
   "outputs": [],
   "source": [
    "model.add(GRU(units=8, return_sequences=True))\n"
   ]
  },
  {
   "cell_type": "code",
   "execution_count": 54,
   "metadata": {},
   "outputs": [],
   "source": [
    "model.add(GRU(units=4))\n"
   ]
  },
  {
   "cell_type": "code",
   "execution_count": 55,
   "metadata": {},
   "outputs": [],
   "source": [
    "model.add(Dense(1, activation='sigmoid'))\n"
   ]
  },
  {
   "cell_type": "code",
   "execution_count": 56,
   "metadata": {},
   "outputs": [],
   "source": [
    "optimizer = Adam(lr=1e-3)\n"
   ]
  },
  {
   "cell_type": "code",
   "execution_count": 57,
   "metadata": {},
   "outputs": [],
   "source": [
    "model.compile(loss='binary_crossentropy',\n",
    "              optimizer=optimizer,\n",
    "              metrics=['accuracy'])"
   ]
  },
  {
   "cell_type": "code",
   "execution_count": 58,
   "metadata": {
    "scrolled": true
   },
   "outputs": [
    {
     "name": "stdout",
     "output_type": "stream",
     "text": [
      "_________________________________________________________________\n",
      "Layer (type)                 Output Shape              Param #   \n",
      "=================================================================\n",
      "layer_embedding (Embedding)  (None, 206, 10)           100000    \n",
      "_________________________________________________________________\n",
      "gru (GRU)                    (None, 206, 16)           1296      \n",
      "_________________________________________________________________\n",
      "gru_1 (GRU)                  (None, 206, 8)            600       \n",
      "_________________________________________________________________\n",
      "gru_2 (GRU)                  (None, 4)                 156       \n",
      "_________________________________________________________________\n",
      "dense (Dense)                (None, 1)                 5         \n",
      "=================================================================\n",
      "Total params: 102,057\n",
      "Trainable params: 102,057\n",
      "Non-trainable params: 0\n",
      "_________________________________________________________________\n"
     ]
    }
   ],
   "source": [
    "model.summary()\n"
   ]
  },
  {
   "cell_type": "code",
   "execution_count": 59,
   "metadata": {},
   "outputs": [
    {
     "name": "stdout",
     "output_type": "stream",
     "text": [
      "Train on 7310 samples, validate on 385 samples\n",
      "WARNING:tensorflow:From C:\\Study\\Anaconda3v2\\lib\\site-packages\\tensorflow\\python\\ops\\math_ops.py:3066: to_int32 (from tensorflow.python.ops.math_ops) is deprecated and will be removed in a future version.\n",
      "Instructions for updating:\n",
      "Use tf.cast instead.\n",
      "Epoch 1/3\n",
      "7310/7310 [==============================] - 33s 4ms/sample - loss: 0.3277 - acc: 0.9499 - val_loss: 0.1904 - val_acc: 0.9532\n",
      "Epoch 2/3\n",
      "7310/7310 [==============================] - 29s 4ms/sample - loss: 0.1796 - acc: 0.9562 - val_loss: 0.1880 - val_acc: 0.9532\n",
      "Epoch 3/3\n",
      "7310/7310 [==============================] - 26s 4ms/sample - loss: 0.1775 - acc: 0.9562 - val_loss: 0.1862 - val_acc: 0.9532\n"
     ]
    },
    {
     "data": {
      "text/plain": [
       "<tensorflow.python.keras.callbacks.History at 0x16869eb8>"
      ]
     },
     "execution_count": 59,
     "metadata": {},
     "output_type": "execute_result"
    }
   ],
   "source": [
    "# %%time\n",
    "#model.fit(x_train_pad, y_train,validation_split=0.05, epochs=5, batch_size=64)\n",
    "\n",
    "model.fit(x_train_pad, y_train,validation_split=0.05, epochs=3, batch_size=74)"
   ]
  },
  {
   "cell_type": "code",
   "execution_count": 60,
   "metadata": {},
   "outputs": [
    {
     "name": "stdout",
     "output_type": "stream",
     "text": [
      "2566/2566 [==============================] - 5s 2ms/sample - loss: 0.1972 - acc: 0.9497\n",
      "Wall time: 4.66 s\n"
     ]
    }
   ],
   "source": [
    "%%time\n",
    "result = model.evaluate(x_test_pad, y_test)"
   ]
  },
  {
   "cell_type": "code",
   "execution_count": 61,
   "metadata": {},
   "outputs": [
    {
     "name": "stdout",
     "output_type": "stream",
     "text": [
      "Accuracy: 94.97%\n"
     ]
    }
   ],
   "source": [
    "print(\"Accuracy: {0:.2%}\".format(result[1]))\n"
   ]
  },
  {
   "cell_type": "code",
   "execution_count": 62,
   "metadata": {},
   "outputs": [
    {
     "name": "stdout",
     "output_type": "stream",
     "text": [
      "Wall time: 1.82 s\n"
     ]
    }
   ],
   "source": [
    "%%time\n",
    "y_pred = model.predict(x=x_test_pad[0:1000])\n",
    "y_pred = y_pred.T[0]"
   ]
  },
  {
   "cell_type": "code",
   "execution_count": 63,
   "metadata": {},
   "outputs": [],
   "source": [
    "cls_pred = np.array([1.0 if p>0.5 else 0.0 for p in y_pred])\n"
   ]
  },
  {
   "cell_type": "code",
   "execution_count": 64,
   "metadata": {},
   "outputs": [],
   "source": [
    "cls_true = np.array(y_test[0:1000])\n"
   ]
  },
  {
   "cell_type": "code",
   "execution_count": 65,
   "metadata": {},
   "outputs": [],
   "source": [
    "incorrect = np.where(cls_pred != cls_true)\n",
    "incorrect = incorrect[0]"
   ]
  },
  {
   "cell_type": "code",
   "execution_count": 66,
   "metadata": {},
   "outputs": [
    {
     "data": {
      "text/plain": [
       "42"
      ]
     },
     "execution_count": 66,
     "metadata": {},
     "output_type": "execute_result"
    }
   ],
   "source": [
    "len(incorrect)\n"
   ]
  },
  {
   "cell_type": "code",
   "execution_count": 1044,
   "metadata": {},
   "outputs": [
    {
     "data": {
      "text/plain": [
       "CleanedJoin       so heres the thing that no one else wants to say, the thing is built like a piece of shit, it jingles and rattles and parts are always moving around, i used this times and it shorted out, the lights started flashing and it got hot, i called line and they determined it was bad so they opened a ticket, fyi if you want to deal with the worst customer service in the industry just call line not only do they not know what they were talking about but in the backgrounc i could hear them lauging and joking like there was a big party going on, i wish i would have never bought this but hopefully i get a new one soon, well see how helpful they really are\n",
       "overall                                                                                                                                                                                                                                                                                                                                                                                                                                                                                                                                                                                                                                                                                    1\n",
       "rating                                                                                                                                                                                                                                                                                                                                                                                                                                                                                                                                                                                                                                                                                     0\n",
       "SentimentModel                                                                                                                                                                                                                                                                                                                                                                                                                                                                                                                                                                                                                                                   [-0.44696969696969685, 0.0]\n",
       "Name: 7735, dtype: object"
      ]
     },
     "execution_count": 1044,
     "metadata": {},
     "output_type": "execute_result"
    }
   ],
   "source": [
    "reduceData.loc[7695+40, ['reviewText', 'overall', 'rating']]\n",
    "reviewTextProcessing.loc[7695+40, ['CleanedJoin', 'overall', 'rating', 'SentimentModel']]"
   ]
  },
  {
   "cell_type": "code",
   "execution_count": 67,
   "metadata": {},
   "outputs": [
    {
     "name": "stdout",
     "output_type": "stream",
     "text": [
      "<class 'numpy.int64'>\n",
      "40 so heres the thing that no one else wants to say, the thing is built like a piece of shit, it jingles and rattles and parts are always moving around, i used this times and it shorted out, the lights started flashing and it got hot, i called line and they determined it was bad so they opened a ticket, fyi if you want to deal with the worst customer service in the industry just call line not only do they not know what they were talking about but in the backgrounc i could hear them lauging and joking like there was a big party going on, i wish i would have never bought this but hopefully i get a new one soon, well see how helpful they really are 1.0 0  BlobText  -0.12373737373737373\n",
      "41 i have always loved line this product sounded great for about an hour then total gave up, it went dead, i changed channels and it worked for like a minute then went dead, i am sorry to say that i returned it, my akg wireless guitar bug has lasted years with no drop outs i am really disappointed 1.0 0  BlobText  -0.021428571428571415\n",
      "55 i was very excited to try this pedal when it finally arrived, just to find out it wasn t working, it is defective and because i brought it to mexico now i can not get a refund or a replacement i will try to fix it through some local electrician or something, very dissapointing 1.0 0  BlobText  0.171875\n",
      "155 one of the ball bearings designed to catch and lock the side mounted to the strap dislodged and my very expensive fender custom shop telecaster fell flat on the ground 1.0 0  BlobText  -0.3375\n",
      "216 sounded good, warmer sounding than stock tubes in my ac, i rocked all night and loved the sound, next day i turned it on my amp was crackling out and wiping out the signal i checked the tubes and one of them was making violent purple flashes before the signal burnt out, i then noticed that one of my fuses blew out as well, i changed out the fuse and checked again and the tube was still doing the same thing so i just swapped the tubes back for atock, id like to see a real set of jjs im sure one of them was a dud 1.0 0  BlobText  0.18888888888888886\n",
      "297 i bought these just to add a layer of sound in my blues tunes i record the notes do not bend easily if you think your will cheat the big boys harps youll be dissapointed quickly these are little more than toys compared to dollar harps they feel cheap but have a decent sound i dont know if they will last but to make harp noises without decent bends ill use these sparingly jim 1.0 0  BlobText  0.17604166666666665\n",
      "301 i play harp with some some that i perform, i found that all of these harmonica s the note s are off and it has it is hard to play i have g blues harp that i compared the g harp to and the notes were a little off, the c harp was terrible, that said the only thing i like about this order is the case, i going to see if i can return them for store credit 1.0 0  BlobText  -0.3697916666666667\n",
      "312 too thick no flexibility, sounds really harsh and like it is ruining my ukulele strings, tried on bass too again with less than satisactory results 1.0 0  BlobText  -0.20416666666666666\n",
      "315 the picks work well with bass but they are just too thick to use with ukulele, the pics also shed easily making your instrument dusty in no time 1.0 0  BlobText  -0.10416666666666669\n",
      "341 i guess the tension on these is more than my uke was used to and when i put them on the neck became severely bowed after a day or two, sounded lovely for the first hour that has that is why two stars, granted my uke is one of the cheaper lanikais if you have a better built uke it might be able to take these but i simply can not recommend personally 1.0 0  BlobText  0.32142857142857145\n"
     ]
    }
   ],
   "source": [
    "idx = incorrect[1]\n",
    "print(type(idx))\n",
    "for each in incorrect[:10]:\n",
    "    idx = each\n",
    "    text = x_test_text[idx]\n",
    "    print(idx, text, cls_pred[idx], cls_true[idx], \" BlobText \",\n",
    "         TextBlob(text).sentiment.polarity)\n"
   ]
  },
  {
   "cell_type": "code",
   "execution_count": 1108,
   "metadata": {},
   "outputs": [
    {
     "data": {
      "text/html": [
       "<div>\n",
       "<style scoped>\n",
       "    .dataframe tbody tr th:only-of-type {\n",
       "        vertical-align: middle;\n",
       "    }\n",
       "\n",
       "    .dataframe tbody tr th {\n",
       "        vertical-align: top;\n",
       "    }\n",
       "\n",
       "    .dataframe thead th {\n",
       "        text-align: right;\n",
       "    }\n",
       "</style>\n",
       "<table border=\"1\" class=\"dataframe\">\n",
       "  <thead>\n",
       "    <tr style=\"text-align: right;\">\n",
       "      <th></th>\n",
       "      <th>CleanedJoin</th>\n",
       "      <th>overall</th>\n",
       "      <th>rating</th>\n",
       "      <th>SentimentModel</th>\n",
       "    </tr>\n",
       "  </thead>\n",
       "  <tbody>\n",
       "    <tr>\n",
       "      <th>7735</th>\n",
       "      <td>so heres the thing that no one else wants to say, the thing is built like a piece of shit, it jingles and rattles and parts are always moving around, i used this times and it shorted out, the lights started flashing and it got hot, i called line and they determined it was bad so they opened a ticket, fyi if you want to deal with the worst customer service in the industry just call line not only do they not know what they were talking about but in the backgrounc i could hear them lauging and joking like there was a big party going on, i wish i would have never bought this but hopefully i get a new one soon, well see how helpful they really are</td>\n",
       "      <td>1.0</td>\n",
       "      <td>0</td>\n",
       "      <td>[-0.44696969696969685, 0.0]</td>\n",
       "    </tr>\n",
       "    <tr>\n",
       "      <th>7736</th>\n",
       "      <td>i have always loved line this product sounded great for about an hour then total gave up, it went dead, i changed channels and it worked for like a minute then went dead, i am sorry to say that i returned it, my akg wireless guitar bug has lasted years with no drop outs i am really disappointed</td>\n",
       "      <td>1.0</td>\n",
       "      <td>0</td>\n",
       "      <td>[-1.15, 0.0]</td>\n",
       "    </tr>\n",
       "    <tr>\n",
       "      <th>7750</th>\n",
       "      <td>i was very excited to try this pedal when it finally arrived, just to find out it wasn t working, it is defective and because i brought it to mexico now i can not get a refund or a replacement i will try to fix it through some local electrician or something, very dissapointing</td>\n",
       "      <td>1.0</td>\n",
       "      <td>0</td>\n",
       "      <td>[0.44375000000000003, 1.0]</td>\n",
       "    </tr>\n",
       "    <tr>\n",
       "      <th>7850</th>\n",
       "      <td>one of the ball bearings designed to catch and lock the side mounted to the strap dislodged and my very expensive fender custom shop telecaster fell flat on the ground</td>\n",
       "      <td>1.0</td>\n",
       "      <td>0</td>\n",
       "      <td>[-0.3375, 0.0]</td>\n",
       "    </tr>\n",
       "    <tr>\n",
       "      <th>7911</th>\n",
       "      <td>sounded good, warmer sounding than stock tubes in my ac, i rocked all night and loved the sound, next day i turned it on my amp was crackling out and wiping out the signal i checked the tubes and one of them was making violent purple flashes before the signal burnt out, i then noticed that one of my fuses blew out as well, i changed out the fuse and checked again and the tube was still doing the same thing so i just swapped the tubes back for atock, id like to see a real set of jjs im sure one of them was a dud</td>\n",
       "      <td>1.0</td>\n",
       "      <td>0</td>\n",
       "      <td>[1.2, 1.0]</td>\n",
       "    </tr>\n",
       "    <tr>\n",
       "      <th>7992</th>\n",
       "      <td>i bought these just to add a layer of sound in my blues tunes i record the notes do not bend easily if you think your will cheat the big boys harps youll be dissapointed quickly these are little more than toys compared to dollar harps they feel cheap but have a decent sound i dont know if they will last but to make harp noises without decent bends ill use these sparingly jim</td>\n",
       "      <td>2.0</td>\n",
       "      <td>0</td>\n",
       "      <td>[0.17604166666666665, 1.0]</td>\n",
       "    </tr>\n",
       "    <tr>\n",
       "      <th>7996</th>\n",
       "      <td>i play harp with some some that i perform, i found that all of these harmonica s the note s are off and it has it is hard to play i have g blues harp that i compared the g harp to and the notes were a little off, the c harp was terrible, that said the only thing i like about this order is the case, i going to see if i can return them for store credit</td>\n",
       "      <td>1.0</td>\n",
       "      <td>0</td>\n",
       "      <td>[-1.2395833333333333, 0.0]</td>\n",
       "    </tr>\n",
       "    <tr>\n",
       "      <th>8007</th>\n",
       "      <td>too thick no flexibility, sounds really harsh and like it is ruining my ukulele strings, tried on bass too again with less than satisactory results</td>\n",
       "      <td>1.0</td>\n",
       "      <td>0</td>\n",
       "      <td>[-0.6583333333333333, 0.0]</td>\n",
       "    </tr>\n",
       "    <tr>\n",
       "      <th>8010</th>\n",
       "      <td>the picks work well with bass but they are just too thick to use with ukulele, the pics also shed easily making your instrument dusty in no time</td>\n",
       "      <td>2.0</td>\n",
       "      <td>0</td>\n",
       "      <td>[-0.20833333333333337, 0.0]</td>\n",
       "    </tr>\n",
       "    <tr>\n",
       "      <th>8036</th>\n",
       "      <td>i guess the tension on these is more than my uke was used to and when i put them on the neck became severely bowed after a day or two, sounded lovely for the first hour that has that is why two stars, granted my uke is one of the cheaper lanikais if you have a better built uke it might be able to take these but i simply can not recommend personally</td>\n",
       "      <td>2.0</td>\n",
       "      <td>0</td>\n",
       "      <td>[1.125, 1.0]</td>\n",
       "    </tr>\n",
       "    <tr>\n",
       "      <th>8070</th>\n",
       "      <td>for any usable tones while playing live the best bet is to plug it into a tube power amp, direct to mixer or running it through a solid state amp is very uninspiring i did not like the recorded tones either much rather preferred amplitube if micing a real tube amp was not an option that being said it is good for practice and song writing, used this for more than a year and finally sold it, that s the other thing with items like this they lose value real quick once the next version comes out</td>\n",
       "      <td>2.0</td>\n",
       "      <td>0</td>\n",
       "      <td>[1.1765151515151513, 1.0]</td>\n",
       "    </tr>\n",
       "    <tr>\n",
       "      <th>8076</th>\n",
       "      <td>i bought an ibanez concert size uke, the body is inches wide less than the inches stated for this stand, my uke does not fit well in the stand, why, the twin forks at the base that hold the instrument are both too narrow and the curve downward from the stand is not proper for this uke, thus any uke that is concert size or greater, so most ukes do not fit well, they fit just not well i did and you will likely need this advice remove the bottom fork turn it upside down and reinstall it no tools required, now the curve of it is upward and the uke better sits on it, the fit is improved, not great but better, one stand can not fit all instruments but my full size guitar stands hold most all guitars, this small stand does not hold most all ukes although its neat how it folds up like the video here on amazon reviews it is very heavy for its size, this is not a lightweight stand, at all, surprisingly heavy and not one that you will be lugging around day to day in your uke gig bag trust me i wish i got the hercules standhercules gs b mini stand, all hercules stuff is superb and my friend has one for his uke and says it has it is sublime i do not own it myself so i just present this so you can research it and it has it is reviews on amazon, i own other herc stuff and it has it is all ideal and for a few bucks more i could have had that lifelong use stand instead of this one, oh well for once i got cheap, and got burned for it all in all not great this tiny stand, one stand fits not all, perhaps a violin or something would be better on this stand but i think the general shape of it is less than ideal for most instruments, you may think you can bend the lower forks but it has it is hard to do will require a vice and if you see on the amazon pictures the lower fork just sits in two plastic grooves so if you splay it out like it should be you shall you will change the way it fits in the grooves and thus it won t work at all, it s just an imperfect design, my take on it your mileage may vary, bye bye</td>\n",
       "      <td>2.0</td>\n",
       "      <td>0</td>\n",
       "      <td>[1.7889814814814813, 1.0]</td>\n",
       "    </tr>\n",
       "    <tr>\n",
       "      <th>8077</th>\n",
       "      <td>at the time i bought was, mine arrived broken so it had gone back, reality is that it is not that good regardless of mine being broken, not upset about that stuff happens, it is just not a good stand, light construcion unstable topples easily and a likely candidate to be broken if dropped, the protective materails on the stand to keep product from scratching your instrument are the soft shiny runner like materail and it sticks to my instrument s neck, so i pick up uke and i get a stand until the stickiness is seprated by gravity, happened every time, yes i tried out the stand even though broken and it proved to be a bad choice, back it has gone, stars to amazon s return policy thouh</td>\n",
       "      <td>1.0</td>\n",
       "      <td>0</td>\n",
       "      <td>[-0.7416666666666666, 0.0]</td>\n",
       "    </tr>\n",
       "    <tr>\n",
       "      <th>8091</th>\n",
       "      <td>let me first start off with the sizing, when they say fits soundholes from they really mean it you are going to have a hard time trying to fit it even if it is smaller than the specifications i know i did, my friend s oscar schmidt sized guitar was just that much smaller and it did not fit well, the edges did not catch completely and it looks terrible my classical guitar had a similarly sized soundhole but because of the much wider fretboard at the edge of the soundhole it did not fit at all, you could try cutting the edges off the oport at the fretboard the main issue is the sound yes it does make the sound fuller when you are strumming slightly but enough to tell however it does so at the expense of the sustain and harmonic overtunes fingerpicking just does not sound as nice as before even though the guitar is noticeably better on the bass notes for me that does not justify it a simple bone saddle does way better than this and it cost less another thing i found out was what was amazon does to stuff others return they resell as brand new if it looks brand new the packaging on mine came slightly torn and looked as if it had been opened, does it matter, in practical terms no not for this sort of item i guess that is how amazon keeps their prices low yet with good customer service and return policies</td>\n",
       "      <td>2.0</td>\n",
       "      <td>0</td>\n",
       "      <td>[0.3857954545454545, 1.0]</td>\n",
       "    </tr>\n",
       "    <tr>\n",
       "      <th>8097</th>\n",
       "      <td>perhaps it may do something of worth for you but if you have one of the finer made guitars this will probably do more to subtract than add to the sound, be advised that i did not use it in front of a microphone where perhaps the shape of this internal plastic cone might do something you like in directing the sound to a mike, as strictly an issue of natural acoustics i found it deflected sound in a way that seemed to decrease my guitar s output and resonance, i have an aria ad which is a very well made chinese attempt at cloning a martin d, it can not compete with the real martin but for the money i paid it was a great buy and it is known as a sound canon for it has it is great natural volume, adding the o port deadened the lows, it just did not provide any plus at all anywhere else, it is however pretty inexpensive so if you are a nut for nuance and you want to try it for yourself it has it is not going to break your bank, but again if you have one of the better makes of guitar where a real person voiced it in his or her manufacturing process this plastic gizmo will likely subtract from that and not add anything, i am an acoustic nut and i had i would love to have a sound port in the side of my guitar to hear everything that goes on inside that box, the o port seemed to corral the sound and shoot it out that plastic horn not allowing me to hear some of the resonance of the sound bouncing back off the back and sides below the sound hole, sorry to be a crab about it i like planet waves stuff and they were very good to me personally in the humidipak recall a few years back, but this product was a waste to me</td>\n",
       "      <td>2.0</td>\n",
       "      <td>0</td>\n",
       "      <td>[2.4253333333333336, 1.0]</td>\n",
       "    </tr>\n",
       "    <tr>\n",
       "      <th>8103</th>\n",
       "      <td>i thought it would protect my desk but the pad is almost like that rubber they put under rugs so they will not slip around, maybe i should get that for cheaper i accidently bought large ooh boy is it like windshield sun reflector size, sort of just a personal opinion review i suppose</td>\n",
       "      <td>2.0</td>\n",
       "      <td>0</td>\n",
       "      <td>[0.21428571428571427, 1.0]</td>\n",
       "    </tr>\n",
       "    <tr>\n",
       "      <th>8136</th>\n",
       "      <td>there is a problem with the design, when you move the head the little plastic pieces that hold the ball that allows you to rotate the head just break off, the tuner itself is great but the product fails because it broke in minutes</td>\n",
       "      <td>1.0</td>\n",
       "      <td>0</td>\n",
       "      <td>[-0.03749999999999998, 0.0]</td>\n",
       "    </tr>\n",
       "    <tr>\n",
       "      <th>8142</th>\n",
       "      <td>for some reason this one just does not hit the notes right, it looks like it should tune more precise than other models but the tone is way off for mine anyway, i have tried it several times and it just does not tune right, then i recheck with my other brand and it has it is not even close, maybe i just got a bad one, i like that this one shuts off automatically but again it has it is way off tune i did like the style size and color but it does not work right so it has it is like running with a flat tire</td>\n",
       "      <td>1.0</td>\n",
       "      <td>0</td>\n",
       "      <td>[-0.0077380952380951, 0.0]</td>\n",
       "    </tr>\n",
       "    <tr>\n",
       "      <th>8147</th>\n",
       "      <td>i ordered this from the amazon warehouse as a refurbished item, it was properly packaged but the base was broken and poorly glued together, the glue did not hold so the clamping base separated from the stem that allows the meter to swivel, this was unfixable so i sent it back for a refund, warehouse deals are not such good deals</td>\n",
       "      <td>1.0</td>\n",
       "      <td>0</td>\n",
       "      <td>[-0.8500000000000002, 0.0]</td>\n",
       "    </tr>\n",
       "    <tr>\n",
       "      <th>8172</th>\n",
       "      <td>first time i tried to use it it broke in my hand, it is now taped together while i wait for a different kind to replace it</td>\n",
       "      <td>2.0</td>\n",
       "      <td>0</td>\n",
       "      <td>[0.55, 1.0]</td>\n",
       "    </tr>\n",
       "    <tr>\n",
       "      <th>8225</th>\n",
       "      <td>very accurate tuner but it broke within the first week i used it, the little head on the tuner is connected with an arm and a ball and even when you are gently the three prongs holding the ball joint can crack and break rendering it useless, i will try to get a replacement now as a tuner it was really quite good but just not durable which is kinda what you need</td>\n",
       "      <td>1.0</td>\n",
       "      <td>0</td>\n",
       "      <td>[0.6725, 1.0]</td>\n",
       "    </tr>\n",
       "    <tr>\n",
       "      <th>8263</th>\n",
       "      <td>like the other one star reviewers my problem is that the head broke off, i tried to glue it back on but it just fell apart even worse when i tried to do that, if you buy this you really need to baby it, my advice is look for a more sturdy model</td>\n",
       "      <td>1.0</td>\n",
       "      <td>0</td>\n",
       "      <td>[0.375, 1.0]</td>\n",
       "    </tr>\n",
       "    <tr>\n",
       "      <th>8332</th>\n",
       "      <td>tuner works great, both by vibration and mic only real problem is the fact that the joint between the tuner and the clip is really weak, mine broke off not even a year old</td>\n",
       "      <td>2.0</td>\n",
       "      <td>0</td>\n",
       "      <td>[0.8416666666666667, 1.0]</td>\n",
       "    </tr>\n",
       "    <tr>\n",
       "      <th>8343</th>\n",
       "      <td>stopped working all by itself, fresh battery did not help fortunately i have another plus a korg and an two intellitouch, i have fiddles and guitars the intellitouch is simply champion,</td>\n",
       "      <td>2.0</td>\n",
       "      <td>0</td>\n",
       "      <td>[0.35, 1.0]</td>\n",
       "    </tr>\n",
       "    <tr>\n",
       "      <th>8408</th>\n",
       "      <td>what is the sound in the background of the hissssssssssssss, my guitar i guess but who cares, i honestly bought this gizmo for the extremely good hisssssssssssssing nothing else a question to amazon companies producing objects that are nothing else than a lemon should not be prosecuted p s i think it is too polluting for low cost items to waste again in paper box transportation restocking work refund work and so on, this is why of the time i do not ask for my money back but sell this lemon on amazon online with other websites and in all the instrument shops worldwide in a total bad faith while testing nobody in irig noticed the overwhelming hisssssssing, well that is beyond me</td>\n",
       "      <td>1.0</td>\n",
       "      <td>0</td>\n",
       "      <td>[0.6100000000000001, 1.0]</td>\n",
       "    </tr>\n",
       "    <tr>\n",
       "      <th>8410</th>\n",
       "      <td>no matter how many times i hard reset my gs no success, there is no problem with my jack and the phone is in pristine condition no problems until now, there is definitely a connection and communication because the mic and sample track work but that has that is about it, i registered my amplitude app and followed all of the instructions on the box, i tested the irig with an iphone and was able to get it operating i am giving this two stars because it did work on my friend s iphone but for my purposes with a gs it is a brick, if anyone has any suggestions that lead to successful operation i will re rate the product</td>\n",
       "      <td>2.0</td>\n",
       "      <td>0</td>\n",
       "      <td>[1.2694444444444444, 1.0]</td>\n",
       "    </tr>\n",
       "    <tr>\n",
       "      <th>8415</th>\n",
       "      <td>this is a pretty decent thing for practicing your guitar through your iphone or ipad, but if you want to use it for any recording at all even demos i strongly recommend going for the irighd, the hd sounds waaaaaay better and the build quality is great, this guy not so much, there was always a bit of noise with my old irig and it seemed to get worse over time, it also felt kinda fragile and chinsy, if you look you can usually find the hd somewhere for a difference is significant but the jump in quality and likely longevity of the product is definitely worth it, i upgraded and would absolutely do it again</td>\n",
       "      <td>2.0</td>\n",
       "      <td>0</td>\n",
       "      <td>[1.6479166666666663, 1.0]</td>\n",
       "    </tr>\n",
       "    <tr>\n",
       "      <th>8453</th>\n",
       "      <td>bought this for a friend, cheap plastic enclosure, affects noticeably your guitars tone and is not exactly a useable delay, he tried to use it for his cleans for our punk ska band but there was no messing with the controls to get a suitable delay, stay away from this one and get a better used pedal</td>\n",
       "      <td>2.0</td>\n",
       "      <td>0</td>\n",
       "      <td>[1.3250000000000002, 1.0]</td>\n",
       "    </tr>\n",
       "    <tr>\n",
       "      <th>8493</th>\n",
       "      <td>my review s for this have changed a few times but no more, when i first got it i liked the sound though it did sound a little cold and digital and this is from someone wanting to record shoegaze dreampop which by it has it is nature is full of cold tones reverb chorus delay shimmering a la cocteau twins chapterhouse lush so at first i thought it was great, then the fuse software was even cooler all this customizing the sound though it did sound noisy and needed the compressor to take some of the noise away after all of that i finally realized i was trying to ignore the fizz crackle hair it has it is called a few things, go to the fender forums and look it up or search it on yahoo google the thing happening with this amp i think is a few things, fender guitars sound best through it which is silly if you do not own a fender and i do not and refuse to get a squire as that body is so played out i wanted anything but a strat body unless i have a grand to pay for an older one i am not going to get a rinky dink one and i would only get one after i got like other dream guitars first so everyone has different problems with pickup quality and guitar quality, also playing into a modeling amp is like playing into a computer that may be fine for some younger folks but to a lot of people i have read the complaints i was trying not to realize as i did not feel like having to pay for shipping to return it but i did and i am so glad i did, i almost got a peavey vypyr and i am glad i did not, this amp to be fair is really close to being really cool but that sound problem which i read on fender s own forum website fender acknowledges it exists but does nothing to fix it in future models, sorry but that has that is some big company b s i have been reading of people saying it sounds cold and lifeless and all that and tube this and tube that and i was like what music snobs and what have you, but i realized that i am a music snob, i love the music i listen to more than anything and feel like the music i create should have a life to it as well, so i returned the mustang and almost got a marshall mg watt cause i wanted an amp with a clean sound that did not have that crackle sound but thankfully i caught myself before that return as after that it would have been final the decision i did make i think will be great for me as i had i would rather start with a good real tone then get the effects i need, i kept reading reviews of these teenagers that had not played for more than a year or two or so saying throw away your pedals you will not need them and i was going to get pedals but do not need to now that has that is kind of the danger of these amps they end up making everyone sound the same, no matter what tweaking i was doing on the mustang it sounded the same but in a different costume i think this amp and modeling amps are best for beginning guitarists and i have seen some old timers getting an amp for home use after years maybe that has that is for them but i needed something to record with and practice and get the best most real tone possible so that means tube amp i think if i played this at a gc i would not of gotten it and i just tried to make myself like it</td>\n",
       "      <td>1.0</td>\n",
       "      <td>0</td>\n",
       "      <td>[2.4594543650793654, 1.0]</td>\n",
       "    </tr>\n",
       "    <tr>\n",
       "      <th>8516</th>\n",
       "      <td>could be a fluke but my unit was defective straight out of the box, plugged it into the macbook pro fired up garageband and right away it has it is midi connectivity was intermittent, then it had some stuck notes, then it stopped being recognized at all, it still got power from the usb bus but no midi no sound, the jack was visibly wiggly too so you are mileage may vary but mine obviously had a defective usb port on the back, rather than bust it open and get soldering iron i returned it and bought an m audio oxygen for more</td>\n",
       "      <td>2.0</td>\n",
       "      <td>0</td>\n",
       "      <td>[0.5357142857142857, 1.0]</td>\n",
       "    </tr>\n",
       "    <tr>\n",
       "      <th>8517</th>\n",
       "      <td>with drum pads i basically either get velocity or max, and i have to really hammer on them to trigger, hurts after a while likes size assignable knobs works good w ableton livedislikes drum pads keys are pretty cheesy but workable and expected for this price and size i am looking to upgrade after a month want better drum pads,</td>\n",
       "      <td>2.0</td>\n",
       "      <td>0</td>\n",
       "      <td>[0.37, 1.0]</td>\n",
       "    </tr>\n",
       "    <tr>\n",
       "      <th>8518</th>\n",
       "      <td>works as advertised but the keys are stiff, pads take too much presure to activate, nice that i dont need another interface to connect it to my laptop after the first few uses the usb socket broke and fell off into the unit rendering it useless, wrote to dealer that was listed as selling it to me thru amazon only to have them tell me the wrong seller was listed, i had registered it with akai already so i complained to them and they sent me a new one, i had to pay shipping back the old one to them even though it was a defective product not recommending this product</td>\n",
       "      <td>1.0</td>\n",
       "      <td>0</td>\n",
       "      <td>[-0.2586038961038961, 0.0]</td>\n",
       "    </tr>\n",
       "    <tr>\n",
       "      <th>8520</th>\n",
       "      <td>this unit might be great if you have child hands the keys on the keyboard is soooo small don t get this if you have man hands, wtf u date the description akai wtf</td>\n",
       "      <td>1.0</td>\n",
       "      <td>0</td>\n",
       "      <td>[-0.22499999999999998, 0.0]</td>\n",
       "    </tr>\n",
       "    <tr>\n",
       "      <th>8553</th>\n",
       "      <td>a dull inept version of a tubescreamer, just sounds flat and boring, not very inspiring, at all, then again i never did really like ts s</td>\n",
       "      <td>1.0</td>\n",
       "      <td>0</td>\n",
       "      <td>[-0.796474358974359, 0.0]</td>\n",
       "    </tr>\n",
       "    <tr>\n",
       "      <th>8555</th>\n",
       "      <td>really wanted to like this one because i loved the price, there is no way this is true bypass, the one i got was defective out of the box and so when i checked i saw the circuitry did not support pass through, maybe it is because i received a defective one but i still would not try this brand name, i am now stuck saving up for a full tone or something</td>\n",
       "      <td>1.0</td>\n",
       "      <td>0</td>\n",
       "      <td>[1.15, 1.0]</td>\n",
       "    </tr>\n",
       "    <tr>\n",
       "      <th>8560</th>\n",
       "      <td>i honestly was not impressed, it looked cheap sounded cheap what else is there to say you get what you pay for, another chinese copy of a tubescreamer</td>\n",
       "      <td>2.0</td>\n",
       "      <td>0</td>\n",
       "      <td>[0.45, 1.0]</td>\n",
       "    </tr>\n",
       "    <tr>\n",
       "      <th>8588</th>\n",
       "      <td>i can not say much about this product, i tried it twice, it seemed like it kind of cleaned the strings but i really did not notice any great change, the strings did not sound betteer or brighter, now it sits in my drawer and collects dust, maybe i will try it again at some point but</td>\n",
       "      <td>2.0</td>\n",
       "      <td>0</td>\n",
       "      <td>[0.5333333333333334, 1.0]</td>\n",
       "    </tr>\n",
       "    <tr>\n",
       "      <th>8594</th>\n",
       "      <td>i honestly do not see the purpose, it does not seem to have improved my experience with my strings on my guitar, i have used it a few times but do not see the benefit edit after coming back to read the other reviews it has it is obvious what happened this was shipped to me completely dry, there was no grease lubricant qualities, it was like a dry erase pad, they need to improve their quality control, i am changing my rating from star to star, they have to find a way to fully secure this gap or maybe consider enhanced vacuum sealing packaging i would suggest if you receive this product and it has not dried out yet to place this product in a air tight ziplock bag to reduce the likelihood of this drying out</td>\n",
       "      <td>1.0</td>\n",
       "      <td>0</td>\n",
       "      <td>[-0.36672619047619043, 0.0]</td>\n",
       "    </tr>\n",
       "    <tr>\n",
       "      <th>8620</th>\n",
       "      <td>the cable arrived on time and the it looked nice for ten minutes, i don t like how the tips screw on and off and the fabric shielding slid out of place the first time i used it, the cable worked well for about two weeks but then it lost current in the middle of a session and i lost sound, this cable is complete garbage, never again</td>\n",
       "      <td>1.0</td>\n",
       "      <td>0</td>\n",
       "      <td>[0.7833333333333333, 1.0]</td>\n",
       "    </tr>\n",
       "    <tr>\n",
       "      <th>8631</th>\n",
       "      <td>i purchased this amp locally and initially i thought it was pretty cool as it was my first modeling amp lots of potential for a limitless variety of sounds, this was my first fender amp as well the presets were neat and all but when i played around with some of the standard models just the amp model no effects just to see how it has it is clean sound was the amp just hissed as if i had the volume cranked with a distortion pedal engaged at max, the master volume was at and no effects were turned on i have never heard a clean channel with so much noise behind it even when there was no guitar plugged in all i could hear while playing was the underlying hiss coming through the notes very distracting and it drove me nuts, this is not a ground loop issue my other amps sound just fine at bedroom volumes and beyond it has it is clearly a defect with this product, dirty pre sets with lots of gain and extra volume sound even worse again even when nothing is plugged in and at low master volume, you d think i was running a few super high gain stomp boxes with a red hot single coil but nothing was plugged in and all i get is staticy hiss at low levels, wtf the next issue is the weird fizz sound that was especially noticeable on the low e after striking a string instead of a clean note there has there is a weird fizzy digital artifact like sound that surrounds the note and fades as the string stops moving, it almost sounds like cymbals crashing on a poorly authored mp file at a low bit rate and frequency, whole chords break down and decay in this fizzy envelope and really makes this thing unplayable the weird thing is neither one of these problems arose with head phones plugged in or when this was connected to my computed via either usb or the line in but i am not going to be stuck playing a watt amp through my pc or cans, i got the iii instead of the ii because of the power behind it and the touted celestion speaker read the many reviews online or forum posts on many of the guitar amp related websites there has there is a page forum post on the fender support site that is quite interesting and you shall you will find that these amps are having issues, apparently the mustang i and ii do not have these issues and the firmware update did nothing to correct my amp, is this a hardware issue software issue speaker issue, there is speculation that the lcd screen which is not present on the i or ii may be causing problems but no one seems to know for sure and fender does not seem to care definitely try this before you buy it, you may get an amp that does not have these problems you may not notice the sounds or you may not even care let your ears tell you what sounds good this amp has a lot of potential for great sounds and it would have been nice to have faithful modeling of some great vintage amps but in my opinion technical issues have made this amp sound like complete garbage, i am disappointed that fender has not yet correct what ever is wrong some folks claim that fender reps say that know what is wrong but i am not taking that as a fact but they have acknowledged that there is something wrong whatever i took this back after a few days of playing with it trying to eliminate the junk sounds without success the built in noise gate helps a little but sucks tone and i picked up a watt marshall instead, guess what, the clean channel has zero hum or buzz even when cranked, how about that, even when i engage a dirt box on one of the dirty channels there is minimal noise i shall i will knock fender for not correcting this issue regardless of what it is and what caused it but they do have some other nice amps that i had i would like to try, but before i buy another fender amp i shall i will take it for a test drive and i suggest you do the same before picking up one of these turds</td>\n",
       "      <td>1.0</td>\n",
       "      <td>0</td>\n",
       "      <td>[1.1958998144712432, 1.0]</td>\n",
       "    </tr>\n",
       "    <tr>\n",
       "      <th>8661</th>\n",
       "      <td>tc is very overrated many pedals i have out performs this in my opinion, the vintage bbds mxr vintage delay morley s echo for example just take it, but for newer pedals i liked the mxr carbon copy and ibanex de much better</td>\n",
       "      <td>2.0</td>\n",
       "      <td>0</td>\n",
       "      <td>[0.9, 1.0]</td>\n",
       "    </tr>\n",
       "    <tr>\n",
       "      <th>8687</th>\n",
       "      <td>it is ok as long as you do not bump your guitar else boom it hits the floor, i do not trust it and amazon has it way over priced, it will work if you put a nail in it to hold the holder in place</td>\n",
       "      <td>2.0</td>\n",
       "      <td>0</td>\n",
       "      <td>[0.225, 1.0]</td>\n",
       "    </tr>\n",
       "  </tbody>\n",
       "</table>\n",
       "</div>"
      ],
      "text/plain": [
       "                                                                                                                                                                                                                                                                                                                                                                                                                                                                                                                                                                                                                                                                                                                                                                                                                                                                                                                                                                                                                                                                                                                                                                                                                                                                                                                                                                                                                                                                                                                                                                                                                                                                                                                                                                                                                                                                                                                                                                                                                                                                                                                                                                                                                                                                                                                                                                                                                                                                                                                                                                                                                                                                                                                                                                                                                                                                                                                                                                                                                                                                                                                                                                                                                                                                                                                                                                                                                                                                                                                                                                                                                                                                                                                                                                                                                                                                                                                                                                             CleanedJoin  \\\n",
       "7735                                                                                                                                                                                                                                                                                                                                                                                                                                                                                                                                                                                                                                                                                                                                                                                                                                                                                                                                                                                                                                                                                                                                                                                                                                                                                                                                                                                                                                                                                                                                                                                                                                                                                                                                                                                                                                                                                                                                                                                                                                                                                                                                                                                                                                                                                                                                                                                                                                                                                                                                                                                                                                                                                                                                                                                                                                                                                                                                                                                                                                                                                                                                                                                                                                                                                                          so heres the thing that no one else wants to say, the thing is built like a piece of shit, it jingles and rattles and parts are always moving around, i used this times and it shorted out, the lights started flashing and it got hot, i called line and they determined it was bad so they opened a ticket, fyi if you want to deal with the worst customer service in the industry just call line not only do they not know what they were talking about but in the backgrounc i could hear them lauging and joking like there was a big party going on, i wish i would have never bought this but hopefully i get a new one soon, well see how helpful they really are   \n",
       "7736                                                                                                                                                                                                                                                                                                                                                                                                                                                                                                                                                                                                                                                                                                                                                                                                                                                                                                                                                                                                                                                                                                                                                                                                                                                                                                                                                                                                                                                                                                                                                                                                                                                                                                                                                                                                                                                                                                                                                                                                                                                                                                                                                                                                                                                                                                                                                                                                                                                                                                                                                                                                                                                                                                                                                                                                                                                                                                                                                                                                                                                                                                                                                                                                                                                                                                                                                                                                                                                                                                                                                                                                                                                                             i have always loved line this product sounded great for about an hour then total gave up, it went dead, i changed channels and it worked for like a minute then went dead, i am sorry to say that i returned it, my akg wireless guitar bug has lasted years with no drop outs i am really disappointed   \n",
       "7750                                                                                                                                                                                                                                                                                                                                                                                                                                                                                                                                                                                                                                                                                                                                                                                                                                                                                                                                                                                                                                                                                                                                                                                                                                                                                                                                                                                                                                                                                                                                                                                                                                                                                                                                                                                                                                                                                                                                                                                                                                                                                                                                                                                                                                                                                                                                                                                                                                                                                                                                                                                                                                                                                                                                                                                                                                                                                                                                                                                                                                                                                                                                                                                                                                                                                                                                                                                                                                                                                                                                                                                                                                                                                               i was very excited to try this pedal when it finally arrived, just to find out it wasn t working, it is defective and because i brought it to mexico now i can not get a refund or a replacement i will try to fix it through some local electrician or something, very dissapointing   \n",
       "7850                                                                                                                                                                                                                                                                                                                                                                                                                                                                                                                                                                                                                                                                                                                                                                                                                                                                                                                                                                                                                                                                                                                                                                                                                                                                                                                                                                                                                                                                                                                                                                                                                                                                                                                                                                                                                                                                                                                                                                                                                                                                                                                                                                                                                                                                                                                                                                                                                                                                                                                                                                                                                                                                                                                                                                                                                                                                                                                                                                                                                                                                                                                                                                                                                                                                                                                                                                                                                                                                                                                                                                                                                                                                                                                                                                                                             one of the ball bearings designed to catch and lock the side mounted to the strap dislodged and my very expensive fender custom shop telecaster fell flat on the ground   \n",
       "7911                                                                                                                                                                                                                                                                                                                                                                                                                                                                                                                                                                                                                                                                                                                                                                                                                                                                                                                                                                                                                                                                                                                                                                                                                                                                                                                                                                                                                                                                                                                                                                                                                                                                                                                                                                                                                                                                                                                                                                                                                                                                                                                                                                                                                                                                                                                                                                                                                                                                                                                                                                                                                                                                                                                                                                                                                                                                                                                                                                                                                                                                                                                                                                                                                                                                                                                                                                                                                                                sounded good, warmer sounding than stock tubes in my ac, i rocked all night and loved the sound, next day i turned it on my amp was crackling out and wiping out the signal i checked the tubes and one of them was making violent purple flashes before the signal burnt out, i then noticed that one of my fuses blew out as well, i changed out the fuse and checked again and the tube was still doing the same thing so i just swapped the tubes back for atock, id like to see a real set of jjs im sure one of them was a dud   \n",
       "7992                                                                                                                                                                                                                                                                                                                                                                                                                                                                                                                                                                                                                                                                                                                                                                                                                                                                                                                                                                                                                                                                                                                                                                                                                                                                                                                                                                                                                                                                                                                                                                                                                                                                                                                                                                                                                                                                                                                                                                                                                                                                                                                                                                                                                                                                                                                                                                                                                                                                                                                                                                                                                                                                                                                                                                                                                                                                                                                                                                                                                                                                                                                                                                                                                                                                                                                                                                                                                                                                                                                                                                                           i bought these just to add a layer of sound in my blues tunes i record the notes do not bend easily if you think your will cheat the big boys harps youll be dissapointed quickly these are little more than toys compared to dollar harps they feel cheap but have a decent sound i dont know if they will last but to make harp noises without decent bends ill use these sparingly jim   \n",
       "7996                                                                                                                                                                                                                                                                                                                                                                                                                                                                                                                                                                                                                                                                                                                                                                                                                                                                                                                                                                                                                                                                                                                                                                                                                                                                                                                                                                                                                                                                                                                                                                                                                                                                                                                                                                                                                                                                                                                                                                                                                                                                                                                                                                                                                                                                                                                                                                                                                                                                                                                                                                                                                                                                                                                                                                                                                                                                                                                                                                                                                                                                                                                                                                                                                                                                                                                                                                                                                                                                                                                                                                                                                    i play harp with some some that i perform, i found that all of these harmonica s the note s are off and it has it is hard to play i have g blues harp that i compared the g harp to and the notes were a little off, the c harp was terrible, that said the only thing i like about this order is the case, i going to see if i can return them for store credit   \n",
       "8007                                                                                                                                                                                                                                                                                                                                                                                                                                                                                                                                                                                                                                                                                                                                                                                                                                                                                                                                                                                                                                                                                                                                                                                                                                                                                                                                                                                                                                                                                                                                                                                                                                                                                                                                                                                                                                                                                                                                                                                                                                                                                                                                                                                                                                                                                                                                                                                                                                                                                                                                                                                                                                                                                                                                                                                                                                                                                                                                                                                                                                                                                                                                                                                                                                                                                                                                                                                                                                                                                                                                                                                                                                                                                                                                                                                                                                 too thick no flexibility, sounds really harsh and like it is ruining my ukulele strings, tried on bass too again with less than satisactory results   \n",
       "8010                                                                                                                                                                                                                                                                                                                                                                                                                                                                                                                                                                                                                                                                                                                                                                                                                                                                                                                                                                                                                                                                                                                                                                                                                                                                                                                                                                                                                                                                                                                                                                                                                                                                                                                                                                                                                                                                                                                                                                                                                                                                                                                                                                                                                                                                                                                                                                                                                                                                                                                                                                                                                                                                                                                                                                                                                                                                                                                                                                                                                                                                                                                                                                                                                                                                                                                                                                                                                                                                                                                                                                                                                                                                                                                                                                                                                                    the picks work well with bass but they are just too thick to use with ukulele, the pics also shed easily making your instrument dusty in no time   \n",
       "8036                                                                                                                                                                                                                                                                                                                                                                                                                                                                                                                                                                                                                                                                                                                                                                                                                                                                                                                                                                                                                                                                                                                                                                                                                                                                                                                                                                                                                                                                                                                                                                                                                                                                                                                                                                                                                                                                                                                                                                                                                                                                                                                                                                                                                                                                                                                                                                                                                                                                                                                                                                                                                                                                                                                                                                                                                                                                                                                                                                                                                                                                                                                                                                                                                                                                                                                                                                                                                                                                                                                                                                                                                      i guess the tension on these is more than my uke was used to and when i put them on the neck became severely bowed after a day or two, sounded lovely for the first hour that has that is why two stars, granted my uke is one of the cheaper lanikais if you have a better built uke it might be able to take these but i simply can not recommend personally   \n",
       "8070                                                                                                                                                                                                                                                                                                                                                                                                                                                                                                                                                                                                                                                                                                                                                                                                                                                                                                                                                                                                                                                                                                                                                                                                                                                                                                                                                                                                                                                                                                                                                                                                                                                                                                                                                                                                                                                                                                                                                                                                                                                                                                                                                                                                                                                                                                                                                                                                                                                                                                                                                                                                                                                                                                                                                                                                                                                                                                                                                                                                                                                                                                                                                                                                                                                                                                                                                                                                                                                                     for any usable tones while playing live the best bet is to plug it into a tube power amp, direct to mixer or running it through a solid state amp is very uninspiring i did not like the recorded tones either much rather preferred amplitube if micing a real tube amp was not an option that being said it is good for practice and song writing, used this for more than a year and finally sold it, that s the other thing with items like this they lose value real quick once the next version comes out   \n",
       "8076                                                                                                                                                                                                                                                                                                                                                                                                                                                                                                                                                                                                                                                                                                                                                                                                                                                                                                                                                                                                                                                                                                                                                                                                                                                                                                                                                                                                                                                                                                                                                                                                                                                                                                                                                                                                                                                                                i bought an ibanez concert size uke, the body is inches wide less than the inches stated for this stand, my uke does not fit well in the stand, why, the twin forks at the base that hold the instrument are both too narrow and the curve downward from the stand is not proper for this uke, thus any uke that is concert size or greater, so most ukes do not fit well, they fit just not well i did and you will likely need this advice remove the bottom fork turn it upside down and reinstall it no tools required, now the curve of it is upward and the uke better sits on it, the fit is improved, not great but better, one stand can not fit all instruments but my full size guitar stands hold most all guitars, this small stand does not hold most all ukes although its neat how it folds up like the video here on amazon reviews it is very heavy for its size, this is not a lightweight stand, at all, surprisingly heavy and not one that you will be lugging around day to day in your uke gig bag trust me i wish i got the hercules standhercules gs b mini stand, all hercules stuff is superb and my friend has one for his uke and says it has it is sublime i do not own it myself so i just present this so you can research it and it has it is reviews on amazon, i own other herc stuff and it has it is all ideal and for a few bucks more i could have had that lifelong use stand instead of this one, oh well for once i got cheap, and got burned for it all in all not great this tiny stand, one stand fits not all, perhaps a violin or something would be better on this stand but i think the general shape of it is less than ideal for most instruments, you may think you can bend the lower forks but it has it is hard to do will require a vice and if you see on the amazon pictures the lower fork just sits in two plastic grooves so if you splay it out like it should be you shall you will change the way it fits in the grooves and thus it won t work at all, it s just an imperfect design, my take on it your mileage may vary, bye bye   \n",
       "8077                                                                                                                                                                                                                                                                                                                                                                                                                                                                                                                                                                                                                                                                                                                                                                                                                                                                                                                                                                                                                                                                                                                                                                                                                                                                                                                                                                                                                                                                                                                                                                                                                                                                                                                                                                                                                                                                                                                                                                                                                                                                                                                                                                                                                                                                                                                                                                                                                                                                                                                                                                                                                                                                                                                                                                                                                                                                                                                                                                                                                                                                                                                                                                                                                                                                 at the time i bought was, mine arrived broken so it had gone back, reality is that it is not that good regardless of mine being broken, not upset about that stuff happens, it is just not a good stand, light construcion unstable topples easily and a likely candidate to be broken if dropped, the protective materails on the stand to keep product from scratching your instrument are the soft shiny runner like materail and it sticks to my instrument s neck, so i pick up uke and i get a stand until the stickiness is seprated by gravity, happened every time, yes i tried out the stand even though broken and it proved to be a bad choice, back it has gone, stars to amazon s return policy thouh   \n",
       "8091                                                                                                                                                                                                                                                                                                                                                                                                                                                                                                                                                                                                                                                                                                                                                                                                                                                                                                                                                                                                                                                                                                                                                                                                                                                                                                                                                                                                                                                                                                                                                                                                                                                                                                                                                                                                                                                                                                                                                                                                                                                                                                                                                                                                                                                                                                                                                                                                                                                                                                                                                                                                             let me first start off with the sizing, when they say fits soundholes from they really mean it you are going to have a hard time trying to fit it even if it is smaller than the specifications i know i did, my friend s oscar schmidt sized guitar was just that much smaller and it did not fit well, the edges did not catch completely and it looks terrible my classical guitar had a similarly sized soundhole but because of the much wider fretboard at the edge of the soundhole it did not fit at all, you could try cutting the edges off the oport at the fretboard the main issue is the sound yes it does make the sound fuller when you are strumming slightly but enough to tell however it does so at the expense of the sustain and harmonic overtunes fingerpicking just does not sound as nice as before even though the guitar is noticeably better on the bass notes for me that does not justify it a simple bone saddle does way better than this and it cost less another thing i found out was what was amazon does to stuff others return they resell as brand new if it looks brand new the packaging on mine came slightly torn and looked as if it had been opened, does it matter, in practical terms no not for this sort of item i guess that is how amazon keeps their prices low yet with good customer service and return policies   \n",
       "8097                                                                                                                                                                                                                                                                                                                                                                                                                                                                                                                                                                                                                                                                                                                                                                                                                                                                                                                                                                                                                                                                                                                                                                                                                                                                                                                                                                                                                                                                                                                                                                                                                                                                                                                                                                                                                                                                                                                                                                                                                                                                                                                                                                                                                                                                                    perhaps it may do something of worth for you but if you have one of the finer made guitars this will probably do more to subtract than add to the sound, be advised that i did not use it in front of a microphone where perhaps the shape of this internal plastic cone might do something you like in directing the sound to a mike, as strictly an issue of natural acoustics i found it deflected sound in a way that seemed to decrease my guitar s output and resonance, i have an aria ad which is a very well made chinese attempt at cloning a martin d, it can not compete with the real martin but for the money i paid it was a great buy and it is known as a sound canon for it has it is great natural volume, adding the o port deadened the lows, it just did not provide any plus at all anywhere else, it is however pretty inexpensive so if you are a nut for nuance and you want to try it for yourself it has it is not going to break your bank, but again if you have one of the better makes of guitar where a real person voiced it in his or her manufacturing process this plastic gizmo will likely subtract from that and not add anything, i am an acoustic nut and i had i would love to have a sound port in the side of my guitar to hear everything that goes on inside that box, the o port seemed to corral the sound and shoot it out that plastic horn not allowing me to hear some of the resonance of the sound bouncing back off the back and sides below the sound hole, sorry to be a crab about it i like planet waves stuff and they were very good to me personally in the humidipak recall a few years back, but this product was a waste to me   \n",
       "8103                                                                                                                                                                                                                                                                                                                                                                                                                                                                                                                                                                                                                                                                                                                                                                                                                                                                                                                                                                                                                                                                                                                                                                                                                                                                                                                                                                                                                                                                                                                                                                                                                                                                                                                                                                                                                                                                                                                                                                                                                                                                                                                                                                                                                                                                                                                                                                                                                                                                                                                                                                                                                                                                                                                                                                                                                                                                                                                                                                                                                                                                                                                                                                                                                                                                                                                                                                                                                                                                                                                                                                                                                                                                                        i thought it would protect my desk but the pad is almost like that rubber they put under rugs so they will not slip around, maybe i should get that for cheaper i accidently bought large ooh boy is it like windshield sun reflector size, sort of just a personal opinion review i suppose   \n",
       "8136                                                                                                                                                                                                                                                                                                                                                                                                                                                                                                                                                                                                                                                                                                                                                                                                                                                                                                                                                                                                                                                                                                                                                                                                                                                                                                                                                                                                                                                                                                                                                                                                                                                                                                                                                                                                                                                                                                                                                                                                                                                                                                                                                                                                                                                                                                                                                                                                                                                                                                                                                                                                                                                                                                                                                                                                                                                                                                                                                                                                                                                                                                                                                                                                                                                                                                                                                                                                                                                                                                                                                                                                                                                                                                                                              there is a problem with the design, when you move the head the little plastic pieces that hold the ball that allows you to rotate the head just break off, the tuner itself is great but the product fails because it broke in minutes   \n",
       "8142                                                                                                                                                                                                                                                                                                                                                                                                                                                                                                                                                                                                                                                                                                                                                                                                                                                                                                                                                                                                                                                                                                                                                                                                                                                                                                                                                                                                                                                                                                                                                                                                                                                                                                                                                                                                                                                                                                                                                                                                                                                                                                                                                                                                                                                                                                                                                                                                                                                                                                                                                                                                                                                                                                                                                                                                                                                                                                                                                                                                                                                                                                                                                                                                                                                                                                                                                                                                                                                       for some reason this one just does not hit the notes right, it looks like it should tune more precise than other models but the tone is way off for mine anyway, i have tried it several times and it just does not tune right, then i recheck with my other brand and it has it is not even close, maybe i just got a bad one, i like that this one shuts off automatically but again it has it is way off tune i did like the style size and color but it does not work right so it has it is like running with a flat tire   \n",
       "8147                                                                                                                                                                                                                                                                                                                                                                                                                                                                                                                                                                                                                                                                                                                                                                                                                                                                                                                                                                                                                                                                                                                                                                                                                                                                                                                                                                                                                                                                                                                                                                                                                                                                                                                                                                                                                                                                                                                                                                                                                                                                                                                                                                                                                                                                                                                                                                                                                                                                                                                                                                                                                                                                                                                                                                                                                                                                                                                                                                                                                                                                                                                                                                                                                                                                                                                                                                                                                                                                                                                                                                                                                                          i ordered this from the amazon warehouse as a refurbished item, it was properly packaged but the base was broken and poorly glued together, the glue did not hold so the clamping base separated from the stem that allows the meter to swivel, this was unfixable so i sent it back for a refund, warehouse deals are not such good deals   \n",
       "8172                                                                                                                                                                                                                                                                                                                                                                                                                                                                                                                                                                                                                                                                                                                                                                                                                                                                                                                                                                                                                                                                                                                                                                                                                                                                                                                                                                                                                                                                                                                                                                                                                                                                                                                                                                                                                                                                                                                                                                                                                                                                                                                                                                                                                                                                                                                                                                                                                                                                                                                                                                                                                                                                                                                                                                                                                                                                                                                                                                                                                                                                                                                                                                                                                                                                                                                                                                                                                                                                                                                                                                                                                                                                                                                                                                                                                                                          first time i tried to use it it broke in my hand, it is now taped together while i wait for a different kind to replace it   \n",
       "8225                                                                                                                                                                                                                                                                                                                                                                                                                                                                                                                                                                                                                                                                                                                                                                                                                                                                                                                                                                                                                                                                                                                                                                                                                                                                                                                                                                                                                                                                                                                                                                                                                                                                                                                                                                                                                                                                                                                                                                                                                                                                                                                                                                                                                                                                                                                                                                                                                                                                                                                                                                                                                                                                                                                                                                                                                                                                                                                                                                                                                                                                                                                                                                                                                                                                                                                                                                                                                                                                                                                                                                                                         very accurate tuner but it broke within the first week i used it, the little head on the tuner is connected with an arm and a ball and even when you are gently the three prongs holding the ball joint can crack and break rendering it useless, i will try to get a replacement now as a tuner it was really quite good but just not durable which is kinda what you need   \n",
       "8263                                                                                                                                                                                                                                                                                                                                                                                                                                                                                                                                                                                                                                                                                                                                                                                                                                                                                                                                                                                                                                                                                                                                                                                                                                                                                                                                                                                                                                                                                                                                                                                                                                                                                                                                                                                                                                                                                                                                                                                                                                                                                                                                                                                                                                                                                                                                                                                                                                                                                                                                                                                                                                                                                                                                                                                                                                                                                                                                                                                                                                                                                                                                                                                                                                                                                                                                                                                                                                                                                                                                                                                                                                                                                                                                like the other one star reviewers my problem is that the head broke off, i tried to glue it back on but it just fell apart even worse when i tried to do that, if you buy this you really need to baby it, my advice is look for a more sturdy model   \n",
       "8332                                                                                                                                                                                                                                                                                                                                                                                                                                                                                                                                                                                                                                                                                                                                                                                                                                                                                                                                                                                                                                                                                                                                                                                                                                                                                                                                                                                                                                                                                                                                                                                                                                                                                                                                                                                                                                                                                                                                                                                                                                                                                                                                                                                                                                                                                                                                                                                                                                                                                                                                                                                                                                                                                                                                                                                                                                                                                                                                                                                                                                                                                                                                                                                                                                                                                                                                                                                                                                                                                                                                                                                                                                                                                                                                                                                                         tuner works great, both by vibration and mic only real problem is the fact that the joint between the tuner and the clip is really weak, mine broke off not even a year old   \n",
       "8343                                                                                                                                                                                                                                                                                                                                                                                                                                                                                                                                                                                                                                                                                                                                                                                                                                                                                                                                                                                                                                                                                                                                                                                                                                                                                                                                                                                                                                                                                                                                                                                                                                                                                                                                                                                                                                                                                                                                                                                                                                                                                                                                                                                                                                                                                                                                                                                                                                                                                                                                                                                                                                                                                                                                                                                                                                                                                                                                                                                                                                                                                                                                                                                                                                                                                                                                                                                                                                                                                                                                                                                                                                                                                                                                                                                          stopped working all by itself, fresh battery did not help fortunately i have another plus a korg and an two intellitouch, i have fiddles and guitars the intellitouch is simply champion,    \n",
       "8408                                                                                                                                                                                                                                                                                                                                                                                                                                                                                                                                                                                                                                                                                                                                                                                                                                                                                                                                                                                                                                                                                                                                                                                                                                                                                                                                                                                                                                                                                                                                                                                                                                                                                                                                                                                                                                                                                                                                                                                                                                                                                                                                                                                                                                                                                                                                                                                                                                                                                                                                                                                                                                                                                                                                                                                                                                                                                                                                                                                                                                                                                                                                                                                                                                                                       what is the sound in the background of the hissssssssssssss, my guitar i guess but who cares, i honestly bought this gizmo for the extremely good hisssssssssssssing nothing else a question to amazon companies producing objects that are nothing else than a lemon should not be prosecuted p s i think it is too polluting for low cost items to waste again in paper box transportation restocking work refund work and so on, this is why of the time i do not ask for my money back but sell this lemon on amazon online with other websites and in all the instrument shops worldwide in a total bad faith while testing nobody in irig noticed the overwhelming hisssssssing, well that is beyond me   \n",
       "8410                                                                                                                                                                                                                                                                                                                                                                                                                                                                                                                                                                                                                                                                                                                                                                                                                                                                                                                                                                                                                                                                                                                                                                                                                                                                                                                                                                                                                                                                                                                                                                                                                                                                                                                                                                                                                                                                                                                                                                                                                                                                                                                                                                                                                                                                                                                                                                                                                                                                                                                                                                                                                                                                                                                                                                                                                                                                                                                                                                                                                                                                                                                                                                                                                                                                                                                                        no matter how many times i hard reset my gs no success, there is no problem with my jack and the phone is in pristine condition no problems until now, there is definitely a connection and communication because the mic and sample track work but that has that is about it, i registered my amplitude app and followed all of the instructions on the box, i tested the irig with an iphone and was able to get it operating i am giving this two stars because it did work on my friend s iphone but for my purposes with a gs it is a brick, if anyone has any suggestions that lead to successful operation i will re rate the product   \n",
       "8415                                                                                                                                                                                                                                                                                                                                                                                                                                                                                                                                                                                                                                                                                                                                                                                                                                                                                                                                                                                                                                                                                                                                                                                                                                                                                                                                                                                                                                                                                                                                                                                                                                                                                                                                                                                                                                                                                                                                                                                                                                                                                                                                                                                                                                                                                                                                                                                                                                                                                                                                                                                                                                                                                                                                                                                                                                                                                                                                                                                                                                                                                                                                                                                                                                                                                                                                                  this is a pretty decent thing for practicing your guitar through your iphone or ipad, but if you want to use it for any recording at all even demos i strongly recommend going for the irighd, the hd sounds waaaaaay better and the build quality is great, this guy not so much, there was always a bit of noise with my old irig and it seemed to get worse over time, it also felt kinda fragile and chinsy, if you look you can usually find the hd somewhere for a difference is significant but the jump in quality and likely longevity of the product is definitely worth it, i upgraded and would absolutely do it again   \n",
       "8453                                                                                                                                                                                                                                                                                                                                                                                                                                                                                                                                                                                                                                                                                                                                                                                                                                                                                                                                                                                                                                                                                                                                                                                                                                                                                                                                                                                                                                                                                                                                                                                                                                                                                                                                                                                                                                                                                                                                                                                                                                                                                                                                                                                                                                                                                                                                                                                                                                                                                                                                                                                                                                                                                                                                                                                                                                                                                                                                                                                                                                                                                                                                                                                                                                                                                                                                                                                                                                                                                                                                                                                                                                                                         bought this for a friend, cheap plastic enclosure, affects noticeably your guitars tone and is not exactly a useable delay, he tried to use it for his cleans for our punk ska band but there was no messing with the controls to get a suitable delay, stay away from this one and get a better used pedal   \n",
       "8493                                                                                                                                                                                                                                                                                                                                                                                                                                                                                                                                                                                                                                                       my review s for this have changed a few times but no more, when i first got it i liked the sound though it did sound a little cold and digital and this is from someone wanting to record shoegaze dreampop which by it has it is nature is full of cold tones reverb chorus delay shimmering a la cocteau twins chapterhouse lush so at first i thought it was great, then the fuse software was even cooler all this customizing the sound though it did sound noisy and needed the compressor to take some of the noise away after all of that i finally realized i was trying to ignore the fizz crackle hair it has it is called a few things, go to the fender forums and look it up or search it on yahoo google the thing happening with this amp i think is a few things, fender guitars sound best through it which is silly if you do not own a fender and i do not and refuse to get a squire as that body is so played out i wanted anything but a strat body unless i have a grand to pay for an older one i am not going to get a rinky dink one and i would only get one after i got like other dream guitars first so everyone has different problems with pickup quality and guitar quality, also playing into a modeling amp is like playing into a computer that may be fine for some younger folks but to a lot of people i have read the complaints i was trying not to realize as i did not feel like having to pay for shipping to return it but i did and i am so glad i did, i almost got a peavey vypyr and i am glad i did not, this amp to be fair is really close to being really cool but that sound problem which i read on fender s own forum website fender acknowledges it exists but does nothing to fix it in future models, sorry but that has that is some big company b s i have been reading of people saying it sounds cold and lifeless and all that and tube this and tube that and i was like what music snobs and what have you, but i realized that i am a music snob, i love the music i listen to more than anything and feel like the music i create should have a life to it as well, so i returned the mustang and almost got a marshall mg watt cause i wanted an amp with a clean sound that did not have that crackle sound but thankfully i caught myself before that return as after that it would have been final the decision i did make i think will be great for me as i had i would rather start with a good real tone then get the effects i need, i kept reading reviews of these teenagers that had not played for more than a year or two or so saying throw away your pedals you will not need them and i was going to get pedals but do not need to now that has that is kind of the danger of these amps they end up making everyone sound the same, no matter what tweaking i was doing on the mustang it sounded the same but in a different costume i think this amp and modeling amps are best for beginning guitarists and i have seen some old timers getting an amp for home use after years maybe that has that is for them but i needed something to record with and practice and get the best most real tone possible so that means tube amp i think if i played this at a gc i would not of gotten it and i just tried to make myself like it   \n",
       "8516                                                                                                                                                                                                                                                                                                                                                                                                                                                                                                                                                                                                                                                                                                                                                                                                                                                                                                                                                                                                                                                                                                                                                                                                                                                                                                                                                                                                                                                                                                                                                                                                                                                                                                                                                                                                                                                                                                                                                                                                                                                                                                                                                                                                                                                                                                                                                                                                                                                                                                                                                                                                                                                                                                                                                                                                                                                                                                                                                                                                                                                                                                                                                                                                                                                                                                                                                                                                                                   could be a fluke but my unit was defective straight out of the box, plugged it into the macbook pro fired up garageband and right away it has it is midi connectivity was intermittent, then it had some stuck notes, then it stopped being recognized at all, it still got power from the usb bus but no midi no sound, the jack was visibly wiggly too so you are mileage may vary but mine obviously had a defective usb port on the back, rather than bust it open and get soldering iron i returned it and bought an m audio oxygen for more   \n",
       "8517                                                                                                                                                                                                                                                                                                                                                                                                                                                                                                                                                                                                                                                                                                                                                                                                                                                                                                                                                                                                                                                                                                                                                                                                                                                                                                                                                                                                                                                                                                                                                                                                                                                                                                                                                                                                                                                                                                                                                                                                                                                                                                                                                                                                                                                                                                                                                                                                                                                                                                                                                                                                                                                                                                                                                                                                                                                                                                                                                                                                                                                                                                                                                                                                                                                                                                                                                                                                                                                                                                                                                                                                                                           with drum pads i basically either get velocity or max, and i have to really hammer on them to trigger, hurts after a while likes size assignable knobs works good w ableton livedislikes drum pads keys are pretty cheesy but workable and expected for this price and size i am looking to upgrade after a month want better drum pads,    \n",
       "8518                                                                                                                                                                                                                                                                                                                                                                                                                                                                                                                                                                                                                                                                                                                                                                                                                                                                                                                                                                                                                                                                                                                                                                                                                                                                                                                                                                                                                                                                                                                                                                                                                                                                                                                                                                                                                                                                                                                                                                                                                                                                                                                                                                                                                                                                                                                                                                                                                                                                                                                                                                                                                                                                                                                                                                                                                                                                                                                                                                                                                                                                                                                                                                                                                                                                                                                                                                                          works as advertised but the keys are stiff, pads take too much presure to activate, nice that i dont need another interface to connect it to my laptop after the first few uses the usb socket broke and fell off into the unit rendering it useless, wrote to dealer that was listed as selling it to me thru amazon only to have them tell me the wrong seller was listed, i had registered it with akai already so i complained to them and they sent me a new one, i had to pay shipping back the old one to them even though it was a defective product not recommending this product   \n",
       "8520                                                                                                                                                                                                                                                                                                                                                                                                                                                                                                                                                                                                                                                                                                                                                                                                                                                                                                                                                                                                                                                                                                                                                                                                                                                                                                                                                                                                                                                                                                                                                                                                                                                                                                                                                                                                                                                                                                                                                                                                                                                                                                                                                                                                                                                                                                                                                                                                                                                                                                                                                                                                                                                                                                                                                                                                                                                                                                                                                                                                                                                                                                                                                                                                                                                                                                                                                                                                                                                                                                                                                                                                                                                                                                                                                                                                                  this unit might be great if you have child hands the keys on the keyboard is soooo small don t get this if you have man hands, wtf u date the description akai wtf   \n",
       "8553                                                                                                                                                                                                                                                                                                                                                                                                                                                                                                                                                                                                                                                                                                                                                                                                                                                                                                                                                                                                                                                                                                                                                                                                                                                                                                                                                                                                                                                                                                                                                                                                                                                                                                                                                                                                                                                                                                                                                                                                                                                                                                                                                                                                                                                                                                                                                                                                                                                                                                                                                                                                                                                                                                                                                                                                                                                                                                                                                                                                                                                                                                                                                                                                                                                                                                                                                                                                                                                                                                                                                                                                                                                                                                                                                                                                                                            a dull inept version of a tubescreamer, just sounds flat and boring, not very inspiring, at all, then again i never did really like ts s   \n",
       "8555                                                                                                                                                                                                                                                                                                                                                                                                                                                                                                                                                                                                                                                                                                                                                                                                                                                                                                                                                                                                                                                                                                                                                                                                                                                                                                                                                                                                                                                                                                                                                                                                                                                                                                                                                                                                                                                                                                                                                                                                                                                                                                                                                                                                                                                                                                                                                                                                                                                                                                                                                                                                                                                                                                                                                                                                                                                                                                                                                                                                                                                                                                                                                                                                                                                                                                                                                                                                                                                                                                                                                                                                                   really wanted to like this one because i loved the price, there is no way this is true bypass, the one i got was defective out of the box and so when i checked i saw the circuitry did not support pass through, maybe it is because i received a defective one but i still would not try this brand name, i am now stuck saving up for a full tone or something   \n",
       "8560                                                                                                                                                                                                                                                                                                                                                                                                                                                                                                                                                                                                                                                                                                                                                                                                                                                                                                                                                                                                                                                                                                                                                                                                                                                                                                                                                                                                                                                                                                                                                                                                                                                                                                                                                                                                                                                                                                                                                                                                                                                                                                                                                                                                                                                                                                                                                                                                                                                                                                                                                                                                                                                                                                                                                                                                                                                                                                                                                                                                                                                                                                                                                                                                                                                                                                                                                                                                                                                                                                                                                                                                                                                                                                                                                                                                                              i honestly was not impressed, it looked cheap sounded cheap what else is there to say you get what you pay for, another chinese copy of a tubescreamer   \n",
       "8588                                                                                                                                                                                                                                                                                                                                                                                                                                                                                                                                                                                                                                                                                                                                                                                                                                                                                                                                                                                                                                                                                                                                                                                                                                                                                                                                                                                                                                                                                                                                                                                                                                                                                                                                                                                                                                                                                                                                                                                                                                                                                                                                                                                                                                                                                                                                                                                                                                                                                                                                                                                                                                                                                                                                                                                                                                                                                                                                                                                                                                                                                                                                                                                                                                                                                                                                                                                                                                                                                                                                                                                                                                                                                         i can not say much about this product, i tried it twice, it seemed like it kind of cleaned the strings but i really did not notice any great change, the strings did not sound betteer or brighter, now it sits in my drawer and collects dust, maybe i will try it again at some point but   \n",
       "8594                                                                                                                                                                                                                                                                                                                                                                                                                                                                                                                                                                                                                                                                                                                                                                                                                                                                                                                                                                                                                                                                                                                                                                                                                                                                                                                                                                                                                                                                                                                                                                                                                                                                                                                                                                                                                                                                                                                                                                                                                                                                                                                                                                                                                                                                                                                                                                                                                                                                                                                                                                                                                                                                                                                                                                                                                                                                                                                                                                                                                                                                                                                                                                                                                                           i honestly do not see the purpose, it does not seem to have improved my experience with my strings on my guitar, i have used it a few times but do not see the benefit edit after coming back to read the other reviews it has it is obvious what happened this was shipped to me completely dry, there was no grease lubricant qualities, it was like a dry erase pad, they need to improve their quality control, i am changing my rating from star to star, they have to find a way to fully secure this gap or maybe consider enhanced vacuum sealing packaging i would suggest if you receive this product and it has not dried out yet to place this product in a air tight ziplock bag to reduce the likelihood of this drying out   \n",
       "8620                                                                                                                                                                                                                                                                                                                                                                                                                                                                                                                                                                                                                                                                                                                                                                                                                                                                                                                                                                                                                                                                                                                                                                                                                                                                                                                                                                                                                                                                                                                                                                                                                                                                                                                                                                                                                                                                                                                                                                                                                                                                                                                                                                                                                                                                                                                                                                                                                                                                                                                                                                                                                                                                                                                                                                                                                                                                                                                                                                                                                                                                                                                                                                                                                                                                                                                                                                                                                                                                                                                                                                                                                                       the cable arrived on time and the it looked nice for ten minutes, i don t like how the tips screw on and off and the fabric shielding slid out of place the first time i used it, the cable worked well for about two weeks but then it lost current in the middle of a session and i lost sound, this cable is complete garbage, never again   \n",
       "8631  i purchased this amp locally and initially i thought it was pretty cool as it was my first modeling amp lots of potential for a limitless variety of sounds, this was my first fender amp as well the presets were neat and all but when i played around with some of the standard models just the amp model no effects just to see how it has it is clean sound was the amp just hissed as if i had the volume cranked with a distortion pedal engaged at max, the master volume was at and no effects were turned on i have never heard a clean channel with so much noise behind it even when there was no guitar plugged in all i could hear while playing was the underlying hiss coming through the notes very distracting and it drove me nuts, this is not a ground loop issue my other amps sound just fine at bedroom volumes and beyond it has it is clearly a defect with this product, dirty pre sets with lots of gain and extra volume sound even worse again even when nothing is plugged in and at low master volume, you d think i was running a few super high gain stomp boxes with a red hot single coil but nothing was plugged in and all i get is staticy hiss at low levels, wtf the next issue is the weird fizz sound that was especially noticeable on the low e after striking a string instead of a clean note there has there is a weird fizzy digital artifact like sound that surrounds the note and fades as the string stops moving, it almost sounds like cymbals crashing on a poorly authored mp file at a low bit rate and frequency, whole chords break down and decay in this fizzy envelope and really makes this thing unplayable the weird thing is neither one of these problems arose with head phones plugged in or when this was connected to my computed via either usb or the line in but i am not going to be stuck playing a watt amp through my pc or cans, i got the iii instead of the ii because of the power behind it and the touted celestion speaker read the many reviews online or forum posts on many of the guitar amp related websites there has there is a page forum post on the fender support site that is quite interesting and you shall you will find that these amps are having issues, apparently the mustang i and ii do not have these issues and the firmware update did nothing to correct my amp, is this a hardware issue software issue speaker issue, there is speculation that the lcd screen which is not present on the i or ii may be causing problems but no one seems to know for sure and fender does not seem to care definitely try this before you buy it, you may get an amp that does not have these problems you may not notice the sounds or you may not even care let your ears tell you what sounds good this amp has a lot of potential for great sounds and it would have been nice to have faithful modeling of some great vintage amps but in my opinion technical issues have made this amp sound like complete garbage, i am disappointed that fender has not yet correct what ever is wrong some folks claim that fender reps say that know what is wrong but i am not taking that as a fact but they have acknowledged that there is something wrong whatever i took this back after a few days of playing with it trying to eliminate the junk sounds without success the built in noise gate helps a little but sucks tone and i picked up a watt marshall instead, guess what, the clean channel has zero hum or buzz even when cranked, how about that, even when i engage a dirt box on one of the dirty channels there is minimal noise i shall i will knock fender for not correcting this issue regardless of what it is and what caused it but they do have some other nice amps that i had i would like to try, but before i buy another fender amp i shall i will take it for a test drive and i suggest you do the same before picking up one of these turds   \n",
       "8661                                                                                                                                                                                                                                                                                                                                                                                                                                                                                                                                                                                                                                                                                                                                                                                                                                                                                                                                                                                                                                                                                                                                                                                                                                                                                                                                                                                                                                                                                                                                                                                                                                                                                                                                                                                                                                                                                                                                                                                                                                                                                                                                                                                                                                                                                                                                                                                                                                                                                                                                                                                                                                                                                                                                                                                                                                                                                                                                                                                                                                                                                                                                                                                                                                                                                                                                                                                                                                                                                                                                                                                                                                                                                                                                                      tc is very overrated many pedals i have out performs this in my opinion, the vintage bbds mxr vintage delay morley s echo for example just take it, but for newer pedals i liked the mxr carbon copy and ibanex de much better   \n",
       "8687                                                                                                                                                                                                                                                                                                                                                                                                                                                                                                                                                                                                                                                                                                                                                                                                                                                                                                                                                                                                                                                                                                                                                                                                                                                                                                                                                                                                                                                                                                                                                                                                                                                                                                                                                                                                                                                                                                                                                                                                                                                                                                                                                                                                                                                                                                                                                                                                                                                                                                                                                                                                                                                                                                                                                                                                                                                                                                                                                                                                                                                                                                                                                                                                                                                                                                                                                                                                                                                                                                                                                                                                                                                                                                                                                                                  it is ok as long as you do not bump your guitar else boom it hits the floor, i do not trust it and amazon has it way over priced, it will work if you put a nail in it to hold the holder in place   \n",
       "\n",
       "      overall  rating               SentimentModel  \n",
       "7735      1.0       0  [-0.44696969696969685, 0.0]  \n",
       "7736      1.0       0                 [-1.15, 0.0]  \n",
       "7750      1.0       0   [0.44375000000000003, 1.0]  \n",
       "7850      1.0       0               [-0.3375, 0.0]  \n",
       "7911      1.0       0                   [1.2, 1.0]  \n",
       "7992      2.0       0   [0.17604166666666665, 1.0]  \n",
       "7996      1.0       0   [-1.2395833333333333, 0.0]  \n",
       "8007      1.0       0   [-0.6583333333333333, 0.0]  \n",
       "8010      2.0       0  [-0.20833333333333337, 0.0]  \n",
       "8036      2.0       0                 [1.125, 1.0]  \n",
       "8070      2.0       0    [1.1765151515151513, 1.0]  \n",
       "8076      2.0       0    [1.7889814814814813, 1.0]  \n",
       "8077      1.0       0   [-0.7416666666666666, 0.0]  \n",
       "8091      2.0       0    [0.3857954545454545, 1.0]  \n",
       "8097      2.0       0    [2.4253333333333336, 1.0]  \n",
       "8103      2.0       0   [0.21428571428571427, 1.0]  \n",
       "8136      1.0       0  [-0.03749999999999998, 0.0]  \n",
       "8142      1.0       0   [-0.0077380952380951, 0.0]  \n",
       "8147      1.0       0   [-0.8500000000000002, 0.0]  \n",
       "8172      2.0       0                  [0.55, 1.0]  \n",
       "8225      1.0       0                [0.6725, 1.0]  \n",
       "8263      1.0       0                 [0.375, 1.0]  \n",
       "8332      2.0       0    [0.8416666666666667, 1.0]  \n",
       "8343      2.0       0                  [0.35, 1.0]  \n",
       "8408      1.0       0    [0.6100000000000001, 1.0]  \n",
       "8410      2.0       0    [1.2694444444444444, 1.0]  \n",
       "8415      2.0       0    [1.6479166666666663, 1.0]  \n",
       "8453      2.0       0    [1.3250000000000002, 1.0]  \n",
       "8493      1.0       0    [2.4594543650793654, 1.0]  \n",
       "8516      2.0       0    [0.5357142857142857, 1.0]  \n",
       "8517      2.0       0                  [0.37, 1.0]  \n",
       "8518      1.0       0   [-0.2586038961038961, 0.0]  \n",
       "8520      1.0       0  [-0.22499999999999998, 0.0]  \n",
       "8553      1.0       0    [-0.796474358974359, 0.0]  \n",
       "8555      1.0       0                  [1.15, 1.0]  \n",
       "8560      2.0       0                  [0.45, 1.0]  \n",
       "8588      2.0       0    [0.5333333333333334, 1.0]  \n",
       "8594      1.0       0  [-0.36672619047619043, 0.0]  \n",
       "8620      1.0       0    [0.7833333333333333, 1.0]  \n",
       "8631      1.0       0    [1.1958998144712432, 1.0]  \n",
       "8661      2.0       0                   [0.9, 1.0]  \n",
       "8687      2.0       0                 [0.225, 1.0]  "
      ]
     },
     "execution_count": 1108,
     "metadata": {},
     "output_type": "execute_result"
    }
   ],
   "source": [
    "reviewTextProcessing.loc[list(incorrect + 7695), ['CleanedJoin', 'overall', 'rating', 'SentimentModel']]"
   ]
  },
  {
   "cell_type": "code",
   "execution_count": 1,
   "metadata": {},
   "outputs": [
    {
     "name": "stdout",
     "output_type": "stream",
     "text": [
      "Collecting textblob\n",
      "  Downloading https://files.pythonhosted.org/packages/60/f0/1d9bfcc8ee6b83472ec571406bd0dd51c0e6330ff1a51b2d29861d389e85/textblob-0.15.3-py2.py3-none-any.whl (636kB)\n",
      "Requirement already satisfied: nltk>=3.1 in c:\\study\\anaconda3v2\\lib\\site-packages (from textblob) (3.4.3)\n",
      "Requirement already satisfied: six in c:\\study\\anaconda3v2\\lib\\site-packages (from nltk>=3.1->textblob) (1.12.0)\n",
      "Installing collected packages: textblob\n",
      "Successfully installed textblob-0.15.3\n"
     ]
    }
   ],
   "source": [
    "!pip install textblob\n"
   ]
  },
  {
   "cell_type": "code",
   "execution_count": 328,
   "metadata": {},
   "outputs": [
    {
     "data": {
      "text/plain": [
       "'cable cable cable not happy not happy not happy not happy disappoint disappoint disappoint disappoint disappoint disappoint disappoint '"
      ]
     },
     "execution_count": 328,
     "metadata": {},
     "output_type": "execute_result"
    }
   ],
   "source": [
    "\n",
    "top_dict = {}\n",
    "#for c in data_dtm.columns:\n",
    "#    top = data_dtm[c].sort_values(ascending=False).head(30)\n",
    "#    top_dict[c]= list(zip(top.index, top.values))\n",
    "\n",
    "top_dict['cable'] = 3\n",
    "top_dict['not happy'] = 4\n",
    "top_dict['disappoint'] = 7\n",
    "\n",
    "regeneration = \"\"\n",
    "\n",
    "for key, value in top_dict.items():\n",
    "    space = ((key) + \" \")\n",
    "    details = (space) * value\n",
    "    regeneration = regeneration + details\n",
    "    \n",
    "review = \" \".join(top_dict.keys())\n",
    "top_dict.values()\n",
    "regeneration\n",
    "\n"
   ]
  },
  {
   "cell_type": "code",
   "execution_count": 271,
   "metadata": {},
   "outputs": [],
   "source": [
    "from wordcloud import WordCloud\n",
    "\n",
    "#stopwords=stopWords,\n",
    "wc = WordCloud(background_color=\"white\", colormap=\"Dark2\",\n",
    "               max_font_size=150, random_state=42)"
   ]
  },
  {
   "cell_type": "code",
   "execution_count": 10,
   "metadata": {},
   "outputs": [
    {
     "data": {
      "text/plain": [
       "'!\"#$%&\\'()*+,-./:;<=>?@[\\\\]^_`{|}~'"
      ]
     },
     "execution_count": 10,
     "metadata": {},
     "output_type": "execute_result"
    }
   ],
   "source": [
    "import string\n",
    "string.punctuation"
   ]
  },
  {
   "cell_type": "code",
   "execution_count": 413,
   "metadata": {},
   "outputs": [],
   "source": [
    "#handling money\n",
    "#>>> a = re.findall(r\"\\$\\d+.\\d+\", text2)"
   ]
  },
  {
   "cell_type": "code",
   "execution_count": 236,
   "metadata": {},
   "outputs": [],
   "source": [
    "#numeric and fraction handling\n",
    "#domain specific if applies to tool/measurement?\n",
    "pattern = re.compile(r'^\\d+/\\d+$')\n",
    "\n",
    "def evaluateFraction(data, pattern=pattern):\n",
    "    try:\n",
    "        re.match(pattern, data)\n",
    "        return eval(data)  \n",
    "    except:\n",
    "        print(f\"Not fraction related input {data}\")\n",
    "        return False      "
   ]
  },
  {
   "cell_type": "code",
   "execution_count": 417,
   "metadata": {},
   "outputs": [
    {
     "name": "stdout",
     "output_type": "stream",
     "text": [
      "0.5\n",
      "zero point five\n"
     ]
    }
   ],
   "source": [
    "p = inflect.engine() \n",
    "\n",
    "isNum = evaluateFraction('1/2')\n",
    "print(isNum)\n",
    "if not (isNum == False):\n",
    "    print(p.number_to_words(isNum))"
   ]
  },
  {
   "cell_type": "code",
   "execution_count": 293,
   "metadata": {},
   "outputs": [],
   "source": [
    "productsReviewData['cleanedText'] = productsReviewData['reviewText'].astype(str)\n",
    "productsReviewData['cleanedText'] = productsReviewData['cleanedText'].str.lower()\n",
    "\n",
    "df = productsReviewData"
   ]
  },
  {
   "cell_type": "code",
   "execution_count": 266,
   "metadata": {},
   "outputs": [],
   "source": [
    "pd.options.display.max_colwidth = 5000\n",
    "\n",
    "#productsReviewData.cleanedText.head(2)"
   ]
  },
  {
   "cell_type": "code",
   "execution_count": 121,
   "metadata": {},
   "outputs": [],
   "source": [
    "sampleData = productsReviewData"
   ]
  },
  {
   "cell_type": "code",
   "execution_count": 416,
   "metadata": {},
   "outputs": [
    {
     "data": {
      "text/plain": [
       "107"
      ]
     },
     "execution_count": 416,
     "metadata": {},
     "output_type": "execute_result"
    }
   ],
   "source": [
    "productsReviewData.asin.nunique()"
   ]
  },
  {
   "cell_type": "code",
   "execution_count": 122,
   "metadata": {},
   "outputs": [
    {
     "name": "stdout",
     "output_type": "stream",
     "text": [
      "104800001X\n",
      "B00LA96GLC\n"
     ]
    }
   ],
   "source": [
    "print(sampleData.asin.min())\n",
    "print(sampleData.asin.max())"
   ]
  },
  {
   "cell_type": "code",
   "execution_count": 199,
   "metadata": {},
   "outputs": [],
   "source": [
    "#pd.DataFrame(sampleData.groupby('asin')[['reviewerID'], ['helpful']])"
   ]
  },
  {
   "cell_type": "code",
   "execution_count": null,
   "metadata": {},
   "outputs": [],
   "source": []
  }
 ],
 "metadata": {
  "kernelspec": {
   "display_name": "Python 3",
   "language": "python",
   "name": "python3"
  },
  "language_info": {
   "codemirror_mode": {
    "name": "ipython",
    "version": 3
   },
   "file_extension": ".py",
   "mimetype": "text/x-python",
   "name": "python",
   "nbconvert_exporter": "python",
   "pygments_lexer": "ipython3",
   "version": "3.7.3"
  }
 },
 "nbformat": 4,
 "nbformat_minor": 2
}
