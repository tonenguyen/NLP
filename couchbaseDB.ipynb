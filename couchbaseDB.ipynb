{
 "cells": [
  {
   "cell_type": "code",
   "execution_count": 2,
   "metadata": {},
   "outputs": [
    {
     "name": "stdout",
     "output_type": "stream",
     "text": [
      "Collecting couchbase\n",
      "  Using cached https://files.pythonhosted.org/packages/7c/77/69443daa3f767e5d500a18532a63a90f70ce2a641efd14ff4ec91284c3e6/couchbase-2.5.9.tar.gz\n",
      "Building wheels for collected packages: couchbase\n",
      "  Building wheel for couchbase (setup.py) ... \u001b[?25ldone\n",
      "\u001b[?25h  Created wheel for couchbase: filename=couchbase-2.5.9-cp37-cp37m-linux_x86_64.whl size=696096 sha256=df6a24d9e0e35c06a33abf88bb55d9ea027fdbdcf1e9c01c9d8d2af3522ede93\n",
      "  Stored in directory: /home/toan/.cache/pip/wheels/8a/bc/9e/0627ea87aab740351066b10bc94ceccfe58b59c6c7658c2b51\n",
      "Successfully built couchbase\n",
      "Installing collected packages: couchbase\n",
      "Successfully installed couchbase-2.5.9\n",
      "\u001b[33mWARNING: You are using pip version 19.2.3, however version 19.3.1 is available.\n",
      "You should consider upgrading via the 'pip install --upgrade pip' command.\u001b[0m\n",
      "Note: you may need to restart the kernel to use updated packages.\n"
     ]
    }
   ],
   "source": [
    "#pip install couchbase"
   ]
  },
  {
   "cell_type": "code",
   "execution_count": 16,
   "metadata": {},
   "outputs": [],
   "source": [
    "from couchbase.cluster import Cluster\n",
    "from couchbase.cluster import PasswordAuthenticator\n",
    "import CBkeys"
   ]
  },
  {
   "cell_type": "code",
   "execution_count": 18,
   "metadata": {},
   "outputs": [],
   "source": [
    "cb_host = CBkeys.cbHost\n",
    "username = CBkeys.userName\n",
    "password = CBkeys.userPass"
   ]
  },
  {
   "cell_type": "code",
   "execution_count": 19,
   "metadata": {},
   "outputs": [],
   "source": [
    "cluster = Cluster('couchbase://'+cb_host)\n",
    "authenticator = PasswordAuthenticator(username, password)\n",
    "cluster.authenticate(authenticator)"
   ]
  },
  {
   "cell_type": "code",
   "execution_count": 20,
   "metadata": {},
   "outputs": [],
   "source": [
    "bucketNLP = \"AmazonProducts\""
   ]
  },
  {
   "cell_type": "code",
   "execution_count": 22,
   "metadata": {},
   "outputs": [],
   "source": [
    "cluster.open_bucket(bucketNLP);"
   ]
  },
  {
   "cell_type": "code",
   "execution_count": null,
   "metadata": {},
   "outputs": [],
   "source": []
  }
 ],
 "metadata": {
  "kernelspec": {
   "display_name": "Python 3",
   "language": "python",
   "name": "python3"
  },
  "language_info": {
   "codemirror_mode": {
    "name": "ipython",
    "version": 3
   },
   "file_extension": ".py",
   "mimetype": "text/x-python",
   "name": "python",
   "nbconvert_exporter": "python",
   "pygments_lexer": "ipython3",
   "version": "3.7.3"
  }
 },
 "nbformat": 4,
 "nbformat_minor": 2
}
