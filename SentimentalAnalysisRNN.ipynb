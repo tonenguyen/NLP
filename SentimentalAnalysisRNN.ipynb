{
 "cells": [
  {
   "cell_type": "code",
   "execution_count": 1,
   "metadata": {},
   "outputs": [],
   "source": [
    "#Import libraries\n",
    "\n",
    "import gzip #for parsing gz files\n",
    "import pandas as pd\n",
    "import re \n",
    "#import inflect #numeric/cardinal"
   ]
  },
  {
   "cell_type": "code",
   "execution_count": 143,
   "metadata": {},
   "outputs": [],
   "source": [
    "dirPath = r\"C:\\Study\\Projects\\NLP\\data\"\n",
    "reviewPath = r\"reviews_Tools_and_Home_Improvement_5.json.gz\"\n",
    "#reviewPath = r\"reviews_Musical_Instruments_5.json.gz\"\n",
    "qaPath = r\"C:\\Study\\Projects\\NLP\\data\" \n",
    "path = dirPath + \"\\\\\" + reviewPath"
   ]
  },
  {
   "cell_type": "code",
   "execution_count": 144,
   "metadata": {},
   "outputs": [],
   "source": [
    "dataFile = gzip.open(path, 'r')"
   ]
  },
  {
   "cell_type": "code",
   "execution_count": 145,
   "metadata": {},
   "outputs": [],
   "source": [
    "# Need this function because large amount of data we are going to load up\n",
    "\n",
    "# http://jmcauley.ucsd.edu/data/amazon/index.html\n",
    "# eval function allows text to be parsed as python code\n",
    "# parse function is a generator with yield\n",
    "# yield when we want to iterate over a sequence, but don't want to store the entire sequence in memory\n",
    "def parse(dataFile):\n",
    "    for each in dataFile:\n",
    "        yield eval(each)"
   ]
  },
  {
   "cell_type": "code",
   "execution_count": 146,
   "metadata": {},
   "outputs": [],
   "source": [
    "# for each review for a product in dataFile maps dict[nth] = review (nth)\n",
    "# enumerate can't be used on a generator\n",
    "count = 0\n",
    "productReviews = {}\n",
    "for eachReview in parse(dataFile):\n",
    "    productReviews[count] = eachReview\n",
    "    count = count + 1\n"
   ]
  },
  {
   "cell_type": "code",
   "execution_count": 152,
   "metadata": {},
   "outputs": [
    {
     "data": {
      "text/plain": [
       "134476"
      ]
     },
     "execution_count": 152,
     "metadata": {},
     "output_type": "execute_result"
    }
   ],
   "source": [
    "len(productReviews)"
   ]
  },
  {
   "cell_type": "code",
   "execution_count": 153,
   "metadata": {},
   "outputs": [],
   "source": [
    "productsReviewData = pd.DataFrame.from_dict(productReviews, orient='index')"
   ]
  },
  {
   "cell_type": "code",
   "execution_count": 154,
   "metadata": {},
   "outputs": [
    {
     "data": {
      "text/plain": [
       "Index(['reviewerID', 'asin', 'reviewerName', 'helpful', 'reviewText',\n",
       "       'overall', 'summary', 'unixReviewTime', 'reviewTime'],\n",
       "      dtype='object')"
      ]
     },
     "execution_count": 154,
     "metadata": {},
     "output_type": "execute_result"
    }
   ],
   "source": [
    "productsReviewData.shape\n",
    "productsReviewData.columns"
   ]
  },
  {
   "cell_type": "code",
   "execution_count": 158,
   "metadata": {},
   "outputs": [],
   "source": [
    "reduceData = productsReviewData.loc[:, ['asin', 'reviewerName', 'reviewText', 'helpful', 'overall']]\n",
    "\n",
    "\n"
   ]
  },
  {
   "cell_type": "code",
   "execution_count": 159,
   "metadata": {},
   "outputs": [],
   "source": [
    "rating = lambda x: 1 if x > 1.0 else 0"
   ]
  },
  {
   "cell_type": "code",
   "execution_count": 160,
   "metadata": {},
   "outputs": [
    {
     "data": {
      "text/html": [
       "<div>\n",
       "<style scoped>\n",
       "    .dataframe tbody tr th:only-of-type {\n",
       "        vertical-align: middle;\n",
       "    }\n",
       "\n",
       "    .dataframe tbody tr th {\n",
       "        vertical-align: top;\n",
       "    }\n",
       "\n",
       "    .dataframe thead th {\n",
       "        text-align: right;\n",
       "    }\n",
       "</style>\n",
       "<table border=\"1\" class=\"dataframe\">\n",
       "  <thead>\n",
       "    <tr style=\"text-align: right;\">\n",
       "      <th></th>\n",
       "      <th>reviewText</th>\n",
       "      <th>helpful</th>\n",
       "      <th>overall</th>\n",
       "      <th>rating</th>\n",
       "    </tr>\n",
       "  </thead>\n",
       "  <tbody>\n",
       "    <tr>\n",
       "      <th>56</th>\n",
       "      <td>These burn out really fast.  I buy them becaus...</td>\n",
       "      <td>[0, 0]</td>\n",
       "      <td>1.0</td>\n",
       "      <td>0</td>\n",
       "    </tr>\n",
       "    <tr>\n",
       "      <th>85276</th>\n",
       "      <td>My unit is supplying 12.2 - 12.3 VAC to the bu...</td>\n",
       "      <td>[3, 4]</td>\n",
       "      <td>1.0</td>\n",
       "      <td>0</td>\n",
       "    </tr>\n",
       "    <tr>\n",
       "      <th>85261</th>\n",
       "      <td>This product does not work out of the box. I i...</td>\n",
       "      <td>[0, 0]</td>\n",
       "      <td>1.0</td>\n",
       "      <td>0</td>\n",
       "    </tr>\n",
       "    <tr>\n",
       "      <th>85256</th>\n",
       "      <td>sadly i was not able to make this work  - the ...</td>\n",
       "      <td>[3, 3]</td>\n",
       "      <td>1.0</td>\n",
       "      <td>0</td>\n",
       "    </tr>\n",
       "    <tr>\n",
       "      <th>85254</th>\n",
       "      <td>I purchased this for my DeWalt dw715 miter saw...</td>\n",
       "      <td>[3, 5]</td>\n",
       "      <td>1.0</td>\n",
       "      <td>0</td>\n",
       "    </tr>\n",
       "    <tr>\n",
       "      <th>85251</th>\n",
       "      <td>After being advertised as working with the Bos...</td>\n",
       "      <td>[2, 3]</td>\n",
       "      <td>1.0</td>\n",
       "      <td>0</td>\n",
       "    </tr>\n",
       "    <tr>\n",
       "      <th>85239</th>\n",
       "      <td>Does not fit the Dewalt DW717 Mitre Saw! I cou...</td>\n",
       "      <td>[1, 2]</td>\n",
       "      <td>1.0</td>\n",
       "      <td>0</td>\n",
       "    </tr>\n",
       "    <tr>\n",
       "      <th>85234</th>\n",
       "      <td>It might work on other brands, but not on a De...</td>\n",
       "      <td>[6, 11]</td>\n",
       "      <td>1.0</td>\n",
       "      <td>0</td>\n",
       "    </tr>\n",
       "    <tr>\n",
       "      <th>85297</th>\n",
       "      <td>I bought this months ago but was unable to ins...</td>\n",
       "      <td>[1, 2]</td>\n",
       "      <td>1.0</td>\n",
       "      <td>0</td>\n",
       "    </tr>\n",
       "    <tr>\n",
       "      <th>85230</th>\n",
       "      <td>I tried everything to get this to work but it ...</td>\n",
       "      <td>[0, 0]</td>\n",
       "      <td>1.0</td>\n",
       "      <td>0</td>\n",
       "    </tr>\n",
       "    <tr>\n",
       "      <th>85135</th>\n",
       "      <td>First the connector piece was too narrow, so I...</td>\n",
       "      <td>[1, 3]</td>\n",
       "      <td>1.0</td>\n",
       "      <td>0</td>\n",
       "    </tr>\n",
       "    <tr>\n",
       "      <th>85131</th>\n",
       "      <td>Very cheaply made. It works but the piece that...</td>\n",
       "      <td>[0, 0]</td>\n",
       "      <td>1.0</td>\n",
       "      <td>0</td>\n",
       "    </tr>\n",
       "    <tr>\n",
       "      <th>85120</th>\n",
       "      <td>I am a fit but petite do it yourself woman. I ...</td>\n",
       "      <td>[3, 5]</td>\n",
       "      <td>1.0</td>\n",
       "      <td>0</td>\n",
       "    </tr>\n",
       "    <tr>\n",
       "      <th>85110</th>\n",
       "      <td>I read that it has great reviews and that's wh...</td>\n",
       "      <td>[0, 1]</td>\n",
       "      <td>1.0</td>\n",
       "      <td>0</td>\n",
       "    </tr>\n",
       "    <tr>\n",
       "      <th>85088</th>\n",
       "      <td>This product would be a lot better if the batt...</td>\n",
       "      <td>[0, 1]</td>\n",
       "      <td>1.0</td>\n",
       "      <td>0</td>\n",
       "    </tr>\n",
       "    <tr>\n",
       "      <th>85027</th>\n",
       "      <td>I had two of these i purchased back in May, 20...</td>\n",
       "      <td>[0, 0]</td>\n",
       "      <td>1.0</td>\n",
       "      <td>0</td>\n",
       "    </tr>\n",
       "    <tr>\n",
       "      <th>85024</th>\n",
       "      <td>These are quite bright... but not weatherproof...</td>\n",
       "      <td>[0, 0]</td>\n",
       "      <td>1.0</td>\n",
       "      <td>0</td>\n",
       "    </tr>\n",
       "    <tr>\n",
       "      <th>85205</th>\n",
       "      <td>Like most pretty girls, this heater gives you ...</td>\n",
       "      <td>[1, 9]</td>\n",
       "      <td>1.0</td>\n",
       "      <td>0</td>\n",
       "    </tr>\n",
       "    <tr>\n",
       "      <th>85022</th>\n",
       "      <td>i mounted to a tree and it works great. very b...</td>\n",
       "      <td>[0, 0]</td>\n",
       "      <td>1.0</td>\n",
       "      <td>0</td>\n",
       "    </tr>\n",
       "    <tr>\n",
       "      <th>85307</th>\n",
       "      <td>Amazon gave me credit for these although I had...</td>\n",
       "      <td>[0, 0]</td>\n",
       "      <td>1.0</td>\n",
       "      <td>0</td>\n",
       "    </tr>\n",
       "    <tr>\n",
       "      <th>85361</th>\n",
       "      <td>I've had two of these helmets for a few years ...</td>\n",
       "      <td>[1, 1]</td>\n",
       "      <td>1.0</td>\n",
       "      <td>0</td>\n",
       "    </tr>\n",
       "    <tr>\n",
       "      <th>86221</th>\n",
       "      <td>This worked pretty well for a while although t...</td>\n",
       "      <td>[5, 5]</td>\n",
       "      <td>1.0</td>\n",
       "      <td>0</td>\n",
       "    </tr>\n",
       "    <tr>\n",
       "      <th>86190</th>\n",
       "      <td>I've owned four of these saws, and so far, the...</td>\n",
       "      <td>[11, 14]</td>\n",
       "      <td>1.0</td>\n",
       "      <td>0</td>\n",
       "    </tr>\n",
       "    <tr>\n",
       "      <th>86145</th>\n",
       "      <td>I got this saw about 2 days ago and I will be ...</td>\n",
       "      <td>[9, 26]</td>\n",
       "      <td>1.0</td>\n",
       "      <td>0</td>\n",
       "    </tr>\n",
       "    <tr>\n",
       "      <th>86015</th>\n",
       "      <td>sorry but I did not like these. they are too f...</td>\n",
       "      <td>[0, 0]</td>\n",
       "      <td>1.0</td>\n",
       "      <td>0</td>\n",
       "    </tr>\n",
       "    <tr>\n",
       "      <th>85979</th>\n",
       "      <td>Don't buy.  There is a review talking about ho...</td>\n",
       "      <td>[0, 0]</td>\n",
       "      <td>1.0</td>\n",
       "      <td>0</td>\n",
       "    </tr>\n",
       "    <tr>\n",
       "      <th>85953</th>\n",
       "      <td>I bought one of these 4 years ago and it laste...</td>\n",
       "      <td>[13, 16]</td>\n",
       "      <td>1.0</td>\n",
       "      <td>0</td>\n",
       "    </tr>\n",
       "    <tr>\n",
       "      <th>85872</th>\n",
       "      <td>I just placed into retirement the first genera...</td>\n",
       "      <td>[10, 12]</td>\n",
       "      <td>1.0</td>\n",
       "      <td>0</td>\n",
       "    </tr>\n",
       "    <tr>\n",
       "      <th>85339</th>\n",
       "      <td>I truly love this tool. I use it all the time....</td>\n",
       "      <td>[12, 12]</td>\n",
       "      <td>1.0</td>\n",
       "      <td>0</td>\n",
       "    </tr>\n",
       "    <tr>\n",
       "      <th>85833</th>\n",
       "      <td>The thermostat was simple to install and very ...</td>\n",
       "      <td>[0, 3]</td>\n",
       "      <td>1.0</td>\n",
       "      <td>0</td>\n",
       "    </tr>\n",
       "    <tr>\n",
       "      <th>...</th>\n",
       "      <td>...</td>\n",
       "      <td>...</td>\n",
       "      <td>...</td>\n",
       "      <td>...</td>\n",
       "    </tr>\n",
       "    <tr>\n",
       "      <th>42235</th>\n",
       "      <td>I will let the other reviewers tell about it's...</td>\n",
       "      <td>[21, 22]</td>\n",
       "      <td>1.0</td>\n",
       "      <td>0</td>\n",
       "    </tr>\n",
       "    <tr>\n",
       "      <th>42233</th>\n",
       "      <td>May be I got a defective product? Not sure why...</td>\n",
       "      <td>[1, 1]</td>\n",
       "      <td>1.0</td>\n",
       "      <td>0</td>\n",
       "    </tr>\n",
       "    <tr>\n",
       "      <th>42185</th>\n",
       "      <td>Am sending back.  Didn't even work once... Fli...</td>\n",
       "      <td>[0, 0]</td>\n",
       "      <td>1.0</td>\n",
       "      <td>0</td>\n",
       "    </tr>\n",
       "    <tr>\n",
       "      <th>42072</th>\n",
       "      <td>Purchased 8 of these. 3 have failed in 4 years...</td>\n",
       "      <td>[3, 3]</td>\n",
       "      <td>1.0</td>\n",
       "      <td>0</td>\n",
       "    </tr>\n",
       "    <tr>\n",
       "      <th>42030</th>\n",
       "      <td>Just failed an inspection by the fire chief be...</td>\n",
       "      <td>[16, 18]</td>\n",
       "      <td>1.0</td>\n",
       "      <td>0</td>\n",
       "    </tr>\n",
       "    <tr>\n",
       "      <th>42021</th>\n",
       "      <td>I have two of these alarms in my house.  After...</td>\n",
       "      <td>[3, 3]</td>\n",
       "      <td>1.0</td>\n",
       "      <td>0</td>\n",
       "    </tr>\n",
       "    <tr>\n",
       "      <th>42013</th>\n",
       "      <td>Avoid BRK / First Alert products.I'm tried sev...</td>\n",
       "      <td>[6, 6]</td>\n",
       "      <td>1.0</td>\n",
       "      <td>0</td>\n",
       "    </tr>\n",
       "    <tr>\n",
       "      <th>42253</th>\n",
       "      <td>Probably, I was unlucky with it, but when I st...</td>\n",
       "      <td>[0, 0]</td>\n",
       "      <td>1.0</td>\n",
       "      <td>0</td>\n",
       "    </tr>\n",
       "    <tr>\n",
       "      <th>42478</th>\n",
       "      <td>I bought this for an old Dremel tool that does...</td>\n",
       "      <td>[0, 0]</td>\n",
       "      <td>1.0</td>\n",
       "      <td>0</td>\n",
       "    </tr>\n",
       "    <tr>\n",
       "      <th>42486</th>\n",
       "      <td>The problem with the product is the mechanism ...</td>\n",
       "      <td>[1, 1]</td>\n",
       "      <td>1.0</td>\n",
       "      <td>0</td>\n",
       "    </tr>\n",
       "    <tr>\n",
       "      <th>42505</th>\n",
       "      <td>Another reviewer stated his fingers were slice...</td>\n",
       "      <td>[3, 11]</td>\n",
       "      <td>1.0</td>\n",
       "      <td>0</td>\n",
       "    </tr>\n",
       "    <tr>\n",
       "      <th>42967</th>\n",
       "      <td>I know this box is cheap, but it still is not ...</td>\n",
       "      <td>[1, 1]</td>\n",
       "      <td>1.0</td>\n",
       "      <td>0</td>\n",
       "    </tr>\n",
       "    <tr>\n",
       "      <th>42905</th>\n",
       "      <td>Normally I won't skimp on tools but since I'm ...</td>\n",
       "      <td>[26, 32]</td>\n",
       "      <td>1.0</td>\n",
       "      <td>0</td>\n",
       "    </tr>\n",
       "    <tr>\n",
       "      <th>42901</th>\n",
       "      <td>Got this compressor as a Christmas present.  R...</td>\n",
       "      <td>[25, 26]</td>\n",
       "      <td>1.0</td>\n",
       "      <td>0</td>\n",
       "    </tr>\n",
       "    <tr>\n",
       "      <th>42898</th>\n",
       "      <td>I own this. Do not buy this, it is a toy. Used...</td>\n",
       "      <td>[12, 15]</td>\n",
       "      <td>1.0</td>\n",
       "      <td>0</td>\n",
       "    </tr>\n",
       "    <tr>\n",
       "      <th>42868</th>\n",
       "      <td>Owned this unit for about an hour before retur...</td>\n",
       "      <td>[4, 4]</td>\n",
       "      <td>1.0</td>\n",
       "      <td>0</td>\n",
       "    </tr>\n",
       "    <tr>\n",
       "      <th>42866</th>\n",
       "      <td>Bought this compressor a few years ago.  I'm a...</td>\n",
       "      <td>[32, 39]</td>\n",
       "      <td>1.0</td>\n",
       "      <td>0</td>\n",
       "    </tr>\n",
       "    <tr>\n",
       "      <th>42841</th>\n",
       "      <td>Had mine for about 1 year, regulator stopped w...</td>\n",
       "      <td>[13, 17]</td>\n",
       "      <td>1.0</td>\n",
       "      <td>0</td>\n",
       "    </tr>\n",
       "    <tr>\n",
       "      <th>42836</th>\n",
       "      <td>Before you send back these oil free compressor...</td>\n",
       "      <td>[1, 1]</td>\n",
       "      <td>1.0</td>\n",
       "      <td>0</td>\n",
       "    </tr>\n",
       "    <tr>\n",
       "      <th>42774</th>\n",
       "      <td>Easy to install but watch for false alarms. Wh...</td>\n",
       "      <td>[13, 16]</td>\n",
       "      <td>1.0</td>\n",
       "      <td>0</td>\n",
       "    </tr>\n",
       "    <tr>\n",
       "      <th>42759</th>\n",
       "      <td>Easy to install but watch for false alarms. Wh...</td>\n",
       "      <td>[13, 14]</td>\n",
       "      <td>1.0</td>\n",
       "      <td>0</td>\n",
       "    </tr>\n",
       "    <tr>\n",
       "      <th>42674</th>\n",
       "      <td>A previous reviewer stated that this machine r...</td>\n",
       "      <td>[5, 5]</td>\n",
       "      <td>1.0</td>\n",
       "      <td>0</td>\n",
       "    </tr>\n",
       "    <tr>\n",
       "      <th>42671</th>\n",
       "      <td>I bought this to have handy so I could refinis...</td>\n",
       "      <td>[23, 26]</td>\n",
       "      <td>1.0</td>\n",
       "      <td>0</td>\n",
       "    </tr>\n",
       "    <tr>\n",
       "      <th>42662</th>\n",
       "      <td>UPDATE:  June 2012:  Bought a new set because ...</td>\n",
       "      <td>[68, 69]</td>\n",
       "      <td>1.0</td>\n",
       "      <td>0</td>\n",
       "    </tr>\n",
       "    <tr>\n",
       "      <th>42660</th>\n",
       "      <td>The lock was supposedly preset at 000 but the ...</td>\n",
       "      <td>[0, 0]</td>\n",
       "      <td>1.0</td>\n",
       "      <td>0</td>\n",
       "    </tr>\n",
       "    <tr>\n",
       "      <th>42654</th>\n",
       "      <td>The FTC aught to outlaw selling these to the p...</td>\n",
       "      <td>[1, 1]</td>\n",
       "      <td>1.0</td>\n",
       "      <td>0</td>\n",
       "    </tr>\n",
       "    <tr>\n",
       "      <th>42650</th>\n",
       "      <td>After a few minutes of use the disc that is ho...</td>\n",
       "      <td>[7, 8]</td>\n",
       "      <td>1.0</td>\n",
       "      <td>0</td>\n",
       "    </tr>\n",
       "    <tr>\n",
       "      <th>42637</th>\n",
       "      <td>I begrudgingly purchased these only to find ou...</td>\n",
       "      <td>[0, 0]</td>\n",
       "      <td>1.0</td>\n",
       "      <td>0</td>\n",
       "    </tr>\n",
       "    <tr>\n",
       "      <th>43822</th>\n",
       "      <td>I could not get this thing to work. I tried it...</td>\n",
       "      <td>[1, 1]</td>\n",
       "      <td>1.0</td>\n",
       "      <td>0</td>\n",
       "    </tr>\n",
       "    <tr>\n",
       "      <th>134322</th>\n",
       "      <td>Amazing that they designed this thing without ...</td>\n",
       "      <td>[2, 2]</td>\n",
       "      <td>1.0</td>\n",
       "      <td>0</td>\n",
       "    </tr>\n",
       "  </tbody>\n",
       "</table>\n",
       "<p>5143 rows × 4 columns</p>\n",
       "</div>"
      ],
      "text/plain": [
       "                                               reviewText   helpful  overall  \\\n",
       "56      These burn out really fast.  I buy them becaus...    [0, 0]      1.0   \n",
       "85276   My unit is supplying 12.2 - 12.3 VAC to the bu...    [3, 4]      1.0   \n",
       "85261   This product does not work out of the box. I i...    [0, 0]      1.0   \n",
       "85256   sadly i was not able to make this work  - the ...    [3, 3]      1.0   \n",
       "85254   I purchased this for my DeWalt dw715 miter saw...    [3, 5]      1.0   \n",
       "85251   After being advertised as working with the Bos...    [2, 3]      1.0   \n",
       "85239   Does not fit the Dewalt DW717 Mitre Saw! I cou...    [1, 2]      1.0   \n",
       "85234   It might work on other brands, but not on a De...   [6, 11]      1.0   \n",
       "85297   I bought this months ago but was unable to ins...    [1, 2]      1.0   \n",
       "85230   I tried everything to get this to work but it ...    [0, 0]      1.0   \n",
       "85135   First the connector piece was too narrow, so I...    [1, 3]      1.0   \n",
       "85131   Very cheaply made. It works but the piece that...    [0, 0]      1.0   \n",
       "85120   I am a fit but petite do it yourself woman. I ...    [3, 5]      1.0   \n",
       "85110   I read that it has great reviews and that's wh...    [0, 1]      1.0   \n",
       "85088   This product would be a lot better if the batt...    [0, 1]      1.0   \n",
       "85027   I had two of these i purchased back in May, 20...    [0, 0]      1.0   \n",
       "85024   These are quite bright... but not weatherproof...    [0, 0]      1.0   \n",
       "85205   Like most pretty girls, this heater gives you ...    [1, 9]      1.0   \n",
       "85022   i mounted to a tree and it works great. very b...    [0, 0]      1.0   \n",
       "85307   Amazon gave me credit for these although I had...    [0, 0]      1.0   \n",
       "85361   I've had two of these helmets for a few years ...    [1, 1]      1.0   \n",
       "86221   This worked pretty well for a while although t...    [5, 5]      1.0   \n",
       "86190   I've owned four of these saws, and so far, the...  [11, 14]      1.0   \n",
       "86145   I got this saw about 2 days ago and I will be ...   [9, 26]      1.0   \n",
       "86015   sorry but I did not like these. they are too f...    [0, 0]      1.0   \n",
       "85979   Don't buy.  There is a review talking about ho...    [0, 0]      1.0   \n",
       "85953   I bought one of these 4 years ago and it laste...  [13, 16]      1.0   \n",
       "85872   I just placed into retirement the first genera...  [10, 12]      1.0   \n",
       "85339   I truly love this tool. I use it all the time....  [12, 12]      1.0   \n",
       "85833   The thermostat was simple to install and very ...    [0, 3]      1.0   \n",
       "...                                                   ...       ...      ...   \n",
       "42235   I will let the other reviewers tell about it's...  [21, 22]      1.0   \n",
       "42233   May be I got a defective product? Not sure why...    [1, 1]      1.0   \n",
       "42185   Am sending back.  Didn't even work once... Fli...    [0, 0]      1.0   \n",
       "42072   Purchased 8 of these. 3 have failed in 4 years...    [3, 3]      1.0   \n",
       "42030   Just failed an inspection by the fire chief be...  [16, 18]      1.0   \n",
       "42021   I have two of these alarms in my house.  After...    [3, 3]      1.0   \n",
       "42013   Avoid BRK / First Alert products.I'm tried sev...    [6, 6]      1.0   \n",
       "42253   Probably, I was unlucky with it, but when I st...    [0, 0]      1.0   \n",
       "42478   I bought this for an old Dremel tool that does...    [0, 0]      1.0   \n",
       "42486   The problem with the product is the mechanism ...    [1, 1]      1.0   \n",
       "42505   Another reviewer stated his fingers were slice...   [3, 11]      1.0   \n",
       "42967   I know this box is cheap, but it still is not ...    [1, 1]      1.0   \n",
       "42905   Normally I won't skimp on tools but since I'm ...  [26, 32]      1.0   \n",
       "42901   Got this compressor as a Christmas present.  R...  [25, 26]      1.0   \n",
       "42898   I own this. Do not buy this, it is a toy. Used...  [12, 15]      1.0   \n",
       "42868   Owned this unit for about an hour before retur...    [4, 4]      1.0   \n",
       "42866   Bought this compressor a few years ago.  I'm a...  [32, 39]      1.0   \n",
       "42841   Had mine for about 1 year, regulator stopped w...  [13, 17]      1.0   \n",
       "42836   Before you send back these oil free compressor...    [1, 1]      1.0   \n",
       "42774   Easy to install but watch for false alarms. Wh...  [13, 16]      1.0   \n",
       "42759   Easy to install but watch for false alarms. Wh...  [13, 14]      1.0   \n",
       "42674   A previous reviewer stated that this machine r...    [5, 5]      1.0   \n",
       "42671   I bought this to have handy so I could refinis...  [23, 26]      1.0   \n",
       "42662   UPDATE:  June 2012:  Bought a new set because ...  [68, 69]      1.0   \n",
       "42660   The lock was supposedly preset at 000 but the ...    [0, 0]      1.0   \n",
       "42654   The FTC aught to outlaw selling these to the p...    [1, 1]      1.0   \n",
       "42650   After a few minutes of use the disc that is ho...    [7, 8]      1.0   \n",
       "42637   I begrudgingly purchased these only to find ou...    [0, 0]      1.0   \n",
       "43822   I could not get this thing to work. I tried it...    [1, 1]      1.0   \n",
       "134322  Amazing that they designed this thing without ...    [2, 2]      1.0   \n",
       "\n",
       "        rating  \n",
       "56           0  \n",
       "85276        0  \n",
       "85261        0  \n",
       "85256        0  \n",
       "85254        0  \n",
       "85251        0  \n",
       "85239        0  \n",
       "85234        0  \n",
       "85297        0  \n",
       "85230        0  \n",
       "85135        0  \n",
       "85131        0  \n",
       "85120        0  \n",
       "85110        0  \n",
       "85088        0  \n",
       "85027        0  \n",
       "85024        0  \n",
       "85205        0  \n",
       "85022        0  \n",
       "85307        0  \n",
       "85361        0  \n",
       "86221        0  \n",
       "86190        0  \n",
       "86145        0  \n",
       "86015        0  \n",
       "85979        0  \n",
       "85953        0  \n",
       "85872        0  \n",
       "85339        0  \n",
       "85833        0  \n",
       "...        ...  \n",
       "42235        0  \n",
       "42233        0  \n",
       "42185        0  \n",
       "42072        0  \n",
       "42030        0  \n",
       "42021        0  \n",
       "42013        0  \n",
       "42253        0  \n",
       "42478        0  \n",
       "42486        0  \n",
       "42505        0  \n",
       "42967        0  \n",
       "42905        0  \n",
       "42901        0  \n",
       "42898        0  \n",
       "42868        0  \n",
       "42866        0  \n",
       "42841        0  \n",
       "42836        0  \n",
       "42774        0  \n",
       "42759        0  \n",
       "42674        0  \n",
       "42671        0  \n",
       "42662        0  \n",
       "42660        0  \n",
       "42654        0  \n",
       "42650        0  \n",
       "42637        0  \n",
       "43822        0  \n",
       "134322       0  \n",
       "\n",
       "[5143 rows x 4 columns]"
      ]
     },
     "execution_count": 160,
     "metadata": {},
     "output_type": "execute_result"
    }
   ],
   "source": [
    "reduceData['rating'] = reduceData['overall'].apply(rating)\n",
    "unfavorableReviews = (reduceData.loc[ reduceData['rating'] == 0, \n",
    "                                         ['reviewText', 'helpful', 'overall', 'rating']].sort_values(by='overall'))\n",
    "unfavorableReviews"
   ]
  },
  {
   "cell_type": "code",
   "execution_count": 161,
   "metadata": {},
   "outputs": [],
   "source": [
    "reviewTextProcessing = pd.DataFrame(reduceData.reviewText.copy())"
   ]
  },
  {
   "cell_type": "code",
   "execution_count": 162,
   "metadata": {},
   "outputs": [],
   "source": [
    "reviewTextProcessing['rating'] = reduceData['rating']\n",
    "reviewTextProcessing['overall'] = reduceData['overall']"
   ]
  },
  {
   "cell_type": "code",
   "execution_count": 163,
   "metadata": {},
   "outputs": [
    {
     "data": {
      "text/plain": [
       "(134476, 3)"
      ]
     },
     "execution_count": 163,
     "metadata": {},
     "output_type": "execute_result"
    }
   ],
   "source": [
    "productsReviewData.dtypes\n",
    "len(productsReviewData)\n",
    "# reviewText, rating, overall\n",
    "reviewTextProcessing.shape"
   ]
  },
  {
   "cell_type": "code",
   "execution_count": 151,
   "metadata": {},
   "outputs": [],
   "source": [
    "#reviewTextProcessing.loc[reviewTextProcessing['rating']==0, ['rating', 'overall', 'Processed', 'SentimentModel']].head(2)"
   ]
  },
  {
   "cell_type": "code",
   "execution_count": 78,
   "metadata": {
    "scrolled": true
   },
   "outputs": [],
   "source": [
    "#https://stackoverflow.com/questions/19790188/expanding-english-language-contractions-in-python\n",
    "import Contractions_Words as contractions\n",
    "import importlib\n",
    "importlib.reload(contractions)\n",
    "\n",
    "contractions_dict = contractions.contractions_dict\n",
    "\n",
    "#print(contractions_dict.keys())\n",
    "#print(contractions_dict[\"s***\"])\n",
    "\n",
    "pattern = '%s' % '|'.join(contractions_dict.keys())\n",
    "#pattern = r\"%s\" % pattern\n",
    "#print(pattern)\n",
    "contractions_re = re.compile(pattern)\n",
    "def expand_contractions(s, contractions_dict=contractions_dict):\n",
    "    #edit for special case like s*** etc\n",
    "    s = re.sub(\"\\*\", \"#\", s)\n",
    "    def replace(match):\n",
    "        #print(type(match), match)\n",
    "        return contractions_dict[match.group(0)]\n",
    "    return contractions_re.sub(replace, s)\n",
    "\n"
   ]
  },
  {
   "cell_type": "code",
   "execution_count": 79,
   "metadata": {},
   "outputs": [
    {
     "name": "stdout",
     "output_type": "stream",
     "text": [
      "s###\n"
     ]
    },
    {
     "data": {
      "text/plain": [
       "'shit'"
      ]
     },
     "execution_count": 79,
     "metadata": {},
     "output_type": "execute_result"
    }
   ],
   "source": [
    "sample1 = \"s***\"\n",
    "print(re.sub(\"\\*\", \"#\", sample1))\n",
    "\n",
    "sample = \"I don\\'t know what to say nay. I haven\\'t. s###\"\n",
    "expand_contractions(sample)\n",
    "expand_contractions(sample1)"
   ]
  },
  {
   "cell_type": "code",
   "execution_count": 164,
   "metadata": {
    "scrolled": true
   },
   "outputs": [
    {
     "data": {
      "text/plain": [
       "(['this is a test it is only a test'], ['this is a test', 'it is only a test'])"
      ]
     },
     "execution_count": 164,
     "metadata": {},
     "output_type": "execute_result"
    }
   ],
   "source": [
    "from nltk.tokenize import word_tokenize, sent_tokenize\n",
    "import string\n",
    "\n",
    "# return both wholeText, paragraph Text\n",
    "def singleReviewCleanUp(sample):\n",
    "    #print(sample)\n",
    "    #sample = sample.decode(\"utf-8\")\n",
    "    sample = expand_contractions(sample)\n",
    "    sample = sample.lower()\n",
    "    \n",
    "    #for word in sample:\n",
    "    #    print(lemmatizer.lemmatize(word, wordnet.VERB))\n",
    "    \n",
    "    review = sent_tokenize(sample)\n",
    "    #print(review)\n",
    "    for count, eachSent in enumerate(review):\n",
    "        #remove numbers\n",
    "        eachSent = re.sub(\"r'\\d+/\\d+|\\d+|\\$\\d+.\\d+\", \" \", eachSent)\n",
    "        #remove string\n",
    "        eachSent = re.sub('[%s]' % re.escape(string.punctuation), ' ', eachSent)\n",
    "        #word tokens\n",
    "        #print([lemmatizer.lemmatize(text, wordnet.VERB) for text in eachSent.split()])\n",
    "        eachSent = word_tokenize(eachSent)\n",
    "        review[count] = eachSent\n",
    "        # lemmatize and remove stopWords\n",
    "        #eachSent = [word for word in eachSent if not word in stopWords]\n",
    "        #eachSent = [lemmatizer.lemmatize(word, wordnet.VERB) for word in eachSent]\n",
    "        #eachSent = [lemmatizer.lemmatize(word, wordnet.VERB) for word in eachSent if not word in stopWords]\n",
    "        #reconstruct sentence\n",
    "        review[count] = \" \".join(eachSent)\n",
    "    #a clobbed together without pun\n",
    "    wholeText = [\" \".join(review) ]\n",
    "    #reconstruct paragraph of sentences\n",
    "\n",
    "    paragraphText = review\n",
    "    #return wholeText\n",
    "    #return paragraphText\n",
    "    return paragraphText, wholeText\n",
    "\n",
    "sample = \"This is a test. It is only a test!\"\n",
    "paragraphText, wholeText = singleReviewCleanUp(sample)\n",
    "wholeText, paragraphText\n",
    "#paragraphText"
   ]
  },
  {
   "cell_type": "code",
   "execution_count": 165,
   "metadata": {},
   "outputs": [],
   "source": [
    "#Give me back text in a paragraph sentence forms. They do have more values than a clobbed of text based on Polarity Check.\n",
    "cleanUpTextParagraph = lambda text: singleReviewCleanUp(text)[0]\n"
   ]
  },
  {
   "cell_type": "code",
   "execution_count": 166,
   "metadata": {},
   "outputs": [
    {
     "name": "stdout",
     "output_type": "stream",
     "text": [
      "Wall time: 3min 57s\n"
     ]
    }
   ],
   "source": [
    "%%time\n",
    "reviewTextProcessing['Processed'] = reviewTextProcessing.reviewText.apply(cleanUpTextParagraph)\n"
   ]
  },
  {
   "cell_type": "code",
   "execution_count": 23,
   "metadata": {},
   "outputs": [],
   "source": [
    "#sample = \" I don't know what to do. I need to test through tough. Do you have any suggestions\"\n",
    "#result = cleanUpTextParagraph(sample)\n",
    "#result"
   ]
  },
  {
   "cell_type": "code",
   "execution_count": 84,
   "metadata": {},
   "outputs": [],
   "source": [
    "from textblob import TextBlob\n",
    "\n",
    "# need to do a data check first\n",
    "def getPolaritySubjectivity(data):\n",
    "    #print(data)\n",
    "    paragraphText = data\n",
    "    sumPolarity = []\n",
    "    sumSubjectivity = []\n",
    "    for each in paragraphText:\n",
    "        sumPolarity.append(TextBlob(each).sentiment.polarity)\n",
    "        sumSubjectivity.append(TextBlob(each).sentiment.subjectivity)\n",
    "    #print(\"sumPol\", sumPolarity)\n",
    "    return sumPolarity, sumSubjectivity\n",
    "    #return sum(sumPolarity), sum(sumSubjectivity)\n",
    "\n",
    "    #print(each, TextBlob(each).sentiment.polarity, TextBlob(each).sentiment.subjectivity)\n",
    "#(sample2, TextBlob(sample2).sentiment.polarity, TextBlob(sample2).sentiment.subjectivity)\n"
   ]
  },
  {
   "cell_type": "code",
   "execution_count": 85,
   "metadata": {},
   "outputs": [],
   "source": [
    "#Return the sume of polarity in a paragraph sentence when give a text in a list form of sentence\n",
    "\n",
    "getPolarityFromText = lambda text: getPolaritySubjectivity(text)[0]"
   ]
  },
  {
   "cell_type": "code",
   "execution_count": 87,
   "metadata": {},
   "outputs": [],
   "source": [
    "#for each in sampleText:\n",
    "#    sample = cleanUpTextParagraph(each)\n",
    "#    print(sample, getPolarityFromText(sample))"
   ]
  },
  {
   "cell_type": "code",
   "execution_count": 563,
   "metadata": {},
   "outputs": [],
   "source": [
    "#print(stopWords)"
   ]
  },
  {
   "cell_type": "code",
   "execution_count": 353,
   "metadata": {},
   "outputs": [],
   "source": [
    "#sentiment = lambda text: TextBlob(text).sentiment.polarity"
   ]
  },
  {
   "cell_type": "code",
   "execution_count": 88,
   "metadata": {},
   "outputs": [],
   "source": [
    "adjustSentimentModel = lambda x: [sum(x), 0.0] if sum(x) < 0 else [sum(x), 1.0]"
   ]
  },
  {
   "cell_type": "code",
   "execution_count": 167,
   "metadata": {},
   "outputs": [
    {
     "name": "stdout",
     "output_type": "stream",
     "text": [
      "Wall time: 7min 37s\n"
     ]
    }
   ],
   "source": [
    "%%time\n",
    "reviewTextProcessing['Sentiment']= reviewTextProcessing.Processed.apply(getPolarityFromText)"
   ]
  },
  {
   "cell_type": "code",
   "execution_count": 168,
   "metadata": {},
   "outputs": [
    {
     "name": "stdout",
     "output_type": "stream",
     "text": [
      "Wall time: 152 ms\n"
     ]
    }
   ],
   "source": [
    "%%time\n",
    "reviewTextProcessing['SentimentModel']= reviewTextProcessing.Sentiment.apply(adjustSentimentModel)"
   ]
  },
  {
   "cell_type": "code",
   "execution_count": 93,
   "metadata": {},
   "outputs": [],
   "source": [
    "#reviewTextProcessing.loc[unfavorableReviews, ['Processed', 'Sentiment', 'SentimentModel']].head(2)\n",
    "#reviewTextProcessing.dtypes"
   ]
  },
  {
   "cell_type": "code",
   "execution_count": 169,
   "metadata": {},
   "outputs": [],
   "source": [
    "reviewTextProcessing['CleanedJoin'] = reviewTextProcessing['Processed'].apply(', '.join)\n"
   ]
  },
  {
   "cell_type": "code",
   "execution_count": 170,
   "metadata": {},
   "outputs": [
    {
     "data": {
      "text/plain": [
       "(134476, 7)"
      ]
     },
     "execution_count": 170,
     "metadata": {},
     "output_type": "execute_result"
    }
   ],
   "source": [
    "reviewTextProcessing.shape\n",
    "#reviewTextProcessing.columns"
   ]
  },
  {
   "cell_type": "code",
   "execution_count": 151,
   "metadata": {},
   "outputs": [],
   "source": [
    "#from gensim import corpora\n",
    "#dictionary = corpora.Dictionary(T)\n",
    "#print(dictionary.token2id)"
   ]
  },
  {
   "cell_type": "code",
   "execution_count": 171,
   "metadata": {},
   "outputs": [
    {
     "data": {
      "text/plain": [
       "0    i hate it when my shirt collars not otherwise ...\n",
       "1    these little magnets are really powerful for t...\n",
       "Name: CleanedJoin, dtype: object"
      ]
     },
     "execution_count": 171,
     "metadata": {},
     "output_type": "execute_result"
    }
   ],
   "source": [
    "reviewTextProcessing['CleanedJoin'].head(2)"
   ]
  },
  {
   "cell_type": "code",
   "execution_count": 172,
   "metadata": {},
   "outputs": [
    {
     "data": {
      "text/plain": [
       "134476"
      ]
     },
     "execution_count": 172,
     "metadata": {},
     "output_type": "execute_result"
    }
   ],
   "source": [
    "\n",
    "import itertools\n",
    "\n",
    "largeText = reviewTextProcessing.CleanedJoin.to_list()\n",
    "#largeText = reviewTextProcessing.reviewText.to_list() # Not too good accuracy around 116 missed with %86.94\n",
    "\n",
    "len(largeText)"
   ]
  },
  {
   "cell_type": "code",
   "execution_count": 173,
   "metadata": {},
   "outputs": [],
   "source": [
    "sentiment = reviewTextProcessing['SentimentModel'].to_list()"
   ]
  },
  {
   "cell_type": "code",
   "execution_count": 174,
   "metadata": {},
   "outputs": [],
   "source": [
    "from tensorflow.python.keras.preprocessing.text import Tokenizer\n",
    "from tensorflow.python.keras.preprocessing.sequence import pad_sequences\n",
    "\n",
    "num_words = 10000\n"
   ]
  },
  {
   "cell_type": "code",
   "execution_count": 175,
   "metadata": {},
   "outputs": [],
   "source": [
    "tokenizer = Tokenizer(num_words=num_words)\n",
    "tokenizer.fit_on_texts(largeText)\n",
    "#tokenizer.word_index"
   ]
  },
  {
   "cell_type": "code",
   "execution_count": 176,
   "metadata": {},
   "outputs": [],
   "source": [
    "\n",
    "size = int(len(largeText)*.75)\n",
    "x_train_text = largeText[:size]\n",
    "x_test_text = largeText[size:]\n",
    "\n",
    "y_train =  reviewTextProcessing['rating'][:size]\n",
    "y_test = reviewTextProcessing['rating'][size:]\n",
    "x_train_tokens = tokenizer.texts_to_sequences(x_train_text)\n",
    "x_test_tokens = tokenizer.texts_to_sequences(x_test_text)\n"
   ]
  },
  {
   "cell_type": "code",
   "execution_count": 177,
   "metadata": {},
   "outputs": [
    {
     "data": {
      "text/plain": [
       "(100857, 100857, 100857, 33619)"
      ]
     },
     "execution_count": 177,
     "metadata": {},
     "output_type": "execute_result"
    }
   ],
   "source": [
    "len(y_train), len(x_train_tokens), len(x_train_text), len(x_test_text)"
   ]
  },
  {
   "cell_type": "code",
   "execution_count": 1072,
   "metadata": {},
   "outputs": [],
   "source": [
    "#x_train_tokens[1], x_train_text[1]"
   ]
  },
  {
   "cell_type": "code",
   "execution_count": 178,
   "metadata": {},
   "outputs": [],
   "source": [
    "import numpy as np\n",
    "\n",
    "x_train_text[1]\n",
    "np.array(x_train_tokens[1])\n",
    "num_tokens = [len(tokens) for tokens in x_train_tokens + x_test_tokens]\n",
    "num_tokens = np.array(num_tokens)\n"
   ]
  },
  {
   "cell_type": "code",
   "execution_count": 179,
   "metadata": {},
   "outputs": [
    {
     "data": {
      "text/plain": [
       "(110.80553407299443, 4838)"
      ]
     },
     "execution_count": 179,
     "metadata": {},
     "output_type": "execute_result"
    }
   ],
   "source": [
    "np.mean(num_tokens), np.max(num_tokens)\n"
   ]
  },
  {
   "cell_type": "code",
   "execution_count": 180,
   "metadata": {},
   "outputs": [
    {
     "data": {
      "text/plain": [
       "132.92503796578936"
      ]
     },
     "execution_count": 180,
     "metadata": {},
     "output_type": "execute_result"
    }
   ],
   "source": [
    "np.std(num_tokens)"
   ]
  },
  {
   "cell_type": "code",
   "execution_count": 181,
   "metadata": {},
   "outputs": [
    {
     "data": {
      "text/plain": [
       "243"
      ]
     },
     "execution_count": 181,
     "metadata": {},
     "output_type": "execute_result"
    }
   ],
   "source": [
    "max_tokens = np.mean(num_tokens) + 1 * np.std(num_tokens)\n",
    "max_tokens = int(max_tokens) \n",
    "max_tokens\n"
   ]
  },
  {
   "cell_type": "code",
   "execution_count": 182,
   "metadata": {},
   "outputs": [
    {
     "data": {
      "text/plain": [
       "0.897914869567804"
      ]
     },
     "execution_count": 182,
     "metadata": {},
     "output_type": "execute_result"
    }
   ],
   "source": [
    "np.sum(num_tokens < max_tokens) / len(num_tokens)\n"
   ]
  },
  {
   "cell_type": "code",
   "execution_count": 183,
   "metadata": {},
   "outputs": [
    {
     "data": {
      "text/plain": [
       "(33619, 243)"
      ]
     },
     "execution_count": 183,
     "metadata": {},
     "output_type": "execute_result"
    }
   ],
   "source": [
    "pad = 'pre'\n",
    "x_train_pad = pad_sequences(x_train_tokens, maxlen=max_tokens, padding=pad, truncating=pad)\n",
    "x_test_pad = pad_sequences(x_test_tokens, maxlen=max_tokens, padding=pad, truncating=pad)\n",
    "x_train_pad.shape\n",
    "x_test_pad.shape\n"
   ]
  },
  {
   "cell_type": "code",
   "execution_count": 184,
   "metadata": {},
   "outputs": [
    {
     "name": "stdout",
     "output_type": "stream",
     "text": [
      "[   0    0    0    0    0    0    0    0    0    0    0    0    0    0\n",
      "    0    0    0    0    0    0    0    0    0    0    0    0    0    0\n",
      "    0    0    0    0    0    0    0    0    0    0    0    0    0    0\n",
      "    0    0    0    0    0    0    0    0    0    0    0    0    0    0\n",
      "    0    0    0    0    0    0    0    0    0    0    0    0    0    0\n",
      "    0    0    0    0    0    0    0    0    0    0    0    0    0    0\n",
      "    0    0    0    0    0    0    0    0    0    0    0    0    0    0\n",
      "    0    0    0    0    0    0    0    0    0    0    0    0    0    0\n",
      "    0    0    0    0    0    0    0    0    0    0    0    0    0    0\n",
      "    0    0    0    0    0    0    0    0    0    0    0    0    0    0\n",
      "    0    0    0    0    0    0    0    0    0    0    0    0    2 1558\n",
      "    4   39   18 3329 8531   11  722 2917   12  236   82 1219  220   41\n",
      "   12 2405  908 2048    1  225    2  212   68  424 2317  951    5   32\n",
      "   17   37 1753   19   27  120   64 1190    2  996   41   96    8   37\n",
      " 1753   25   12    1 2317   17    1  630    6    1   62  320   18 3329\n",
      "    5  247   18 2317   12  236   27   60 1524   27   20    1  211  171\n",
      "    6   61   20  615    8 1753   12  174   14 1232    5  388   55   38\n",
      "    1  220    8    1  225]\n"
     ]
    }
   ],
   "source": [
    "for i in range(0, 1):\n",
    "    print(x_train_pad[i])\n"
   ]
  },
  {
   "cell_type": "code",
   "execution_count": 185,
   "metadata": {},
   "outputs": [],
   "source": [
    "def tokens_to_string(tokens):\n",
    "    # Map from tokens back to words.\n",
    "    words = [inverse_map[token] for token in tokens if token != 0]\n",
    "    \n",
    "    # Concatenate all words.\n",
    "    text = \" \".join(words)\n",
    "\n",
    "    return text"
   ]
  },
  {
   "cell_type": "code",
   "execution_count": 186,
   "metadata": {},
   "outputs": [],
   "source": [
    "idx = tokenizer.word_index\n",
    "inverse_map = dict(zip(idx.values(), idx.keys()))"
   ]
  },
  {
   "cell_type": "code",
   "execution_count": 187,
   "metadata": {},
   "outputs": [
    {
     "data": {
      "text/plain": [
       "'these little magnets are really powerful for there size, i am using them to make secret compartments in custom made boxes, each one hols about of a pound'"
      ]
     },
     "execution_count": 187,
     "metadata": {},
     "output_type": "execute_result"
    }
   ],
   "source": [
    "x_train_text[1]\n"
   ]
  },
  {
   "cell_type": "code",
   "execution_count": 188,
   "metadata": {
    "scrolled": true
   },
   "outputs": [
    {
     "data": {
      "text/plain": [
       "'these little magnets are really powerful for there size i am using them to make secret compartments in custom made boxes each one about of a pound'"
      ]
     },
     "execution_count": 188,
     "metadata": {},
     "output_type": "execute_result"
    }
   ],
   "source": [
    "tokens_to_string(x_train_tokens[1])\n"
   ]
  },
  {
   "cell_type": "code",
   "execution_count": 113,
   "metadata": {},
   "outputs": [],
   "source": [
    "from tensorflow.python.keras.models import Sequential\n",
    "from tensorflow.python.keras.layers import Dense, GRU, Embedding\n",
    "from tensorflow.python.keras.optimizers import Adam\n",
    "from tensorflow.python.keras.preprocessing.text import Tokenizer\n",
    "from tensorflow.python.keras.preprocessing.sequence import pad_sequences"
   ]
  },
  {
   "cell_type": "code",
   "execution_count": 190,
   "metadata": {},
   "outputs": [],
   "source": [
    "model = Sequential()\n",
    "#embedding_size = 8 > 0.8694\n",
    "embedding_size = 10"
   ]
  },
  {
   "cell_type": "code",
   "execution_count": 191,
   "metadata": {},
   "outputs": [],
   "source": [
    "model.add(Embedding(input_dim=num_words,\n",
    "                    output_dim=embedding_size,\n",
    "                    input_length=max_tokens,\n",
    "                    name='layer_embedding'))"
   ]
  },
  {
   "cell_type": "code",
   "execution_count": 192,
   "metadata": {},
   "outputs": [],
   "source": [
    "model.add(GRU(units=16, return_sequences=True))"
   ]
  },
  {
   "cell_type": "code",
   "execution_count": 193,
   "metadata": {},
   "outputs": [],
   "source": [
    "model.add(GRU(units=8, return_sequences=True))\n"
   ]
  },
  {
   "cell_type": "code",
   "execution_count": 194,
   "metadata": {},
   "outputs": [],
   "source": [
    "model.add(GRU(units=4))\n"
   ]
  },
  {
   "cell_type": "code",
   "execution_count": 195,
   "metadata": {},
   "outputs": [],
   "source": [
    "model.add(Dense(1, activation='sigmoid'))\n"
   ]
  },
  {
   "cell_type": "code",
   "execution_count": 196,
   "metadata": {},
   "outputs": [],
   "source": [
    "optimizer = Adam(lr=1e-3)\n"
   ]
  },
  {
   "cell_type": "code",
   "execution_count": 197,
   "metadata": {},
   "outputs": [],
   "source": [
    "model.compile(loss='binary_crossentropy',\n",
    "              optimizer=optimizer,\n",
    "              metrics=['accuracy'])"
   ]
  },
  {
   "cell_type": "code",
   "execution_count": 198,
   "metadata": {
    "scrolled": true
   },
   "outputs": [
    {
     "name": "stdout",
     "output_type": "stream",
     "text": [
      "_________________________________________________________________\n",
      "Layer (type)                 Output Shape              Param #   \n",
      "=================================================================\n",
      "layer_embedding (Embedding)  (None, 243, 10)           100000    \n",
      "_________________________________________________________________\n",
      "gru_6 (GRU)                  (None, 243, 16)           1296      \n",
      "_________________________________________________________________\n",
      "gru_7 (GRU)                  (None, 243, 8)            600       \n",
      "_________________________________________________________________\n",
      "gru_8 (GRU)                  (None, 4)                 156       \n",
      "_________________________________________________________________\n",
      "dense_2 (Dense)              (None, 1)                 5         \n",
      "=================================================================\n",
      "Total params: 102,057\n",
      "Trainable params: 102,057\n",
      "Non-trainable params: 0\n",
      "_________________________________________________________________\n"
     ]
    }
   ],
   "source": [
    "model.summary()\n"
   ]
  },
  {
   "cell_type": "code",
   "execution_count": 199,
   "metadata": {},
   "outputs": [
    {
     "name": "stdout",
     "output_type": "stream",
     "text": [
      "Train on 95814 samples, validate on 5043 samples\n",
      "Epoch 1/3\n",
      "95814/95814 [==============================] - 424s 4ms/sample - loss: 0.1697 - acc: 0.9605 - val_loss: 0.1231 - val_acc: 0.9657\n",
      "Epoch 2/3\n",
      "95814/95814 [==============================] - 410s 4ms/sample - loss: 0.1186 - acc: 0.9635 - val_loss: 0.1128 - val_acc: 0.9653\n",
      "Epoch 3/3\n",
      "95814/95814 [==============================] - 395s 4ms/sample - loss: 0.0970 - acc: 0.9674 - val_loss: 0.1065 - val_acc: 0.9681\n"
     ]
    },
    {
     "data": {
      "text/plain": [
       "<tensorflow.python.keras.callbacks.History at 0x51537f28>"
      ]
     },
     "execution_count": 199,
     "metadata": {},
     "output_type": "execute_result"
    }
   ],
   "source": [
    "# %%time\n",
    "#model.fit(x_train_pad, y_train,validation_split=0.05, epochs=5, batch_size=64)\n",
    "\n",
    "model.fit(x_train_pad, y_train,validation_split=0.05, epochs=3, batch_size=74)"
   ]
  },
  {
   "cell_type": "code",
   "execution_count": 200,
   "metadata": {},
   "outputs": [
    {
     "name": "stdout",
     "output_type": "stream",
     "text": [
      "33619/33619 [==============================] - 66s 2ms/sample - loss: 0.1018 - acc: 0.9673\n",
      "Wall time: 1min 6s\n"
     ]
    }
   ],
   "source": [
    "%%time\n",
    "result = model.evaluate(x_test_pad, y_test)\n",
    "\n"
   ]
  },
  {
   "cell_type": "code",
   "execution_count": 201,
   "metadata": {},
   "outputs": [
    {
     "name": "stdout",
     "output_type": "stream",
     "text": [
      "Accuracy: 96.73%\n"
     ]
    }
   ],
   "source": [
    "print(\"Accuracy: {0:.2%}\".format(result[1]))\n"
   ]
  },
  {
   "cell_type": "code",
   "execution_count": 202,
   "metadata": {},
   "outputs": [
    {
     "name": "stdout",
     "output_type": "stream",
     "text": [
      "Wall time: 2.13 s\n"
     ]
    }
   ],
   "source": [
    "%%time\n",
    "y_pred = model.predict(x=x_test_pad[0:1000])\n",
    "y_pred = y_pred.T[0]"
   ]
  },
  {
   "cell_type": "code",
   "execution_count": 203,
   "metadata": {},
   "outputs": [],
   "source": [
    "cls_pred = np.array([1.0 if p>0.2 else 0.0 for p in y_pred])\n"
   ]
  },
  {
   "cell_type": "code",
   "execution_count": 204,
   "metadata": {},
   "outputs": [],
   "source": [
    "cls_true = np.array(y_test[0:1000])\n"
   ]
  },
  {
   "cell_type": "code",
   "execution_count": 205,
   "metadata": {},
   "outputs": [],
   "source": [
    "incorrect = np.where(cls_pred != cls_true)\n",
    "incorrect = incorrect[0]"
   ]
  },
  {
   "cell_type": "code",
   "execution_count": 209,
   "metadata": {},
   "outputs": [
    {
     "data": {
      "text/plain": [
       "array([False, False, False, False, False, False, False, False, False,\n",
       "       False, False, False, False, False, False, False, False, False,\n",
       "       False, False, False, False, False, False, False, False, False,\n",
       "       False, False, False, False, False, False, False, False, False,\n",
       "       False, False, False, False, False, False, False, False, False,\n",
       "       False, False, False, False, False, False, False, False, False,\n",
       "       False, False, False, False, False, False, False, False, False,\n",
       "       False, False, False, False, False, False, False, False, False,\n",
       "       False, False, False, False, False, False, False, False, False,\n",
       "       False, False, False, False, False, False, False, False, False,\n",
       "       False, False, False, False, False, False, False, False, False,\n",
       "       False, False, False, False, False, False, False, False, False,\n",
       "       False, False, False, False, False, False, False, False, False,\n",
       "       False, False, False, False, False, False, False, False, False,\n",
       "       False, False, False, False, False, False, False, False, False,\n",
       "       False, False, False, False, False, False, False, False, False,\n",
       "       False, False, False, False, False, False, False, False, False,\n",
       "       False, False, False, False, False, False, False, False, False,\n",
       "       False, False, False, False, False, False, False, False, False,\n",
       "       False, False, False, False, False, False, False, False, False,\n",
       "       False, False, False, False, False, False, False, False, False,\n",
       "       False, False, False, False, False, False, False, False, False,\n",
       "       False, False, False, False, False, False, False, False, False,\n",
       "       False, False, False, False, False, False, False, False, False,\n",
       "       False, False, False, False, False, False, False, False, False,\n",
       "       False, False, False, False, False, False, False, False, False,\n",
       "       False, False, False, False, False, False, False, False, False,\n",
       "       False, False, False, False, False, False, False, False, False,\n",
       "       False, False, False, False, False, False, False, False, False,\n",
       "       False, False, False, False, False, False, False, False, False,\n",
       "       False, False, False, False, False, False, False, False, False,\n",
       "       False, False, False, False, False, False, False, False, False,\n",
       "       False, False, False, False, False, False, False, False, False,\n",
       "       False, False, False, False, False, False, False, False, False,\n",
       "       False, False, False, False, False, False, False, False, False,\n",
       "       False, False, False, False, False, False, False, False, False,\n",
       "       False, False, False, False, False, False,  True, False, False,\n",
       "       False, False, False, False, False, False, False, False, False,\n",
       "       False, False, False, False, False, False, False, False, False,\n",
       "       False, False, False, False, False, False, False, False, False,\n",
       "       False, False, False, False, False, False, False, False, False,\n",
       "       False, False, False, False, False, False, False, False, False,\n",
       "       False, False, False, False, False, False, False, False, False,\n",
       "       False, False, False, False, False, False, False, False, False,\n",
       "       False, False, False, False, False, False, False, False, False,\n",
       "       False, False, False, False, False, False, False, False, False,\n",
       "       False, False, False, False, False, False, False, False, False,\n",
       "       False, False, False, False, False, False, False, False, False,\n",
       "       False, False, False, False, False, False, False, False, False,\n",
       "       False, False, False, False, False, False, False, False, False,\n",
       "       False, False, False, False, False, False, False, False, False,\n",
       "       False, False, False, False, False, False, False, False, False,\n",
       "       False, False, False, False, False, False, False, False, False,\n",
       "       False, False, False, False, False, False, False, False, False,\n",
       "       False, False, False, False, False, False, False, False, False,\n",
       "       False, False, False, False, False, False, False, False, False,\n",
       "       False, False, False, False, False, False, False, False, False,\n",
       "       False, False, False, False, False, False, False, False, False,\n",
       "       False, False, False, False, False, False, False, False, False,\n",
       "       False, False, False, False, False, False, False, False, False,\n",
       "       False, False, False, False, False, False, False, False, False,\n",
       "       False, False, False, False, False, False, False, False, False,\n",
       "       False, False, False, False, False, False, False, False, False,\n",
       "       False, False, False, False, False, False, False, False, False,\n",
       "       False, False, False, False, False, False, False, False, False,\n",
       "       False, False, False, False, False, False, False, False, False,\n",
       "       False, False, False, False, False, False, False, False, False,\n",
       "       False, False, False, False, False, False, False, False, False,\n",
       "       False, False, False, False, False, False, False, False, False,\n",
       "       False, False, False, False, False, False, False, False, False,\n",
       "       False, False, False, False, False, False, False, False, False,\n",
       "       False, False, False, False, False, False, False, False, False,\n",
       "       False, False, False, False, False, False, False, False, False,\n",
       "       False, False, False, False, False, False, False, False, False,\n",
       "       False, False, False, False, False, False, False, False, False,\n",
       "       False, False, False, False, False, False, False, False, False,\n",
       "       False, False, False, False, False, False, False, False, False,\n",
       "       False, False, False, False, False, False, False, False, False,\n",
       "       False, False, False, False, False, False, False, False, False,\n",
       "       False, False, False, False, False, False, False, False, False,\n",
       "       False, False, False, False, False, False, False, False, False,\n",
       "       False, False, False, False, False, False, False, False, False,\n",
       "       False, False, False, False, False, False, False, False, False,\n",
       "       False, False, False, False, False, False, False, False, False,\n",
       "       False, False, False, False, False, False, False, False, False,\n",
       "       False, False, False, False, False, False, False, False, False,\n",
       "       False, False, False, False, False, False, False, False, False,\n",
       "       False, False, False, False, False, False, False, False, False,\n",
       "       False, False, False, False, False, False, False, False, False,\n",
       "       False, False, False, False, False, False, False, False, False,\n",
       "       False, False, False, False, False, False, False, False, False,\n",
       "       False, False, False, False, False, False, False, False, False,\n",
       "       False, False, False, False, False, False, False, False, False,\n",
       "       False, False, False, False, False, False, False, False, False,\n",
       "       False, False, False, False, False, False, False, False, False,\n",
       "       False, False, False, False, False, False, False, False, False,\n",
       "       False, False, False, False, False, False, False, False, False,\n",
       "       False, False, False, False, False, False, False, False, False,\n",
       "       False, False, False, False, False, False, False, False, False,\n",
       "       False, False, False, False, False, False, False, False, False,\n",
       "       False, False, False, False, False, False, False, False, False,\n",
       "       False, False, False, False, False, False, False, False, False,\n",
       "       False, False, False, False, False, False, False, False, False,\n",
       "       False, False, False, False, False, False, False, False, False,\n",
       "       False, False, False, False, False, False, False, False, False,\n",
       "       False, False, False, False, False, False, False, False, False,\n",
       "       False, False, False, False, False, False, False, False, False,\n",
       "       False, False, False, False, False, False, False, False, False,\n",
       "       False, False, False, False, False, False, False, False, False,\n",
       "       False, False, False, False, False, False, False, False, False,\n",
       "       False, False, False, False, False, False, False, False, False,\n",
       "       False])"
      ]
     },
     "execution_count": 209,
     "metadata": {},
     "output_type": "execute_result"
    }
   ],
   "source": [
    "len(incorrect)\n",
    "cls_pred < 1"
   ]
  },
  {
   "cell_type": "code",
   "execution_count": 141,
   "metadata": {},
   "outputs": [
    {
     "data": {
      "text/plain": [
       "CleanedJoin       so heres the thing that no one else wants to s...\n",
       "overall                                                           1\n",
       "rating                                                            0\n",
       "SentimentModel                          [-0.44696969696969685, 0.0]\n",
       "Name: 7735, dtype: object"
      ]
     },
     "execution_count": 141,
     "metadata": {},
     "output_type": "execute_result"
    }
   ],
   "source": [
    "reduceData.loc[7695+40, ['reviewText', 'overall', 'rating']]\n",
    "reviewTextProcessing.loc[7695+40, ['CleanedJoin', 'overall', 'rating', 'SentimentModel']]"
   ]
  },
  {
   "cell_type": "code",
   "execution_count": 207,
   "metadata": {},
   "outputs": [
    {
     "name": "stdout",
     "output_type": "stream",
     "text": [
      "<class 'numpy.int64'>\n",
      "10 it is rather limited in what it can cut, worst thng is that the depth is not adjustable, so many other options and i made a mistake and bought this 1.0 0  BlobText  -0.17410714285714285\n",
      "158 these bulbs claim to be a very white light, i purchased these to replace the k fluorescents i had in my bathroom lights as the fluorescents were very slow to get bright, i had hoped that these would be decent at least as they are advertised as being very white light but there is no color temperature measurement anywhere unfortunately these bulbs are about k k extremely yellow or soft white just like every other incandescent bulb on the market, i am not sure what everyone s age old obsession with not being able to see properly in their house is but i definitely do not enjoy it, with this style of bulb however it seems i do not have a choice in that room 1.0 0  BlobText  0.03342592592592592\n",
      "190 for the most part this machine is a good compromise that does a fairly good job but not great one, it s great for hobby small wood working projects but nothing on a larger scale, one problem i have is with the miter gauge, it does not slide in the channels smoothly and does not hold a setting very well, it s actually very cheaply made and not adequate for a job that requires any degree of accuracy, in searching for a better after market miter gauge i found that rockwell has designed this saw with what are apparently one of a kind channels, i contacted rockwell customer service via e mail and asked about after market gauges and how to acquire a replacement oem gauge and was told that rockwell does not sell after market parts and they did not bother addressing the oem gauge question at all, basically sorry about your luck in addition while looking for a oem gauge i found that several repair parts for the bladerunner have been discontinued and are no longer available, ie the on off switch kind of an important part, this for a machine that is still being sold 1.0 0  BlobText  0.2659649122807018\n",
      "239 i returned this along with the dewalt router, nothing wrong with it it just did not need it without the deaalt router 1.0 0  BlobText  -0.5\n",
      "306 i did not buy this unit but i did buy and return the similar honeywell pls c these claim to be three way switches but require four wires, just a note if you plan to replace this yourself check your wiring first 1.0 0  BlobText  0.125\n",
      "394 this thing worked like a charm for the first week, on about the seventh day it switched off for sunrise and then went into spasms on off on off on off every second for several minutes, i was sure the neighbors would think i was in distress or that the place was haunted, pushed every button including holding them down, nothing worked, suddenly it just corrected itself after i walked away and right before i got to the breaker box, i thought maybe it was an electrical surge a fluke maybe, i was wrong about a week and a half after that it did the same thing at sunset and we did have a neighbor come over to check it out, ugh, thank goodness i was home or the cops would have been called i am sure, also thank goodness my husband was home to cut the power and yank this piece of junk out of the wall because it just kept on going on off on off and was never stopping on its own i am so burned by this experience that i am sending it back for a refund and replacing it with just a regular light switch, no thank you to timers that malfunction and leave no recourse but to kill the power and disconnect it from the wiring if you don t have someone in your house at all times with electrical skills don t buy this, it s not something you can just unplug yourself, think about that before you install this, don t want you to wind up in the same situation 1.0 0  BlobText  0.10709325396825398\n",
      "534 i received this lamp for free from amazon, i worked in retail for a few years and i would expect this type of product in a dollar store in retail would really be stretching it considering what you get, that is of course a far cry from the advertised i was hoping i could find something positives about this lamp but it really falls short, here are some points it feels and looks extremely cheap functionally the led lights are very weak even when surrounded by darkness the led lights can not be replaced the magnifier is nothing but some cheap plastic mine already seems scratched right out of the box no ac adapter option, no batteries provided either the lamp i received must have some wiring issues as it turns off when i accidentally touch various areas positives, if you have pre school kids they might be excited for a night or two 1.0 0  BlobText  0.1394345238095238\n",
      "537 well i said this is the worst excuse for a light i have got, actually its a tie with the all plastic lighted screwdriver with a hand crank that you have to crank to make the lights work this one has the weirdest design i have ever seen for one and about the worst made, first the little door or cover that you have to remove to put the batteries in is very difficult to get off, i just about had to break it to get the thing off, then once i got batteries in it the on off switch is really flaky, it tends to turn on and off just by handling the light, the worst thing about it is the base, i made the mistake of sticking it in the heavy base to see how it would look when standing on the table, then when i tried to take it out of the base i found it was almost impossible, i had to find one of my biggest widest flat blade screwdrivers and use it to work down between the back of the base the the light and pry the light out of the base, i almost had to break the thing before i could get that stupid base off, the worst of it is if you cant get the base off you cant change the batteries in it as for the light itself its the weakest worst excuse for a reading light i have ever tried to see with, a candle puts out more light than this does, the only thing that i have found on this that actually works like it is supposed to work is the magnifying glass, in the spring and summer kids should be able to have a ball playing with it and using it for the traditional ant burning i got it thinking it would be handy in my workshop either for doing fine detail work or seeing to dig slivers out of a finger things like that, but the light is not even half bright enough for anything like that i started with giving it only star and would have gave it a or but since the magnifying glass does work and is on a flexible thing so you do not have to try to hold it steady with your hands, making it easier to use it as a emergency fire starter hot foot helper and things like that i shall i will have to give it stars, or stars for the magnifying glass and minus a star for the flaky light 1.0 0  BlobText  -0.13475115740740742\n",
      "538 dont waste your money on this garbage, i could not get the clamp to work right and the lighting on this is terrible, look elsewhere for a better product 1.0 0  BlobText  -0.10357142857142859\n",
      "539 i had never previously used a book light but i thought one would be nice to read in bed on those nights where my spouse or children are in my room and trying to fall asleep when i opened the package the first thing i noted was that the light does not come with batteries, i grabbed aaa batteries and attempted to pop open the battery cover, i found the battery cover very difficult to open and resorted to depressing the little tab and prying the cover off with a flathead screwdriver the book light does exactly as advertises, it does light up a book, when clipped to a book the light created roughly a inch by inch oval of light, there is enough ambient light coming from the beam of light to be able to read most of the page of a large hardcover book quite easily, only the very fringes of the page were a bit dark but still readable however with use i found that i did not particularly care for this book light, the attached magnifying glass and the design of the clip give the light a large awkward clunky feel, when i clipped the light to a hardcover book i found it worked fine but the added weight made it necessary to find a good stable rest if reading the book for more than a few minutes, the light was too heavy and awkward to use with a softcover book while my eyesight with glasses is fine i opted to give the magnifying glass a try, i clipped the light to a hard cover book and put the magnifying glass into place, the field of view with the magnifying glass is small, i was unable to read an entire line of text without shifting the magnifying glass around, also the magnifying glass is circular shaped with thinner edges resulting in a fish eye effect, when it comes to reading text i found the magnifying glass pretty useless, i would much rather opt for my prescription glasses or those cheap over the counter glasses from the drug store with very limited use i then began having issues with the light, when i would lightly bump the clip area or even clip the light to a book the light would go off, in order to get it working again i would have to remove the battery cover and reseat the batteries, as i mentioned before the battery cover is tough to get off and as i do not feel like searching for a screwdriver every time this happens my thumbnail is getting all chewed up from opening the cover so what is this light good for, if you use the attached base and are reading at a desk or a similar stationary area the light is not bad at all, also if you are doing precision work at a stationary location where a magnifying glass would be useful then this would be a nice set, however i feel in each of these scenarios there are better products than this light this is one of the few times where i have to say that i feel a product i was lucky enough to review is destined for the trash, my light does not work reliably and it is too heavy and awkward to clip to a book in my opinion, i would have given the product a second star for its limited application of close up work but the reliability of this product is an issue for me, i would have to recommend passing on this product 1.0 0  BlobText  0.13168351815612103\n"
     ]
    }
   ],
   "source": [
    "idx = incorrect[1]\n",
    "print(type(idx))\n",
    "for each in incorrect[:10]:\n",
    "    idx = each\n",
    "    text = x_test_text[idx]\n",
    "    print(idx, text, cls_pred[idx], cls_true[idx], \" BlobText \",\n",
    "         TextBlob(text).sentiment.polarity)\n"
   ]
  },
  {
   "cell_type": "code",
   "execution_count": 1108,
   "metadata": {},
   "outputs": [
    {
     "data": {
      "text/html": [
       "<div>\n",
       "<style scoped>\n",
       "    .dataframe tbody tr th:only-of-type {\n",
       "        vertical-align: middle;\n",
       "    }\n",
       "\n",
       "    .dataframe tbody tr th {\n",
       "        vertical-align: top;\n",
       "    }\n",
       "\n",
       "    .dataframe thead th {\n",
       "        text-align: right;\n",
       "    }\n",
       "</style>\n",
       "<table border=\"1\" class=\"dataframe\">\n",
       "  <thead>\n",
       "    <tr style=\"text-align: right;\">\n",
       "      <th></th>\n",
       "      <th>CleanedJoin</th>\n",
       "      <th>overall</th>\n",
       "      <th>rating</th>\n",
       "      <th>SentimentModel</th>\n",
       "    </tr>\n",
       "  </thead>\n",
       "  <tbody>\n",
       "    <tr>\n",
       "      <th>7735</th>\n",
       "      <td>so heres the thing that no one else wants to say, the thing is built like a piece of shit, it jingles and rattles and parts are always moving around, i used this times and it shorted out, the lights started flashing and it got hot, i called line and they determined it was bad so they opened a ticket, fyi if you want to deal with the worst customer service in the industry just call line not only do they not know what they were talking about but in the backgrounc i could hear them lauging and joking like there was a big party going on, i wish i would have never bought this but hopefully i get a new one soon, well see how helpful they really are</td>\n",
       "      <td>1.0</td>\n",
       "      <td>0</td>\n",
       "      <td>[-0.44696969696969685, 0.0]</td>\n",
       "    </tr>\n",
       "    <tr>\n",
       "      <th>7736</th>\n",
       "      <td>i have always loved line this product sounded great for about an hour then total gave up, it went dead, i changed channels and it worked for like a minute then went dead, i am sorry to say that i returned it, my akg wireless guitar bug has lasted years with no drop outs i am really disappointed</td>\n",
       "      <td>1.0</td>\n",
       "      <td>0</td>\n",
       "      <td>[-1.15, 0.0]</td>\n",
       "    </tr>\n",
       "    <tr>\n",
       "      <th>7750</th>\n",
       "      <td>i was very excited to try this pedal when it finally arrived, just to find out it wasn t working, it is defective and because i brought it to mexico now i can not get a refund or a replacement i will try to fix it through some local electrician or something, very dissapointing</td>\n",
       "      <td>1.0</td>\n",
       "      <td>0</td>\n",
       "      <td>[0.44375000000000003, 1.0]</td>\n",
       "    </tr>\n",
       "    <tr>\n",
       "      <th>7850</th>\n",
       "      <td>one of the ball bearings designed to catch and lock the side mounted to the strap dislodged and my very expensive fender custom shop telecaster fell flat on the ground</td>\n",
       "      <td>1.0</td>\n",
       "      <td>0</td>\n",
       "      <td>[-0.3375, 0.0]</td>\n",
       "    </tr>\n",
       "    <tr>\n",
       "      <th>7911</th>\n",
       "      <td>sounded good, warmer sounding than stock tubes in my ac, i rocked all night and loved the sound, next day i turned it on my amp was crackling out and wiping out the signal i checked the tubes and one of them was making violent purple flashes before the signal burnt out, i then noticed that one of my fuses blew out as well, i changed out the fuse and checked again and the tube was still doing the same thing so i just swapped the tubes back for atock, id like to see a real set of jjs im sure one of them was a dud</td>\n",
       "      <td>1.0</td>\n",
       "      <td>0</td>\n",
       "      <td>[1.2, 1.0]</td>\n",
       "    </tr>\n",
       "    <tr>\n",
       "      <th>7992</th>\n",
       "      <td>i bought these just to add a layer of sound in my blues tunes i record the notes do not bend easily if you think your will cheat the big boys harps youll be dissapointed quickly these are little more than toys compared to dollar harps they feel cheap but have a decent sound i dont know if they will last but to make harp noises without decent bends ill use these sparingly jim</td>\n",
       "      <td>2.0</td>\n",
       "      <td>0</td>\n",
       "      <td>[0.17604166666666665, 1.0]</td>\n",
       "    </tr>\n",
       "    <tr>\n",
       "      <th>7996</th>\n",
       "      <td>i play harp with some some that i perform, i found that all of these harmonica s the note s are off and it has it is hard to play i have g blues harp that i compared the g harp to and the notes were a little off, the c harp was terrible, that said the only thing i like about this order is the case, i going to see if i can return them for store credit</td>\n",
       "      <td>1.0</td>\n",
       "      <td>0</td>\n",
       "      <td>[-1.2395833333333333, 0.0]</td>\n",
       "    </tr>\n",
       "    <tr>\n",
       "      <th>8007</th>\n",
       "      <td>too thick no flexibility, sounds really harsh and like it is ruining my ukulele strings, tried on bass too again with less than satisactory results</td>\n",
       "      <td>1.0</td>\n",
       "      <td>0</td>\n",
       "      <td>[-0.6583333333333333, 0.0]</td>\n",
       "    </tr>\n",
       "    <tr>\n",
       "      <th>8010</th>\n",
       "      <td>the picks work well with bass but they are just too thick to use with ukulele, the pics also shed easily making your instrument dusty in no time</td>\n",
       "      <td>2.0</td>\n",
       "      <td>0</td>\n",
       "      <td>[-0.20833333333333337, 0.0]</td>\n",
       "    </tr>\n",
       "    <tr>\n",
       "      <th>8036</th>\n",
       "      <td>i guess the tension on these is more than my uke was used to and when i put them on the neck became severely bowed after a day or two, sounded lovely for the first hour that has that is why two stars, granted my uke is one of the cheaper lanikais if you have a better built uke it might be able to take these but i simply can not recommend personally</td>\n",
       "      <td>2.0</td>\n",
       "      <td>0</td>\n",
       "      <td>[1.125, 1.0]</td>\n",
       "    </tr>\n",
       "    <tr>\n",
       "      <th>8070</th>\n",
       "      <td>for any usable tones while playing live the best bet is to plug it into a tube power amp, direct to mixer or running it through a solid state amp is very uninspiring i did not like the recorded tones either much rather preferred amplitube if micing a real tube amp was not an option that being said it is good for practice and song writing, used this for more than a year and finally sold it, that s the other thing with items like this they lose value real quick once the next version comes out</td>\n",
       "      <td>2.0</td>\n",
       "      <td>0</td>\n",
       "      <td>[1.1765151515151513, 1.0]</td>\n",
       "    </tr>\n",
       "    <tr>\n",
       "      <th>8076</th>\n",
       "      <td>i bought an ibanez concert size uke, the body is inches wide less than the inches stated for this stand, my uke does not fit well in the stand, why, the twin forks at the base that hold the instrument are both too narrow and the curve downward from the stand is not proper for this uke, thus any uke that is concert size or greater, so most ukes do not fit well, they fit just not well i did and you will likely need this advice remove the bottom fork turn it upside down and reinstall it no tools required, now the curve of it is upward and the uke better sits on it, the fit is improved, not great but better, one stand can not fit all instruments but my full size guitar stands hold most all guitars, this small stand does not hold most all ukes although its neat how it folds up like the video here on amazon reviews it is very heavy for its size, this is not a lightweight stand, at all, surprisingly heavy and not one that you will be lugging around day to day in your uke gig bag trust me i wish i got the hercules standhercules gs b mini stand, all hercules stuff is superb and my friend has one for his uke and says it has it is sublime i do not own it myself so i just present this so you can research it and it has it is reviews on amazon, i own other herc stuff and it has it is all ideal and for a few bucks more i could have had that lifelong use stand instead of this one, oh well for once i got cheap, and got burned for it all in all not great this tiny stand, one stand fits not all, perhaps a violin or something would be better on this stand but i think the general shape of it is less than ideal for most instruments, you may think you can bend the lower forks but it has it is hard to do will require a vice and if you see on the amazon pictures the lower fork just sits in two plastic grooves so if you splay it out like it should be you shall you will change the way it fits in the grooves and thus it won t work at all, it s just an imperfect design, my take on it your mileage may vary, bye bye</td>\n",
       "      <td>2.0</td>\n",
       "      <td>0</td>\n",
       "      <td>[1.7889814814814813, 1.0]</td>\n",
       "    </tr>\n",
       "    <tr>\n",
       "      <th>8077</th>\n",
       "      <td>at the time i bought was, mine arrived broken so it had gone back, reality is that it is not that good regardless of mine being broken, not upset about that stuff happens, it is just not a good stand, light construcion unstable topples easily and a likely candidate to be broken if dropped, the protective materails on the stand to keep product from scratching your instrument are the soft shiny runner like materail and it sticks to my instrument s neck, so i pick up uke and i get a stand until the stickiness is seprated by gravity, happened every time, yes i tried out the stand even though broken and it proved to be a bad choice, back it has gone, stars to amazon s return policy thouh</td>\n",
       "      <td>1.0</td>\n",
       "      <td>0</td>\n",
       "      <td>[-0.7416666666666666, 0.0]</td>\n",
       "    </tr>\n",
       "    <tr>\n",
       "      <th>8091</th>\n",
       "      <td>let me first start off with the sizing, when they say fits soundholes from they really mean it you are going to have a hard time trying to fit it even if it is smaller than the specifications i know i did, my friend s oscar schmidt sized guitar was just that much smaller and it did not fit well, the edges did not catch completely and it looks terrible my classical guitar had a similarly sized soundhole but because of the much wider fretboard at the edge of the soundhole it did not fit at all, you could try cutting the edges off the oport at the fretboard the main issue is the sound yes it does make the sound fuller when you are strumming slightly but enough to tell however it does so at the expense of the sustain and harmonic overtunes fingerpicking just does not sound as nice as before even though the guitar is noticeably better on the bass notes for me that does not justify it a simple bone saddle does way better than this and it cost less another thing i found out was what was amazon does to stuff others return they resell as brand new if it looks brand new the packaging on mine came slightly torn and looked as if it had been opened, does it matter, in practical terms no not for this sort of item i guess that is how amazon keeps their prices low yet with good customer service and return policies</td>\n",
       "      <td>2.0</td>\n",
       "      <td>0</td>\n",
       "      <td>[0.3857954545454545, 1.0]</td>\n",
       "    </tr>\n",
       "    <tr>\n",
       "      <th>8097</th>\n",
       "      <td>perhaps it may do something of worth for you but if you have one of the finer made guitars this will probably do more to subtract than add to the sound, be advised that i did not use it in front of a microphone where perhaps the shape of this internal plastic cone might do something you like in directing the sound to a mike, as strictly an issue of natural acoustics i found it deflected sound in a way that seemed to decrease my guitar s output and resonance, i have an aria ad which is a very well made chinese attempt at cloning a martin d, it can not compete with the real martin but for the money i paid it was a great buy and it is known as a sound canon for it has it is great natural volume, adding the o port deadened the lows, it just did not provide any plus at all anywhere else, it is however pretty inexpensive so if you are a nut for nuance and you want to try it for yourself it has it is not going to break your bank, but again if you have one of the better makes of guitar where a real person voiced it in his or her manufacturing process this plastic gizmo will likely subtract from that and not add anything, i am an acoustic nut and i had i would love to have a sound port in the side of my guitar to hear everything that goes on inside that box, the o port seemed to corral the sound and shoot it out that plastic horn not allowing me to hear some of the resonance of the sound bouncing back off the back and sides below the sound hole, sorry to be a crab about it i like planet waves stuff and they were very good to me personally in the humidipak recall a few years back, but this product was a waste to me</td>\n",
       "      <td>2.0</td>\n",
       "      <td>0</td>\n",
       "      <td>[2.4253333333333336, 1.0]</td>\n",
       "    </tr>\n",
       "    <tr>\n",
       "      <th>8103</th>\n",
       "      <td>i thought it would protect my desk but the pad is almost like that rubber they put under rugs so they will not slip around, maybe i should get that for cheaper i accidently bought large ooh boy is it like windshield sun reflector size, sort of just a personal opinion review i suppose</td>\n",
       "      <td>2.0</td>\n",
       "      <td>0</td>\n",
       "      <td>[0.21428571428571427, 1.0]</td>\n",
       "    </tr>\n",
       "    <tr>\n",
       "      <th>8136</th>\n",
       "      <td>there is a problem with the design, when you move the head the little plastic pieces that hold the ball that allows you to rotate the head just break off, the tuner itself is great but the product fails because it broke in minutes</td>\n",
       "      <td>1.0</td>\n",
       "      <td>0</td>\n",
       "      <td>[-0.03749999999999998, 0.0]</td>\n",
       "    </tr>\n",
       "    <tr>\n",
       "      <th>8142</th>\n",
       "      <td>for some reason this one just does not hit the notes right, it looks like it should tune more precise than other models but the tone is way off for mine anyway, i have tried it several times and it just does not tune right, then i recheck with my other brand and it has it is not even close, maybe i just got a bad one, i like that this one shuts off automatically but again it has it is way off tune i did like the style size and color but it does not work right so it has it is like running with a flat tire</td>\n",
       "      <td>1.0</td>\n",
       "      <td>0</td>\n",
       "      <td>[-0.0077380952380951, 0.0]</td>\n",
       "    </tr>\n",
       "    <tr>\n",
       "      <th>8147</th>\n",
       "      <td>i ordered this from the amazon warehouse as a refurbished item, it was properly packaged but the base was broken and poorly glued together, the glue did not hold so the clamping base separated from the stem that allows the meter to swivel, this was unfixable so i sent it back for a refund, warehouse deals are not such good deals</td>\n",
       "      <td>1.0</td>\n",
       "      <td>0</td>\n",
       "      <td>[-0.8500000000000002, 0.0]</td>\n",
       "    </tr>\n",
       "    <tr>\n",
       "      <th>8172</th>\n",
       "      <td>first time i tried to use it it broke in my hand, it is now taped together while i wait for a different kind to replace it</td>\n",
       "      <td>2.0</td>\n",
       "      <td>0</td>\n",
       "      <td>[0.55, 1.0]</td>\n",
       "    </tr>\n",
       "    <tr>\n",
       "      <th>8225</th>\n",
       "      <td>very accurate tuner but it broke within the first week i used it, the little head on the tuner is connected with an arm and a ball and even when you are gently the three prongs holding the ball joint can crack and break rendering it useless, i will try to get a replacement now as a tuner it was really quite good but just not durable which is kinda what you need</td>\n",
       "      <td>1.0</td>\n",
       "      <td>0</td>\n",
       "      <td>[0.6725, 1.0]</td>\n",
       "    </tr>\n",
       "    <tr>\n",
       "      <th>8263</th>\n",
       "      <td>like the other one star reviewers my problem is that the head broke off, i tried to glue it back on but it just fell apart even worse when i tried to do that, if you buy this you really need to baby it, my advice is look for a more sturdy model</td>\n",
       "      <td>1.0</td>\n",
       "      <td>0</td>\n",
       "      <td>[0.375, 1.0]</td>\n",
       "    </tr>\n",
       "    <tr>\n",
       "      <th>8332</th>\n",
       "      <td>tuner works great, both by vibration and mic only real problem is the fact that the joint between the tuner and the clip is really weak, mine broke off not even a year old</td>\n",
       "      <td>2.0</td>\n",
       "      <td>0</td>\n",
       "      <td>[0.8416666666666667, 1.0]</td>\n",
       "    </tr>\n",
       "    <tr>\n",
       "      <th>8343</th>\n",
       "      <td>stopped working all by itself, fresh battery did not help fortunately i have another plus a korg and an two intellitouch, i have fiddles and guitars the intellitouch is simply champion,</td>\n",
       "      <td>2.0</td>\n",
       "      <td>0</td>\n",
       "      <td>[0.35, 1.0]</td>\n",
       "    </tr>\n",
       "    <tr>\n",
       "      <th>8408</th>\n",
       "      <td>what is the sound in the background of the hissssssssssssss, my guitar i guess but who cares, i honestly bought this gizmo for the extremely good hisssssssssssssing nothing else a question to amazon companies producing objects that are nothing else than a lemon should not be prosecuted p s i think it is too polluting for low cost items to waste again in paper box transportation restocking work refund work and so on, this is why of the time i do not ask for my money back but sell this lemon on amazon online with other websites and in all the instrument shops worldwide in a total bad faith while testing nobody in irig noticed the overwhelming hisssssssing, well that is beyond me</td>\n",
       "      <td>1.0</td>\n",
       "      <td>0</td>\n",
       "      <td>[0.6100000000000001, 1.0]</td>\n",
       "    </tr>\n",
       "    <tr>\n",
       "      <th>8410</th>\n",
       "      <td>no matter how many times i hard reset my gs no success, there is no problem with my jack and the phone is in pristine condition no problems until now, there is definitely a connection and communication because the mic and sample track work but that has that is about it, i registered my amplitude app and followed all of the instructions on the box, i tested the irig with an iphone and was able to get it operating i am giving this two stars because it did work on my friend s iphone but for my purposes with a gs it is a brick, if anyone has any suggestions that lead to successful operation i will re rate the product</td>\n",
       "      <td>2.0</td>\n",
       "      <td>0</td>\n",
       "      <td>[1.2694444444444444, 1.0]</td>\n",
       "    </tr>\n",
       "    <tr>\n",
       "      <th>8415</th>\n",
       "      <td>this is a pretty decent thing for practicing your guitar through your iphone or ipad, but if you want to use it for any recording at all even demos i strongly recommend going for the irighd, the hd sounds waaaaaay better and the build quality is great, this guy not so much, there was always a bit of noise with my old irig and it seemed to get worse over time, it also felt kinda fragile and chinsy, if you look you can usually find the hd somewhere for a difference is significant but the jump in quality and likely longevity of the product is definitely worth it, i upgraded and would absolutely do it again</td>\n",
       "      <td>2.0</td>\n",
       "      <td>0</td>\n",
       "      <td>[1.6479166666666663, 1.0]</td>\n",
       "    </tr>\n",
       "    <tr>\n",
       "      <th>8453</th>\n",
       "      <td>bought this for a friend, cheap plastic enclosure, affects noticeably your guitars tone and is not exactly a useable delay, he tried to use it for his cleans for our punk ska band but there was no messing with the controls to get a suitable delay, stay away from this one and get a better used pedal</td>\n",
       "      <td>2.0</td>\n",
       "      <td>0</td>\n",
       "      <td>[1.3250000000000002, 1.0]</td>\n",
       "    </tr>\n",
       "    <tr>\n",
       "      <th>8493</th>\n",
       "      <td>my review s for this have changed a few times but no more, when i first got it i liked the sound though it did sound a little cold and digital and this is from someone wanting to record shoegaze dreampop which by it has it is nature is full of cold tones reverb chorus delay shimmering a la cocteau twins chapterhouse lush so at first i thought it was great, then the fuse software was even cooler all this customizing the sound though it did sound noisy and needed the compressor to take some of the noise away after all of that i finally realized i was trying to ignore the fizz crackle hair it has it is called a few things, go to the fender forums and look it up or search it on yahoo google the thing happening with this amp i think is a few things, fender guitars sound best through it which is silly if you do not own a fender and i do not and refuse to get a squire as that body is so played out i wanted anything but a strat body unless i have a grand to pay for an older one i am not going to get a rinky dink one and i would only get one after i got like other dream guitars first so everyone has different problems with pickup quality and guitar quality, also playing into a modeling amp is like playing into a computer that may be fine for some younger folks but to a lot of people i have read the complaints i was trying not to realize as i did not feel like having to pay for shipping to return it but i did and i am so glad i did, i almost got a peavey vypyr and i am glad i did not, this amp to be fair is really close to being really cool but that sound problem which i read on fender s own forum website fender acknowledges it exists but does nothing to fix it in future models, sorry but that has that is some big company b s i have been reading of people saying it sounds cold and lifeless and all that and tube this and tube that and i was like what music snobs and what have you, but i realized that i am a music snob, i love the music i listen to more than anything and feel like the music i create should have a life to it as well, so i returned the mustang and almost got a marshall mg watt cause i wanted an amp with a clean sound that did not have that crackle sound but thankfully i caught myself before that return as after that it would have been final the decision i did make i think will be great for me as i had i would rather start with a good real tone then get the effects i need, i kept reading reviews of these teenagers that had not played for more than a year or two or so saying throw away your pedals you will not need them and i was going to get pedals but do not need to now that has that is kind of the danger of these amps they end up making everyone sound the same, no matter what tweaking i was doing on the mustang it sounded the same but in a different costume i think this amp and modeling amps are best for beginning guitarists and i have seen some old timers getting an amp for home use after years maybe that has that is for them but i needed something to record with and practice and get the best most real tone possible so that means tube amp i think if i played this at a gc i would not of gotten it and i just tried to make myself like it</td>\n",
       "      <td>1.0</td>\n",
       "      <td>0</td>\n",
       "      <td>[2.4594543650793654, 1.0]</td>\n",
       "    </tr>\n",
       "    <tr>\n",
       "      <th>8516</th>\n",
       "      <td>could be a fluke but my unit was defective straight out of the box, plugged it into the macbook pro fired up garageband and right away it has it is midi connectivity was intermittent, then it had some stuck notes, then it stopped being recognized at all, it still got power from the usb bus but no midi no sound, the jack was visibly wiggly too so you are mileage may vary but mine obviously had a defective usb port on the back, rather than bust it open and get soldering iron i returned it and bought an m audio oxygen for more</td>\n",
       "      <td>2.0</td>\n",
       "      <td>0</td>\n",
       "      <td>[0.5357142857142857, 1.0]</td>\n",
       "    </tr>\n",
       "    <tr>\n",
       "      <th>8517</th>\n",
       "      <td>with drum pads i basically either get velocity or max, and i have to really hammer on them to trigger, hurts after a while likes size assignable knobs works good w ableton livedislikes drum pads keys are pretty cheesy but workable and expected for this price and size i am looking to upgrade after a month want better drum pads,</td>\n",
       "      <td>2.0</td>\n",
       "      <td>0</td>\n",
       "      <td>[0.37, 1.0]</td>\n",
       "    </tr>\n",
       "    <tr>\n",
       "      <th>8518</th>\n",
       "      <td>works as advertised but the keys are stiff, pads take too much presure to activate, nice that i dont need another interface to connect it to my laptop after the first few uses the usb socket broke and fell off into the unit rendering it useless, wrote to dealer that was listed as selling it to me thru amazon only to have them tell me the wrong seller was listed, i had registered it with akai already so i complained to them and they sent me a new one, i had to pay shipping back the old one to them even though it was a defective product not recommending this product</td>\n",
       "      <td>1.0</td>\n",
       "      <td>0</td>\n",
       "      <td>[-0.2586038961038961, 0.0]</td>\n",
       "    </tr>\n",
       "    <tr>\n",
       "      <th>8520</th>\n",
       "      <td>this unit might be great if you have child hands the keys on the keyboard is soooo small don t get this if you have man hands, wtf u date the description akai wtf</td>\n",
       "      <td>1.0</td>\n",
       "      <td>0</td>\n",
       "      <td>[-0.22499999999999998, 0.0]</td>\n",
       "    </tr>\n",
       "    <tr>\n",
       "      <th>8553</th>\n",
       "      <td>a dull inept version of a tubescreamer, just sounds flat and boring, not very inspiring, at all, then again i never did really like ts s</td>\n",
       "      <td>1.0</td>\n",
       "      <td>0</td>\n",
       "      <td>[-0.796474358974359, 0.0]</td>\n",
       "    </tr>\n",
       "    <tr>\n",
       "      <th>8555</th>\n",
       "      <td>really wanted to like this one because i loved the price, there is no way this is true bypass, the one i got was defective out of the box and so when i checked i saw the circuitry did not support pass through, maybe it is because i received a defective one but i still would not try this brand name, i am now stuck saving up for a full tone or something</td>\n",
       "      <td>1.0</td>\n",
       "      <td>0</td>\n",
       "      <td>[1.15, 1.0]</td>\n",
       "    </tr>\n",
       "    <tr>\n",
       "      <th>8560</th>\n",
       "      <td>i honestly was not impressed, it looked cheap sounded cheap what else is there to say you get what you pay for, another chinese copy of a tubescreamer</td>\n",
       "      <td>2.0</td>\n",
       "      <td>0</td>\n",
       "      <td>[0.45, 1.0]</td>\n",
       "    </tr>\n",
       "    <tr>\n",
       "      <th>8588</th>\n",
       "      <td>i can not say much about this product, i tried it twice, it seemed like it kind of cleaned the strings but i really did not notice any great change, the strings did not sound betteer or brighter, now it sits in my drawer and collects dust, maybe i will try it again at some point but</td>\n",
       "      <td>2.0</td>\n",
       "      <td>0</td>\n",
       "      <td>[0.5333333333333334, 1.0]</td>\n",
       "    </tr>\n",
       "    <tr>\n",
       "      <th>8594</th>\n",
       "      <td>i honestly do not see the purpose, it does not seem to have improved my experience with my strings on my guitar, i have used it a few times but do not see the benefit edit after coming back to read the other reviews it has it is obvious what happened this was shipped to me completely dry, there was no grease lubricant qualities, it was like a dry erase pad, they need to improve their quality control, i am changing my rating from star to star, they have to find a way to fully secure this gap or maybe consider enhanced vacuum sealing packaging i would suggest if you receive this product and it has not dried out yet to place this product in a air tight ziplock bag to reduce the likelihood of this drying out</td>\n",
       "      <td>1.0</td>\n",
       "      <td>0</td>\n",
       "      <td>[-0.36672619047619043, 0.0]</td>\n",
       "    </tr>\n",
       "    <tr>\n",
       "      <th>8620</th>\n",
       "      <td>the cable arrived on time and the it looked nice for ten minutes, i don t like how the tips screw on and off and the fabric shielding slid out of place the first time i used it, the cable worked well for about two weeks but then it lost current in the middle of a session and i lost sound, this cable is complete garbage, never again</td>\n",
       "      <td>1.0</td>\n",
       "      <td>0</td>\n",
       "      <td>[0.7833333333333333, 1.0]</td>\n",
       "    </tr>\n",
       "    <tr>\n",
       "      <th>8631</th>\n",
       "      <td>i purchased this amp locally and initially i thought it was pretty cool as it was my first modeling amp lots of potential for a limitless variety of sounds, this was my first fender amp as well the presets were neat and all but when i played around with some of the standard models just the amp model no effects just to see how it has it is clean sound was the amp just hissed as if i had the volume cranked with a distortion pedal engaged at max, the master volume was at and no effects were turned on i have never heard a clean channel with so much noise behind it even when there was no guitar plugged in all i could hear while playing was the underlying hiss coming through the notes very distracting and it drove me nuts, this is not a ground loop issue my other amps sound just fine at bedroom volumes and beyond it has it is clearly a defect with this product, dirty pre sets with lots of gain and extra volume sound even worse again even when nothing is plugged in and at low master volume, you d think i was running a few super high gain stomp boxes with a red hot single coil but nothing was plugged in and all i get is staticy hiss at low levels, wtf the next issue is the weird fizz sound that was especially noticeable on the low e after striking a string instead of a clean note there has there is a weird fizzy digital artifact like sound that surrounds the note and fades as the string stops moving, it almost sounds like cymbals crashing on a poorly authored mp file at a low bit rate and frequency, whole chords break down and decay in this fizzy envelope and really makes this thing unplayable the weird thing is neither one of these problems arose with head phones plugged in or when this was connected to my computed via either usb or the line in but i am not going to be stuck playing a watt amp through my pc or cans, i got the iii instead of the ii because of the power behind it and the touted celestion speaker read the many reviews online or forum posts on many of the guitar amp related websites there has there is a page forum post on the fender support site that is quite interesting and you shall you will find that these amps are having issues, apparently the mustang i and ii do not have these issues and the firmware update did nothing to correct my amp, is this a hardware issue software issue speaker issue, there is speculation that the lcd screen which is not present on the i or ii may be causing problems but no one seems to know for sure and fender does not seem to care definitely try this before you buy it, you may get an amp that does not have these problems you may not notice the sounds or you may not even care let your ears tell you what sounds good this amp has a lot of potential for great sounds and it would have been nice to have faithful modeling of some great vintage amps but in my opinion technical issues have made this amp sound like complete garbage, i am disappointed that fender has not yet correct what ever is wrong some folks claim that fender reps say that know what is wrong but i am not taking that as a fact but they have acknowledged that there is something wrong whatever i took this back after a few days of playing with it trying to eliminate the junk sounds without success the built in noise gate helps a little but sucks tone and i picked up a watt marshall instead, guess what, the clean channel has zero hum or buzz even when cranked, how about that, even when i engage a dirt box on one of the dirty channels there is minimal noise i shall i will knock fender for not correcting this issue regardless of what it is and what caused it but they do have some other nice amps that i had i would like to try, but before i buy another fender amp i shall i will take it for a test drive and i suggest you do the same before picking up one of these turds</td>\n",
       "      <td>1.0</td>\n",
       "      <td>0</td>\n",
       "      <td>[1.1958998144712432, 1.0]</td>\n",
       "    </tr>\n",
       "    <tr>\n",
       "      <th>8661</th>\n",
       "      <td>tc is very overrated many pedals i have out performs this in my opinion, the vintage bbds mxr vintage delay morley s echo for example just take it, but for newer pedals i liked the mxr carbon copy and ibanex de much better</td>\n",
       "      <td>2.0</td>\n",
       "      <td>0</td>\n",
       "      <td>[0.9, 1.0]</td>\n",
       "    </tr>\n",
       "    <tr>\n",
       "      <th>8687</th>\n",
       "      <td>it is ok as long as you do not bump your guitar else boom it hits the floor, i do not trust it and amazon has it way over priced, it will work if you put a nail in it to hold the holder in place</td>\n",
       "      <td>2.0</td>\n",
       "      <td>0</td>\n",
       "      <td>[0.225, 1.0]</td>\n",
       "    </tr>\n",
       "  </tbody>\n",
       "</table>\n",
       "</div>"
      ],
      "text/plain": [
       "                                                                                                                                                                                                                                                                                                                                                                                                                                                                                                                                                                                                                                                                                                                                                                                                                                                                                                                                                                                                                                                                                                                                                                                                                                                                                                                                                                                                                                                                                                                                                                                                                                                                                                                                                                                                                                                                                                                                                                                                                                                                                                                                                                                                                                                                                                                                                                                                                                                                                                                                                                                                                                                                                                                                                                                                                                                                                                                                                                                                                                                                                                                                                                                                                                                                                                                                                                                                                                                                                                                                                                                                                                                                                                                                                                                                                                                                                                                                                                             CleanedJoin  \\\n",
       "7735                                                                                                                                                                                                                                                                                                                                                                                                                                                                                                                                                                                                                                                                                                                                                                                                                                                                                                                                                                                                                                                                                                                                                                                                                                                                                                                                                                                                                                                                                                                                                                                                                                                                                                                                                                                                                                                                                                                                                                                                                                                                                                                                                                                                                                                                                                                                                                                                                                                                                                                                                                                                                                                                                                                                                                                                                                                                                                                                                                                                                                                                                                                                                                                                                                                                                                          so heres the thing that no one else wants to say, the thing is built like a piece of shit, it jingles and rattles and parts are always moving around, i used this times and it shorted out, the lights started flashing and it got hot, i called line and they determined it was bad so they opened a ticket, fyi if you want to deal with the worst customer service in the industry just call line not only do they not know what they were talking about but in the backgrounc i could hear them lauging and joking like there was a big party going on, i wish i would have never bought this but hopefully i get a new one soon, well see how helpful they really are   \n",
       "7736                                                                                                                                                                                                                                                                                                                                                                                                                                                                                                                                                                                                                                                                                                                                                                                                                                                                                                                                                                                                                                                                                                                                                                                                                                                                                                                                                                                                                                                                                                                                                                                                                                                                                                                                                                                                                                                                                                                                                                                                                                                                                                                                                                                                                                                                                                                                                                                                                                                                                                                                                                                                                                                                                                                                                                                                                                                                                                                                                                                                                                                                                                                                                                                                                                                                                                                                                                                                                                                                                                                                                                                                                                                                             i have always loved line this product sounded great for about an hour then total gave up, it went dead, i changed channels and it worked for like a minute then went dead, i am sorry to say that i returned it, my akg wireless guitar bug has lasted years with no drop outs i am really disappointed   \n",
       "7750                                                                                                                                                                                                                                                                                                                                                                                                                                                                                                                                                                                                                                                                                                                                                                                                                                                                                                                                                                                                                                                                                                                                                                                                                                                                                                                                                                                                                                                                                                                                                                                                                                                                                                                                                                                                                                                                                                                                                                                                                                                                                                                                                                                                                                                                                                                                                                                                                                                                                                                                                                                                                                                                                                                                                                                                                                                                                                                                                                                                                                                                                                                                                                                                                                                                                                                                                                                                                                                                                                                                                                                                                                                                                               i was very excited to try this pedal when it finally arrived, just to find out it wasn t working, it is defective and because i brought it to mexico now i can not get a refund or a replacement i will try to fix it through some local electrician or something, very dissapointing   \n",
       "7850                                                                                                                                                                                                                                                                                                                                                                                                                                                                                                                                                                                                                                                                                                                                                                                                                                                                                                                                                                                                                                                                                                                                                                                                                                                                                                                                                                                                                                                                                                                                                                                                                                                                                                                                                                                                                                                                                                                                                                                                                                                                                                                                                                                                                                                                                                                                                                                                                                                                                                                                                                                                                                                                                                                                                                                                                                                                                                                                                                                                                                                                                                                                                                                                                                                                                                                                                                                                                                                                                                                                                                                                                                                                                                                                                                                                             one of the ball bearings designed to catch and lock the side mounted to the strap dislodged and my very expensive fender custom shop telecaster fell flat on the ground   \n",
       "7911                                                                                                                                                                                                                                                                                                                                                                                                                                                                                                                                                                                                                                                                                                                                                                                                                                                                                                                                                                                                                                                                                                                                                                                                                                                                                                                                                                                                                                                                                                                                                                                                                                                                                                                                                                                                                                                                                                                                                                                                                                                                                                                                                                                                                                                                                                                                                                                                                                                                                                                                                                                                                                                                                                                                                                                                                                                                                                                                                                                                                                                                                                                                                                                                                                                                                                                                                                                                                                                sounded good, warmer sounding than stock tubes in my ac, i rocked all night and loved the sound, next day i turned it on my amp was crackling out and wiping out the signal i checked the tubes and one of them was making violent purple flashes before the signal burnt out, i then noticed that one of my fuses blew out as well, i changed out the fuse and checked again and the tube was still doing the same thing so i just swapped the tubes back for atock, id like to see a real set of jjs im sure one of them was a dud   \n",
       "7992                                                                                                                                                                                                                                                                                                                                                                                                                                                                                                                                                                                                                                                                                                                                                                                                                                                                                                                                                                                                                                                                                                                                                                                                                                                                                                                                                                                                                                                                                                                                                                                                                                                                                                                                                                                                                                                                                                                                                                                                                                                                                                                                                                                                                                                                                                                                                                                                                                                                                                                                                                                                                                                                                                                                                                                                                                                                                                                                                                                                                                                                                                                                                                                                                                                                                                                                                                                                                                                                                                                                                                                           i bought these just to add a layer of sound in my blues tunes i record the notes do not bend easily if you think your will cheat the big boys harps youll be dissapointed quickly these are little more than toys compared to dollar harps they feel cheap but have a decent sound i dont know if they will last but to make harp noises without decent bends ill use these sparingly jim   \n",
       "7996                                                                                                                                                                                                                                                                                                                                                                                                                                                                                                                                                                                                                                                                                                                                                                                                                                                                                                                                                                                                                                                                                                                                                                                                                                                                                                                                                                                                                                                                                                                                                                                                                                                                                                                                                                                                                                                                                                                                                                                                                                                                                                                                                                                                                                                                                                                                                                                                                                                                                                                                                                                                                                                                                                                                                                                                                                                                                                                                                                                                                                                                                                                                                                                                                                                                                                                                                                                                                                                                                                                                                                                                                    i play harp with some some that i perform, i found that all of these harmonica s the note s are off and it has it is hard to play i have g blues harp that i compared the g harp to and the notes were a little off, the c harp was terrible, that said the only thing i like about this order is the case, i going to see if i can return them for store credit   \n",
       "8007                                                                                                                                                                                                                                                                                                                                                                                                                                                                                                                                                                                                                                                                                                                                                                                                                                                                                                                                                                                                                                                                                                                                                                                                                                                                                                                                                                                                                                                                                                                                                                                                                                                                                                                                                                                                                                                                                                                                                                                                                                                                                                                                                                                                                                                                                                                                                                                                                                                                                                                                                                                                                                                                                                                                                                                                                                                                                                                                                                                                                                                                                                                                                                                                                                                                                                                                                                                                                                                                                                                                                                                                                                                                                                                                                                                                                                 too thick no flexibility, sounds really harsh and like it is ruining my ukulele strings, tried on bass too again with less than satisactory results   \n",
       "8010                                                                                                                                                                                                                                                                                                                                                                                                                                                                                                                                                                                                                                                                                                                                                                                                                                                                                                                                                                                                                                                                                                                                                                                                                                                                                                                                                                                                                                                                                                                                                                                                                                                                                                                                                                                                                                                                                                                                                                                                                                                                                                                                                                                                                                                                                                                                                                                                                                                                                                                                                                                                                                                                                                                                                                                                                                                                                                                                                                                                                                                                                                                                                                                                                                                                                                                                                                                                                                                                                                                                                                                                                                                                                                                                                                                                                                    the picks work well with bass but they are just too thick to use with ukulele, the pics also shed easily making your instrument dusty in no time   \n",
       "8036                                                                                                                                                                                                                                                                                                                                                                                                                                                                                                                                                                                                                                                                                                                                                                                                                                                                                                                                                                                                                                                                                                                                                                                                                                                                                                                                                                                                                                                                                                                                                                                                                                                                                                                                                                                                                                                                                                                                                                                                                                                                                                                                                                                                                                                                                                                                                                                                                                                                                                                                                                                                                                                                                                                                                                                                                                                                                                                                                                                                                                                                                                                                                                                                                                                                                                                                                                                                                                                                                                                                                                                                                      i guess the tension on these is more than my uke was used to and when i put them on the neck became severely bowed after a day or two, sounded lovely for the first hour that has that is why two stars, granted my uke is one of the cheaper lanikais if you have a better built uke it might be able to take these but i simply can not recommend personally   \n",
       "8070                                                                                                                                                                                                                                                                                                                                                                                                                                                                                                                                                                                                                                                                                                                                                                                                                                                                                                                                                                                                                                                                                                                                                                                                                                                                                                                                                                                                                                                                                                                                                                                                                                                                                                                                                                                                                                                                                                                                                                                                                                                                                                                                                                                                                                                                                                                                                                                                                                                                                                                                                                                                                                                                                                                                                                                                                                                                                                                                                                                                                                                                                                                                                                                                                                                                                                                                                                                                                                                                     for any usable tones while playing live the best bet is to plug it into a tube power amp, direct to mixer or running it through a solid state amp is very uninspiring i did not like the recorded tones either much rather preferred amplitube if micing a real tube amp was not an option that being said it is good for practice and song writing, used this for more than a year and finally sold it, that s the other thing with items like this they lose value real quick once the next version comes out   \n",
       "8076                                                                                                                                                                                                                                                                                                                                                                                                                                                                                                                                                                                                                                                                                                                                                                                                                                                                                                                                                                                                                                                                                                                                                                                                                                                                                                                                                                                                                                                                                                                                                                                                                                                                                                                                                                                                                                                                                i bought an ibanez concert size uke, the body is inches wide less than the inches stated for this stand, my uke does not fit well in the stand, why, the twin forks at the base that hold the instrument are both too narrow and the curve downward from the stand is not proper for this uke, thus any uke that is concert size or greater, so most ukes do not fit well, they fit just not well i did and you will likely need this advice remove the bottom fork turn it upside down and reinstall it no tools required, now the curve of it is upward and the uke better sits on it, the fit is improved, not great but better, one stand can not fit all instruments but my full size guitar stands hold most all guitars, this small stand does not hold most all ukes although its neat how it folds up like the video here on amazon reviews it is very heavy for its size, this is not a lightweight stand, at all, surprisingly heavy and not one that you will be lugging around day to day in your uke gig bag trust me i wish i got the hercules standhercules gs b mini stand, all hercules stuff is superb and my friend has one for his uke and says it has it is sublime i do not own it myself so i just present this so you can research it and it has it is reviews on amazon, i own other herc stuff and it has it is all ideal and for a few bucks more i could have had that lifelong use stand instead of this one, oh well for once i got cheap, and got burned for it all in all not great this tiny stand, one stand fits not all, perhaps a violin or something would be better on this stand but i think the general shape of it is less than ideal for most instruments, you may think you can bend the lower forks but it has it is hard to do will require a vice and if you see on the amazon pictures the lower fork just sits in two plastic grooves so if you splay it out like it should be you shall you will change the way it fits in the grooves and thus it won t work at all, it s just an imperfect design, my take on it your mileage may vary, bye bye   \n",
       "8077                                                                                                                                                                                                                                                                                                                                                                                                                                                                                                                                                                                                                                                                                                                                                                                                                                                                                                                                                                                                                                                                                                                                                                                                                                                                                                                                                                                                                                                                                                                                                                                                                                                                                                                                                                                                                                                                                                                                                                                                                                                                                                                                                                                                                                                                                                                                                                                                                                                                                                                                                                                                                                                                                                                                                                                                                                                                                                                                                                                                                                                                                                                                                                                                                                                                 at the time i bought was, mine arrived broken so it had gone back, reality is that it is not that good regardless of mine being broken, not upset about that stuff happens, it is just not a good stand, light construcion unstable topples easily and a likely candidate to be broken if dropped, the protective materails on the stand to keep product from scratching your instrument are the soft shiny runner like materail and it sticks to my instrument s neck, so i pick up uke and i get a stand until the stickiness is seprated by gravity, happened every time, yes i tried out the stand even though broken and it proved to be a bad choice, back it has gone, stars to amazon s return policy thouh   \n",
       "8091                                                                                                                                                                                                                                                                                                                                                                                                                                                                                                                                                                                                                                                                                                                                                                                                                                                                                                                                                                                                                                                                                                                                                                                                                                                                                                                                                                                                                                                                                                                                                                                                                                                                                                                                                                                                                                                                                                                                                                                                                                                                                                                                                                                                                                                                                                                                                                                                                                                                                                                                                                                                             let me first start off with the sizing, when they say fits soundholes from they really mean it you are going to have a hard time trying to fit it even if it is smaller than the specifications i know i did, my friend s oscar schmidt sized guitar was just that much smaller and it did not fit well, the edges did not catch completely and it looks terrible my classical guitar had a similarly sized soundhole but because of the much wider fretboard at the edge of the soundhole it did not fit at all, you could try cutting the edges off the oport at the fretboard the main issue is the sound yes it does make the sound fuller when you are strumming slightly but enough to tell however it does so at the expense of the sustain and harmonic overtunes fingerpicking just does not sound as nice as before even though the guitar is noticeably better on the bass notes for me that does not justify it a simple bone saddle does way better than this and it cost less another thing i found out was what was amazon does to stuff others return they resell as brand new if it looks brand new the packaging on mine came slightly torn and looked as if it had been opened, does it matter, in practical terms no not for this sort of item i guess that is how amazon keeps their prices low yet with good customer service and return policies   \n",
       "8097                                                                                                                                                                                                                                                                                                                                                                                                                                                                                                                                                                                                                                                                                                                                                                                                                                                                                                                                                                                                                                                                                                                                                                                                                                                                                                                                                                                                                                                                                                                                                                                                                                                                                                                                                                                                                                                                                                                                                                                                                                                                                                                                                                                                                                                                                    perhaps it may do something of worth for you but if you have one of the finer made guitars this will probably do more to subtract than add to the sound, be advised that i did not use it in front of a microphone where perhaps the shape of this internal plastic cone might do something you like in directing the sound to a mike, as strictly an issue of natural acoustics i found it deflected sound in a way that seemed to decrease my guitar s output and resonance, i have an aria ad which is a very well made chinese attempt at cloning a martin d, it can not compete with the real martin but for the money i paid it was a great buy and it is known as a sound canon for it has it is great natural volume, adding the o port deadened the lows, it just did not provide any plus at all anywhere else, it is however pretty inexpensive so if you are a nut for nuance and you want to try it for yourself it has it is not going to break your bank, but again if you have one of the better makes of guitar where a real person voiced it in his or her manufacturing process this plastic gizmo will likely subtract from that and not add anything, i am an acoustic nut and i had i would love to have a sound port in the side of my guitar to hear everything that goes on inside that box, the o port seemed to corral the sound and shoot it out that plastic horn not allowing me to hear some of the resonance of the sound bouncing back off the back and sides below the sound hole, sorry to be a crab about it i like planet waves stuff and they were very good to me personally in the humidipak recall a few years back, but this product was a waste to me   \n",
       "8103                                                                                                                                                                                                                                                                                                                                                                                                                                                                                                                                                                                                                                                                                                                                                                                                                                                                                                                                                                                                                                                                                                                                                                                                                                                                                                                                                                                                                                                                                                                                                                                                                                                                                                                                                                                                                                                                                                                                                                                                                                                                                                                                                                                                                                                                                                                                                                                                                                                                                                                                                                                                                                                                                                                                                                                                                                                                                                                                                                                                                                                                                                                                                                                                                                                                                                                                                                                                                                                                                                                                                                                                                                                                                        i thought it would protect my desk but the pad is almost like that rubber they put under rugs so they will not slip around, maybe i should get that for cheaper i accidently bought large ooh boy is it like windshield sun reflector size, sort of just a personal opinion review i suppose   \n",
       "8136                                                                                                                                                                                                                                                                                                                                                                                                                                                                                                                                                                                                                                                                                                                                                                                                                                                                                                                                                                                                                                                                                                                                                                                                                                                                                                                                                                                                                                                                                                                                                                                                                                                                                                                                                                                                                                                                                                                                                                                                                                                                                                                                                                                                                                                                                                                                                                                                                                                                                                                                                                                                                                                                                                                                                                                                                                                                                                                                                                                                                                                                                                                                                                                                                                                                                                                                                                                                                                                                                                                                                                                                                                                                                                                                              there is a problem with the design, when you move the head the little plastic pieces that hold the ball that allows you to rotate the head just break off, the tuner itself is great but the product fails because it broke in minutes   \n",
       "8142                                                                                                                                                                                                                                                                                                                                                                                                                                                                                                                                                                                                                                                                                                                                                                                                                                                                                                                                                                                                                                                                                                                                                                                                                                                                                                                                                                                                                                                                                                                                                                                                                                                                                                                                                                                                                                                                                                                                                                                                                                                                                                                                                                                                                                                                                                                                                                                                                                                                                                                                                                                                                                                                                                                                                                                                                                                                                                                                                                                                                                                                                                                                                                                                                                                                                                                                                                                                                                                       for some reason this one just does not hit the notes right, it looks like it should tune more precise than other models but the tone is way off for mine anyway, i have tried it several times and it just does not tune right, then i recheck with my other brand and it has it is not even close, maybe i just got a bad one, i like that this one shuts off automatically but again it has it is way off tune i did like the style size and color but it does not work right so it has it is like running with a flat tire   \n",
       "8147                                                                                                                                                                                                                                                                                                                                                                                                                                                                                                                                                                                                                                                                                                                                                                                                                                                                                                                                                                                                                                                                                                                                                                                                                                                                                                                                                                                                                                                                                                                                                                                                                                                                                                                                                                                                                                                                                                                                                                                                                                                                                                                                                                                                                                                                                                                                                                                                                                                                                                                                                                                                                                                                                                                                                                                                                                                                                                                                                                                                                                                                                                                                                                                                                                                                                                                                                                                                                                                                                                                                                                                                                                          i ordered this from the amazon warehouse as a refurbished item, it was properly packaged but the base was broken and poorly glued together, the glue did not hold so the clamping base separated from the stem that allows the meter to swivel, this was unfixable so i sent it back for a refund, warehouse deals are not such good deals   \n",
       "8172                                                                                                                                                                                                                                                                                                                                                                                                                                                                                                                                                                                                                                                                                                                                                                                                                                                                                                                                                                                                                                                                                                                                                                                                                                                                                                                                                                                                                                                                                                                                                                                                                                                                                                                                                                                                                                                                                                                                                                                                                                                                                                                                                                                                                                                                                                                                                                                                                                                                                                                                                                                                                                                                                                                                                                                                                                                                                                                                                                                                                                                                                                                                                                                                                                                                                                                                                                                                                                                                                                                                                                                                                                                                                                                                                                                                                                                          first time i tried to use it it broke in my hand, it is now taped together while i wait for a different kind to replace it   \n",
       "8225                                                                                                                                                                                                                                                                                                                                                                                                                                                                                                                                                                                                                                                                                                                                                                                                                                                                                                                                                                                                                                                                                                                                                                                                                                                                                                                                                                                                                                                                                                                                                                                                                                                                                                                                                                                                                                                                                                                                                                                                                                                                                                                                                                                                                                                                                                                                                                                                                                                                                                                                                                                                                                                                                                                                                                                                                                                                                                                                                                                                                                                                                                                                                                                                                                                                                                                                                                                                                                                                                                                                                                                                         very accurate tuner but it broke within the first week i used it, the little head on the tuner is connected with an arm and a ball and even when you are gently the three prongs holding the ball joint can crack and break rendering it useless, i will try to get a replacement now as a tuner it was really quite good but just not durable which is kinda what you need   \n",
       "8263                                                                                                                                                                                                                                                                                                                                                                                                                                                                                                                                                                                                                                                                                                                                                                                                                                                                                                                                                                                                                                                                                                                                                                                                                                                                                                                                                                                                                                                                                                                                                                                                                                                                                                                                                                                                                                                                                                                                                                                                                                                                                                                                                                                                                                                                                                                                                                                                                                                                                                                                                                                                                                                                                                                                                                                                                                                                                                                                                                                                                                                                                                                                                                                                                                                                                                                                                                                                                                                                                                                                                                                                                                                                                                                                like the other one star reviewers my problem is that the head broke off, i tried to glue it back on but it just fell apart even worse when i tried to do that, if you buy this you really need to baby it, my advice is look for a more sturdy model   \n",
       "8332                                                                                                                                                                                                                                                                                                                                                                                                                                                                                                                                                                                                                                                                                                                                                                                                                                                                                                                                                                                                                                                                                                                                                                                                                                                                                                                                                                                                                                                                                                                                                                                                                                                                                                                                                                                                                                                                                                                                                                                                                                                                                                                                                                                                                                                                                                                                                                                                                                                                                                                                                                                                                                                                                                                                                                                                                                                                                                                                                                                                                                                                                                                                                                                                                                                                                                                                                                                                                                                                                                                                                                                                                                                                                                                                                                                                         tuner works great, both by vibration and mic only real problem is the fact that the joint between the tuner and the clip is really weak, mine broke off not even a year old   \n",
       "8343                                                                                                                                                                                                                                                                                                                                                                                                                                                                                                                                                                                                                                                                                                                                                                                                                                                                                                                                                                                                                                                                                                                                                                                                                                                                                                                                                                                                                                                                                                                                                                                                                                                                                                                                                                                                                                                                                                                                                                                                                                                                                                                                                                                                                                                                                                                                                                                                                                                                                                                                                                                                                                                                                                                                                                                                                                                                                                                                                                                                                                                                                                                                                                                                                                                                                                                                                                                                                                                                                                                                                                                                                                                                                                                                                                                          stopped working all by itself, fresh battery did not help fortunately i have another plus a korg and an two intellitouch, i have fiddles and guitars the intellitouch is simply champion,    \n",
       "8408                                                                                                                                                                                                                                                                                                                                                                                                                                                                                                                                                                                                                                                                                                                                                                                                                                                                                                                                                                                                                                                                                                                                                                                                                                                                                                                                                                                                                                                                                                                                                                                                                                                                                                                                                                                                                                                                                                                                                                                                                                                                                                                                                                                                                                                                                                                                                                                                                                                                                                                                                                                                                                                                                                                                                                                                                                                                                                                                                                                                                                                                                                                                                                                                                                                                       what is the sound in the background of the hissssssssssssss, my guitar i guess but who cares, i honestly bought this gizmo for the extremely good hisssssssssssssing nothing else a question to amazon companies producing objects that are nothing else than a lemon should not be prosecuted p s i think it is too polluting for low cost items to waste again in paper box transportation restocking work refund work and so on, this is why of the time i do not ask for my money back but sell this lemon on amazon online with other websites and in all the instrument shops worldwide in a total bad faith while testing nobody in irig noticed the overwhelming hisssssssing, well that is beyond me   \n",
       "8410                                                                                                                                                                                                                                                                                                                                                                                                                                                                                                                                                                                                                                                                                                                                                                                                                                                                                                                                                                                                                                                                                                                                                                                                                                                                                                                                                                                                                                                                                                                                                                                                                                                                                                                                                                                                                                                                                                                                                                                                                                                                                                                                                                                                                                                                                                                                                                                                                                                                                                                                                                                                                                                                                                                                                                                                                                                                                                                                                                                                                                                                                                                                                                                                                                                                                                                                        no matter how many times i hard reset my gs no success, there is no problem with my jack and the phone is in pristine condition no problems until now, there is definitely a connection and communication because the mic and sample track work but that has that is about it, i registered my amplitude app and followed all of the instructions on the box, i tested the irig with an iphone and was able to get it operating i am giving this two stars because it did work on my friend s iphone but for my purposes with a gs it is a brick, if anyone has any suggestions that lead to successful operation i will re rate the product   \n",
       "8415                                                                                                                                                                                                                                                                                                                                                                                                                                                                                                                                                                                                                                                                                                                                                                                                                                                                                                                                                                                                                                                                                                                                                                                                                                                                                                                                                                                                                                                                                                                                                                                                                                                                                                                                                                                                                                                                                                                                                                                                                                                                                                                                                                                                                                                                                                                                                                                                                                                                                                                                                                                                                                                                                                                                                                                                                                                                                                                                                                                                                                                                                                                                                                                                                                                                                                                                                  this is a pretty decent thing for practicing your guitar through your iphone or ipad, but if you want to use it for any recording at all even demos i strongly recommend going for the irighd, the hd sounds waaaaaay better and the build quality is great, this guy not so much, there was always a bit of noise with my old irig and it seemed to get worse over time, it also felt kinda fragile and chinsy, if you look you can usually find the hd somewhere for a difference is significant but the jump in quality and likely longevity of the product is definitely worth it, i upgraded and would absolutely do it again   \n",
       "8453                                                                                                                                                                                                                                                                                                                                                                                                                                                                                                                                                                                                                                                                                                                                                                                                                                                                                                                                                                                                                                                                                                                                                                                                                                                                                                                                                                                                                                                                                                                                                                                                                                                                                                                                                                                                                                                                                                                                                                                                                                                                                                                                                                                                                                                                                                                                                                                                                                                                                                                                                                                                                                                                                                                                                                                                                                                                                                                                                                                                                                                                                                                                                                                                                                                                                                                                                                                                                                                                                                                                                                                                                                                                         bought this for a friend, cheap plastic enclosure, affects noticeably your guitars tone and is not exactly a useable delay, he tried to use it for his cleans for our punk ska band but there was no messing with the controls to get a suitable delay, stay away from this one and get a better used pedal   \n",
       "8493                                                                                                                                                                                                                                                                                                                                                                                                                                                                                                                                                                                                                                                       my review s for this have changed a few times but no more, when i first got it i liked the sound though it did sound a little cold and digital and this is from someone wanting to record shoegaze dreampop which by it has it is nature is full of cold tones reverb chorus delay shimmering a la cocteau twins chapterhouse lush so at first i thought it was great, then the fuse software was even cooler all this customizing the sound though it did sound noisy and needed the compressor to take some of the noise away after all of that i finally realized i was trying to ignore the fizz crackle hair it has it is called a few things, go to the fender forums and look it up or search it on yahoo google the thing happening with this amp i think is a few things, fender guitars sound best through it which is silly if you do not own a fender and i do not and refuse to get a squire as that body is so played out i wanted anything but a strat body unless i have a grand to pay for an older one i am not going to get a rinky dink one and i would only get one after i got like other dream guitars first so everyone has different problems with pickup quality and guitar quality, also playing into a modeling amp is like playing into a computer that may be fine for some younger folks but to a lot of people i have read the complaints i was trying not to realize as i did not feel like having to pay for shipping to return it but i did and i am so glad i did, i almost got a peavey vypyr and i am glad i did not, this amp to be fair is really close to being really cool but that sound problem which i read on fender s own forum website fender acknowledges it exists but does nothing to fix it in future models, sorry but that has that is some big company b s i have been reading of people saying it sounds cold and lifeless and all that and tube this and tube that and i was like what music snobs and what have you, but i realized that i am a music snob, i love the music i listen to more than anything and feel like the music i create should have a life to it as well, so i returned the mustang and almost got a marshall mg watt cause i wanted an amp with a clean sound that did not have that crackle sound but thankfully i caught myself before that return as after that it would have been final the decision i did make i think will be great for me as i had i would rather start with a good real tone then get the effects i need, i kept reading reviews of these teenagers that had not played for more than a year or two or so saying throw away your pedals you will not need them and i was going to get pedals but do not need to now that has that is kind of the danger of these amps they end up making everyone sound the same, no matter what tweaking i was doing on the mustang it sounded the same but in a different costume i think this amp and modeling amps are best for beginning guitarists and i have seen some old timers getting an amp for home use after years maybe that has that is for them but i needed something to record with and practice and get the best most real tone possible so that means tube amp i think if i played this at a gc i would not of gotten it and i just tried to make myself like it   \n",
       "8516                                                                                                                                                                                                                                                                                                                                                                                                                                                                                                                                                                                                                                                                                                                                                                                                                                                                                                                                                                                                                                                                                                                                                                                                                                                                                                                                                                                                                                                                                                                                                                                                                                                                                                                                                                                                                                                                                                                                                                                                                                                                                                                                                                                                                                                                                                                                                                                                                                                                                                                                                                                                                                                                                                                                                                                                                                                                                                                                                                                                                                                                                                                                                                                                                                                                                                                                                                                                                                   could be a fluke but my unit was defective straight out of the box, plugged it into the macbook pro fired up garageband and right away it has it is midi connectivity was intermittent, then it had some stuck notes, then it stopped being recognized at all, it still got power from the usb bus but no midi no sound, the jack was visibly wiggly too so you are mileage may vary but mine obviously had a defective usb port on the back, rather than bust it open and get soldering iron i returned it and bought an m audio oxygen for more   \n",
       "8517                                                                                                                                                                                                                                                                                                                                                                                                                                                                                                                                                                                                                                                                                                                                                                                                                                                                                                                                                                                                                                                                                                                                                                                                                                                                                                                                                                                                                                                                                                                                                                                                                                                                                                                                                                                                                                                                                                                                                                                                                                                                                                                                                                                                                                                                                                                                                                                                                                                                                                                                                                                                                                                                                                                                                                                                                                                                                                                                                                                                                                                                                                                                                                                                                                                                                                                                                                                                                                                                                                                                                                                                                                           with drum pads i basically either get velocity or max, and i have to really hammer on them to trigger, hurts after a while likes size assignable knobs works good w ableton livedislikes drum pads keys are pretty cheesy but workable and expected for this price and size i am looking to upgrade after a month want better drum pads,    \n",
       "8518                                                                                                                                                                                                                                                                                                                                                                                                                                                                                                                                                                                                                                                                                                                                                                                                                                                                                                                                                                                                                                                                                                                                                                                                                                                                                                                                                                                                                                                                                                                                                                                                                                                                                                                                                                                                                                                                                                                                                                                                                                                                                                                                                                                                                                                                                                                                                                                                                                                                                                                                                                                                                                                                                                                                                                                                                                                                                                                                                                                                                                                                                                                                                                                                                                                                                                                                                                                          works as advertised but the keys are stiff, pads take too much presure to activate, nice that i dont need another interface to connect it to my laptop after the first few uses the usb socket broke and fell off into the unit rendering it useless, wrote to dealer that was listed as selling it to me thru amazon only to have them tell me the wrong seller was listed, i had registered it with akai already so i complained to them and they sent me a new one, i had to pay shipping back the old one to them even though it was a defective product not recommending this product   \n",
       "8520                                                                                                                                                                                                                                                                                                                                                                                                                                                                                                                                                                                                                                                                                                                                                                                                                                                                                                                                                                                                                                                                                                                                                                                                                                                                                                                                                                                                                                                                                                                                                                                                                                                                                                                                                                                                                                                                                                                                                                                                                                                                                                                                                                                                                                                                                                                                                                                                                                                                                                                                                                                                                                                                                                                                                                                                                                                                                                                                                                                                                                                                                                                                                                                                                                                                                                                                                                                                                                                                                                                                                                                                                                                                                                                                                                                                                  this unit might be great if you have child hands the keys on the keyboard is soooo small don t get this if you have man hands, wtf u date the description akai wtf   \n",
       "8553                                                                                                                                                                                                                                                                                                                                                                                                                                                                                                                                                                                                                                                                                                                                                                                                                                                                                                                                                                                                                                                                                                                                                                                                                                                                                                                                                                                                                                                                                                                                                                                                                                                                                                                                                                                                                                                                                                                                                                                                                                                                                                                                                                                                                                                                                                                                                                                                                                                                                                                                                                                                                                                                                                                                                                                                                                                                                                                                                                                                                                                                                                                                                                                                                                                                                                                                                                                                                                                                                                                                                                                                                                                                                                                                                                                                                                            a dull inept version of a tubescreamer, just sounds flat and boring, not very inspiring, at all, then again i never did really like ts s   \n",
       "8555                                                                                                                                                                                                                                                                                                                                                                                                                                                                                                                                                                                                                                                                                                                                                                                                                                                                                                                                                                                                                                                                                                                                                                                                                                                                                                                                                                                                                                                                                                                                                                                                                                                                                                                                                                                                                                                                                                                                                                                                                                                                                                                                                                                                                                                                                                                                                                                                                                                                                                                                                                                                                                                                                                                                                                                                                                                                                                                                                                                                                                                                                                                                                                                                                                                                                                                                                                                                                                                                                                                                                                                                                   really wanted to like this one because i loved the price, there is no way this is true bypass, the one i got was defective out of the box and so when i checked i saw the circuitry did not support pass through, maybe it is because i received a defective one but i still would not try this brand name, i am now stuck saving up for a full tone or something   \n",
       "8560                                                                                                                                                                                                                                                                                                                                                                                                                                                                                                                                                                                                                                                                                                                                                                                                                                                                                                                                                                                                                                                                                                                                                                                                                                                                                                                                                                                                                                                                                                                                                                                                                                                                                                                                                                                                                                                                                                                                                                                                                                                                                                                                                                                                                                                                                                                                                                                                                                                                                                                                                                                                                                                                                                                                                                                                                                                                                                                                                                                                                                                                                                                                                                                                                                                                                                                                                                                                                                                                                                                                                                                                                                                                                                                                                                                                                              i honestly was not impressed, it looked cheap sounded cheap what else is there to say you get what you pay for, another chinese copy of a tubescreamer   \n",
       "8588                                                                                                                                                                                                                                                                                                                                                                                                                                                                                                                                                                                                                                                                                                                                                                                                                                                                                                                                                                                                                                                                                                                                                                                                                                                                                                                                                                                                                                                                                                                                                                                                                                                                                                                                                                                                                                                                                                                                                                                                                                                                                                                                                                                                                                                                                                                                                                                                                                                                                                                                                                                                                                                                                                                                                                                                                                                                                                                                                                                                                                                                                                                                                                                                                                                                                                                                                                                                                                                                                                                                                                                                                                                                                         i can not say much about this product, i tried it twice, it seemed like it kind of cleaned the strings but i really did not notice any great change, the strings did not sound betteer or brighter, now it sits in my drawer and collects dust, maybe i will try it again at some point but   \n",
       "8594                                                                                                                                                                                                                                                                                                                                                                                                                                                                                                                                                                                                                                                                                                                                                                                                                                                                                                                                                                                                                                                                                                                                                                                                                                                                                                                                                                                                                                                                                                                                                                                                                                                                                                                                                                                                                                                                                                                                                                                                                                                                                                                                                                                                                                                                                                                                                                                                                                                                                                                                                                                                                                                                                                                                                                                                                                                                                                                                                                                                                                                                                                                                                                                                                                           i honestly do not see the purpose, it does not seem to have improved my experience with my strings on my guitar, i have used it a few times but do not see the benefit edit after coming back to read the other reviews it has it is obvious what happened this was shipped to me completely dry, there was no grease lubricant qualities, it was like a dry erase pad, they need to improve their quality control, i am changing my rating from star to star, they have to find a way to fully secure this gap or maybe consider enhanced vacuum sealing packaging i would suggest if you receive this product and it has not dried out yet to place this product in a air tight ziplock bag to reduce the likelihood of this drying out   \n",
       "8620                                                                                                                                                                                                                                                                                                                                                                                                                                                                                                                                                                                                                                                                                                                                                                                                                                                                                                                                                                                                                                                                                                                                                                                                                                                                                                                                                                                                                                                                                                                                                                                                                                                                                                                                                                                                                                                                                                                                                                                                                                                                                                                                                                                                                                                                                                                                                                                                                                                                                                                                                                                                                                                                                                                                                                                                                                                                                                                                                                                                                                                                                                                                                                                                                                                                                                                                                                                                                                                                                                                                                                                                                                       the cable arrived on time and the it looked nice for ten minutes, i don t like how the tips screw on and off and the fabric shielding slid out of place the first time i used it, the cable worked well for about two weeks but then it lost current in the middle of a session and i lost sound, this cable is complete garbage, never again   \n",
       "8631  i purchased this amp locally and initially i thought it was pretty cool as it was my first modeling amp lots of potential for a limitless variety of sounds, this was my first fender amp as well the presets were neat and all but when i played around with some of the standard models just the amp model no effects just to see how it has it is clean sound was the amp just hissed as if i had the volume cranked with a distortion pedal engaged at max, the master volume was at and no effects were turned on i have never heard a clean channel with so much noise behind it even when there was no guitar plugged in all i could hear while playing was the underlying hiss coming through the notes very distracting and it drove me nuts, this is not a ground loop issue my other amps sound just fine at bedroom volumes and beyond it has it is clearly a defect with this product, dirty pre sets with lots of gain and extra volume sound even worse again even when nothing is plugged in and at low master volume, you d think i was running a few super high gain stomp boxes with a red hot single coil but nothing was plugged in and all i get is staticy hiss at low levels, wtf the next issue is the weird fizz sound that was especially noticeable on the low e after striking a string instead of a clean note there has there is a weird fizzy digital artifact like sound that surrounds the note and fades as the string stops moving, it almost sounds like cymbals crashing on a poorly authored mp file at a low bit rate and frequency, whole chords break down and decay in this fizzy envelope and really makes this thing unplayable the weird thing is neither one of these problems arose with head phones plugged in or when this was connected to my computed via either usb or the line in but i am not going to be stuck playing a watt amp through my pc or cans, i got the iii instead of the ii because of the power behind it and the touted celestion speaker read the many reviews online or forum posts on many of the guitar amp related websites there has there is a page forum post on the fender support site that is quite interesting and you shall you will find that these amps are having issues, apparently the mustang i and ii do not have these issues and the firmware update did nothing to correct my amp, is this a hardware issue software issue speaker issue, there is speculation that the lcd screen which is not present on the i or ii may be causing problems but no one seems to know for sure and fender does not seem to care definitely try this before you buy it, you may get an amp that does not have these problems you may not notice the sounds or you may not even care let your ears tell you what sounds good this amp has a lot of potential for great sounds and it would have been nice to have faithful modeling of some great vintage amps but in my opinion technical issues have made this amp sound like complete garbage, i am disappointed that fender has not yet correct what ever is wrong some folks claim that fender reps say that know what is wrong but i am not taking that as a fact but they have acknowledged that there is something wrong whatever i took this back after a few days of playing with it trying to eliminate the junk sounds without success the built in noise gate helps a little but sucks tone and i picked up a watt marshall instead, guess what, the clean channel has zero hum or buzz even when cranked, how about that, even when i engage a dirt box on one of the dirty channels there is minimal noise i shall i will knock fender for not correcting this issue regardless of what it is and what caused it but they do have some other nice amps that i had i would like to try, but before i buy another fender amp i shall i will take it for a test drive and i suggest you do the same before picking up one of these turds   \n",
       "8661                                                                                                                                                                                                                                                                                                                                                                                                                                                                                                                                                                                                                                                                                                                                                                                                                                                                                                                                                                                                                                                                                                                                                                                                                                                                                                                                                                                                                                                                                                                                                                                                                                                                                                                                                                                                                                                                                                                                                                                                                                                                                                                                                                                                                                                                                                                                                                                                                                                                                                                                                                                                                                                                                                                                                                                                                                                                                                                                                                                                                                                                                                                                                                                                                                                                                                                                                                                                                                                                                                                                                                                                                                                                                                                                                      tc is very overrated many pedals i have out performs this in my opinion, the vintage bbds mxr vintage delay morley s echo for example just take it, but for newer pedals i liked the mxr carbon copy and ibanex de much better   \n",
       "8687                                                                                                                                                                                                                                                                                                                                                                                                                                                                                                                                                                                                                                                                                                                                                                                                                                                                                                                                                                                                                                                                                                                                                                                                                                                                                                                                                                                                                                                                                                                                                                                                                                                                                                                                                                                                                                                                                                                                                                                                                                                                                                                                                                                                                                                                                                                                                                                                                                                                                                                                                                                                                                                                                                                                                                                                                                                                                                                                                                                                                                                                                                                                                                                                                                                                                                                                                                                                                                                                                                                                                                                                                                                                                                                                                                                  it is ok as long as you do not bump your guitar else boom it hits the floor, i do not trust it and amazon has it way over priced, it will work if you put a nail in it to hold the holder in place   \n",
       "\n",
       "      overall  rating               SentimentModel  \n",
       "7735      1.0       0  [-0.44696969696969685, 0.0]  \n",
       "7736      1.0       0                 [-1.15, 0.0]  \n",
       "7750      1.0       0   [0.44375000000000003, 1.0]  \n",
       "7850      1.0       0               [-0.3375, 0.0]  \n",
       "7911      1.0       0                   [1.2, 1.0]  \n",
       "7992      2.0       0   [0.17604166666666665, 1.0]  \n",
       "7996      1.0       0   [-1.2395833333333333, 0.0]  \n",
       "8007      1.0       0   [-0.6583333333333333, 0.0]  \n",
       "8010      2.0       0  [-0.20833333333333337, 0.0]  \n",
       "8036      2.0       0                 [1.125, 1.0]  \n",
       "8070      2.0       0    [1.1765151515151513, 1.0]  \n",
       "8076      2.0       0    [1.7889814814814813, 1.0]  \n",
       "8077      1.0       0   [-0.7416666666666666, 0.0]  \n",
       "8091      2.0       0    [0.3857954545454545, 1.0]  \n",
       "8097      2.0       0    [2.4253333333333336, 1.0]  \n",
       "8103      2.0       0   [0.21428571428571427, 1.0]  \n",
       "8136      1.0       0  [-0.03749999999999998, 0.0]  \n",
       "8142      1.0       0   [-0.0077380952380951, 0.0]  \n",
       "8147      1.0       0   [-0.8500000000000002, 0.0]  \n",
       "8172      2.0       0                  [0.55, 1.0]  \n",
       "8225      1.0       0                [0.6725, 1.0]  \n",
       "8263      1.0       0                 [0.375, 1.0]  \n",
       "8332      2.0       0    [0.8416666666666667, 1.0]  \n",
       "8343      2.0       0                  [0.35, 1.0]  \n",
       "8408      1.0       0    [0.6100000000000001, 1.0]  \n",
       "8410      2.0       0    [1.2694444444444444, 1.0]  \n",
       "8415      2.0       0    [1.6479166666666663, 1.0]  \n",
       "8453      2.0       0    [1.3250000000000002, 1.0]  \n",
       "8493      1.0       0    [2.4594543650793654, 1.0]  \n",
       "8516      2.0       0    [0.5357142857142857, 1.0]  \n",
       "8517      2.0       0                  [0.37, 1.0]  \n",
       "8518      1.0       0   [-0.2586038961038961, 0.0]  \n",
       "8520      1.0       0  [-0.22499999999999998, 0.0]  \n",
       "8553      1.0       0    [-0.796474358974359, 0.0]  \n",
       "8555      1.0       0                  [1.15, 1.0]  \n",
       "8560      2.0       0                  [0.45, 1.0]  \n",
       "8588      2.0       0    [0.5333333333333334, 1.0]  \n",
       "8594      1.0       0  [-0.36672619047619043, 0.0]  \n",
       "8620      1.0       0    [0.7833333333333333, 1.0]  \n",
       "8631      1.0       0    [1.1958998144712432, 1.0]  \n",
       "8661      2.0       0                   [0.9, 1.0]  \n",
       "8687      2.0       0                 [0.225, 1.0]  "
      ]
     },
     "execution_count": 1108,
     "metadata": {},
     "output_type": "execute_result"
    }
   ],
   "source": [
    "reviewTextProcessing.loc[list(incorrect + 7695), ['CleanedJoin', 'overall', 'rating', 'SentimentModel']]"
   ]
  },
  {
   "cell_type": "code",
   "execution_count": 1,
   "metadata": {},
   "outputs": [
    {
     "name": "stdout",
     "output_type": "stream",
     "text": [
      "Collecting textblob\n",
      "  Downloading https://files.pythonhosted.org/packages/60/f0/1d9bfcc8ee6b83472ec571406bd0dd51c0e6330ff1a51b2d29861d389e85/textblob-0.15.3-py2.py3-none-any.whl (636kB)\n",
      "Requirement already satisfied: nltk>=3.1 in c:\\study\\anaconda3v2\\lib\\site-packages (from textblob) (3.4.3)\n",
      "Requirement already satisfied: six in c:\\study\\anaconda3v2\\lib\\site-packages (from nltk>=3.1->textblob) (1.12.0)\n",
      "Installing collected packages: textblob\n",
      "Successfully installed textblob-0.15.3\n"
     ]
    }
   ],
   "source": [
    "!pip install textblob\n"
   ]
  },
  {
   "cell_type": "code",
   "execution_count": 328,
   "metadata": {},
   "outputs": [
    {
     "data": {
      "text/plain": [
       "'cable cable cable not happy not happy not happy not happy disappoint disappoint disappoint disappoint disappoint disappoint disappoint '"
      ]
     },
     "execution_count": 328,
     "metadata": {},
     "output_type": "execute_result"
    }
   ],
   "source": [
    "\n",
    "top_dict = {}\n",
    "#for c in data_dtm.columns:\n",
    "#    top = data_dtm[c].sort_values(ascending=False).head(30)\n",
    "#    top_dict[c]= list(zip(top.index, top.values))\n",
    "\n",
    "top_dict['cable'] = 3\n",
    "top_dict['not happy'] = 4\n",
    "top_dict['disappoint'] = 7\n",
    "\n",
    "regeneration = \"\"\n",
    "\n",
    "for key, value in top_dict.items():\n",
    "    space = ((key) + \" \")\n",
    "    details = (space) * value\n",
    "    regeneration = regeneration + details\n",
    "    \n",
    "review = \" \".join(top_dict.keys())\n",
    "top_dict.values()\n",
    "regeneration\n",
    "\n"
   ]
  },
  {
   "cell_type": "code",
   "execution_count": 271,
   "metadata": {},
   "outputs": [],
   "source": [
    "from wordcloud import WordCloud\n",
    "\n",
    "#stopwords=stopWords,\n",
    "wc = WordCloud(background_color=\"white\", colormap=\"Dark2\",\n",
    "               max_font_size=150, random_state=42)"
   ]
  },
  {
   "cell_type": "code",
   "execution_count": 10,
   "metadata": {},
   "outputs": [
    {
     "data": {
      "text/plain": [
       "'!\"#$%&\\'()*+,-./:;<=>?@[\\\\]^_`{|}~'"
      ]
     },
     "execution_count": 10,
     "metadata": {},
     "output_type": "execute_result"
    }
   ],
   "source": [
    "import string\n",
    "string.punctuation"
   ]
  },
  {
   "cell_type": "code",
   "execution_count": 413,
   "metadata": {},
   "outputs": [],
   "source": [
    "#handling money\n",
    "#>>> a = re.findall(r\"\\$\\d+.\\d+\", text2)"
   ]
  },
  {
   "cell_type": "code",
   "execution_count": 236,
   "metadata": {},
   "outputs": [],
   "source": [
    "#numeric and fraction handling\n",
    "#domain specific if applies to tool/measurement?\n",
    "pattern = re.compile(r'^\\d+/\\d+$')\n",
    "\n",
    "def evaluateFraction(data, pattern=pattern):\n",
    "    try:\n",
    "        re.match(pattern, data)\n",
    "        return eval(data)  \n",
    "    except:\n",
    "        print(f\"Not fraction related input {data}\")\n",
    "        return False      "
   ]
  },
  {
   "cell_type": "code",
   "execution_count": 266,
   "metadata": {},
   "outputs": [],
   "source": [
    "pd.options.display.max_colwidth = 5000\n",
    "\n",
    "#productsReviewData.cleanedText.head(2)"
   ]
  },
  {
   "cell_type": "code",
   "execution_count": 121,
   "metadata": {},
   "outputs": [],
   "source": [
    "sampleData = productsReviewData"
   ]
  },
  {
   "cell_type": "code",
   "execution_count": null,
   "metadata": {},
   "outputs": [],
   "source": []
  }
 ],
 "metadata": {
  "kernelspec": {
   "display_name": "Python 3",
   "language": "python",
   "name": "python3"
  },
  "language_info": {
   "codemirror_mode": {
    "name": "ipython",
    "version": 3
   },
   "file_extension": ".py",
   "mimetype": "text/x-python",
   "name": "python",
   "nbconvert_exporter": "python",
   "pygments_lexer": "ipython3",
   "version": "3.7.3"
  }
 },
 "nbformat": 4,
 "nbformat_minor": 2
}
